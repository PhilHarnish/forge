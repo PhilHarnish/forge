{
 "cells": [
  {
   "cell_type": "code",
   "execution_count": 1,
   "metadata": {
    "collapsed": false
   },
   "outputs": [
    {
     "name": "stdout",
     "output_type": "stream",
     "text": [
      "WARNING\n",
      "Max fringe size was: 17839\n"
     ]
    }
   ],
   "source": [
    "import forge\n",
    "from puzzle.puzzlepedia import puzzlepedia\n",
    "\n",
    "puzzle = puzzlepedia.parse(\"\"\"\n",
    "Fcx syas wabt gcfyh ybavixy yj cffbmbj ych zxcpbeyxyj.\n",
    "\"\"\")"
   ]
  },
  {
   "cell_type": "code",
   "execution_count": 2,
   "metadata": {
    "collapsed": false
   },
   "outputs": [
    {
     "name": "stdout",
     "output_type": "stream",
     "text": [
      "WARNING\n",
      "Max fringe size was: 1837\n",
      "WARNING\n",
      "Max fringe size was: 2582\n",
      "WARNING\n",
      "Max fringe size was: 2697\n",
      "WARNING\n",
      "Max fringe size was: 2436\n",
      "WARNING\n",
      "Max fringe size was: 2636\n",
      "WARNING\n",
      "Max fringe size was: 2838\n",
      "WARNING\n",
      "Max fringe size was: 2241\n",
      "WARNING\n",
      "Max fringe size was: 2033\n",
      "WARNING\n",
      "Max fringe size was: 2176\n",
      "WARNING\n",
      "Max fringe size was: 2377\n",
      "WARNING\n",
      "Max fringe size was: 2353\n",
      "WARNING\n",
      "Max fringe size was: 2577\n",
      "WARNING\n",
      "Max fringe size was: 2057\n",
      "WARNING\n",
      "Max fringe size was: 2905\n",
      "WARNING\n",
      "Max fringe size was: 2189\n",
      "WARNING\n",
      "Max fringe size was: 2001\n",
      "WARNING\n",
      "Max fringe size was: 2671\n",
      "WARNING\n",
      "Max fringe size was: 1985\n",
      "WARNING\n",
      "Max fringe size was: 1798\n"
     ]
    }
   ],
   "source": [
    "import forge\n",
    "from puzzle.puzzlepedia import puzzlepedia\n",
    "\n",
    "puzzle = puzzlepedia.parse(\"\"\"\n",
    "Nz gbuifs mpdlfe nf jo nz sppn xifo ju hpu ebsl pvutjef.\n",
    "\"\"\")"
   ]
  },
  {
   "cell_type": "code",
   "execution_count": 2,
   "metadata": {
    "collapsed": true
   },
   "outputs": [],
   "source": [
    "import forge\n",
    "from puzzle.puzzlepedia import puzzlepedia\n",
    "\n",
    "puzzle = puzzlepedia.parse(\"\"\"\n",
    "1010 01 10 1011 111 001 0000 0 01 010 11 0\n",
    "\"\"\")"
   ]
  },
  {
   "cell_type": "code",
   "execution_count": 1,
   "metadata": {
    "collapsed": false
   },
   "outputs": [
    {
     "name": "stderr",
     "output_type": "stream",
     "text": [
      "Widget Javascript not detected.  It may not be installed properly. Did you enable the widgetsnbextension? If not, then run \"jupyter nbextension enable --py --sys-prefix widgetsnbextension\"\n"
     ]
    }
   ],
   "source": [
    "import forge\n",
    "from puzzle.puzzlepedia import puzzlepedia\n",
    "\n",
    "puzzle = puzzlepedia.parse(\"\"\"\n",
    "1212 21 12 1211 111 221 2222 2 21 212 11 2\n",
    "\"\"\")"
   ]
  },
  {
   "cell_type": "code",
   "execution_count": 2,
   "metadata": {
    "collapsed": true
   },
   "outputs": [],
   "source": [
    "import forge\n",
    "from puzzle.puzzlepedia import puzzlepedia\n",
    "\n",
    "puzzle = puzzlepedia.parse(\"\"\"\n",
    "121202101201211011102210222202021021201102\n",
    "\"\"\")"
   ]
  },
  {
   "cell_type": "code",
   "execution_count": null,
   "metadata": {
    "collapsed": true
   },
   "outputs": [],
   "source": []
  }
 ],
 "metadata": {
  "kernelspec": {
   "display_name": "Python 3",
   "language": "python",
   "name": "python3"
  },
  "language_info": {
   "codemirror_mode": {
    "name": "ipython",
    "version": 3
   },
   "file_extension": ".py",
   "mimetype": "text/x-python",
   "name": "python",
   "nbconvert_exporter": "python",
   "pygments_lexer": "ipython3",
   "version": "3.6.0"
  },
  "widgets": {
   "state": {
    "a434712229b944f58770b4e9ce6616ad": {
     "views": [
      {
       "cell_index": 1.0
      }
     ]
    },
    "b6bdea832be34540abeafc230d375184": {
     "views": [
      {
       "cell_index": 4.0
      }
     ]
    },
    "bd01d328e1f749dd9d1343f0774adf25": {
     "views": [
      {
       "cell_index": 0.0
      }
     ]
    },
    "cf1d07b1dc53474484a1e7df5ac6d9cf": {
     "views": [
      {
       "cell_index": 3.0
      }
     ]
    }
   },
   "version": "1.2.0"
  }
 },
 "nbformat": 4,
 "nbformat_minor": 2
}
