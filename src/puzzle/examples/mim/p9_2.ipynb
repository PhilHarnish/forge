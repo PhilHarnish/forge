{
 "cells": [
  {
   "cell_type": "code",
   "execution_count": 32,
   "metadata": {
    "collapsed": false
   },
   "outputs": [],
   "source": [
    "import forge\n",
    "from puzzle.puzzlepedia import puzzlepedia\n",
    "\n",
    "puzzle = puzzlepedia.parse(\"\"\"\n",
    "name in {Beth, Charles, David, Frank, Jessica, Karen, Taylor}\n",
    "room in {small, large, left_small, left_large}\n",
    "crime in {innocent*6, guilty}\n",
    "\n",
    "#1 Background.\n",
    "#2 Background.\n",
    "#3 Guilty suspect is lying.\n",
    "#4 Background.\n",
    "#5 Background.\n",
    "#6 Murder happened at 11am.\n",
    "#7\n",
    "small != guilty\n",
    "large != guilty\n",
    "\n",
    "#8 Background.\n",
    "\n",
    "#9\n",
    "if Beth == innocent:\n",
    "  Charles == large\n",
    "  David == large\n",
    "  Jessica == left_large\n",
    "  Taylor == left_large\n",
    "# Beth seems to be in the small room.\n",
    "Beth.small or Beth.left_small\n",
    "\n",
    "#10\n",
    "if Charles == innocent:\n",
    "  Beth.small | Frank.small | Karen.small\n",
    "\n",
    "#11\n",
    "if David == innocent:\n",
    "  Beth.left_small | Frank.left_small | Karen.left_small\n",
    "\n",
    "#12\n",
    "if Frank == innocent:\n",
    "  Karen.small | Beth.left_small\n",
    "\n",
    "#13\n",
    "if Karen == innocent:\n",
    "  Beth.small | Frank.left_small\n",
    "\n",
    "#14\n",
    "if Jessica == innocent:\n",
    "  if Frank == innocent: Karen == innocent\n",
    "  if Karen == innocent: Frank == innocent\n",
    "\n",
    "#15\n",
    "if Taylor == innocent:\n",
    "  Frank.small | Karen.left_small\n",
    "\"\"\")"
   ]
  },
  {
   "cell_type": "code",
   "execution_count": null,
   "metadata": {
    "collapsed": true
   },
   "outputs": [],
   "source": []
  }
 ],
 "metadata": {
  "kernelspec": {
   "display_name": "Python 3",
   "language": "python",
   "name": "python3"
  },
  "language_info": {
   "codemirror_mode": {
    "name": "ipython",
    "version": 3
   },
   "file_extension": ".py",
   "mimetype": "text/x-python",
   "name": "python",
   "nbconvert_exporter": "python",
   "pygments_lexer": "ipython3",
   "version": "3.6.0"
  },
  "widgets": {
   "state": {
    "9d789d66cfbf42678148c56051f6d1e3": {
     "views": [
      {
       "cell_index": 0
      }
     ]
    }
   },
   "version": "1.2.0"
  }
 },
 "nbformat": 4,
 "nbformat_minor": 2
}
