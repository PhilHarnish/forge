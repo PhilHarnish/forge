{
 "cells": [
  {
   "cell_type": "code",
   "execution_count": 14,
   "metadata": {
    "collapsed": false
   },
   "outputs": [
    {
     "name": "stdout",
     "output_type": "stream",
     "text": [
      "#0 is True == ((location[\"F\"].captive[\"yes\"] + location[\"B\"].captive[\"yes\"] + location[\"C\"].captive[\"yes\"] + location[\"D\"].captive[\"yes\"] + location[\"E\"].captive[\"yes\"]) == 1)\n",
      "#1 is True == ((location[\"B\"].captive[\"yes\"] + location[\"G\"].captive[\"yes\"] + location[\"A\"].captive[\"yes\"] + location[\"F\"].captive[\"yes\"]) == 1)\n",
      "#2 is True == ((location[\"E\"].captive[\"yes\"] + location[\"A\"].captive[\"yes\"] + location[\"B\"].captive[\"yes\"] + location[\"C\"].captive[\"yes\"]) == 1)\n",
      "#3 is False == ((location[\"G\"].captive[\"yes\"] + location[\"A\"].captive[\"yes\"]) == 1)\n",
      "#4 is True == ((location[\"B\"].captive[\"yes\"] + location[\"E\"].captive[\"yes\"] + location[\"F\"].captive[\"yes\"]) == 1)\n"
     ]
    }
   ],
   "source": [
    "import forge\n",
    "from puzzle.puzzlepedia import puzzlepedia\n",
    "\n",
    "puzzle = puzzlepedia.parse(\"\"\"\n",
    "location in {A, B, C, D, E, F, G}\n",
    "captive in {yes*1, no*6}\n",
    "\n",
    "def locate(a, b):\n",
    "  return (a | b) - (a & b)\n",
    "\n",
    "#1:\n",
    "s1 = sum(l == yes for l in locate({A, E, F}, {A, B, C, D})) == 1\n",
    "\n",
    "#2:\n",
    "s2 = sum(l == yes for l in {G, F} | {A, B}) == 1\n",
    "\n",
    "#3:\n",
    "s3 = sum(l == yes for l in locate({F, G}, {A, B, C, E, F, G})) == 1\n",
    "\n",
    "#4:\n",
    "s4 = sum(l == yes for l in locate({A, B, C, D}, {B, G, C, D})) == 1\n",
    "\n",
    "#5:\n",
    "s5 = sum(l == yes for l in locate({A, B}, {A, E, F})) == 1\n",
    "\n",
    "statements = [s1, s2, s3, s4, s5]\n",
    "sum(statements) == 4\n",
    "\n",
    "for i, s in enumerate(statements):\n",
    "  print('#%s is' % i, s)\n",
    "\"\"\")"
   ]
  },
  {
   "cell_type": "code",
   "execution_count": null,
   "metadata": {
    "collapsed": true
   },
   "outputs": [],
   "source": []
  }
 ],
 "metadata": {
  "kernelspec": {
   "display_name": "Python 3",
   "language": "python",
   "name": "python3"
  },
  "language_info": {
   "codemirror_mode": {
    "name": "ipython",
    "version": 3
   },
   "file_extension": ".py",
   "mimetype": "text/x-python",
   "name": "python",
   "nbconvert_exporter": "python",
   "pygments_lexer": "ipython3",
   "version": "3.6.0"
  },
  "widgets": {
   "state": {
    "3cc20fe6302b400cbe5f6f4f03820ea7": {
     "views": [
      {
       "cell_index": 0
      }
     ]
    }
   },
   "version": "1.2.0"
  }
 },
 "nbformat": 4,
 "nbformat_minor": 2
}
