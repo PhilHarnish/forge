{
 "cells": [
  {
   "cell_type": "code",
   "execution_count": 12,
   "metadata": {
    "collapsed": false
   },
   "outputs": [],
   "source": [
    "import forge\n",
    "from puzzle.puzzlepedia import puzzlepedia\n",
    "\n",
    "puzzle = puzzlepedia.parse(\"\"\"\n",
    "position in range(8 + 1)\n",
    "name in {Beth, Charles, David, Frank, Jessica, Karen, Taylor, Gordon, Nina}\n",
    "state in {CA, FL, KY, MT, NY, TX, WI, XX, ZZ}\n",
    "handed in {left, right}\n",
    "\n",
    "def dist(a, b):\n",
    "  return abs(a.position - b.position) - 1\n",
    "\n",
    "def near(a, b):\n",
    "  return abs(a.position - b.position) == 1\n",
    "\n",
    "# 0:\n",
    "Gordon[0] == True\n",
    "Gordon == right\n",
    "Gordon == XX\n",
    "# NB: 5 is a different seat in the book.\n",
    "Nina[5] == True\n",
    "Nina == right\n",
    "Nina == ZZ\n",
    "\n",
    "# 1a: two left handed people sitting in the corners.\n",
    "left[1] == True\n",
    "left[6] == True\n",
    "all(right[i] for i in [0, 2, 3, 4, 5, 7, 8])\n",
    "\n",
    "# 2: Montana is next to Florida and Wisconson.\n",
    "near(MT, FL)\n",
    "near(MT, WI)\n",
    "# ...and are both right handed.\n",
    "FL == right\n",
    "WI == right\n",
    "\n",
    "# 3a: Taylor is not from MT\n",
    "Taylor != MT\n",
    "Taylor != CA\n",
    "# 3b: And everyone is right handed.\n",
    "Taylor == Right\n",
    "MT == right\n",
    "CA == right\n",
    "\n",
    "# 4a: Frank and Jessica are right handed.\n",
    "Frank == right\n",
    "Jessica == right\n",
    "# 4b: ...and sit on opposite sides of the table.\n",
    "if Frank.position < 5:\n",
    "  Jessica.position > 5\n",
    "else:\n",
    "  Jessica.position < 5\n",
    "\n",
    "# 5: NY is right handed\n",
    "NY == right\n",
    "\n",
    "# 6a: Charles and FL are near the left-handed guests\n",
    "Charles != FL\n",
    "Charles[2] or Charles[7]\n",
    "FL[2] or FL[7]\n",
    "\n",
    "# 7: Frank and CA are next to Montagues.\n",
    "Frank != CA\n",
    "Frank[1] or Frank[4] or Frank[6] or Frank[8]\n",
    "CA[1] or CA[4] or CA[6] or CA[8]\n",
    "\n",
    "# 8a: Beth is on same side as TX\n",
    "Beth != TX\n",
    "if Beth.position < 5:\n",
    "  TX.position < 5\n",
    "else:\n",
    "  TX.position > 5\n",
    "\n",
    "# 8b: ...who is not Karen\n",
    "Karen != TX\n",
    "\"\"\")\n"
   ]
  },
  {
   "cell_type": "code",
   "execution_count": null,
   "metadata": {
    "collapsed": true
   },
   "outputs": [],
   "source": []
  }
 ],
 "metadata": {
  "kernelspec": {
   "display_name": "Python 3",
   "language": "python",
   "name": "python3"
  },
  "language_info": {
   "codemirror_mode": {
    "name": "ipython",
    "version": 3
   },
   "file_extension": ".py",
   "mimetype": "text/x-python",
   "name": "python",
   "nbconvert_exporter": "python",
   "pygments_lexer": "ipython3",
   "version": "3.6.0"
  },
  "widgets": {
   "state": {
    "14faf0a893494f5fb9a84de9ea1ac04f": {
     "views": [
      {
       "cell_index": 0
      }
     ]
    }
   },
   "version": "1.2.0"
  }
 },
 "nbformat": 4,
 "nbformat_minor": 2
}
