{
 "cells": [
  {
   "cell_type": "code",
   "execution_count": 18,
   "metadata": {
    "collapsed": false
   },
   "outputs": [],
   "source": [
    "import forge\n",
    "from puzzle.puzzlepedia import puzzlepedia\n",
    "\n",
    "puzzle = puzzlepedia.parse(\"\"\"\n",
    "import itertools\n",
    "name in {Beth, Charles, David, Frank, Jessica, Karen, Taylor}\n",
    "item in {cards, cars, comics, ducks, perfume, spoons, jugs}\n",
    "language in {Dutch, French, Japanese, Portuguese, Russian, Spanish, Tagalog}\n",
    "\n",
    "def mix(a, b):\n",
    "  return sum(x[y] for x, y in itertools.product(a, b)) == len(a)\n",
    "\n",
    "#1:\n",
    "mix([cards, cars, jugs], [French, Japanese, Tagalog])\n",
    "\n",
    "#2:\n",
    "mix([Charles, Frank, Karen], [Dutch, French, Russian])\n",
    "\n",
    "#3:\n",
    "mix([David, Jessica, Taylor], [cards, spoons, jugs])\n",
    "\n",
    "#4:\n",
    "Beth.Spanish or Beth.ducks\n",
    "\n",
    "#5:\n",
    "Charles.French or Charles.comics\n",
    "\n",
    "#6:\n",
    "David.Japanese or David.cards\n",
    "\n",
    "#7:\n",
    "Jessica.Spanish or Jessica.cards\n",
    "\n",
    "#8:\n",
    "Karen.Russian or Karen.comics\n",
    "\n",
    "#9:\n",
    "Taylor.Tagalog or Taylor.jugs\n",
    "\n",
    "#10\n",
    "Frank != Russian\n",
    "Frank != cars\n",
    "\n",
    "#11\n",
    "if Charles == cars:\n",
    "  David != Japanese\n",
    "\"\"\")\n"
   ]
  },
  {
   "cell_type": "code",
   "execution_count": null,
   "metadata": {
    "collapsed": true
   },
   "outputs": [],
   "source": []
  }
 ],
 "metadata": {
  "kernelspec": {
   "display_name": "Python 3",
   "language": "python",
   "name": "python3"
  },
  "language_info": {
   "codemirror_mode": {
    "name": "ipython",
    "version": 3
   },
   "file_extension": ".py",
   "mimetype": "text/x-python",
   "name": "python",
   "nbconvert_exporter": "python",
   "pygments_lexer": "ipython3",
   "version": "3.6.0"
  },
  "widgets": {
   "state": {
    "372581c017fd447a96a870124b0db2c5": {
     "views": [
      {
       "cell_index": 0
      }
     ]
    }
   },
   "version": "1.2.0"
  }
 },
 "nbformat": 4,
 "nbformat_minor": 2
}
