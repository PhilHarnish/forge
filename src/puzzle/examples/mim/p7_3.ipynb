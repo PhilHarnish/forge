{
 "cells": [
  {
   "cell_type": "code",
   "execution_count": 32,
   "metadata": {
    "collapsed": false
   },
   "outputs": [],
   "source": [
    "import forge\n",
    "from puzzle.puzzlepedia import puzzlepedia\n",
    "\n",
    "puzzle = puzzlepedia.parse(\"\"\"\n",
    "name in {Beth, Charles, David, Frank, Jessica, Karen, Taylor}\n",
    "design in {diamonds_dots*1, diamonds_stars*1, diamonds_triangles*1, dots_stars*1, dots_triangles*1, stars_triangles*2}\n",
    "shots in {0, 1*2, 2*2, 3*2}\n",
    "\n",
    "#1: In setup.\n",
    "\n",
    "#2:\n",
    "all(Charles[d] == Taylor[d] for d in design)\n",
    "\n",
    "#3:\n",
    "triangles = {diamonds_triangles, dots_triangles, stars_triangles}\n",
    "# NB: This group contains a duplicate.\n",
    "sum(t[1] for t in triangles) == 1\n",
    "sum(t[2] for t in triangles) == 2\n",
    "sum(t[3] for t in triangles) == 1\n",
    "\n",
    "#4:\n",
    "dots = {diamonds_dots, dots_stars, dots_triangles}\n",
    "# NB: This group does not have the duplicate.\n",
    "sum(t[0] for t in dots) == 1\n",
    "sum(t[2] for t in dots) == 1\n",
    "sum(t[3] for t in dots) == 1\n",
    "\n",
    "#5:\n",
    "{Beth, Karen} == {diamonds_stars, dots_stars, stars_triangles}\n",
    "\n",
    "#6:\n",
    "# NB: Satisfying this means stars have a duplicate.\n",
    "for m in [diamonds_dots, diamonds_triangles, dots_triangles]:\n",
    "  m[1] == 0\n",
    "  m[3] == 0\n",
    "\n",
    "#7:\n",
    "Beth.shots > Charles.shots > 0\n",
    "Jessica.shots > Karen.shots > 0\n",
    "\n",
    "#8:\n",
    "{David} != {diamonds_dots, diamonds_stars, diamonds_triangles}\n",
    "\"\"\")"
   ]
  },
  {
   "cell_type": "code",
   "execution_count": null,
   "metadata": {
    "collapsed": true
   },
   "outputs": [],
   "source": []
  }
 ],
 "metadata": {
  "kernelspec": {
   "display_name": "Python 3",
   "language": "python",
   "name": "python3"
  },
  "language_info": {
   "codemirror_mode": {
    "name": "ipython",
    "version": 3
   },
   "file_extension": ".py",
   "mimetype": "text/x-python",
   "name": "python",
   "nbconvert_exporter": "python",
   "pygments_lexer": "ipython3",
   "version": "3.6.0"
  },
  "widgets": {
   "state": {
    "05fd9b269f6d469ca5b5210eec9c54d1": {
     "views": [
      {
       "cell_index": 0
      }
     ]
    }
   },
   "version": "1.2.0"
  }
 },
 "nbformat": 4,
 "nbformat_minor": 2
}
