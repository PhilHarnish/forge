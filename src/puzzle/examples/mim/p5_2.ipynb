{
 "cells": [
  {
   "cell_type": "code",
   "execution_count": 2,
   "metadata": {
    "collapsed": false
   },
   "outputs": [],
   "source": [
    "import forge\n",
    "from puzzle.puzzlepedia import puzzlepedia\n",
    "\n",
    "puzzle = puzzlepedia.parse(\"\"\"\n",
    "name in {Beth, Charles, David, Frank, Jessica, Karen, Taylor}\n",
    "city in {Abu_Dhabi, Beijing, Chennai, Manila, Seoul, Singapore, Tokyo}\n",
    "occupation in {historian, investigator, journalist, knitter, linguist, magician, numismatist}\n",
    "weeks_ago in {3, 3, 2, 2, 2, 1, 1}\n",
    "crime in {innocent*6, guilty}\n",
    "\n",
    "#1: Setup: Occupations, 1 thief.\n",
    "\n",
    "#2: Setup: Locations.\n",
    "\n",
    "#3:\n",
    "{Charles, Frank, Karen} == {linguist, magician, numismatist}\n",
    "all(Charles[w] == Frank[w] == Karen[w] for w in [1, 2, 3])\n",
    "\n",
    "#4:\n",
    "Chennai != knitter\n",
    "\n",
    "#5:\n",
    "magician != Beijing\n",
    "numismatist != Beijing\n",
    "\n",
    "#6:\n",
    "{Manila} == {knitter, linguist, magician}\n",
    "investigator != Seoul\n",
    "investigator == innocent\n",
    "all(investigator[w] == guilty[w] for w in [1, 2, 3])\n",
    "\n",
    "#7:\n",
    "Beth.weeks_ago > knitter.weeks_ago\n",
    "Jessica.weeks_ago > historian.weeks_ago\n",
    "\n",
    "#8:\n",
    "all(Chennai[w] == Tokyo[w] for w in [1, 2, 3])\n",
    "\n",
    "#9:\n",
    "if Beth.innocent:\n",
    "  Charles == Abu_Dhabi or Charles == Beijing\n",
    "\n",
    "#10:\n",
    "if Charles.innocent:\n",
    "  David == Beijing or David == Chennai\n",
    "\n",
    "#10:\n",
    "if David.innocent:\n",
    "  Frank == Chennai or Frank == Manila\n",
    "\n",
    "#10:\n",
    "if Frank.innocent:\n",
    "  Jessica == Manila or Jessica == Seoul\n",
    "\n",
    "#10:\n",
    "if Jessica.innocent:\n",
    "  Karen == Seoul or Karen == Singapore\n",
    "\n",
    "#10:\n",
    "if Karen.innocent:\n",
    "  Taylor == Singapore or Taylor == Tokyo \n",
    "\n",
    "#10:\n",
    "if Taylor.innocent:\n",
    "  Beth == Tokyo or Beth == Abu_Dhabi\n",
    "\"\"\")"
   ]
  },
  {
   "cell_type": "code",
   "execution_count": null,
   "metadata": {
    "collapsed": true
   },
   "outputs": [],
   "source": []
  }
 ],
 "metadata": {
  "kernelspec": {
   "display_name": "Python 3",
   "language": "python",
   "name": "python3"
  },
  "language_info": {
   "codemirror_mode": {
    "name": "ipython",
    "version": 3
   },
   "file_extension": ".py",
   "mimetype": "text/x-python",
   "name": "python",
   "nbconvert_exporter": "python",
   "pygments_lexer": "ipython3",
   "version": "3.6.0"
  },
  "widgets": {
   "state": {
    "fd533748914c408c99b166135adacdd4": {
     "views": [
      {
       "cell_index": 0
      }
     ]
    }
   },
   "version": "1.2.0"
  }
 },
 "nbformat": 4,
 "nbformat_minor": 2
}
