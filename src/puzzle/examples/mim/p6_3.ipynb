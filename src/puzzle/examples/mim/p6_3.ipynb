{
 "cells": [
  {
   "cell_type": "code",
   "execution_count": 40,
   "metadata": {
    "collapsed": false
   },
   "outputs": [
    {
     "name": "stdout",
     "output_type": "stream",
     "text": [
      "winner: 3 == (((((((((group_place[\"Ar1\"].wins[1] + 2*group_place[\"Ar1\"].wins[2] + 3*group_place[\"Ar1\"].wins[3] + 4*group_place[\"Ar1\"].wins[4] + 5*group_place[\"Ar1\"].wins[5] + 6*group_place[\"Ar1\"].wins[6]) < (group_place[\"Br2\"].wins[1] + 2*group_place[\"Br2\"].wins[2] + 3*group_place[\"Br2\"].wins[3] + 4*group_place[\"Br2\"].wins[4] + 5*group_place[\"Br2\"].wins[5] + 6*group_place[\"Br2\"].wins[6])) == True) * (group_place[\"Ar1\"].wins[1] + 2*group_place[\"Ar1\"].wins[2] + 3*group_place[\"Ar1\"].wins[3] + 4*group_place[\"Ar1\"].wins[4] + 5*group_place[\"Ar1\"].wins[5] + 6*group_place[\"Ar1\"].wins[6])) + ((((group_place[\"Ar1\"].wins[1] + 2*group_place[\"Ar1\"].wins[2] + 3*group_place[\"Ar1\"].wins[3] + 4*group_place[\"Ar1\"].wins[4] + 5*group_place[\"Ar1\"].wins[5] + 6*group_place[\"Ar1\"].wins[6]) < (group_place[\"Br2\"].wins[1] + 2*group_place[\"Br2\"].wins[2] + 3*group_place[\"Br2\"].wins[3] + 4*group_place[\"Br2\"].wins[4] + 5*group_place[\"Br2\"].wins[5] + 6*group_place[\"Br2\"].wins[6])) == False) * (group_place[\"Br2\"].wins[1] + 2*group_place[\"Br2\"].wins[2] + 3*group_place[\"Br2\"].wins[3] + 4*group_place[\"Br2\"].wins[4] + 5*group_place[\"Br2\"].wins[5] + 6*group_place[\"Br2\"].wins[6]))) < (((((group_place[\"Ar2\"].wins[1] + 2*group_place[\"Ar2\"].wins[2] + 3*group_place[\"Ar2\"].wins[3] + 4*group_place[\"Ar2\"].wins[4] + 5*group_place[\"Ar2\"].wins[5] + 6*group_place[\"Ar2\"].wins[6]) < (group_place[\"Br1\"].wins[1] + 2*group_place[\"Br1\"].wins[2] + 3*group_place[\"Br1\"].wins[3] + 4*group_place[\"Br1\"].wins[4] + 5*group_place[\"Br1\"].wins[5] + 6*group_place[\"Br1\"].wins[6])) == True) * (group_place[\"Ar2\"].wins[1] + 2*group_place[\"Ar2\"].wins[2] + 3*group_place[\"Ar2\"].wins[3] + 4*group_place[\"Ar2\"].wins[4] + 5*group_place[\"Ar2\"].wins[5] + 6*group_place[\"Ar2\"].wins[6])) + ((((group_place[\"Ar2\"].wins[1] + 2*group_place[\"Ar2\"].wins[2] + 3*group_place[\"Ar2\"].wins[3] + 4*group_place[\"Ar2\"].wins[4] + 5*group_place[\"Ar2\"].wins[5] + 6*group_place[\"Ar2\"].wins[6]) < (group_place[\"Br1\"].wins[1] + 2*group_place[\"Br1\"].wins[2] + 3*group_place[\"Br1\"].wins[3] + 4*group_place[\"Br1\"].wins[4] + 5*group_place[\"Br1\"].wins[5] + 6*group_place[\"Br1\"].wins[6])) == False) * (group_place[\"Br1\"].wins[1] + 2*group_place[\"Br1\"].wins[2] + 3*group_place[\"Br1\"].wins[3] + 4*group_place[\"Br1\"].wins[4] + 5*group_place[\"Br1\"].wins[5] + 6*group_place[\"Br1\"].wins[6])))) == True) * (((((group_place[\"Ar1\"].wins[1] + 2*group_place[\"Ar1\"].wins[2] + 3*group_place[\"Ar1\"].wins[3] + 4*group_place[\"Ar1\"].wins[4] + 5*group_place[\"Ar1\"].wins[5] + 6*group_place[\"Ar1\"].wins[6]) < (group_place[\"Br2\"].wins[1] + 2*group_place[\"Br2\"].wins[2] + 3*group_place[\"Br2\"].wins[3] + 4*group_place[\"Br2\"].wins[4] + 5*group_place[\"Br2\"].wins[5] + 6*group_place[\"Br2\"].wins[6])) == True) * (group_place[\"Ar1\"].wins[1] + 2*group_place[\"Ar1\"].wins[2] + 3*group_place[\"Ar1\"].wins[3] + 4*group_place[\"Ar1\"].wins[4] + 5*group_place[\"Ar1\"].wins[5] + 6*group_place[\"Ar1\"].wins[6])) + ((((group_place[\"Ar1\"].wins[1] + 2*group_place[\"Ar1\"].wins[2] + 3*group_place[\"Ar1\"].wins[3] + 4*group_place[\"Ar1\"].wins[4] + 5*group_place[\"Ar1\"].wins[5] + 6*group_place[\"Ar1\"].wins[6]) < (group_place[\"Br2\"].wins[1] + 2*group_place[\"Br2\"].wins[2] + 3*group_place[\"Br2\"].wins[3] + 4*group_place[\"Br2\"].wins[4] + 5*group_place[\"Br2\"].wins[5] + 6*group_place[\"Br2\"].wins[6])) == False) * (group_place[\"Br2\"].wins[1] + 2*group_place[\"Br2\"].wins[2] + 3*group_place[\"Br2\"].wins[3] + 4*group_place[\"Br2\"].wins[4] + 5*group_place[\"Br2\"].wins[5] + 6*group_place[\"Br2\"].wins[6])))) + ((((((((group_place[\"Ar1\"].wins[1] + 2*group_place[\"Ar1\"].wins[2] + 3*group_place[\"Ar1\"].wins[3] + 4*group_place[\"Ar1\"].wins[4] + 5*group_place[\"Ar1\"].wins[5] + 6*group_place[\"Ar1\"].wins[6]) < (group_place[\"Br2\"].wins[1] + 2*group_place[\"Br2\"].wins[2] + 3*group_place[\"Br2\"].wins[3] + 4*group_place[\"Br2\"].wins[4] + 5*group_place[\"Br2\"].wins[5] + 6*group_place[\"Br2\"].wins[6])) == True) * (group_place[\"Ar1\"].wins[1] + 2*group_place[\"Ar1\"].wins[2] + 3*group_place[\"Ar1\"].wins[3] + 4*group_place[\"Ar1\"].wins[4] + 5*group_place[\"Ar1\"].wins[5] + 6*group_place[\"Ar1\"].wins[6])) + ((((group_place[\"Ar1\"].wins[1] + 2*group_place[\"Ar1\"].wins[2] + 3*group_place[\"Ar1\"].wins[3] + 4*group_place[\"Ar1\"].wins[4] + 5*group_place[\"Ar1\"].wins[5] + 6*group_place[\"Ar1\"].wins[6]) < (group_place[\"Br2\"].wins[1] + 2*group_place[\"Br2\"].wins[2] + 3*group_place[\"Br2\"].wins[3] + 4*group_place[\"Br2\"].wins[4] + 5*group_place[\"Br2\"].wins[5] + 6*group_place[\"Br2\"].wins[6])) == False) * (group_place[\"Br2\"].wins[1] + 2*group_place[\"Br2\"].wins[2] + 3*group_place[\"Br2\"].wins[3] + 4*group_place[\"Br2\"].wins[4] + 5*group_place[\"Br2\"].wins[5] + 6*group_place[\"Br2\"].wins[6]))) < (((((group_place[\"Ar2\"].wins[1] + 2*group_place[\"Ar2\"].wins[2] + 3*group_place[\"Ar2\"].wins[3] + 4*group_place[\"Ar2\"].wins[4] + 5*group_place[\"Ar2\"].wins[5] + 6*group_place[\"Ar2\"].wins[6]) < (group_place[\"Br1\"].wins[1] + 2*group_place[\"Br1\"].wins[2] + 3*group_place[\"Br1\"].wins[3] + 4*group_place[\"Br1\"].wins[4] + 5*group_place[\"Br1\"].wins[5] + 6*group_place[\"Br1\"].wins[6])) == True) * (group_place[\"Ar2\"].wins[1] + 2*group_place[\"Ar2\"].wins[2] + 3*group_place[\"Ar2\"].wins[3] + 4*group_place[\"Ar2\"].wins[4] + 5*group_place[\"Ar2\"].wins[5] + 6*group_place[\"Ar2\"].wins[6])) + ((((group_place[\"Ar2\"].wins[1] + 2*group_place[\"Ar2\"].wins[2] + 3*group_place[\"Ar2\"].wins[3] + 4*group_place[\"Ar2\"].wins[4] + 5*group_place[\"Ar2\"].wins[5] + 6*group_place[\"Ar2\"].wins[6]) < (group_place[\"Br1\"].wins[1] + 2*group_place[\"Br1\"].wins[2] + 3*group_place[\"Br1\"].wins[3] + 4*group_place[\"Br1\"].wins[4] + 5*group_place[\"Br1\"].wins[5] + 6*group_place[\"Br1\"].wins[6])) == False) * (group_place[\"Br1\"].wins[1] + 2*group_place[\"Br1\"].wins[2] + 3*group_place[\"Br1\"].wins[3] + 4*group_place[\"Br1\"].wins[4] + 5*group_place[\"Br1\"].wins[5] + 6*group_place[\"Br1\"].wins[6])))) == False) * (((((group_place[\"Ar2\"].wins[1] + 2*group_place[\"Ar2\"].wins[2] + 3*group_place[\"Ar2\"].wins[3] + 4*group_place[\"Ar2\"].wins[4] + 5*group_place[\"Ar2\"].wins[5] + 6*group_place[\"Ar2\"].wins[6]) < (group_place[\"Br1\"].wins[1] + 2*group_place[\"Br1\"].wins[2] + 3*group_place[\"Br1\"].wins[3] + 4*group_place[\"Br1\"].wins[4] + 5*group_place[\"Br1\"].wins[5] + 6*group_place[\"Br1\"].wins[6])) == True) * (group_place[\"Ar2\"].wins[1] + 2*group_place[\"Ar2\"].wins[2] + 3*group_place[\"Ar2\"].wins[3] + 4*group_place[\"Ar2\"].wins[4] + 5*group_place[\"Ar2\"].wins[5] + 6*group_place[\"Ar2\"].wins[6])) + ((((group_place[\"Ar2\"].wins[1] + 2*group_place[\"Ar2\"].wins[2] + 3*group_place[\"Ar2\"].wins[3] + 4*group_place[\"Ar2\"].wins[4] + 5*group_place[\"Ar2\"].wins[5] + 6*group_place[\"Ar2\"].wins[6]) < (group_place[\"Br1\"].wins[1] + 2*group_place[\"Br1\"].wins[2] + 3*group_place[\"Br1\"].wins[3] + 4*group_place[\"Br1\"].wins[4] + 5*group_place[\"Br1\"].wins[5] + 6*group_place[\"Br1\"].wins[6])) == False) * (group_place[\"Br1\"].wins[1] + 2*group_place[\"Br1\"].wins[2] + 3*group_place[\"Br1\"].wins[3] + 4*group_place[\"Br1\"].wins[4] + 5*group_place[\"Br1\"].wins[5] + 6*group_place[\"Br1\"].wins[6])))))\n"
     ]
    }
   ],
   "source": [
    "import forge\n",
    "from puzzle.puzzlepedia import puzzlepedia\n",
    "\n",
    "puzzle = puzzlepedia.parse(\"\"\"\n",
    "import itertools\n",
    "name in {Beth, Charles, David, Frank, Jessica, Karen, Nolan, Taylor}\n",
    "(group, place) in ({A, B}, {r1, r2, r3, r4})\n",
    "# NB: score 3 appears 2x by trial and error. See \"Setup\"; only one solution.\n",
    "wins in {0*1, 1*1, 2*1, 3*2, 4*1, 5*1, 6*1}\n",
    "\n",
    "# Setup:\n",
    "Ar1.wins > Ar2.wins > Ar3.wins > Ar4.wins\n",
    "Br1.wins > Br2.wins > Br3.wins > Br4.wins\n",
    "Ar1.wins + Ar2.wins + Ar3.wins + Ar4.wins == 12\n",
    "Br1.wins + Br2.wins + Br3.wins + Br4.wins == 12\n",
    "# NB: The clues are symmetrical, i.e., groups can be swapped.\n",
    "# Arbitrarily assign a player to produce a unique solution.\n",
    "any(Beth[g] for g in group.A)\n",
    "\n",
    "#1:\n",
    "only_tie = {Charles, Nolan}\n",
    "Charles == 3\n",
    "Nolan == 3\n",
    "#for a, b in itertools.combinations(name, 2):\n",
    "#  all((a[w] == b[w]) == ({a, b} == only_tie) for w in wins)\n",
    "\n",
    "#2a: Frank and Taylor were in different groups...\n",
    "any(Frank[g] for g in group.A) != any(Taylor[g] for g in group.A)\n",
    "#2b: ...and were placed 1st / 2nd.\n",
    "((any(Frank[g] for g in place.r1) and any(Taylor[g] for g in place.r2)) or\n",
    "    (any(Taylor[g] for g in place.r1) and any(Frank[g] for g in place.r2)))\n",
    "\n",
    "#3:\n",
    "Jessica.wins == David.wins + Taylor.wins\n",
    "\n",
    "#4a: Karen was in the same group as Nolan.\n",
    "any(Karen[g] for g in group.A) == any(Nolan[g] for g in group.A)\n",
    "\n",
    "#4b: Karen's score > Beth's score.\n",
    "Karen.wins > Beth.wins\n",
    "\n",
    "#5: \"The player who had won fewer games (...) was victorious\".\n",
    "# Group A advances?\n",
    "if Ar1.wins < Br2.wins:\n",
    "  semi_1_winner = Ar1.wins\n",
    "else:\n",
    "  semi_1_winner = Br2.wins\n",
    "if Ar2.wins < Br1.wins:\n",
    "  semi_2_winner = Ar2.wins\n",
    "else:\n",
    "  semi_2_winner = Br1.wins\n",
    "\n",
    "if semi_1_winner < semi_2_winner:\n",
    "  winner = semi_1_winner\n",
    "else:\n",
    "  winner = semi_2_winner\n",
    "\n",
    "print('winner:', winner)\n",
    "\"\"\")"
   ]
  },
  {
   "cell_type": "code",
   "execution_count": null,
   "metadata": {
    "collapsed": true
   },
   "outputs": [],
   "source": []
  }
 ],
 "metadata": {
  "kernelspec": {
   "display_name": "Python 3",
   "language": "python",
   "name": "python3"
  },
  "language_info": {
   "codemirror_mode": {
    "name": "ipython",
    "version": 3
   },
   "file_extension": ".py",
   "mimetype": "text/x-python",
   "name": "python",
   "nbconvert_exporter": "python",
   "pygments_lexer": "ipython3",
   "version": "3.6.0"
  },
  "widgets": {
   "state": {
    "673aa86380164e2c9d6974c74bbfed34": {
     "views": [
      {
       "cell_index": 0
      }
     ]
    }
   },
   "version": "1.2.0"
  }
 },
 "nbformat": 4,
 "nbformat_minor": 2
}
