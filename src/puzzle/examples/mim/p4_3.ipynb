{
 "cells": [
  {
   "cell_type": "code",
   "execution_count": 1,
   "metadata": {
    "collapsed": false
   },
   "outputs": [
    {
     "name": "stdout",
     "output_type": "stream",
     "text": [
      "david_before_charles 0\n"
     ]
    }
   ],
   "source": [
    "import forge\n",
    "from puzzle.puzzlepedia import puzzlepedia\n",
    "\n",
    "puzzle = puzzlepedia.parse(\"\"\"\n",
    "name in {Beth, Charles, David, Frank, Jessica, Karen, Taylor}\n",
    "crime in {innocent, first, last}\n",
    "\n",
    "df_first2 = variable('df_first2')\n",
    "if David == first or Frank == first: df_first2 == True\n",
    "cj_last2 = variable('cj_last2')\n",
    "if Charles == last or Jessica == last: cj_last2 == True\n",
    "ckt_first2 = variable('ckt_first2')\n",
    "if Charles == first or Karen == first or Taylor == first: ckt_first2 == True\n",
    "bfk_last2 = variable('bfk_last2')\n",
    "if Beth == last or Frank == last or Karen == last: bfk_last2 == True\n",
    "david_before_charles = variable('david_before_charles')\n",
    "if David == last: david_before_charles == False\n",
    "if Charles == last: david_before_charles == True\n",
    "if David == first: david_before_charles == True\n",
    "if Charles == first: david_before_charles == False\n",
    "\n",
    "#1: Two criminals.\n",
    "sum(n.first for n in name) == 1\n",
    "sum(n.last for n in name) == 1\n",
    "\n",
    "#2: n/a.\n",
    "\n",
    "#3: First to enter is guilty.\n",
    "\n",
    "#4: Last to leave is guilty.\n",
    "\n",
    "#5: n/a.\n",
    "\n",
    "#6:\n",
    "David != first\n",
    "Frank != first\n",
    "df_first2 == False\n",
    "\n",
    "#7:\n",
    "Charles != last\n",
    "Jessica != last\n",
    "cj_last2 == False\n",
    "\n",
    "#8:\n",
    "if Beth.innocent:\n",
    "  (Jessica == first) | (David == last)\n",
    "\n",
    "#9:\n",
    "if Charles.innocent:\n",
    "  Charles != first\n",
    "  Karen != first\n",
    "  Taylor != first\n",
    "  ckt_first2 == False\n",
    "  Beth != last\n",
    "  Frank != last\n",
    "  Karen != last\n",
    "  bfk_last2 == False\n",
    "\n",
    "#10:\n",
    "if David.innocent:\n",
    "  David != last\n",
    "  Charles != first\n",
    "  Karen != first\n",
    "  Taylor != first\n",
    "  ckt_first2 == False\n",
    "\n",
    "#11:\n",
    "if Frank.innocent:\n",
    "  (David != last) | (Jessica != first)\n",
    "  if Jessica == first: david_before_charles == True  \n",
    "\n",
    "#12:\n",
    "if Jessica.innocent:\n",
    "  david_before_charles == False\n",
    "  David != last\n",
    "  Beth != last\n",
    "  Frank != last\n",
    "  Karen != last\n",
    "  bfk_last2 == False\n",
    "\n",
    "#13:\n",
    "if Karen.innocent:\n",
    "  (Charles != last) | (Jessica != first)\n",
    "  if Jessica == first: david_before_charles == False \n",
    "\n",
    "#14:\n",
    "if Taylor.innocent:\n",
    "  bfk_last2 == True\n",
    "\n",
    "print('david_before_charles', david_before_charles)\n",
    "\"\"\")"
   ]
  },
  {
   "cell_type": "code",
   "execution_count": null,
   "metadata": {
    "collapsed": true
   },
   "outputs": [],
   "source": []
  }
 ],
 "metadata": {
  "kernelspec": {
   "display_name": "Python 3",
   "language": "python",
   "name": "python3"
  },
  "language_info": {
   "codemirror_mode": {
    "name": "ipython",
    "version": 3
   },
   "file_extension": ".py",
   "mimetype": "text/x-python",
   "name": "python",
   "nbconvert_exporter": "python",
   "pygments_lexer": "ipython3",
   "version": "3.6.0"
  },
  "widgets": {
   "state": {
    "10b5392e22b340cfa4f079efad1cb316": {
     "views": [
      {
       "cell_index": 0
      }
     ]
    }
   },
   "version": "1.2.0"
  }
 },
 "nbformat": 4,
 "nbformat_minor": 2
}
