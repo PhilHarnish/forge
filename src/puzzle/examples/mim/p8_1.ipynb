{
 "cells": [
  {
   "cell_type": "code",
   "execution_count": 16,
   "metadata": {
    "collapsed": true
   },
   "outputs": [],
   "source": [
    "import forge\n",
    "from puzzle.puzzlepedia import puzzlepedia\n",
    "\n",
    "puzzle = puzzlepedia.parse(\"\"\"\n",
    "name in {Beth, Charles, David, Frank, Jessica, Karen}\n",
    "costume in {Chatwoman, Wish, Stormy, Sparrow, Hunk, Man}\n",
    "team in {1*3, 2*3}\n",
    "\n",
    "# NB: Solutions are symmetric for team. Assign Beth arbitrarily.\n",
    "Beth == 1\n",
    "\n",
    "{Beth, Karen, Jessica} == {Chatwoman, Wish, Stormy}\n",
    "{Charles, David, Frank} == {Sparrow, Hunk, Man}\n",
    "\n",
    "def diff(a, b):\n",
    "  return all(a[t] != b[t] for t in team)\n",
    "\n",
    "def same(a, b):\n",
    "  return all(a[t] == b[t] for t in team)\n",
    "\n",
    "#1:\n",
    "diff(Beth, Jessica)\n",
    "\n",
    "#2:\n",
    "diff(Charles, David)\n",
    "\n",
    "#3:\n",
    "diff(Chatwoman, Hunk)\n",
    "\n",
    "#4:\n",
    "diff(Sparrow, Wish)\n",
    "\n",
    "#5:\n",
    "diff(Beth, Man)\n",
    "\n",
    "#6:\n",
    "Jessica != Wish\n",
    "\n",
    "#7:\n",
    "if Beth == Stormy:\n",
    "  same(Beth, Karen)\n",
    "\n",
    "#8:\n",
    "if David == Hunk:\n",
    "  same(David, Frank)\n",
    "\n",
    "#9:\n",
    "if Frank == Sparrow:\n",
    "  Jessica != Chatwoman\n",
    "\n",
    "#10:\n",
    "if Frank != Sparrow:\n",
    "  Beth != Wish\n",
    "\"\"\")"
   ]
  },
  {
   "cell_type": "code",
   "execution_count": null,
   "metadata": {
    "collapsed": true
   },
   "outputs": [],
   "source": []
  }
 ],
 "metadata": {
  "kernelspec": {
   "display_name": "Python 3",
   "language": "python",
   "name": "python3"
  },
  "language_info": {
   "codemirror_mode": {
    "name": "ipython",
    "version": 3
   },
   "file_extension": ".py",
   "mimetype": "text/x-python",
   "name": "python",
   "nbconvert_exporter": "python",
   "pygments_lexer": "ipython3",
   "version": "3.6.0"
  },
  "widgets": {
   "state": {
    "7ad0b3705ebd4a42aba3c33fd0acdfcf": {
     "views": [
      {
       "cell_index": 0
      }
     ]
    }
   },
   "version": "1.2.0"
  }
 },
 "nbformat": 4,
 "nbformat_minor": 2
}
