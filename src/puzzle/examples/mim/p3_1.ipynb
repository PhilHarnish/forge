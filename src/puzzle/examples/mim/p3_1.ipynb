{
 "cells": [
  {
   "cell_type": "code",
   "execution_count": 23,
   "metadata": {
    "collapsed": false
   },
   "outputs": [
    {
     "name": "stdout",
     "output_type": "stream",
     "text": [
      "Beth 2 == ((0 + 0 + 0 + 0 + 0 + 0 + 0 + 0 + 1 + 1 + 1 + 0 + 0 + 0 + 0 + 1 + 1 + 0 + 0 + 0 + 0) - 3)\n",
      "Charles 7 == ((1 + 1 + 1 + 1 + 1 + 1 + 1 + 1 + 0 + 0 + 0 + 1 + 1 + 0 + 0 + 0 + 0 + 0 + 0 + 0 + 0) - 3)\n",
      "David 7 == ((1 + 1 + 1 + 1 + 1 + 1 + 1 + 1 + 0 + 0 + 0 + 0 + 0 + 1 + 1 + 0 + 0 + 0 + 0 + 0 + 0) - 3)\n",
      "Frank 2 == ((0 + 0 + 0 + 0 + 0 + 0 + 0 + 0 + 0 + 0 + 0 + 1 + 1 + 1 + 1 + 0 + 0 + 0 + 1 + 0 + 0) - 3)\n",
      "Jessica 8 == ((1 + 1 + 1 + 1 + 1 + 1 + 1 + 1 + 1 + 1 + 1 + 0 + 0 + 0 + 0 + 0 + 0 + 0 + 0 + 0 + 0) - 3)\n",
      "Karen 5 == ((1 + 1 + 1 + 1 + 0 + 0 + 0 + 0 + 1 + 1 + 1 + 0 + 0 + 0 + 0 + 0 + 0 + 0 + 0 + 1 + 0) - 3)\n",
      "Taylor 3 == ((0 + 0 + 0 + 0 + 1 + 1 + 1 + 1 + 0 + 0 + 0 + 0 + 0 + 0 + 0 + 0 + 0 + 1 + 0 + 0 + 1) - 3)\n",
      "Beth 2 == ((0 + 0 + 0 + 0 + 0 + 0 + 0 + 0 + 1 + 1 + 1 + 0 + 0 + 0 + 0 + 1 + 1 + 0 + 0 + 0 + 0) - 3)\n",
      "Charles 7 == ((1 + 1 + 1 + 1 + 1 + 1 + 1 + 1 + 0 + 0 + 0 + 1 + 1 + 0 + 0 + 0 + 0 + 0 + 0 + 0 + 0) - 3)\n",
      "David 7 == ((1 + 1 + 1 + 1 + 1 + 1 + 1 + 1 + 0 + 0 + 0 + 0 + 0 + 1 + 1 + 0 + 0 + 0 + 0 + 0 + 0) - 3)\n",
      "Frank 2 == ((0 + 0 + 0 + 0 + 0 + 0 + 0 + 0 + 0 + 0 + 0 + 1 + 1 + 1 + 1 + 0 + 0 + 0 + 1 + 0 + 0) - 3)\n",
      "Jessica 8 == ((1 + 1 + 1 + 1 + 1 + 1 + 1 + 1 + 1 + 1 + 1 + 0 + 0 + 0 + 0 + 0 + 0 + 0 + 0 + 0 + 0) - 3)\n",
      "Karen 5 == ((0 + 0 + 0 + 0 + 1 + 1 + 1 + 1 + 1 + 1 + 1 + 0 + 0 + 0 + 0 + 0 + 0 + 0 + 0 + 1 + 0) - 3)\n",
      "Taylor 3 == ((1 + 1 + 1 + 1 + 0 + 0 + 0 + 0 + 0 + 0 + 0 + 0 + 0 + 0 + 0 + 0 + 0 + 1 + 0 + 0 + 1) - 3)\n",
      "Beth 2 == ((0 + 0 + 0 + 0 + 0 + 0 + 0 + 0 + 1 + 1 + 1 + 0 + 0 + 0 + 0 + 1 + 1 + 0 + 0 + 0 + 0) - 3)\n",
      "Charles 7 == ((1 + 1 + 1 + 1 + 1 + 1 + 1 + 1 + 0 + 0 + 0 + 0 + 0 + 1 + 1 + 0 + 0 + 0 + 0 + 0 + 0) - 3)\n",
      "David 7 == ((1 + 1 + 1 + 1 + 1 + 1 + 1 + 1 + 0 + 0 + 0 + 1 + 1 + 0 + 0 + 0 + 0 + 0 + 0 + 0 + 0) - 3)\n",
      "Frank 2 == ((0 + 0 + 0 + 0 + 0 + 0 + 0 + 0 + 0 + 0 + 0 + 1 + 1 + 1 + 1 + 0 + 0 + 0 + 1 + 0 + 0) - 3)\n",
      "Jessica 8 == ((1 + 1 + 1 + 1 + 1 + 1 + 1 + 1 + 1 + 1 + 1 + 0 + 0 + 0 + 0 + 0 + 0 + 0 + 0 + 0 + 0) - 3)\n",
      "Karen 5 == ((0 + 0 + 0 + 0 + 1 + 1 + 1 + 1 + 1 + 1 + 1 + 0 + 0 + 0 + 0 + 0 + 0 + 0 + 0 + 1 + 0) - 3)\n",
      "Taylor 3 == ((1 + 1 + 1 + 1 + 0 + 0 + 0 + 0 + 0 + 0 + 0 + 0 + 0 + 0 + 0 + 0 + 0 + 1 + 0 + 0 + 1) - 3)\n",
      "Beth 2 == ((0 + 0 + 0 + 0 + 0 + 0 + 0 + 0 + 1 + 1 + 1 + 0 + 0 + 0 + 0 + 1 + 1 + 0 + 0 + 0 + 0) - 3)\n",
      "Charles 7 == ((1 + 1 + 1 + 1 + 1 + 1 + 1 + 1 + 0 + 0 + 0 + 0 + 0 + 1 + 1 + 0 + 0 + 0 + 0 + 0 + 0) - 3)\n",
      "David 7 == ((1 + 1 + 1 + 1 + 1 + 1 + 1 + 1 + 0 + 0 + 0 + 1 + 1 + 0 + 0 + 0 + 0 + 0 + 0 + 0 + 0) - 3)\n",
      "Frank 2 == ((0 + 0 + 0 + 0 + 0 + 0 + 0 + 0 + 0 + 0 + 0 + 1 + 1 + 1 + 1 + 0 + 0 + 0 + 1 + 0 + 0) - 3)\n",
      "Jessica 8 == ((1 + 1 + 1 + 1 + 1 + 1 + 1 + 1 + 1 + 1 + 1 + 0 + 0 + 0 + 0 + 0 + 0 + 0 + 0 + 0 + 0) - 3)\n",
      "Karen 5 == ((1 + 1 + 1 + 1 + 0 + 0 + 0 + 0 + 1 + 1 + 1 + 0 + 0 + 0 + 0 + 0 + 0 + 0 + 0 + 1 + 0) - 3)\n",
      "Taylor 3 == ((0 + 0 + 0 + 0 + 1 + 1 + 1 + 1 + 0 + 0 + 0 + 0 + 0 + 0 + 0 + 0 + 0 + 1 + 0 + 0 + 1) - 3)\n"
     ]
    }
   ],
   "source": [
    "import forge\n",
    "from puzzle.puzzlepedia import puzzlepedia\n",
    "\n",
    "puzzle = puzzlepedia.parse(\"\"\"\n",
    "name in {Beth, Charles, David, Frank, Jessica, Karen, Taylor}\n",
    "movie in {M4a*4, M4b*4, M3a*3, M2a*2, M2b*2, M1a, M1b, M1c, M1d, M1e, M1f}\n",
    "unique_movies = [M4a, M4b, M3a, M2a, M2b, M1a, M1b, M1c, M1d, M1e, M1f]\n",
    "solo_movies = [M1a, M1b, M1c, M1d, M1e, M1f]\n",
    "#1: Setup.\n",
    "# Each person listed 3 movies.\n",
    "for n in name:\n",
    "  sum(n[m] for m in unique_movies) == 3\n",
    "\n",
    "#2: <Defines score algorithm>\n",
    "def score(n):\n",
    "  return sum(n[m] for m in movie) - 3\n",
    "\n",
    "#3a: Very few score ties. Two have \"2\".\n",
    "sum(score(n) == 2 for n in name) == 2\n",
    "\n",
    "#3b: Evens (8) never tie.\n",
    "sum(score(n) == 3 for n in name) == 1\n",
    "sum(score(n) == 5 for n in name) == 1\n",
    "sum(score(n) == 7 for n in name) == 2\n",
    "sum(score(n) == 8 for n in name) == 1\n",
    "\n",
    "#4: Jessica & Taylor shared; Charles & Frank too.\n",
    "def shared(a, b):\n",
    "  return sum(a[m] and b[m] for m in unique_movies)\n",
    "\n",
    "shared(Jessica, Taylor) == 1\n",
    "shared(Charles, Frank) == 1\n",
    "\n",
    "#5: Frank and Karen had 1 solo movie each.\n",
    "def solo(n):\n",
    "  return sum(n[m] for m in solo_movies)\n",
    "\n",
    "solo(Frank) == 1\n",
    "solo(Karen) == 1\n",
    "\n",
    "#6a: Taylor listed 2 solo movies...\n",
    "solo(Taylor) == 2\n",
    "\n",
    "#6b: ...and scored 4 points less than David\n",
    "score(Taylor) + 4 == score(David)\n",
    "\n",
    "#7:\n",
    "score(Karen) > 2\n",
    "\n",
    "#8:\n",
    "solo(Beth) >= 1\n",
    "\n",
    "print('Beth', score(Beth))\n",
    "print('Charles', score(Charles))\n",
    "print('David', score(David))\n",
    "print('Frank', score(Frank))\n",
    "print('Jessica', score(Jessica))\n",
    "print('Karen', score(Karen))\n",
    "print('Taylor', score(Taylor))\n",
    "\"\"\")"
   ]
  },
  {
   "cell_type": "code",
   "execution_count": null,
   "metadata": {
    "collapsed": true
   },
   "outputs": [],
   "source": []
  }
 ],
 "metadata": {
  "kernelspec": {
   "display_name": "Python 3",
   "language": "python",
   "name": "python3"
  },
  "language_info": {
   "codemirror_mode": {
    "name": "ipython",
    "version": 3
   },
   "file_extension": ".py",
   "mimetype": "text/x-python",
   "name": "python",
   "nbconvert_exporter": "python",
   "pygments_lexer": "ipython3",
   "version": "3.6.0"
  },
  "widgets": {
   "state": {
    "bf40b928c26742baa3273480db23fd1a": {
     "views": [
      {
       "cell_index": 0
      }
     ]
    }
   },
   "version": "1.2.0"
  }
 },
 "nbformat": 4,
 "nbformat_minor": 2
}
