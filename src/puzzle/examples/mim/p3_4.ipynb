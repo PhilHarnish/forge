{
 "cells": [
  {
   "cell_type": "code",
   "execution_count": 1,
   "metadata": {
    "collapsed": false
   },
   "outputs": [
    {
     "name": "stdout",
     "output_type": "stream",
     "text": [
      "Scores:\n",
      "Beth 1 == (0 + 1 + 0 + 0 + 0 + 0)\n",
      "Charles 2 == (1 + 0 + 0 + 0 + 1 + 0)\n",
      "David 1 == (0 + 1 + 0 + 0 + 0 + 0)\n",
      "Frank 6 == (1 + 1 + 1 + 1 + 1 + 1)\n",
      "Jessica 3 == (1 + 1 + 1 + 0 + 0 + 0)\n",
      "Karen 3 == (1 + 0 + 1 + 0 + 1 + 0)\n",
      "Taylor 5 == (1 + 1 + 1 + 0 + 1 + 1)\n"
     ]
    },
    {
     "name": "stderr",
     "output_type": "stream",
     "text": [
      "Widget Javascript not detected.  It may not be installed properly. Did you enable the widgetsnbextension? If not, then run \"jupyter nbextension enable --py --sys-prefix widgetsnbextension\"\n"
     ]
    }
   ],
   "source": [
    "import forge\n",
    "from puzzle.puzzlepedia import puzzlepedia\n",
    "\n",
    "puzzle = puzzlepedia.parse(\"\"\"\n",
    "import collections\n",
    "import itertools\n",
    "\n",
    "with init:\n",
    "  all_players = 'BCDFJKT'\n",
    "  all_matches = []\n",
    "  # dict mapping player_name to list of (match_name, score_condition) matches.\n",
    "  player_matches = collections.defaultdict(list)\n",
    "  for a, b in itertools.combinations(all_players, 2):\n",
    "    name = '%sv%s' % (a, b)\n",
    "    all_matches.append(name)\n",
    "    player_matches[a].append((name, 'win'))\n",
    "    player_matches[b].append((name, 'lose'))\n",
    "\n",
    "# Dimensions.\n",
    "match in list(all_matches)\n",
    "result in {win, lose}\n",
    "game in {chess, shogi, xiangqi}\n",
    "\n",
    "# Setup.\n",
    "# Each player played 2 of each type of game.\n",
    "for matches in player_matches.values():\n",
    "  sum(chess[m] for m, first in matches) == 2\n",
    "  sum(shogi[m] for m, first in matches) == 2\n",
    "  sum(xiangqi[m] for m, first in matches) == 2\n",
    "\n",
    "def score(p):\n",
    "  return sum(match[m].result[score_condition] for m, score_condition in player_matches[p])\n",
    "\n",
    "def record(p, game):\n",
    "  return sum(match[m].game[game] and match[m].result[score_condition] for m, score_condition in player_matches[p])\n",
    "\n",
    "#1: T>D @ chess, F>C @ shogi, J>B @ xiangqi\n",
    "chess.DvT == lose\n",
    "shogi.CvF == lose\n",
    "xiangqi.BvJ == lose\n",
    "\n",
    "#2: K>B @ chess, F>D @ shogi, T>C @ xiangqi\n",
    "chess.BvK == lose\n",
    "shogi.DvF == lose\n",
    "xiangqi.CvT == lose\n",
    "\n",
    "#3: C>B @ shogi, T>K @ xiangqi\n",
    "shogi.BvC == lose\n",
    "xiangqi.KvT == lose\n",
    "\n",
    "#4: There was a chess game between two undefeated players.\n",
    "# HACK: With a little bit of work it is easy to determine this is FvT.\n",
    "match.FvT == chess\n",
    "# Undefeated until last round implies they won n-1 rounds.\n",
    "score('F') >= 5\n",
    "score('T') >= 5\n",
    "\n",
    "#5: Only one player lost both chess games.\n",
    "sum(record(p, chess) == 0 for p in all_players) == 1\n",
    "\n",
    "#6: Jessica's shogi record == Karen's xiangqi record & vice-versa.\n",
    "record('J', shogi) == record('K', xiangqi)\n",
    "record('K', shogi) == record('J', xiangqi)\n",
    "\n",
    "#7: Two players tied for last with 1:5.\n",
    "sum(score(p) == 1 for p in all_players) == 2\n",
    "\n",
    "#8a: The winner's...\n",
    "sum(score(p) == 6 for p in all_players) == 1\n",
    "#8b: ...shogi opponents had a better shogi record than the runner up.\n",
    "# At this point Frank and Taylor are always in last round.\n",
    "# Frank plays C & D, Taylor plays B & J.\n",
    "if record('C', shogi) + record('D', shogi) > record('B', shogi) + record('J', shogi):\n",
    "  score('F') == 6\n",
    "else:\n",
    "  score('T') == 6\n",
    "\n",
    "print('Scores:')\n",
    "print('Beth', score('B'))\n",
    "print('Charles', score('C'))\n",
    "print('David', score('D'))\n",
    "print('Frank', score('F'))\n",
    "print('Jessica', score('J'))\n",
    "print('Karen', score('K'))\n",
    "print('Taylor', score('T'))\n",
    "\"\"\")"
   ]
  },
  {
   "cell_type": "code",
   "execution_count": null,
   "metadata": {
    "collapsed": true
   },
   "outputs": [],
   "source": []
  }
 ],
 "metadata": {
  "kernelspec": {
   "display_name": "Python 3",
   "language": "python",
   "name": "python3"
  },
  "language_info": {
   "codemirror_mode": {
    "name": "ipython",
    "version": 3
   },
   "file_extension": ".py",
   "mimetype": "text/x-python",
   "name": "python",
   "nbconvert_exporter": "python",
   "pygments_lexer": "ipython3",
   "version": "3.6.0"
  },
  "widgets": {
   "state": {
    "93a4132d4b6045afa088efdb1f2665a0": {
     "views": [
      {
       "cell_index": 0
      }
     ]
    }
   },
   "version": "1.2.0"
  }
 },
 "nbformat": 4,
 "nbformat_minor": 2
}
