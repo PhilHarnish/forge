{
 "cells": [
  {
   "cell_type": "code",
   "execution_count": 16,
   "metadata": {
    "collapsed": false
   },
   "outputs": [],
   "source": [
    "import forge\n",
    "from puzzle.puzzlepedia import puzzlepedia\n",
    "\n",
    "puzzle = puzzlepedia.parse(\"\"\"\n",
    "name in {Beth, Charles, David, Frank, Jessica, Karen, Taylor}\n",
    "weapon in {bookend, candlestick, lamp, paperweight, owl, trivet, vase}\n",
    "# Revenge == 2 per #5. Anger == 2 per #10?\n",
    "motive in {anger*2, blackmail, fear, greed, revenge*2}\n",
    "crime in {innocent*6, guilty}\n",
    "\n",
    "#1: Setup.\n",
    "\n",
    "#2: Setup.\n",
    "\n",
    "#3: 1 killer.\n",
    "\n",
    "#4:\n",
    "for w in [lamp, paperweight, trivet]:\n",
    "  {w} != {anger, blackmail}\n",
    "for w in [bookend, vase]:\n",
    "  {w} != {fear, greed}\n",
    "for w in [candlestick, owl]:\n",
    "  w != revenge\n",
    "\n",
    "#5:\n",
    "David == revenge\n",
    "Jessica == revenge\n",
    "\n",
    "#6:\n",
    "{Jessica} == {bookend, candlestick, owl, vase}\n",
    "\n",
    "#7:\n",
    "{Beth, Karen, Taylor} != {fear, greed, revenge}\n",
    "\n",
    "#8:\n",
    "if Beth.innocent:\n",
    "  lamp != greed\n",
    "  lamp != anger\n",
    "  lamp != revenge\n",
    "  Beth != owl\n",
    "\n",
    "#9:\n",
    "if Charles.innocent:\n",
    "  Charles != lamp\n",
    "\n",
    "#10:\n",
    "if David.innocent:\n",
    "  candlestick != anger\n",
    "\n",
    "#11:\n",
    "if Frank.innocent:\n",
    "  Frank != lamp\n",
    "\n",
    "#12:\n",
    "if Jessica.innocent:\n",
    "  Charles != trivet\n",
    "  Frank != trivet\n",
    "\n",
    "#13:\n",
    "if Karen.innocent:\n",
    "  revenge == bookend\n",
    "\n",
    "#14:\n",
    "if Taylor.innocent:\n",
    "  Karen != blackmail\n",
    "  Karen != owl\n",
    "  owl != blackmail\n",
    "  Frank != fear\n",
    "\"\"\")\n"
   ]
  },
  {
   "cell_type": "code",
   "execution_count": null,
   "metadata": {
    "collapsed": true
   },
   "outputs": [],
   "source": []
  }
 ],
 "metadata": {
  "kernelspec": {
   "display_name": "Python 3",
   "language": "python",
   "name": "python3"
  },
  "language_info": {
   "codemirror_mode": {
    "name": "ipython",
    "version": 3
   },
   "file_extension": ".py",
   "mimetype": "text/x-python",
   "name": "python",
   "nbconvert_exporter": "python",
   "pygments_lexer": "ipython3",
   "version": "3.6.0"
  },
  "widgets": {
   "state": {
    "8f2e4650c34e4b6691c00c3f58c7d7e4": {
     "views": [
      {
       "cell_index": 0
      }
     ]
    }
   },
   "version": "1.2.0"
  }
 },
 "nbformat": 4,
 "nbformat_minor": 2
}
