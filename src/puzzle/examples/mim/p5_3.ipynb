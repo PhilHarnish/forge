{
 "cells": [
  {
   "cell_type": "code",
   "execution_count": 5,
   "metadata": {
    "collapsed": false
   },
   "outputs": [],
   "source": [
    "import forge\n",
    "from puzzle.puzzlepedia import puzzlepedia\n",
    "\n",
    "puzzle = puzzlepedia.parse(\"\"\"\n",
    "name in {Beth, Charles, David, Frank, Jessica, Karen, Taylor}\n",
    "# Juice count in #3.\n",
    "juice in {grapefruit*1, orange*3, prune*1, tomato*2}\n",
    "# Omlet counts in #4, #5.\n",
    "omelet in {green*2, jalapeno*1, mushroom*1, seafood*3}\n",
    "# Pancake counts in #12 and then last two in #10.\n",
    "pancake in {blueberry, buttermilk*2, chocolate*2, pecan*2}\n",
    "bread in {muffin, toast}\n",
    "# Jam counts in #2.\n",
    "jam in {boysenberry*1, grape*1, raspberry*1, strawberry*4}\n",
    "\n",
    "#1: <Sets limits which are implied by dimension definitions.>\n",
    "\n",
    "#2: Regarding 4 strawberry guests.\n",
    "Jessica != strawberry\n",
    "# ...this isn't necessary?\n",
    "all(strawberry[j] == 1 for j in juice)\n",
    "all(strawberry[o] == 1 for o in omelet)\n",
    "\n",
    "#3: Regarding 3 OJ.\n",
    "for p in [buttermilk, chocolate, pecan]:\n",
    "  orange[p] == 1\n",
    "orange != blueberry\n",
    "# FIXME: If Charles gets \"orange\" it leads to an incorrect solution.\n",
    "# The issue is very subtle. See:\n",
    "# https://docs.google.com/spreadsheets/d/16eQ79FXL0GMocV-yvvI4mpVUScklez0a8lbW3U2Oyo4\n",
    "Charles != orange\n",
    "\n",
    "#4: Regarding 3 seafood omelets.\n",
    "seafood.boysenberry == 1\n",
    "seafood.grape == 1\n",
    "seafood.toast == 2\n",
    "\n",
    "#5: Regarding 1 jalapeno omelet, 1 mushroom omelet\n",
    "jalapeno.muffin == 1\n",
    "mushroom.toast == 1\n",
    "\n",
    "#6a: Beth & Taylor had tomato, muffins, ...\n",
    "for n in (Beth, Taylor):\n",
    "  n == tomato\n",
    "  n == muffin\n",
    "#6b: ...and same omelets.\n",
    "for o in omelet:\n",
    "  Beth[o] == Taylor[o]\n",
    "\n",
    "#7:\n",
    "prune != seafood\n",
    "\n",
    "#8:\n",
    "for o in omelet:\n",
    "  Jessica[o] == boysenberry[o]\n",
    "\n",
    "#9:\n",
    "blueberry.raspberry == 1\n",
    "\n",
    "#10:\n",
    "Frank == buttermilk\n",
    "Frank != grapefruit\n",
    "grapefruit.buttermilk == 1\n",
    "\n",
    "#11:\n",
    "Charles == pecan\n",
    "Charles != grape\n",
    "grape.pecan == 1\n",
    "\n",
    "#12: Pecan and chocolate all had different omelets.\n",
    "for o in omelet:\n",
    "  pecan[o] or chocolate[o]\n",
    "\n",
    "#13a: David and Jessica had muffins...\n",
    "David == muffin\n",
    "Jessica == muffin\n",
    "#13b: ...and only had one other category in common (and it wasn't pancakes).\n",
    "sum(David[f] and Jessica[f] for f in [orange, tomato, green, seafood, strawberry]) == 1\n",
    "\n",
    "#14: Beth and Charles agreed in only one category.\n",
    "# Juice: orange*3 or tomato*2?\n",
    "# Omelet: green*2 or seafood*3?\n",
    "# Pancake: buttermilk*2, chocolate*2, pecan*2?\n",
    "# Bread: muffin, toast?\n",
    "# Jam: strawberry*4?\n",
    "sum(Beth[f] and Charles[f] for f in [orange, tomato, green, seafood, buttermilk, chocolate, pecan, muffin, toast, strawberry]) == 1\n",
    "\"\"\")"
   ]
  },
  {
   "cell_type": "code",
   "execution_count": null,
   "metadata": {
    "collapsed": true
   },
   "outputs": [],
   "source": []
  }
 ],
 "metadata": {
  "kernelspec": {
   "display_name": "Python 3",
   "language": "python",
   "name": "python3"
  },
  "language_info": {
   "codemirror_mode": {
    "name": "ipython",
    "version": 3
   },
   "file_extension": ".py",
   "mimetype": "text/x-python",
   "name": "python",
   "nbconvert_exporter": "python",
   "pygments_lexer": "ipython3",
   "version": "3.6.0"
  },
  "widgets": {
   "state": {
    "872435d0c1424d15878db0b43b86c141": {
     "views": [
      {
       "cell_index": 0
      }
     ]
    }
   },
   "version": "1.2.0"
  }
 },
 "nbformat": 4,
 "nbformat_minor": 2
}
