{
 "cells": [
  {
   "cell_type": "code",
   "execution_count": 7,
   "metadata": {
    "collapsed": false
   },
   "outputs": [
    {
     "name": "stdout",
     "output_type": "stream",
     "text": [
      "\n",
      " *\tguilty\tinnocent\t\toverheard\toblivious\t\n",
      "Beth\t0\t1\t\t0\t1\t\n",
      "Charles\t0\t1\t\t0\t1\t\n",
      "David\t0\t1\t\t0\t1\t\n",
      "Frank\t1\t0\t\t0\t1\t\n",
      "Jessica\t1\t0\t\t1\t0\t\n",
      "Karen\t0\t1\t\t1\t0\t\n",
      "Taylor\t0\t1\t\t1\t0\t\n",
      "\n",
      "overheard\t0\t3\t\n",
      "oblivious\t2\t2\t\n",
      "\n",
      "\n",
      " *\tguilty\tinnocent\t\toverheard\toblivious\t\n",
      "Beth\t0\t1\t\t0\t1\t\n",
      "Charles\t0\t1\t\t0\t1\t\n",
      "David\t0\t1\t\t0\t1\t\n",
      "Frank\t1\t0\t\t0\t1\t\n",
      "Jessica\t1\t0\t\t1\t0\t\n",
      "Karen\t0\t1\t\t1\t0\t\n",
      "Taylor\t0\t1\t\t1\t0\t\n",
      "\n",
      "overheard\t1\t2\t\n",
      "oblivious\t1\t3\t\n",
      "\n",
      "\n",
      " *\tguilty\tinnocent\t\toverheard\toblivious\t\n",
      "Beth\t0\t1\t\t0\t1\t\n",
      "Charles\t0\t1\t\t0\t1\t\n",
      "David\t0\t1\t\t0\t1\t\n",
      "Frank\t1\t0\t\t0\t1\t\n",
      "Jessica\t1\t0\t\t1\t0\t\n",
      "Karen\t0\t1\t\t1\t0\t\n",
      "Taylor\t0\t1\t\t1\t0\t\n",
      "\n",
      "overheard\t2\t1\t\n",
      "oblivious\t0\t4\t\n",
      "\n"
     ]
    },
    {
     "name": "stderr",
     "output_type": "stream",
     "text": [
      "Widget Javascript not detected.  It may not be installed properly. Did you enable the widgetsnbextension? If not, then run \"jupyter nbextension enable --py --sys-prefix widgetsnbextension\"\n"
     ]
    }
   ],
   "source": [
    "import forge\n",
    "from puzzle.puzzlepedia import puzzlepedia\n",
    "\n",
    "puzzle = puzzlepedia.parse(\"\"\"\n",
    "name in {Beth, Charles, David, Frank, Jessica, Karen, Taylor}\n",
    "crime in {guilty*2, innocent*5}\n",
    "plans in {overheard*3, oblivious*4}\n",
    "\n",
    "#1: Timeline setup.\n",
    "\n",
    "#2: 2 criminals. (Implied by dimensions.)\n",
    "\n",
    "#3: Only one guilty individual overheard plans.\n",
    "sum(n.guilty and n.overheard for n in name) == 1\n",
    "\n",
    "#4:\n",
    "Beth.guilty | Charles.guilty | Jessica.guilty | Karen.guilty\n",
    "\n",
    "#5:\n",
    "Charles.guilty | Frank.guilty | Karen.guilty | Taylor.guilty\n",
    "\n",
    "#6:\n",
    "Beth.guilty | Frank.guilty | Karen.guilty | Taylor.guilty\n",
    "if Karen == guilty: David == innocent\n",
    "\n",
    "#7:\n",
    "if Beth == guilty:\n",
    "  Karen == innocent\n",
    "  Taylor == innocent\n",
    "if Charles == guilty:\n",
    "  Taylor == innocent\n",
    "if Karen == guilty:\n",
    "  Frank == innocent\n",
    "  Charles == innocent\n",
    "\n",
    "#8, 9, 10, 11: Pointless.\n",
    "\n",
    "#12, 13, 14:\n",
    "Jessica == overheard\n",
    "Karen == overheard\n",
    "Taylor == overheard\n",
    "\"\"\")\n"
   ]
  },
  {
   "cell_type": "code",
   "execution_count": null,
   "metadata": {
    "collapsed": true
   },
   "outputs": [],
   "source": []
  }
 ],
 "metadata": {
  "kernelspec": {
   "display_name": "Python 3",
   "language": "python",
   "name": "python3"
  },
  "widgets": {
   "state": {
    "522a27ebdab5484ca3d3a32fbc3b5e5c": {
     "views": [
      {
       "cell_index": 0
      }
     ]
    }
   },
   "version": "1.2.0"
  }
 },
 "nbformat": 4,
 "nbformat_minor": 2
}
