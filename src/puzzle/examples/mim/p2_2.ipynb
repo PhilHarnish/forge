{
 "cells": [
  {
   "cell_type": "code",
   "execution_count": 24,
   "metadata": {
    "collapsed": false
   },
   "outputs": [],
   "source": [
    "import forge\n",
    "from puzzle.puzzlepedia import puzzlepedia\n",
    "\n",
    "puzzle = puzzlepedia.parse(\"\"\"\n",
    "place in range(1, 7 + 1)\n",
    "name in {Beth, Charles, David, Frank, Jessica, Karen, Taylor}\n",
    "country in {AustriaHungary, England, France, Germany, Italy, Russia, Turkey}\n",
    "\n",
    "def gap(a, n, b):\n",
    "  return all(a[i] == b[i + n] for i in range(1, 7 - n + 1))\n",
    "\n",
    "#1: Russia did better than Germany did better than Turkey.\n",
    "Russia.place < Germany.place < Turkey.place\n",
    "\n",
    "#2:\n",
    "AustriaHungary.place < England.place < France.place < Italy.place\n",
    "\n",
    "#3:\n",
    "Beth.place < David.place < Karen.place < Charles.place\n",
    "\n",
    "#4:\n",
    "Frank.place < Taylor.place < Jessica.place\n",
    "\n",
    "#5:\n",
    "gap(David, 2, Italy)\n",
    "gap(Russia, 2, David)\n",
    "\n",
    "#6:\n",
    "gap(England, 2, Karen)\n",
    "gap(Frank, 2, England)\n",
    "\n",
    "#7a: Germany is not 1st or 2nd...\n",
    "not Germany[1]\n",
    "not Germany[2]\n",
    "#7b: ... +/- 1 from Taylor.\n",
    "gap(Germany, 1, Taylor) or gap(Taylor, 1, Germany)\n",
    "\n",
    "#8:\n",
    "Jessica != Turkey\n",
    "\"\"\")"
   ]
  },
  {
   "cell_type": "code",
   "execution_count": null,
   "metadata": {
    "collapsed": true
   },
   "outputs": [],
   "source": []
  }
 ],
 "metadata": {
  "kernelspec": {
   "display_name": "Python 3",
   "language": "python",
   "name": "python3"
  },
  "language_info": {
   "codemirror_mode": {
    "name": "ipython",
    "version": 3
   },
   "file_extension": ".py",
   "mimetype": "text/x-python",
   "name": "python",
   "nbconvert_exporter": "python",
   "pygments_lexer": "ipython3",
   "version": "3.6.0"
  },
  "widgets": {
   "state": {
    "b3d87e366c944bf596b20a855e8626aa": {
     "views": [
      {
       "cell_index": 0
      }
     ]
    }
   },
   "version": "1.2.0"
  }
 },
 "nbformat": 4,
 "nbformat_minor": 2
}
