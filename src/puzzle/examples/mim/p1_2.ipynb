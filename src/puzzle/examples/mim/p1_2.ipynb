{
 "cells": [
  {
   "cell_type": "code",
   "execution_count": 1,
   "metadata": {
    "collapsed": false
   },
   "outputs": [
    {
     "name": "stderr",
     "output_type": "stream",
     "text": [
      "Widget Javascript not detected.  It may not be installed properly. Did you enable the widgetsnbextension? If not, then run \"jupyter nbextension enable --py --sys-prefix widgetsnbextension\"\n"
     ]
    }
   ],
   "source": [
    "import forge\n",
    "from puzzle.puzzlepedia import puzzlepedia\n",
    "\n",
    "puzzle = puzzlepedia.parse(\"\"\"\n",
    "(name, hand) in ({Beth, Charles, David, Frank, Jessica, Karen, Taylor}, {1, 2})\n",
    "suit in {Club*4, Diamond*4, Heart*3, Spade*3}\n",
    "\n",
    "def has(person, suit):\n",
    "  a, b = person\n",
    "  return a[suit] + b[suit]\n",
    "  \n",
    "def hand(person, suit1, suit2):\n",
    "  a, b = person\n",
    "  return (a[suit1] and b[suit2]) or (a[suit2] and b[suit1])\n",
    "\n",
    "(hand(name.Beth, club, spade)) or (hand(name.Beth, heart, spade))\n",
    "(hand(name.Charles, diamond, heart)) or (has(name.Charles, spade) >= 1)\n",
    "(hand(name.David, club, spade)) or (has(name.David, spade) == 1)\n",
    "(hand(name.Frank, club, heart)) or (hand(name.Frank, club, spade))\n",
    "(hand(name.Jessica, club, spade)) or (\n",
    "    (has(name.Jessica, spade) == 1) and (has(name.Jessica, diamond) == 0))\n",
    "(has(name.Karen, diamond) == 0) or (has(name.Karen, spade) >= 1)\n",
    "(hand(name.Taylor, club, heart)) or (\n",
    "    has(name.Taylor, club) == 2 or\n",
    "    has(name.Taylor, diamond) == 2 or\n",
    "    has(name.Taylor, heart) == 2 or\n",
    "    has(name.Taylor, spade) == 2\n",
    ")\n",
    "\"\"\")\n",
    "\n"
   ]
  },
  {
   "cell_type": "code",
   "execution_count": null,
   "metadata": {
    "collapsed": true
   },
   "outputs": [],
   "source": []
  }
 ],
 "metadata": {
  "kernelspec": {
   "display_name": "Python 3",
   "language": "python",
   "name": "python3"
  },
  "language_info": {
   "codemirror_mode": {
    "name": "ipython",
    "version": 3
   },
   "file_extension": ".py",
   "mimetype": "text/x-python",
   "name": "python",
   "nbconvert_exporter": "python",
   "pygments_lexer": "ipython3",
   "version": "3.6.0"
  },
  "widgets": {
   "state": {
    "89e65df4a44c4265bae0acce3390aae6": {
     "views": [
      {
       "cell_index": 0
      }
     ]
    }
   },
   "version": "1.2.0"
  }
 },
 "nbformat": 4,
 "nbformat_minor": 2
}
