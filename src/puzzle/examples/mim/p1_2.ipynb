{
 "cells": [
  {
   "cell_type": "code",
   "execution_count": 25,
   "metadata": {
    "collapsed": false
   },
   "outputs": [],
   "source": [
    "import forge\n",
    "from puzzle.puzzlepedia import puzzlepedia\n",
    "\n",
    "puzzle = puzzlepedia.parse(\"\"\"\n",
    "name in {Beth1, Beth2, Charles1, Charles2, David1, David2, Frank1, Frank2, Jessica1, Jessica2, Karen1, Karen2, Taylor1, Taylor2}\n",
    "# Setup: Clubs x4, Diamonds x4, Hearts x3, Spades x3.\n",
    "suit in {Club, Club, Club, Club, Diamond, Diamond, Diamond, Diamond, Heart, Heart, Heart, Spade, Spade, Spade}\n",
    "\n",
    "b = [Beth1, Beth2]\n",
    "c = [Charles1, Charles2]\n",
    "d = [David1, David2]\n",
    "f = [Frank1, Frank2]\n",
    "j = [Jessica1, Jessica2]\n",
    "k = [Karen1, Karen2]\n",
    "t = [Taylor1, Taylor2]\n",
    "\n",
    "def has(person, suit):\n",
    "  a, b = person\n",
    "  return a[suit] + b[suit]\n",
    "  \n",
    "def hand(person, suit1, suit2):\n",
    "  a, b = person\n",
    "  return (a[suit1] and b[suit2]) or (a[suit2] and b[suit1])\n",
    "\n",
    "(hand(b, club, spade)) or (hand(b, heart, spade))\n",
    "(hand(c, diamond, heart)) or (has(c, spade) >= 1)\n",
    "(hand(d, club, spade)) or (has(d, spade) == 1)\n",
    "(hand(f, club, heart)) or (hand(f, club, spade))\n",
    "(hand(j, club, spade)) or ((has(j, spade) == 1) and (has(j, diamond) == 0))\n",
    "(has(k, diamond) == 0) or (has(k, spade) >= 1)\n",
    "(hand(t, club, heart)) or (has(t, club) == 2 or has(t, diamond) == 2 or has(t, heart) == 2 or has(t, spade) == 2)\n",
    "\"\"\")\n",
    "\n"
   ]
  },
  {
   "cell_type": "code",
   "execution_count": null,
   "metadata": {
    "collapsed": true
   },
   "outputs": [],
   "source": []
  }
 ],
 "metadata": {
  "kernelspec": {
   "display_name": "Python 3",
   "language": "python",
   "name": "python3"
  },
  "language_info": {
   "codemirror_mode": {
    "name": "ipython",
    "version": 3
   },
   "file_extension": ".py",
   "mimetype": "text/x-python",
   "name": "python",
   "nbconvert_exporter": "python",
   "pygments_lexer": "ipython3",
   "version": "3.6.0"
  },
  "widgets": {
   "state": {
    "2ca0b9a68e6648598d2c78471a4ee213": {
     "views": [
      {
       "cell_index": 0
      }
     ]
    }
   },
   "version": "1.2.0"
  }
 },
 "nbformat": 4,
 "nbformat_minor": 2
}
