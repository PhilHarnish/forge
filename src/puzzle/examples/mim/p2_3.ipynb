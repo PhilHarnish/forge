{
 "cells": [
  {
   "cell_type": "code",
   "execution_count": 29,
   "metadata": {
    "collapsed": false
   },
   "outputs": [
    {
     "name": "stderr",
     "output_type": "stream",
     "text": [
      "Widget Javascript not detected.  It may not be installed properly. Did you enable the widgetsnbextension? If not, then run \"jupyter nbextension enable --py --sys-prefix widgetsnbextension\"\n"
     ]
    }
   ],
   "source": [
    "import forge\n",
    "from puzzle.puzzlepedia import puzzlepedia\n",
    "\n",
    "puzzle = puzzlepedia.parse(\"\"\"\n",
    "name in {Beth, Charles, David, Frank, Jessica, Karen, Taylor}\n",
    "magazine in {CI, FF, FW, FD, HW, PS, VH}\n",
    "time in {1, 2, 3, 4}\n",
    "crime in {innocent, guilty}\n",
    "\n",
    "#1a: Killer acted alone.\n",
    "sum(n.guilty for n in name) == 1\n",
    "\n",
    "#1b: BFJT sub to CI, FF, FW, VH\n",
    "bfjt = [Beth, Frank, Jessica, Taylor]\n",
    "subs = [CI, FF, FW, VH]\n",
    "for n in bfjt:\n",
    "  any(n[s] for s in subs)\n",
    "\n",
    "#2: one of these is true\n",
    "(Charles == FD) or (David == HW) or (Karen == PS)\n",
    "(Beth == CI) or (Frank == FF) or (Jessica == VH) or (Taylor == FW)\n",
    "\n",
    "#3a: max 2 people per time\n",
    "for i in time:\n",
    "  sum(n[i] for n in name) <= 2\n",
    "\n",
    "#3b: Knife @ 2:30 - 3:30\n",
    "for n in name:\n",
    "  if n.guilty: n == 3\n",
    "\n",
    "#4:\n",
    "if Beth == FF: Taylor == VH\n",
    "if Taylor == VH: Karen != HW\n",
    "\n",
    "#5:\n",
    "if Charles == PS: Karen == HW\n",
    "\n",
    "#6:\n",
    "if Taylor == FF: Jessica == CI\n",
    "\n",
    "#7:\n",
    "(Charles == PS) or (Jessica == CI) or (Taylor == FF)\n",
    "\n",
    "#8:\n",
    "if Beth.innocent:\n",
    "  Beth == 4\n",
    "  HW == 4\n",
    "\n",
    "#9:\n",
    "if Charles.innocent:\n",
    "  Charles == 4\n",
    "  FW == 4\n",
    "\n",
    "#10:\n",
    "if David.innocent:\n",
    "  David == 4\n",
    "  FD == 4\n",
    "\n",
    "#11:\n",
    "if Frank.innocent:\n",
    "  Frank == 2\n",
    "\n",
    "#12:\n",
    "if Jessica.innocent:\n",
    "  Jessica == 3\n",
    "  FW != 3\n",
    "  HW != 3\n",
    "\n",
    "#13:\n",
    "if Karen.innocent:\n",
    "  Karen == 2\n",
    "\n",
    "#14:\n",
    "if Taylor.innocent:\n",
    "  Taylor == 1\n",
    "\"\"\")"
   ]
  },
  {
   "cell_type": "code",
   "execution_count": null,
   "metadata": {
    "collapsed": true
   },
   "outputs": [],
   "source": []
  }
 ],
 "metadata": {
  "kernelspec": {
   "display_name": "Python 3",
   "language": "python",
   "name": "python3"
  },
  "language_info": {
   "codemirror_mode": {
    "name": "ipython",
    "version": 3
   },
   "file_extension": ".py",
   "mimetype": "text/x-python",
   "name": "python",
   "nbconvert_exporter": "python",
   "pygments_lexer": "ipython3",
   "version": "3.6.0"
  },
  "widgets": {
   "state": {
    "a036a12895864f768b587fdc588098e9": {
     "views": [
      {
       "cell_index": 0
      }
     ]
    }
   },
   "version": "1.2.0"
  }
 },
 "nbformat": 4,
 "nbformat_minor": 2
}
