{
 "cells": [
  {
   "cell_type": "code",
   "execution_count": 19,
   "metadata": {
    "collapsed": false
   },
   "outputs": [
    {
     "name": "stderr",
     "output_type": "stream",
     "text": [
      "Widget Javascript not detected.  It may not be installed properly. Did you enable the widgetsnbextension? If not, then run \"jupyter nbextension enable --py --sys-prefix widgetsnbextension\"\n"
     ]
    }
   ],
   "source": [
    "import forge\n",
    "from puzzle.puzzlepedia import puzzlepedia\n",
    "\n",
    "puzzle = puzzlepedia.parse(\"\"\"\n",
    "date in range(1, 11+1)\n",
    "name in {Beth, Charles, David, Frank, Jessica, Karen, Taylor, Nolan, Vacant*3}\n",
    "\n",
    "#1a: Never unoccupied 2 in a row...\n",
    "# For every pair of days at least one day is not vacant.\n",
    "for first, second in zip(range(1, 10+1), range(2, 11+1)):\n",
    "  Vacant[first] + Vacant[second] != 2\n",
    "#1b: ...nor first or last.\n",
    "Vacant[1] == False\n",
    "Vacant[11] == False\n",
    "\n",
    "#2:\n",
    "Beth.date == Karen.date + 1\n",
    "Jessica.date == Beth.date + 1\n",
    "\n",
    "#3:\n",
    "Frank.date == David.date + 1\n",
    "Taylor.date == Frank.date + 1\n",
    "\n",
    "#4:\n",
    "Charles.date > Frank.date\n",
    "Charles.date < Nolan.date\n",
    "\n",
    "#5:\n",
    "not Karen[1]\n",
    "for d in range(3, 11+1):\n",
    "  if Karen[d]: Vacant[d - 1] and not any(Vacant[x] for x in range(1, d - 1))\n",
    "\"\"\")\n"
   ]
  },
  {
   "cell_type": "code",
   "execution_count": null,
   "metadata": {
    "collapsed": true
   },
   "outputs": [],
   "source": []
  }
 ],
 "metadata": {
  "kernelspec": {
   "display_name": "Python 3",
   "language": "python",
   "name": "python3"
  },
  "language_info": {
   "codemirror_mode": {
    "name": "ipython",
    "version": 3
   },
   "file_extension": ".py",
   "mimetype": "text/x-python",
   "name": "python",
   "nbconvert_exporter": "python",
   "pygments_lexer": "ipython3",
   "version": "3.6.0"
  },
  "widgets": {
   "state": {
    "98b4f21d35054f6d9233c9fa991cf960": {
     "views": [
      {
       "cell_index": 0
      }
     ]
    }
   },
   "version": "1.2.0"
  }
 },
 "nbformat": 4,
 "nbformat_minor": 2
}
