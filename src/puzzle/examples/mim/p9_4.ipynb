{
 "cells": [
  {
   "cell_type": "code",
   "execution_count": 9,
   "metadata": {
    "collapsed": true
   },
   "outputs": [],
   "source": [
    "import forge\n",
    "from puzzle.puzzlepedia import puzzlepedia\n",
    "\n",
    "puzzle = puzzlepedia.parse(\"\"\"\n",
    "location in {boathouse, bridge, cottage, lighthouse, lookout, mansion, hut, well, pond, windmill}\n",
    "item in {yes * 5, no * 5}\n",
    "\n",
    "#1\n",
    "(cottage.yes and windmill.no) or (cottage.yes and windmill.yes)\n",
    "\n",
    "#2\n",
    "(pond.yes and cottage.yes) or (well.yes)\n",
    "\n",
    "#3\n",
    "(lighthouse.yes and pond.yes) or (bridge.yes and lookout.yes and boathouse.no)\n",
    "\n",
    "#4\n",
    "(\n",
    "  (boathouse.yes + pond.yes + windmill.yes) == 1\n",
    "  or\n",
    "  (bridge.yes + hut.yes + well.yes) == 1\n",
    ")\n",
    "\n",
    "#5\n",
    "(\n",
    "  (lighthouse.yes + mansion.yes + pond.yes) == 2\n",
    "  or\n",
    "  (bridge.yes + lookout.yes + windmill.yes) == 2\n",
    ")\n",
    "\n",
    "#6\n",
    "(\n",
    "  (lighthouse.yes + mansion.yes + pond.yes) == 0\n",
    "  or\n",
    "  (bridge.yes + lookout.yes + windmill.yes) == 0\n",
    ")\n",
    "\"\"\")"
   ]
  },
  {
   "cell_type": "code",
   "execution_count": null,
   "metadata": {
    "collapsed": true
   },
   "outputs": [],
   "source": []
  }
 ],
 "metadata": {
  "kernelspec": {
   "display_name": "Python 3",
   "language": "python",
   "name": "python3"
  },
  "language_info": {
   "codemirror_mode": {
    "name": "ipython",
    "version": 3
   },
   "file_extension": ".py",
   "mimetype": "text/x-python",
   "name": "python",
   "nbconvert_exporter": "python",
   "pygments_lexer": "ipython3",
   "version": "3.6.0"
  },
  "widgets": {
   "state": {
    "5cfc0197b1ca4eeea9b2740d0c048c4f": {
     "views": [
      {
       "cell_index": 0
      }
     ]
    }
   },
   "version": "1.2.0"
  }
 },
 "nbformat": 4,
 "nbformat_minor": 2
}
