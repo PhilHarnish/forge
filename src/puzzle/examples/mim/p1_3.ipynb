{
 "cells": [
  {
   "cell_type": "code",
   "execution_count": 4,
   "metadata": {
    "collapsed": false
   },
   "outputs": [],
   "source": [
    "import forge\n",
    "from puzzle.puzzlepedia import puzzlepedia\n",
    "\n",
    "puzzle = puzzlepedia.parse(\"\"\"\n",
    "name in {Beth, Charles, David, Frank, Jessica, Karen, Taylor}\n",
    "job in {attorny, banker, composer, decorator, entrepreneur, filmmaker, gerontologist}\n",
    "start in {boathouse, cottage, garden, lighthouse, mansion, pond, windmill}\n",
    "status in {crime, innocent}\n",
    "\n",
    "# Setup: only one crime was committed.\n",
    "sum([n.crime for n in name]) == 1\n",
    "\n",
    "#2\n",
    "boathouse.crime or cottage.crime or lighthouse.crime or windmill.crime\n",
    "\n",
    "#4\n",
    "if entrepreneur.innocent:\n",
    "  not mansion.crime\n",
    "\n",
    "#5\n",
    "not gerontologist.crime\n",
    "\n",
    "#6\n",
    "Karen == decorator\n",
    "\n",
    "#7\n",
    "entrepreneur == cottage or entrepreneur == mansion or entrepreneur == pond\n",
    "filmmaker == cottage or filmmaker == mansion or filmmaker == pond\n",
    "gerontologist == cottage or gerontologist == mansion or gerontologist == pond\n",
    "\n",
    "#8\n",
    "if charles.crime:\n",
    "  not cottage.crime\n",
    "\n",
    "#9\n",
    "if beth.innocent:\n",
    "  beth == banker\n",
    "  beth == windmill\n",
    "\n",
    "#10\n",
    "if charles.innocent:\n",
    "  charles == gerontologist\n",
    "  not charles.mansion\n",
    "  not charles.pond\n",
    "\n",
    "#11\n",
    "if david.innocent:\n",
    "  not boathouse.crime\n",
    "\n",
    "#12\n",
    "if frank.innocent:\n",
    "  frank != entrepreneur\n",
    "  entrepreneur != mansion\n",
    "\n",
    "#13\n",
    "if jessica.innocent:\n",
    "  mansion.innocent\n",
    "  pond.innocent\n",
    "  jessica != mansion\n",
    "  jessica != pond\n",
    "\n",
    "#14\n",
    "if karen.innocent:\n",
    "  karen == lighthouse\n",
    "  boathouse == innocent\n",
    "  mansion == innocent\n",
    "\n",
    "#15\n",
    "if taylor.innocent:\n",
    "  taylor == attorny\n",
    "  taylor == garden\n",
    "  if windmill.crime:\n",
    "    jessica.crime\n",
    "\"\"\")\n"
   ]
  },
  {
   "cell_type": "code",
   "execution_count": null,
   "metadata": {
    "collapsed": true
   },
   "outputs": [],
   "source": []
  }
 ],
 "metadata": {
  "kernelspec": {
   "display_name": "Python 3",
   "language": "python",
   "name": "python3"
  },
  "language_info": {
   "codemirror_mode": {
    "name": "ipython",
    "version": 3
   },
   "file_extension": ".py",
   "mimetype": "text/x-python",
   "name": "python",
   "nbconvert_exporter": "python",
   "pygments_lexer": "ipython3",
   "version": "3.6.0"
  },
  "widgets": {
   "state": {
    "931db86c97684fac8f4e1c68118a52e7": {
     "views": [
      {
       "cell_index": 0
      }
     ]
    }
   },
   "version": "1.2.0"
  }
 },
 "nbformat": 4,
 "nbformat_minor": 2
}
