{
 "cells": [
  {
   "cell_type": "code",
   "execution_count": 1,
   "metadata": {
    "collapsed": false
   },
   "outputs": [],
   "source": [
    "import forge\n",
    "from puzzle.puzzlepedia import puzzlepedia\n",
    "\n",
    "puzzle = puzzlepedia.parse(\"\"\"\n",
    "name in {Beth, Charles, David, Frank, Jessica, Karen, Taylor, empty*8}\n",
    "(room, floor) in ({A, B, C, D, E}, {1, 2, 3})\n",
    "\n",
    "def on_floor(n, floor_number):\n",
    "  return sum(n[f] for f in floor[floor_number]) == 1\n",
    "\n",
    "def floor_n(n):\n",
    "  return sum(n[f] for f in floor[1]) + 2*sum(n[f] for f in floor[2]) + 3*sum(n[f] for f in floor[3])\n",
    "\n",
    "#1: 8 of the 15 rooms are empty.\n",
    "# (Implicit with \"name\" definition above with 8 \"empty\" names.)\n",
    "\n",
    "#2: 2+ people per floor.\n",
    "for f in [floor[1], floor[2], floor[3]]:\n",
    "  sum(not r.empty for r in f) >= 2\n",
    "\n",
    "#3: Some people share closets with guests, sorta.\n",
    "closet_neighbors = [Beth, David, Jessica, Taylor]\n",
    "# NB: No closet linking 3D/E3.\n",
    "closet_neighbor_map = {\n",
    "  A1: B1,\n",
    "  A2: B2,\n",
    "  A3: B3,\n",
    "}\n",
    "closet_neighbor_banned_rooms = [\n",
    "  C1, C2, C3,\n",
    "  D1, D2, D3,\n",
    "  E1, E2, E3,\n",
    "]\n",
    "# Ensure, for example, that if Beth is in \"A1\" then \"B1\" is not empty.\n",
    "for n in closet_neighbors:\n",
    "  for a, b in closet_neighbor_map.items():\n",
    "    if n[a]: not b.empty\n",
    "    if n[b]: not a.empty\n",
    "  for a in closet_neighbor_banned_rooms:\n",
    "    n[a] == False\n",
    "\n",
    "#4a: Karen is next to someone with a closet crawlspace.\n",
    "# Map of rooms-with-crawlspace-closets -> neighbors.\n",
    "closet_crawlspaces = {\n",
    "  C1: [A1, B1],\n",
    "  C2: [A2, B2],\n",
    "  C3: [A3, B3],\n",
    "  E3: [D3],\n",
    "}\n",
    "karen_eligible = [A1, B1, A2, B2, A3, B3, D3]\n",
    "# Karen needs to be in one of those closet neighbor rooms.\n",
    "sum(Karen[n] for n in karen_eligible) == 1\n",
    "# And the candidate room will need to be occupied.\n",
    "for candidate, neighbors in closet_crawlspaces.items():\n",
    "  if sum(Karen[n] for n in neighbors): not candidate.empty\n",
    "\n",
    "#4b: Two guests have closets near crawl spaces.\n",
    "sum(not c.empty for c in closet_crawlspaces) == 2\n",
    "\n",
    "#5: Beth and Jessica are on separate floors.\n",
    "floor_n(Beth) != floor_n(Jessica)\n",
    "\n",
    "#6:\n",
    "def floor_addr(n):\n",
    "  return (\n",
    "      1*n.D1 + 2*n.B1 + 3*n.C1 + 4*n.E1 +\n",
    "      5*n.E2 + 6*n.C2 + 7*n.B2 + 8*n.D2 + 9*n.A2 +\n",
    "      10*n.A3 + 11*n.D3 + 12*n.B3 + 13*n.C3 + 14*n.E3\n",
    "  )\n",
    "\n",
    "# For some reason the \"abs(...) - 1\" expression does not work!\n",
    "def floor_distance(a, b):\n",
    "  if floor_addr(a) > floor_addr(b):\n",
    "    result = floor_addr(a) - floor_addr(b)\n",
    "  else:\n",
    "    result = floor_addr(b) - floor_addr(a)\n",
    "  return result - 1\n",
    "\n",
    "floor_distance(Beth, Charles) * 2 == floor_distance(Jessica, Karen)\n",
    "floor_distance(Beth, Charles) > 0\n",
    "\n",
    "#7: David is one floor higher than Frank.\n",
    "floor_n(David) == floor_n(Frank) + 1\n",
    "\n",
    "#8\n",
    "D1.empty + D2.empty + D3.empty < 3\n",
    "\"\"\")\n"
   ]
  },
  {
   "cell_type": "code",
   "execution_count": null,
   "metadata": {
    "collapsed": true
   },
   "outputs": [],
   "source": []
  }
 ],
 "metadata": {
  "kernelspec": {
   "display_name": "Python 3",
   "language": "python",
   "name": "python3"
  },
  "language_info": {
   "codemirror_mode": {
    "name": "ipython",
    "version": 3
   },
   "file_extension": ".py",
   "mimetype": "text/x-python",
   "name": "python",
   "nbconvert_exporter": "python",
   "pygments_lexer": "ipython3",
   "version": "3.6.0"
  },
  "widgets": {
   "state": {
    "1e7bfa790a0b46c5ab58066143c9bb87": {
     "views": [
      {
       "cell_index": 0
      }
     ]
    }
   },
   "version": "1.2.0"
  }
 },
 "nbformat": 4,
 "nbformat_minor": 2
}
