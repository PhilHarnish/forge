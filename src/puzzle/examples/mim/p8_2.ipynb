{
 "cells": [
  {
   "cell_type": "code",
   "execution_count": 11,
   "metadata": {
    "collapsed": false
   },
   "outputs": [],
   "source": [
    "import forge\n",
    "from puzzle.puzzlepedia import puzzlepedia\n",
    "\n",
    "puzzle = puzzlepedia.parse(\"\"\"\n",
    "name in {Beth, Charles, David, Frank, Jessica, Karen, Taylor}\n",
    "occupation in {orn, paleo, radio, seismo, toxic, vulcano, zoo}\n",
    "horoscope in {Aquarius, Gemini, Libra, Pisces, Scorpio, Taurus, Virgo}\n",
    "rooms in {Library, Lounge*2, Big, Small, Sitting, Outdoors}\n",
    "crime in {guilty, innocent*6}\n",
    "\n",
    "first_floor = [Lounge, Library]\n",
    "second_floor = [Small, Big, Sitting]\n",
    "\n",
    "#1: Setup occupation.\n",
    "\n",
    "#2: Setup horoscopes.\n",
    "\n",
    "#3a:\n",
    "Taylor != Pisces\n",
    "Taylor == Outdoors\n",
    "{Library, Sitting} == {seismo, Virgo}\n",
    "Seismo != Virgo\n",
    "\n",
    "#4:\n",
    "{toxic, vulcano, zoo} == {Aquarius, Pisces, Scorpio}\n",
    "\n",
    "#5:\n",
    "{Charles, Gemini, Taurus} == {Big, Small, Sitting}\n",
    "{Charles} != {Gemini, Taurus}\n",
    "\n",
    "#6:\n",
    "vulcano != sitting\n",
    "paleo != guilty\n",
    "\n",
    "#7: First floor is guilty. Second floor isn't.\n",
    "Lounge.guilty or Library.guilty\n",
    "\n",
    "#8:\n",
    "orn != small\n",
    "taurus != small\n",
    "\n",
    "#9:\n",
    "Beth == Lounge\n",
    "Beth != Libra\n",
    "Libra == Lounge\n",
    "Beth != guilty\n",
    "Libra != guilty\n",
    "Beth != Aquarius\n",
    "\n",
    "#10:\n",
    "paleo != Libra\n",
    "Jessica != Libra\n",
    "\n",
    "#11:\n",
    "David != library\n",
    "David != Small\n",
    "David != Outdoors\n",
    "David != zoo\n",
    "zoo != Outdoors\n",
    "David != vulcano\n",
    "\n",
    "#12:\n",
    "Frank != vulcano\n",
    "Beth != vulcano\n",
    "Taylor != vulcano\n",
    "\n",
    "#13:\n",
    "Jessica != Aquarius\n",
    "Jessica != Virgo\n",
    "Jessica != Small\n",
    "Small != Aquarius\n",
    "Small != Virgo\n",
    "\n",
    "#14:\n",
    "Karen != seismo\n",
    "Karen != vulcano\n",
    "\n",
    "#15:\n",
    "radio != Karen\n",
    "radio != Library\n",
    "Karen != Library\n",
    "Taylor != Aquarius\n",
    "\"\"\")"
   ]
  },
  {
   "cell_type": "code",
   "execution_count": null,
   "metadata": {
    "collapsed": true
   },
   "outputs": [],
   "source": []
  }
 ],
 "metadata": {
  "kernelspec": {
   "display_name": "Python 3",
   "language": "python",
   "name": "python3"
  },
  "language_info": {
   "codemirror_mode": {
    "name": "ipython",
    "version": 3
   },
   "file_extension": ".py",
   "mimetype": "text/x-python",
   "name": "python",
   "nbconvert_exporter": "python",
   "pygments_lexer": "ipython3",
   "version": "3.6.0"
  },
  "widgets": {
   "state": {
    "f737ad416d634a18ad4842391aeb449c": {
     "views": [
      {
       "cell_index": 0
      }
     ]
    }
   },
   "version": "1.2.0"
  }
 },
 "nbformat": 4,
 "nbformat_minor": 2
}
