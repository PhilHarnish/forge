{
 "cells": [
  {
   "cell_type": "code",
   "execution_count": 19,
   "metadata": {
    "collapsed": false
   },
   "outputs": [],
   "source": [
    "import forge\n",
    "from puzzle.puzzlepedia import puzzlepedia\n",
    "\n",
    "puzzle = puzzlepedia.parse(\"\"\"\n",
    "name in {Alistair, Evelyn, Grant, Lyle, Molly, Sandy, Vacant}\n",
    "number in range(1, 7+1)\n",
    "\n",
    "floors = [\n",
    "  [],  # None in basement.\n",
    "  [1, 2],\n",
    "  [3, 4, 5, 6, 7],\n",
    "  [], # None on 3rd floor.\n",
    "]\n",
    "linked_closets = {\n",
    "  1: 2,\n",
    "  3: 4,\n",
    "  6: 7,\n",
    "}\n",
    "under_room = {\n",
    "  1: 3,\n",
    "  2: 4,\n",
    "}\n",
    "\n",
    "def floor(n):\n",
    "  # n[1], n[2] return \"1\", else return \"2\".\n",
    "  return 1 + (not (n[1] or n[2]))\n",
    "\n",
    "#1:\n",
    "floor(Alistair) != floor(Evelyn)\n",
    "\n",
    "#2: Grant and Lyle have adjacent closets.\n",
    "for room1, room2 in linked_closets.items():\n",
    "  (Grant == room1) == (Lyle == room2)\n",
    "  (Grant == room2) == (Lyle == room1)\n",
    "\n",
    "#3: Sandy is above or below Lyle.\n",
    "any(Lyle[n] for n in list(under_room.keys()) + list(under_room.values()))\n",
    "for under, above in under_room.items():\n",
    "  (Lyle == under) == (Sandy == above)\n",
    "  (Sandy == under) == (Lyle == above)\n",
    "\n",
    "#4: Molly has an adjacent closet with Vacant.\n",
    "for room1, room2 in linked_closets.items():\n",
    "  (Molly == room1) == (Vacant == room2)\n",
    "  (Molly == room2) == (Vacant == room1)\n",
    "\n",
    "#5:\n",
    "Alistair.number + Sandy.number == Evelyn.number + Molly.number\n",
    "\"\"\")"
   ]
  },
  {
   "cell_type": "code",
   "execution_count": null,
   "metadata": {
    "collapsed": true
   },
   "outputs": [],
   "source": []
  }
 ],
 "metadata": {
  "kernelspec": {
   "display_name": "Python 3",
   "language": "python",
   "name": "python3"
  },
  "language_info": {
   "codemirror_mode": {
    "name": "ipython",
    "version": 3
   },
   "file_extension": ".py",
   "mimetype": "text/x-python",
   "name": "python",
   "nbconvert_exporter": "python",
   "pygments_lexer": "ipython3",
   "version": "3.6.0"
  },
  "widgets": {
   "state": {
    "88d31afc1a784ce287a4add8a5cd8d46": {
     "views": [
      {
       "cell_index": 0
      }
     ]
    }
   },
   "version": "1.2.0"
  }
 },
 "nbformat": 4,
 "nbformat_minor": 2
}
