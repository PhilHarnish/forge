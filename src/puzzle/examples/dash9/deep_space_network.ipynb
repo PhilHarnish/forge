{
 "cells": [
  {
   "cell_type": "code",
   "execution_count": null,
   "metadata": {
    "collapsed": false
   },
   "outputs": [],
   "source": [
    "import forge\n",
    "from puzzle.puzzlepedia import puzzlepedia\n",
    "\n",
    "puzzle = puzzlepedia.parse(\"\"\"\n",
    "lawasnted\n",
    "blbaocarkd\n",
    "wofirrkes\n",
    "ghorpaspers\n",
    "palianre\n",
    "ribveedr\n",
    "braoiwn\n",
    "olorverd\n",
    "wpohoilrl\n",
    "\"\"\")"
   ]
  },
  {
   "cell_type": "code",
   "execution_count": 2,
   "metadata": {
    "collapsed": false
   },
   "outputs": [],
   "source": [
    "puzzlepedia.interact_with(puzzle)"
   ]
  },
  {
   "cell_type": "code",
   "execution_count": 3,
   "metadata": {
    "collapsed": true
   },
   "outputs": [],
   "source": [
    "next_stage = puzzle.get_next_stage()\n",
    "puzzlepedia.interact_with(next_stage)"
   ]
  },
  {
   "cell_type": "code",
   "execution_count": null,
   "metadata": {
    "collapsed": true
   },
   "outputs": [],
   "source": [
    ""
   ]
  }
 ],
 "metadata": {
  "kernelspec": {
   "display_name": "Python 3",
   "language": "python",
   "name": "python3"
  },
  "language_info": {
   "codemirror_mode": {
    "name": "ipython",
    "version": 3.0
   },
   "file_extension": ".py",
   "mimetype": "text/x-python",
   "name": "python",
   "nbconvert_exporter": "python",
   "pygments_lexer": "ipython3",
   "version": "3.6.0"
  },
  "widgets": {
   "state": {
    "3b221a5d30944b27a80df780776e8afc": {
     "views": [
      {
       "cell_index": 1.0
      }
     ]
    },
    "45b240374d1541219e4eaa1e3f251f7b": {
     "views": [
      {
       "cell_index": 2.0
      }
     ]
    }
   },
   "version": "1.2.0"
  }
 },
 "nbformat": 4,
 "nbformat_minor": 0
}