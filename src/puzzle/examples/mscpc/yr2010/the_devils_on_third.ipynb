{
 "cells": [
  {
   "cell_type": "code",
   "execution_count": 1,
   "metadata": {
    "collapsed": true
   },
   "outputs": [],
   "source": [
    "import forge\n",
    "from puzzle.puzzlepedia import puzzlepedia\n",
    "\n",
    "the_devils_on_third = puzzlepedia.parse(\"\"\"\n",
    "14 7 49 14 70 23 71\n",
    "22 1 70 23 26 43 70 5 16 22 13\n",
    "5 49 52 40 5 67 1 2 49 1 2 2 1 16 13\n",
    "22 5 71 13 4 7 17 1 1 23\n",
    "43 4 41 1 13 77 14 5 16 1 22\n",
    "49 26 7 1 49 4 1 13 2 7 14 8 67 1 16\n",
    "\"\"\")"
   ]
  },
  {
   "cell_type": "code",
   "execution_count": 2,
   "metadata": {
    "collapsed": true
   },
   "outputs": [],
   "source": [
    "the_devils_on_third_meta = puzzlepedia.parse(\"\"\"\n",
    "13 52 26 7 25 1\n",
    "\"\"\")"
   ]
  },
  {
   "cell_type": "code",
   "execution_count": null,
   "metadata": {
    "collapsed": true
   },
   "outputs": [],
   "source": []
  }
 ],
 "metadata": {
  "kernelspec": {
   "display_name": "Python 3",
   "language": "python",
   "name": "python3"
  },
  "language_info": {
   "codemirror_mode": {
    "name": "ipython",
    "version": 3
   },
   "file_extension": ".py",
   "mimetype": "text/x-python",
   "name": "python",
   "nbconvert_exporter": "python",
   "pygments_lexer": "ipython3",
   "version": "3.6.0"
  },
  "widgets": {
   "state": {
    "1f2edf3463494b79810bda1588caf1a8": {
     "views": [
      {
       "cell_index": 1
      }
     ]
    },
    "c689354b15664c2e97ea2b78f481d303": {
     "views": [
      {
       "cell_index": 0
      }
     ]
    }
   },
   "version": "1.2.0"
  }
 },
 "nbformat": 4,
 "nbformat_minor": 2
}
