{
 "cells": [
  {
   "cell_type": "code",
   "execution_count": 11,
   "metadata": {
    "collapsed": true
   },
   "outputs": [],
   "source": [
    "import forge\n",
    "from puzzle.puzzlepedia import puzzlepedia\n",
    "\n",
    "puzzle = puzzlepedia.parse(\"\"\"\n",
    "name in {x, m, z, e}\n",
    "jobs in {shopkeeper, soldier, carpenter, farmer}\n",
    "color in {purple, red, yellow, blue}\n",
    "height in {1, 2, 3, 4}\n",
    "\n",
    "#1 No one has money.\n",
    "\n",
    "#2\n",
    "purple == 4\n",
    "\n",
    "#3\n",
    "red.height == m.height + 1\n",
    "\n",
    "#4\n",
    "z == yellow\n",
    "\n",
    "#5\n",
    "blue == shopkeeper\n",
    "\n",
    "#6\n",
    "e.height > soldier.height\n",
    "e.height > carpenter.height\n",
    "\n",
    "#7\n",
    "soldier != 1\n",
    "\n",
    "#7\n",
    "soldier != red\n",
    "soldier != purple\n",
    "\"\"\")"
   ]
  },
  {
   "cell_type": "code",
   "execution_count": null,
   "metadata": {
    "collapsed": true
   },
   "outputs": [],
   "source": []
  }
 ],
 "metadata": {
  "kernelspec": {
   "display_name": "Python 3",
   "language": "python",
   "name": "python3"
  },
  "language_info": {
   "codemirror_mode": {
    "name": "ipython",
    "version": 3
   },
   "file_extension": ".py",
   "mimetype": "text/x-python",
   "name": "python",
   "nbconvert_exporter": "python",
   "pygments_lexer": "ipython3",
   "version": "3.6.0"
  },
  "widgets": {
   "state": {
    "a6fa4d159a6349c49f91ba1f5ba6eaa2": {
     "views": [
      {
       "cell_index": 0
      }
     ]
    }
   },
   "version": "1.2.0"
  }
 },
 "nbformat": 4,
 "nbformat_minor": 2
}
