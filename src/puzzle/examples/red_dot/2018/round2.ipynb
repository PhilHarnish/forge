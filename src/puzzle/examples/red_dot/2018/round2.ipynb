{
 "cells": [
  {
   "cell_type": "code",
   "execution_count": null,
   "metadata": {
    "collapsed": true
   },
   "outputs": [],
   "source": [
    "import forge\n",
    "from data import warehouse\n",
    "from puzzle.puzzlepedia import prod_config\n",
    "\n",
    "prod_config.init()\n",
    "\n",
    "anagram_index = warehouse.get('/words/unigram/anagram_index')"
   ]
  },
  {
   "cell_type": "code",
   "execution_count": 24,
   "metadata": {
    "collapsed": false
   },
   "outputs": [],
   "source": [
    "banned = frozenset(\"\"\"BORON\n",
    "NITROGEN\n",
    "IRON\n",
    "ARSENIC\n",
    "TECHNETIUM\n",
    "CERIUM\n",
    "RADON\"\"\".lower().split())\n",
    "\n",
    "JIGSAW_ELEMENTS = \"\"\"\n",
    "Oxygen\n",
    "Fluorine\n",
    "Neon\n",
    "Sodium\n",
    "Magnesium\n",
    "Aluminum\n",
    "Silicon\n",
    "Phosphorus\n",
    "Sulfur\n",
    "Chlorine\n",
    "Argon\n",
    "Potassium\n",
    "Calcium\n",
    "Scandium\n",
    "Titanium\n",
    "Vanadium\n",
    "Chromium\n",
    "Manganese\n",
    "\"\"\".lower().split()\n",
    "\n",
    "PAPER_ELEMENTS = \"\"\"\n",
    "Praseodymium\n",
    "Neodymium\n",
    "Promethium\n",
    "Samarium\n",
    "Europium\n",
    "Gadolinium\n",
    "Terbium\n",
    "Dysprosium\n",
    "Holmium\n",
    "Erbium\n",
    "Thulium\n",
    "Ytterbium\n",
    "Lutetium\n",
    "Hafnium\n",
    "Tantalum\n",
    "Tungsten\n",
    "Rhenium\n",
    "Osmium\n",
    "Iridium\n",
    "Platinum\n",
    "Gold\n",
    "Mercury\n",
    "Thallium\n",
    "Lead\n",
    "Bismuth\n",
    "Polonium\n",
    "Astatine\n",
    "\"\"\".lower().split()"
   ]
  },
  {
   "cell_type": "code",
   "execution_count": 25,
   "metadata": {
    "collapsed": false,
    "scrolled": false
   },
   "outputs": [
    {
     "name": "stdout",
     "output_type": "stream",
     "text": [
      "oxygen + s \t ['gynosex']\n",
      "neon + s \t ['sonne', 'neons', 'onsen']\n",
      "argon + s \t ['organs', 'sarong', 'groans', 'garson', 'sargon']\n",
      "platinum + i \t ['platinium']\n",
      "lead + i \t ['ideal', 'delia', 'ladie', 'elida', 'aldie']\n"
     ]
    }
   ],
   "source": [
    "remaining = [\n",
    "  (JIGSAW_ELEMENTS, 's'),\n",
    "  (PAPER_ELEMENTS, 'i'),\n",
    "]\n",
    "\n",
    "for elements, letter in remaining:\n",
    "  for element in elements:\n",
    "    if element in banned:\n",
    "      continue\n",
    "    letters = element + letter\n",
    "    if letters in anagram_index:\n",
    "      print(element, '+', letter, '\\t', anagram_index[letters])"
   ]
  },
  {
   "cell_type": "code",
   "execution_count": 35,
   "metadata": {
    "collapsed": false
   },
   "outputs": [
    {
     "name": "stdout",
     "output_type": "stream",
     "text": [
      "https://nutrimatic.org/?q=%3Coxygens%3E&go=Go\n",
      "https://nutrimatic.org/?q=%3Cfluorines%3E&go=Go\n",
      "https://nutrimatic.org/?q=%3Cneons%3E&go=Go\n",
      "https://nutrimatic.org/?q=%3Csodiums%3E&go=Go\n",
      "https://nutrimatic.org/?q=%3Cmagnesiums%3E&go=Go\n",
      "https://nutrimatic.org/?q=%3Caluminums%3E&go=Go\n",
      "https://nutrimatic.org/?q=%3Csilicons%3E&go=Go\n",
      "https://nutrimatic.org/?q=%3Cphosphoruss%3E&go=Go\n",
      "https://nutrimatic.org/?q=%3Csulfurs%3E&go=Go\n",
      "https://nutrimatic.org/?q=%3Cchlorines%3E&go=Go\n",
      "https://nutrimatic.org/?q=%3Cargons%3E&go=Go\n",
      "https://nutrimatic.org/?q=%3Cpotassiums%3E&go=Go\n",
      "https://nutrimatic.org/?q=%3Ccalciums%3E&go=Go\n",
      "https://nutrimatic.org/?q=%3Cscandiums%3E&go=Go\n",
      "https://nutrimatic.org/?q=%3Ctitaniums%3E&go=Go\n",
      "https://nutrimatic.org/?q=%3Cvanadiums%3E&go=Go\n",
      "https://nutrimatic.org/?q=%3Cchromiums%3E&go=Go\n",
      "https://nutrimatic.org/?q=%3Cmanganeses%3E&go=Go\n",
      "https://nutrimatic.org/?q=%3Cpraseodymiumi%3E&go=Go\n",
      "https://nutrimatic.org/?q=%3Cneodymiumi%3E&go=Go\n",
      "https://nutrimatic.org/?q=%3Cpromethiumi%3E&go=Go\n",
      "https://nutrimatic.org/?q=%3Csamariumi%3E&go=Go\n",
      "https://nutrimatic.org/?q=%3Ceuropiumi%3E&go=Go\n",
      "https://nutrimatic.org/?q=%3Cgadoliniumi%3E&go=Go\n",
      "https://nutrimatic.org/?q=%3Cterbiumi%3E&go=Go\n",
      "https://nutrimatic.org/?q=%3Cdysprosiumi%3E&go=Go\n",
      "https://nutrimatic.org/?q=%3Cholmiumi%3E&go=Go\n",
      "https://nutrimatic.org/?q=%3Cerbiumi%3E&go=Go\n",
      "https://nutrimatic.org/?q=%3Cthuliumi%3E&go=Go\n",
      "https://nutrimatic.org/?q=%3Cytterbiumi%3E&go=Go\n",
      "https://nutrimatic.org/?q=%3Clutetiumi%3E&go=Go\n",
      "https://nutrimatic.org/?q=%3Chafniumi%3E&go=Go\n",
      "https://nutrimatic.org/?q=%3Ctantalumi%3E&go=Go\n",
      "https://nutrimatic.org/?q=%3Ctungsteni%3E&go=Go\n",
      "https://nutrimatic.org/?q=%3Crheniumi%3E&go=Go\n",
      "https://nutrimatic.org/?q=%3Cosmiumi%3E&go=Go\n",
      "https://nutrimatic.org/?q=%3Ciridiumi%3E&go=Go\n",
      "https://nutrimatic.org/?q=%3Cplatinumi%3E&go=Go\n",
      "https://nutrimatic.org/?q=%3Cgoldi%3E&go=Go\n",
      "https://nutrimatic.org/?q=%3Cmercuryi%3E&go=Go\n",
      "https://nutrimatic.org/?q=%3Cthalliumi%3E&go=Go\n",
      "https://nutrimatic.org/?q=%3Cleadi%3E&go=Go\n",
      "https://nutrimatic.org/?q=%3Cbismuthi%3E&go=Go\n",
      "https://nutrimatic.org/?q=%3Cpoloniumi%3E&go=Go\n",
      "https://nutrimatic.org/?q=%3Castatinei%3E&go=Go\n"
     ]
    }
   ],
   "source": [
    "for elements, letter in remaining:\n",
    "  for element in elements:\n",
    "    print('https://nutrimatic.org/?q=%%3C%s%s%%3E&go=Go' % (element, letter))"
   ]
  },
  {
   "cell_type": "code",
   "execution_count": 36,
   "metadata": {
    "collapsed": false
   },
   "outputs": [
    {
     "name": "stdout",
     "output_type": "stream",
     "text": [
      "https://nutrimatic.org/?q=%3Cs%28oxygen%29%28fluorine%29%28neon%29%28sodium%29%28magnesium%29%28aluminum%29%28silicon%29%28phosphorus%29%28sulfur%29%28chlorine%29%28argon%29%28potassium%29%28calcium%29%28scandium%29%28titanium%29%28vanadium%29%28chromium%29%28manganese%29%3E&go=Go\n",
      "https://nutrimatic.org/?q=%3Ci%28praseodymium%29%28neodymium%29%28promethium%29%28samarium%29%28europium%29%28gadolinium%29%28terbium%29%28dysprosium%29%28holmium%29%28erbium%29%28thulium%29%28ytterbium%29%28lutetium%29%28hafnium%29%28tantalum%29%28tungsten%29%28rhenium%29%28osmium%29%28iridium%29%28platinum%29%28gold%29%28mercury%29%28thallium%29%28lead%29%28bismuth%29%28polonium%29%28astatine%29%3E&go=Go\n"
     ]
    }
   ],
   "source": [
    "for elements, letter in remaining:\n",
    "  print('https://nutrimatic.org/?q=%%3C%s%%28%s%%29%%3E&go=Go' % (letter, '%29%28'.join(elements)))"
   ]
  },
  {
   "cell_type": "code",
   "execution_count": null,
   "metadata": {
    "collapsed": true
   },
   "outputs": [],
   "source": []
  }
 ],
 "metadata": {
  "kernelspec": {
   "display_name": "Python 3",
   "language": "python",
   "name": "python3"
  },
  "language_info": {
   "codemirror_mode": {
    "name": "ipython",
    "version": 3
   },
   "file_extension": ".py",
   "mimetype": "text/x-python",
   "name": "python",
   "nbconvert_exporter": "python",
   "pygments_lexer": "ipython3",
   "version": "3.6.0"
  }
 },
 "nbformat": 4,
 "nbformat_minor": 2
}
