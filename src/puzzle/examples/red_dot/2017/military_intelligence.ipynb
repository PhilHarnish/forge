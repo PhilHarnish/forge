{
 "cells": [
  {
   "cell_type": "markdown",
   "metadata": {},
   "source": [
    "<img src=\"https://reddothunt.sg/img/107-0OksgHbx6t.png\">"
   ]
  },
  {
   "cell_type": "code",
   "execution_count": 1,
   "metadata": {
    "collapsed": true
   },
   "outputs": [],
   "source": [
    "source = \"\"\"\n",
    "MO1NAPALM\n",
    "11123210D\n",
    "VIETNAMFT\n",
    "220011211\n",
    "LEONIDAST\n",
    "33100F111\n",
    "HIROSHITF\n",
    "331SS1110\n",
    "PARROTS10\n",
    "\"\"\""
   ]
  },
  {
   "cell_type": "code",
   "execution_count": 10,
   "metadata": {
    "collapsed": false
   },
   "outputs": [
    {
     "name": "stdout",
     "output_type": "stream",
     "text": [
      "\n",
      " -.      \n",
      "...   .- \n",
      " .       \n",
      "  --.. ..\n",
      "  - .    \n",
      "  .-- ...\n",
      " . -  .  \n",
      "  .  ...-\n",
      "    -  .-\n",
      "\n"
     ]
    }
   ],
   "source": [
    "result = []\n",
    "for c in source:\n",
    "  if c in 'O0':\n",
    "    result.append('-')\n",
    "  elif c in '1I':\n",
    "    result.append('.')\n",
    "  elif c.isspace():\n",
    "    result.append(c)\n",
    "  else:\n",
    "    result.append(' ')\n",
    "\n",
    "print(''.join(result))"
   ]
  },
  {
   "cell_type": "code",
   "execution_count": 7,
   "metadata": {
    "collapsed": false
   },
   "outputs": [],
   "source": [
    "import forge\n",
    "from puzzle.puzzlepedia import puzzlepedia\n",
    "\n",
    "puzzle = puzzlepedia.parse(\"\"\"\n",
    " 01    1 \n",
    "111   10 \n",
    " 1       \n",
    "  0011 11\n",
    "1 0 1    \n",
    "  100 111\n",
    " 1 0  1  \n",
    "  1  1110\n",
    "    0  10\n",
    "\"\"\".replace('0', '2'))"
   ]
  },
  {
   "cell_type": "code",
   "execution_count": null,
   "metadata": {
    "collapsed": true
   },
   "outputs": [],
   "source": []
  }
 ],
 "metadata": {
  "kernelspec": {
   "display_name": "Python 3",
   "language": "python",
   "name": "python3"
  },
  "language_info": {
   "codemirror_mode": {
    "name": "ipython",
    "version": 3
   },
   "file_extension": ".py",
   "mimetype": "text/x-python",
   "name": "python",
   "nbconvert_exporter": "python",
   "pygments_lexer": "ipython3",
   "version": "3.6.0"
  },
  "widgets": {
   "state": {
    "f530ea2d16bb4e9684e8b640a79e200d": {
     "views": [
      {
       "cell_index": 2
      }
     ]
    }
   },
   "version": "1.2.0"
  }
 },
 "nbformat": 4,
 "nbformat_minor": 2
}
