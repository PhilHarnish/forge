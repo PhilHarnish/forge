{
 "cells": [
  {
   "cell_type": "code",
   "execution_count": 1,
   "metadata": {
    "collapsed": false
   },
   "outputs": [],
   "source": [
    "import forge\n",
    "from puzzle.puzzlepedia import puzzlepedia\n",
    "\n",
    "puzzle = puzzlepedia.parse(\"\"\"\n",
    "\n",
    "A = variable(1, 9, 'A')\n",
    "B = variable(1, 9, 'B')\n",
    "C = variable(1, 9, 'C')\n",
    "D = variable(1, 9, 'D')\n",
    "E = variable(1, 9, 'E')\n",
    "F = variable(1, 9, 'F')\n",
    "G = variable(1, 9, 'G')\n",
    "H = variable(1, 9, 'H')\n",
    "I = variable(1, 9, 'I')\n",
    "J = variable(1, 9, 'J')\n",
    "K = variable(1, 9, 'K')\n",
    "L = variable(1, 9, 'L')\n",
    "M = variable(1, 9, 'M')\n",
    "N = variable(1, 9, 'N')\n",
    "O = variable(1, 9, 'O')\n",
    "P = variable(1, 9, 'P')\n",
    "Q = variable(1, 9, 'Q')\n",
    "R = variable(1, 9, 'R')\n",
    "S = variable(1, 9, 'S')\n",
    "T = variable(1, 9, 'T')\n",
    "U = variable(1, 9, 'U')\n",
    "V = variable(1, 9, 'V')\n",
    "W = variable(1, 9, 'W')\n",
    "X = variable(1, 9, 'X')\n",
    "Y = variable(1, 9, 'Y')\n",
    "Z = variable(1, 9, 'Z')\n",
    "\n",
    "N + U + M + E + L == 19\n",
    "N + U + C + L + E + A + R == 36\n",
    "C + I + N + E + M + A == 29\n",
    "M + A + C == 18\n",
    "M + E + L == 16\n",
    "M + R + A == 16\n",
    "R + A + E == 17\n",
    "A + R + I + E + L == 32\n",
    "\"\"\")"
   ]
  },
  {
   "cell_type": "code",
   "execution_count": null,
   "metadata": {
    "collapsed": true
   },
   "outputs": [],
   "source": []
  }
 ],
 "metadata": {
  "kernelspec": {
   "display_name": "Python 3",
   "language": "python",
   "name": "python3"
  },
  "language_info": {
   "codemirror_mode": {
    "name": "ipython",
    "version": 3
   },
   "file_extension": ".py",
   "mimetype": "text/x-python",
   "name": "python",
   "nbconvert_exporter": "python",
   "pygments_lexer": "ipython3",
   "version": "3.6.0"
  },
  "widgets": {
   "state": {
    "42e7483525cf47aea460a10816af7824": {
     "views": [
      {
       "cell_index": 2
      }
     ]
    }
   },
   "version": "1.2.0"
  }
 },
 "nbformat": 4,
 "nbformat_minor": 2
}
