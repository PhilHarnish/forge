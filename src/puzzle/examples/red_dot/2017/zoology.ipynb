{
 "cells": [
  {
   "cell_type": "markdown",
   "metadata": {},
   "source": [
    "    ambuscader     /    3 = CRAB  / MEDUSA\n",
    "    anagrams       /    1 = ARMS  / NAGA\n",
    "    braiding       /    1 = BIRD  / AGNI\n",
    "    comparative    /    4 = COAT  / VAMPIRE\n",
    "    crowings       /    5 = WINGS / ROC\n",
    "    handsome       /    1 = ASH   / DEMON\n",
    "    hayriders      /    1 = RISE  / HYDRA\n",
    "    honeytraps     /    2 = STONE / HARPY\n",
    "    misdemeanor    /    1 = NOSE  / MERMAID\n",
    "    releafing      /    4 = FIRE  / ANGEL\n",
    "    shakerlike     /    4 = HARK  / SELKIE\n",
    "    tougheners     /    5 = HORSE / TENGU\n",
    "    unchartered    /    1 = HERD  / CENTAUR\n",
    "    xenophobia     /    3 = BOA   / PHOENIX\n",
    "\n",
    "    Seeing her turns onlookers to ___\n",
    "    honeytraps     /    2 = STONE / HARPY\n",
    "    ambuscader     /    3 = CRAB / MEDUSA\n",
    "\n",
    "    On Warsaw's coat of ___\n",
    "    anagrams       /    1 = ARMS / NAGA\n",
    "    misdemeanor    /    1 = NOSE / MERMAID\n",
    "\n",
    "    Japanese heavenly dog with a long ___\n",
    "    misdemeanor    /    1 = NOSE / MERMAID\n",
    "    tougheners     /    5 = HORSE / TENGU\n",
    "\n",
    "    A giant ___ helped this many-headed serpent\n",
    "    ambuscader     /    3 = CRAB / MEDUSA\n",
    "    hayriders      /    1 = RISE / HYDRA\n",
    "\n",
    "    Charles Wesley's 1739 song about several of this messenger begins: \"___, the...\"\n",
    "    \"Hark! The Herald Angels\" (src)\n",
    "    shakerlike     /    4 = HARK / SELKIE\n",
    "    releafing      /    4 = FIRE / ANGEL\n",
    "\n",
    "    Some of this kind of creature entered a ___ of pigs in Matthew 8:30-32\n",
    "    unchartered    /    1 = HERD / CENTAUR\n",
    "    handsome       /    1 = ASH / DEMON\n",
    "\n",
    "    Woman with ___ instead of arms\n",
    "    crowings       /    5 = WINGS / ROC\n",
    "    honeytraps     /    2 = STONE / HARPY\n",
    "\n",
    "    Has the lower body of a ___\n",
    "    tougheners     /    5 = HORSE / TENGU\n",
    "    unchartered    /    1 = HERD / CENTAUR\n",
    "\n",
    "    Huge Indian snake; specifically cobra, neither python nor ___ constrictor\n",
    "    xenophobia     /    3  = BOA / PHOENIX\n",
    "    anagrams       /    1 = ARMS / NAGA\n",
    "\n",
    "    Enormous Arabian ___ of prey\n",
    "    braiding       /    1 = BIRD / AGNI\n",
    "    crowings       /    5 = WINGS / ROC\n",
    "\n",
    "    Vedic entity, name meaning ___, with two kindling sticks for parents\n",
    "    releafing      /    4 = FIRE / ANGEL\n",
    "    braiding       /    1 = BIRD / AGNI\n",
    "\n",
    "    Avian reborn from the ___es\n",
    "    handsome       /    1 = ASH / DEMON\n",
    "    xenophobia     /    3  = BOA / PHOENIX\n",
    "\n",
    "    To create this bloodsucker is to ___ it\n",
    "    hayriders      /    1 = RISE / HYDRA\n",
    "    comparative    /    4 = COAT / VAMPIRE\n",
    "\n",
    "    Wearing a sealskin ___ allows it to transform\n",
    "    comparative    /    4 = COAT / VAMPIRE\n",
    "    shakerlike     /    4 = HARK / SELKIE\n"
   ]
  },
  {
   "cell_type": "code",
   "execution_count": 9,
   "metadata": {
    "collapsed": false
   },
   "outputs": [],
   "source": [
    "import forge\n",
    "from puzzle.puzzlepedia import puzzlepedia\n",
    "\n",
    "puzzle = puzzlepedia.parse(\"\"\"\n",
    "@ 3 1 1 4 5 1 1 2 1 4 4 5 1 3\n",
    "* CRAB\n",
    "* ARMS\n",
    "* BIRD\n",
    "* COAT\n",
    "* WINGS\n",
    "* ASH\n",
    "* RISE\n",
    "* STONE\n",
    "* NOSE\n",
    "* FIRE\n",
    "* HARK\n",
    "* HORSE\n",
    "* HERD\n",
    "* BOA\n",
    "\"\"\", hint='acrostic')"
   ]
  },
  {
   "cell_type": "code",
   "execution_count": 10,
   "metadata": {
    "collapsed": false
   },
   "outputs": [
    {
     "name": "stderr",
     "output_type": "stream",
     "text": [
      "ERROR:root:An unexpected error occurred while tokenizing input\n",
      "The following traceback may be corrupted or invalid\n",
      "The error message is: ('EOF in multi-line string', (1, 0))\n",
      "\n"
     ]
    },
    {
     "ename": "KeyboardInterrupt",
     "evalue": "",
     "output_type": "error",
     "traceback": [
      "\u001b[0;31m---------------------------------------------------------------------------\u001b[0m",
      "\u001b[0;31mKeyboardInterrupt\u001b[0m                         Traceback (most recent call last)",
      "\u001b[0;32m<ipython-input-10-ffd41305bec9>\u001b[0m in \u001b[0;36m<module>\u001b[0;34m()\u001b[0m\n\u001b[1;32m     17\u001b[0m \u001b[0mHERD\u001b[0m\u001b[0;34m\u001b[0m\u001b[0m\n\u001b[1;32m     18\u001b[0m \u001b[0mBOA\u001b[0m\u001b[0;34m\u001b[0m\u001b[0m\n\u001b[0;32m---> 19\u001b[0;31m \"\"\", hint='acrostic')\n\u001b[0m",
      "\u001b[0;32m/Users/philharnish/Projects/forge/src/puzzle/puzzlepedia/puzzlepedia.py\u001b[0m in \u001b[0;36mparse\u001b[0;34m(source, hint, threshold)\u001b[0m\n\u001b[1;32m      9\u001b[0m   \u001b[0m_init\u001b[0m\u001b[0;34m(\u001b[0m\u001b[0;34m)\u001b[0m\u001b[0;34m\u001b[0m\u001b[0m\n\u001b[1;32m     10\u001b[0m   \u001b[0mresult\u001b[0m \u001b[0;34m=\u001b[0m \u001b[0mpuzzle\u001b[0m\u001b[0;34m.\u001b[0m\u001b[0mPuzzle\u001b[0m\u001b[0;34m(\u001b[0m\u001b[0;34m'first stage'\u001b[0m\u001b[0;34m,\u001b[0m \u001b[0msource\u001b[0m\u001b[0;34m,\u001b[0m \u001b[0mhint\u001b[0m\u001b[0;34m=\u001b[0m\u001b[0mhint\u001b[0m\u001b[0;34m,\u001b[0m \u001b[0mthreshold\u001b[0m\u001b[0;34m=\u001b[0m\u001b[0mthreshold\u001b[0m\u001b[0;34m)\u001b[0m\u001b[0;34m\u001b[0m\u001b[0m\n\u001b[0;32m---> 11\u001b[0;31m   \u001b[0minteract_with\u001b[0m\u001b[0;34m(\u001b[0m\u001b[0mresult\u001b[0m\u001b[0;34m)\u001b[0m\u001b[0;34m\u001b[0m\u001b[0m\n\u001b[0m\u001b[1;32m     12\u001b[0m   \u001b[0;32mreturn\u001b[0m \u001b[0mresult\u001b[0m\u001b[0;34m\u001b[0m\u001b[0m\n\u001b[1;32m     13\u001b[0m \u001b[0;34m\u001b[0m\u001b[0m\n",
      "\u001b[0;32m/Users/philharnish/Projects/forge/src/puzzle/puzzlepedia/puzzlepedia.py\u001b[0m in \u001b[0;36minteract_with\u001b[0;34m(puzzle)\u001b[0m\n\u001b[1;32m     15\u001b[0m \u001b[0;32mdef\u001b[0m \u001b[0minteract_with\u001b[0m\u001b[0;34m(\u001b[0m\u001b[0mpuzzle\u001b[0m\u001b[0;34m)\u001b[0m\u001b[0;34m:\u001b[0m\u001b[0;34m\u001b[0m\u001b[0m\n\u001b[1;32m     16\u001b[0m   \u001b[0m_init\u001b[0m\u001b[0;34m(\u001b[0m\u001b[0;34m)\u001b[0m\u001b[0;34m\u001b[0m\u001b[0m\n\u001b[0;32m---> 17\u001b[0;31m   \u001b[0mdisplay\u001b[0m\u001b[0;34m.\u001b[0m\u001b[0mdisplay\u001b[0m\u001b[0;34m(\u001b[0m\u001b[0mpuzzle_widget\u001b[0m\u001b[0;34m.\u001b[0m\u001b[0mPuzzleWidget\u001b[0m\u001b[0;34m(\u001b[0m\u001b[0mpuzzle\u001b[0m\u001b[0;34m)\u001b[0m\u001b[0;34m)\u001b[0m\u001b[0;34m\u001b[0m\u001b[0m\n\u001b[0m\u001b[1;32m     18\u001b[0m \u001b[0;34m\u001b[0m\u001b[0m\n\u001b[1;32m     19\u001b[0m \u001b[0;34m\u001b[0m\u001b[0m\n",
      "\u001b[0;32m/Users/philharnish/Projects/forge/src/puzzle/puzzlepedia/puzzle_widget.py\u001b[0m in \u001b[0;36mPuzzleWidget\u001b[0;34m(puzzle)\u001b[0m\n\u001b[1;32m      8\u001b[0m   \u001b[0mwidget_children\u001b[0m \u001b[0;34m=\u001b[0m \u001b[0;34m[\u001b[0m\u001b[0;34m]\u001b[0m\u001b[0;34m\u001b[0m\u001b[0m\n\u001b[1;32m      9\u001b[0m   \u001b[0;32mfor\u001b[0m \u001b[0mproblem\u001b[0m \u001b[0;32min\u001b[0m \u001b[0mpuzzle\u001b[0m\u001b[0;34m.\u001b[0m\u001b[0m_meta_problems\u001b[0m\u001b[0;34m:\u001b[0m\u001b[0;34m\u001b[0m\u001b[0m\n\u001b[0;32m---> 10\u001b[0;31m     \u001b[0mwidget_children\u001b[0m\u001b[0;34m.\u001b[0m\u001b[0mappend\u001b[0m\u001b[0;34m(\u001b[0m\u001b[0mproblem_widget\u001b[0m\u001b[0;34m.\u001b[0m\u001b[0mProblemWidget\u001b[0m\u001b[0;34m(\u001b[0m\u001b[0mproblem\u001b[0m\u001b[0;34m)\u001b[0m\u001b[0;34m)\u001b[0m\u001b[0;34m\u001b[0m\u001b[0m\n\u001b[0m\u001b[1;32m     11\u001b[0m   \u001b[0maccordion\u001b[0m \u001b[0;34m=\u001b[0m \u001b[0mwidgets\u001b[0m\u001b[0;34m.\u001b[0m\u001b[0mAccordion\u001b[0m\u001b[0;34m(\u001b[0m\u001b[0mchildren\u001b[0m\u001b[0;34m=\u001b[0m\u001b[0mwidget_children\u001b[0m\u001b[0;34m)\u001b[0m\u001b[0;34m\u001b[0m\u001b[0m\n\u001b[1;32m     12\u001b[0m   \u001b[0;32mfor\u001b[0m \u001b[0mi\u001b[0m\u001b[0;34m,\u001b[0m \u001b[0mproblem\u001b[0m \u001b[0;32min\u001b[0m \u001b[0menumerate\u001b[0m\u001b[0;34m(\u001b[0m\u001b[0mpuzzle\u001b[0m\u001b[0;34m.\u001b[0m\u001b[0m_meta_problems\u001b[0m\u001b[0;34m)\u001b[0m\u001b[0;34m:\u001b[0m\u001b[0;34m\u001b[0m\u001b[0m\n",
      "\u001b[0;32m/Users/philharnish/Projects/forge/src/puzzle/puzzlepedia/problem_widget.py\u001b[0m in \u001b[0;36mProblemWidget\u001b[0;34m(meta_problem)\u001b[0m\n\u001b[1;32m     34\u001b[0m   \u001b[0;32mif\u001b[0m \u001b[0mmeta_problem\u001b[0m\u001b[0;34m.\u001b[0m\u001b[0mpeek\u001b[0m\u001b[0;34m(\u001b[0m\u001b[0;34m)\u001b[0m\u001b[0;34m:\u001b[0m\u001b[0;34m\u001b[0m\u001b[0m\n\u001b[1;32m     35\u001b[0m     _update_solutions_for_problem(\n\u001b[0;32m---> 36\u001b[0;31m         solutions_table, best_solution, meta_problem.peek())\n\u001b[0m\u001b[1;32m     37\u001b[0m   \u001b[0;32mreturn\u001b[0m \u001b[0mwidgets\u001b[0m\u001b[0;34m.\u001b[0m\u001b[0mVBox\u001b[0m\u001b[0;34m(\u001b[0m\u001b[0;34m[\u001b[0m\u001b[0mwidgets\u001b[0m\u001b[0;34m.\u001b[0m\u001b[0mHBox\u001b[0m\u001b[0;34m(\u001b[0m\u001b[0mitems\u001b[0m\u001b[0;34m)\u001b[0m\u001b[0;34m,\u001b[0m \u001b[0msolutions_table\u001b[0m\u001b[0;34m]\u001b[0m\u001b[0;34m)\u001b[0m\u001b[0;34m\u001b[0m\u001b[0m\n\u001b[1;32m     38\u001b[0m \u001b[0;34m\u001b[0m\u001b[0m\n",
      "\u001b[0;32m/Users/philharnish/Projects/forge/src/puzzle/puzzlepedia/problem_widget.py\u001b[0m in \u001b[0;36m_update_solutions_for_problem\u001b[0;34m(table, best_solution, problem)\u001b[0m\n\u001b[1;32m     39\u001b[0m \u001b[0;34m\u001b[0m\u001b[0m\n\u001b[1;32m     40\u001b[0m \u001b[0;32mdef\u001b[0m \u001b[0m_update_solutions_for_problem\u001b[0m\u001b[0;34m(\u001b[0m\u001b[0mtable\u001b[0m\u001b[0;34m,\u001b[0m \u001b[0mbest_solution\u001b[0m\u001b[0;34m,\u001b[0m \u001b[0mproblem\u001b[0m\u001b[0;34m)\u001b[0m\u001b[0;34m:\u001b[0m\u001b[0;34m\u001b[0m\u001b[0m\n\u001b[0;32m---> 41\u001b[0;31m   \u001b[0msolutions\u001b[0m \u001b[0;34m=\u001b[0m \u001b[0mproblem\u001b[0m\u001b[0;34m.\u001b[0m\u001b[0msolutions\u001b[0m\u001b[0;34m(\u001b[0m\u001b[0;34m)\u001b[0m\u001b[0;34m\u001b[0m\u001b[0m\n\u001b[0m\u001b[1;32m     42\u001b[0m   \u001b[0;32mif\u001b[0m \u001b[0msolutions\u001b[0m\u001b[0;34m.\u001b[0m\u001b[0mpeek\u001b[0m\u001b[0;34m(\u001b[0m\u001b[0;34m)\u001b[0m\u001b[0;34m:\u001b[0m\u001b[0;34m\u001b[0m\u001b[0m\n\u001b[1;32m     43\u001b[0m     \u001b[0mbest_solution\u001b[0m\u001b[0;34m.\u001b[0m\u001b[0mvalue\u001b[0m \u001b[0;34m=\u001b[0m \u001b[0msolutions\u001b[0m\u001b[0;34m.\u001b[0m\u001b[0mpeek\u001b[0m\u001b[0;34m(\u001b[0m\u001b[0;34m)\u001b[0m\u001b[0;34m\u001b[0m\u001b[0m\n",
      "\u001b[0;32m/Users/philharnish/Projects/forge/src/puzzle/problems/problem.py\u001b[0m in \u001b[0;36msolutions\u001b[0;34m(self)\u001b[0m\n\u001b[1;32m     42\u001b[0m \u001b[0;34m\u001b[0m\u001b[0m\n\u001b[1;32m     43\u001b[0m   \u001b[0;32mdef\u001b[0m \u001b[0msolutions\u001b[0m\u001b[0;34m(\u001b[0m\u001b[0mself\u001b[0m\u001b[0;34m)\u001b[0m\u001b[0;34m:\u001b[0m\u001b[0;34m\u001b[0m\u001b[0m\n\u001b[0;32m---> 44\u001b[0;31m     \u001b[0;32mfor\u001b[0m \u001b[0m_\u001b[0m \u001b[0;32min\u001b[0m \u001b[0mself\u001b[0m\u001b[0;34m.\u001b[0m\u001b[0m_filtered_solutions_iterator\u001b[0m\u001b[0;34m:\u001b[0m\u001b[0;34m\u001b[0m\u001b[0m\n\u001b[0m\u001b[1;32m     45\u001b[0m       \u001b[0;31m# Exhaust the _filtered_solutions_iterator.\u001b[0m\u001b[0;34m\u001b[0m\u001b[0;34m\u001b[0m\u001b[0m\n\u001b[1;32m     46\u001b[0m       \u001b[0;32mpass\u001b[0m\u001b[0;34m\u001b[0m\u001b[0m\n",
      "\u001b[0;32m/Users/philharnish/Projects/forge/src/puzzle/problems/problem.py\u001b[0m in \u001b[0;36m_filter_solutions_iter\u001b[0;34m(self)\u001b[0m\n\u001b[1;32m     62\u001b[0m     \u001b[0;31m# the Problem's constraints changed mid-solve.\u001b[0m\u001b[0;34m\u001b[0m\u001b[0;34m\u001b[0m\u001b[0m\n\u001b[1;32m     63\u001b[0m     for k, v in itertools.chain(\n\u001b[0;32m---> 64\u001b[0;31m         self._all_solutions.items(), self._solutions_iterator):\n\u001b[0m\u001b[1;32m     65\u001b[0m       \u001b[0mconstrained\u001b[0m \u001b[0;34m=\u001b[0m \u001b[0mall\u001b[0m\u001b[0;34m(\u001b[0m\u001b[0mfn\u001b[0m\u001b[0;34m(\u001b[0m\u001b[0mk\u001b[0m\u001b[0;34m,\u001b[0m \u001b[0mv\u001b[0m\u001b[0;34m)\u001b[0m \u001b[0;32mfor\u001b[0m \u001b[0mfn\u001b[0m \u001b[0;32min\u001b[0m \u001b[0mself\u001b[0m\u001b[0;34m.\u001b[0m\u001b[0m_constraints\u001b[0m\u001b[0;34m)\u001b[0m\u001b[0;34m\u001b[0m\u001b[0m\n\u001b[1;32m     66\u001b[0m       \u001b[0;32mif\u001b[0m \u001b[0mconstrained\u001b[0m\u001b[0;34m:\u001b[0m\u001b[0;34m\u001b[0m\u001b[0m\n",
      "\u001b[0;32m/Users/philharnish/Projects/forge/src/puzzle/problems/problem.py\u001b[0m in \u001b[0;36m_take_solutions_iter\u001b[0;34m(self)\u001b[0m\n\u001b[1;32m     54\u001b[0m \u001b[0;34m\u001b[0m\u001b[0m\n\u001b[1;32m     55\u001b[0m   \u001b[0;32mdef\u001b[0m \u001b[0m_take_solutions_iter\u001b[0m\u001b[0;34m(\u001b[0m\u001b[0mself\u001b[0m\u001b[0;34m)\u001b[0m\u001b[0;34m:\u001b[0m\u001b[0;34m\u001b[0m\u001b[0m\n\u001b[0;32m---> 56\u001b[0;31m     \u001b[0;32mfor\u001b[0m \u001b[0mk\u001b[0m\u001b[0;34m,\u001b[0m \u001b[0mv\u001b[0m \u001b[0;32min\u001b[0m \u001b[0mself\u001b[0m\u001b[0;34m.\u001b[0m\u001b[0m_solve_iter\u001b[0m\u001b[0;34m(\u001b[0m\u001b[0;34m)\u001b[0m\u001b[0;34m:\u001b[0m\u001b[0;34m\u001b[0m\u001b[0m\n\u001b[0m\u001b[1;32m     57\u001b[0m       \u001b[0mself\u001b[0m\u001b[0;34m.\u001b[0m\u001b[0m_all_solutions\u001b[0m\u001b[0;34m[\u001b[0m\u001b[0mk\u001b[0m\u001b[0;34m]\u001b[0m \u001b[0;34m=\u001b[0m \u001b[0mv\u001b[0m\u001b[0;34m\u001b[0m\u001b[0m\n\u001b[1;32m     58\u001b[0m       \u001b[0;32myield\u001b[0m \u001b[0mk\u001b[0m\u001b[0;34m,\u001b[0m \u001b[0mv\u001b[0m\u001b[0;34m\u001b[0m\u001b[0m\n",
      "\u001b[0;32m/Users/philharnish/Projects/forge/src/puzzle/problems/acrostic_problem.py\u001b[0m in \u001b[0;36m_solve_iter\u001b[0;34m(self)\u001b[0m\n\u001b[1;32m     42\u001b[0m \u001b[0;34m\u001b[0m\u001b[0m\n\u001b[1;32m     43\u001b[0m   \u001b[0;32mdef\u001b[0m \u001b[0m_solve_iter\u001b[0m\u001b[0;34m(\u001b[0m\u001b[0mself\u001b[0m\u001b[0;34m)\u001b[0m\u001b[0;34m:\u001b[0m\u001b[0;34m\u001b[0m\u001b[0m\n\u001b[0;32m---> 44\u001b[0;31m     \u001b[0;32mfor\u001b[0m \u001b[0msolution\u001b[0m\u001b[0;34m,\u001b[0m \u001b[0mweight\u001b[0m \u001b[0;32min\u001b[0m \u001b[0mself\u001b[0m\u001b[0;34m.\u001b[0m\u001b[0m_acrostic\u001b[0m\u001b[0;34m.\u001b[0m\u001b[0mitems\u001b[0m\u001b[0;34m(\u001b[0m\u001b[0;34m)\u001b[0m\u001b[0;34m:\u001b[0m\u001b[0;34m\u001b[0m\u001b[0m\n\u001b[0m\u001b[1;32m     45\u001b[0m       \u001b[0;32mif\u001b[0m \u001b[0mweight\u001b[0m \u001b[0;34m<\u001b[0m \u001b[0mself\u001b[0m\u001b[0;34m.\u001b[0m\u001b[0m_threshold\u001b[0m\u001b[0;34m:\u001b[0m\u001b[0;34m\u001b[0m\u001b[0m\n\u001b[1;32m     46\u001b[0m         \u001b[0;32mreturn\u001b[0m\u001b[0;34m\u001b[0m\u001b[0m\n",
      "\u001b[0;32m/Users/philharnish/Projects/forge/src/puzzle/heuristics/acrostics/_acrostic_iter.py\u001b[0m in \u001b[0;36mitems\u001b[0;34m(self)\u001b[0m\n\u001b[1;32m     39\u001b[0m \u001b[0;34m\u001b[0m\u001b[0m\n\u001b[1;32m     40\u001b[0m   \u001b[0;32mdef\u001b[0m \u001b[0mitems\u001b[0m\u001b[0;34m(\u001b[0m\u001b[0mself\u001b[0m\u001b[0;34m)\u001b[0m\u001b[0;34m:\u001b[0m\u001b[0;34m\u001b[0m\u001b[0m\n\u001b[0;32m---> 41\u001b[0;31m     \u001b[0;32mfor\u001b[0m \u001b[0mphrase\u001b[0m\u001b[0;34m,\u001b[0m \u001b[0mweight\u001b[0m \u001b[0;32min\u001b[0m \u001b[0mself\u001b[0m\u001b[0;34m.\u001b[0m\u001b[0m_walk_phrase_graph_from\u001b[0m\u001b[0;34m(\u001b[0m\u001b[0;36m0\u001b[0m\u001b[0;34m,\u001b[0m \u001b[0;34m[\u001b[0m\u001b[0;34m]\u001b[0m\u001b[0;34m,\u001b[0m \u001b[0;36m0\u001b[0m\u001b[0;34m)\u001b[0m\u001b[0;34m:\u001b[0m\u001b[0;34m\u001b[0m\u001b[0m\n\u001b[0m\u001b[1;32m     42\u001b[0m       \u001b[0;32myield\u001b[0m \u001b[0mphrase\u001b[0m\u001b[0;34m,\u001b[0m \u001b[0mweight\u001b[0m\u001b[0;34m\u001b[0m\u001b[0m\n\u001b[1;32m     43\u001b[0m \u001b[0;34m\u001b[0m\u001b[0m\n",
      "\u001b[0;32m/Users/philharnish/Projects/forge/src/puzzle/heuristics/acrostics/_acrostic_search.py\u001b[0m in \u001b[0;36m_walk_phrase_graph_from\u001b[0;34m(self, pos, acc, acc_weight)\u001b[0m\n\u001b[1;32m     30\u001b[0m         \u001b[0mbest_phrase\u001b[0m \u001b[0;34m=\u001b[0m \u001b[0mheap\u001b[0m\u001b[0;34m.\u001b[0m\u001b[0mpop\u001b[0m\u001b[0;34m(\u001b[0m\u001b[0;34m)\u001b[0m\u001b[0;34m\u001b[0m\u001b[0m\n\u001b[1;32m     31\u001b[0m         yield from self._recurse_with(\n\u001b[0;32m---> 32\u001b[0;31m             pos, acc, acc_weight, target, best_phrase, best_weight)\n\u001b[0m\u001b[1;32m     33\u001b[0m         \u001b[0mbest_weight\u001b[0m \u001b[0;34m=\u001b[0m \u001b[0mheap\u001b[0m\u001b[0;34m.\u001b[0m\u001b[0mbest_weight\u001b[0m\u001b[0;34m(\u001b[0m\u001b[0;34m)\u001b[0m\u001b[0;34m\u001b[0m\u001b[0m\n\u001b[1;32m     34\u001b[0m     \u001b[0;32mwhile\u001b[0m \u001b[0mlen\u001b[0m\u001b[0;34m(\u001b[0m\u001b[0mheap\u001b[0m\u001b[0;34m)\u001b[0m\u001b[0;34m:\u001b[0m\u001b[0;34m\u001b[0m\u001b[0m\n",
      "\u001b[0;32m/Users/philharnish/Projects/forge/src/puzzle/heuristics/acrostics/_acrostic_iter.py\u001b[0m in \u001b[0;36m_recurse_with\u001b[0;34m(self, pos, acc, acc_weight, target, phrase, weight)\u001b[0m\n\u001b[1;32m     57\u001b[0m       \u001b[0minteresting\u001b[0m \u001b[0;34m=\u001b[0m \u001b[0;34m(\u001b[0m\u001b[0macc_len\u001b[0m \u001b[0;34m<\u001b[0m \u001b[0;36m3\u001b[0m\u001b[0;34m)\u001b[0m \u001b[0;32mor\u001b[0m \u001b[0;34m(\u001b[0m\u001b[0mpos\u001b[0m \u001b[0;34m/\u001b[0m \u001b[0macc_len\u001b[0m \u001b[0;34m>=\u001b[0m \u001b[0m_TARGET_WORD_LEN\u001b[0m\u001b[0;34m)\u001b[0m\u001b[0;34m\u001b[0m\u001b[0m\n\u001b[1;32m     58\u001b[0m       \u001b[0;32mif\u001b[0m \u001b[0minteresting\u001b[0m\u001b[0;34m:\u001b[0m\u001b[0;34m\u001b[0m\u001b[0m\n\u001b[0;32m---> 59\u001b[0;31m         \u001b[0;32mfor\u001b[0m \u001b[0mresult\u001b[0m \u001b[0;32min\u001b[0m \u001b[0mself\u001b[0m\u001b[0;34m.\u001b[0m\u001b[0m_walk_phrase_graph_from\u001b[0m\u001b[0;34m(\u001b[0m\u001b[0mpos\u001b[0m\u001b[0;34m,\u001b[0m \u001b[0macc\u001b[0m\u001b[0;34m,\u001b[0m \u001b[0macc_weight\u001b[0m\u001b[0;34m)\u001b[0m\u001b[0;34m:\u001b[0m\u001b[0;34m\u001b[0m\u001b[0m\n\u001b[0m\u001b[1;32m     60\u001b[0m           \u001b[0;31m# Forward any findings from recursive calls up the trampoline.\u001b[0m\u001b[0;34m\u001b[0m\u001b[0;34m\u001b[0m\u001b[0m\n\u001b[1;32m     61\u001b[0m           \u001b[0;32myield\u001b[0m \u001b[0mresult\u001b[0m\u001b[0;34m\u001b[0m\u001b[0m\n",
      "\u001b[0;32m/Users/philharnish/Projects/forge/src/puzzle/heuristics/acrostics/_acrostic_search.py\u001b[0m in \u001b[0;36m_walk_phrase_graph_from\u001b[0;34m(self, pos, acc, acc_weight)\u001b[0m\n\u001b[1;32m     30\u001b[0m         \u001b[0mbest_phrase\u001b[0m \u001b[0;34m=\u001b[0m \u001b[0mheap\u001b[0m\u001b[0;34m.\u001b[0m\u001b[0mpop\u001b[0m\u001b[0;34m(\u001b[0m\u001b[0;34m)\u001b[0m\u001b[0;34m\u001b[0m\u001b[0m\n\u001b[1;32m     31\u001b[0m         yield from self._recurse_with(\n\u001b[0;32m---> 32\u001b[0;31m             pos, acc, acc_weight, target, best_phrase, best_weight)\n\u001b[0m\u001b[1;32m     33\u001b[0m         \u001b[0mbest_weight\u001b[0m \u001b[0;34m=\u001b[0m \u001b[0mheap\u001b[0m\u001b[0;34m.\u001b[0m\u001b[0mbest_weight\u001b[0m\u001b[0;34m(\u001b[0m\u001b[0;34m)\u001b[0m\u001b[0;34m\u001b[0m\u001b[0m\n\u001b[1;32m     34\u001b[0m     \u001b[0;32mwhile\u001b[0m \u001b[0mlen\u001b[0m\u001b[0;34m(\u001b[0m\u001b[0mheap\u001b[0m\u001b[0;34m)\u001b[0m\u001b[0;34m:\u001b[0m\u001b[0;34m\u001b[0m\u001b[0m\n",
      "\u001b[0;32m/Users/philharnish/Projects/forge/src/puzzle/heuristics/acrostics/_acrostic_iter.py\u001b[0m in \u001b[0;36m_recurse_with\u001b[0;34m(self, pos, acc, acc_weight, target, phrase, weight)\u001b[0m\n\u001b[1;32m     57\u001b[0m       \u001b[0minteresting\u001b[0m \u001b[0;34m=\u001b[0m \u001b[0;34m(\u001b[0m\u001b[0macc_len\u001b[0m \u001b[0;34m<\u001b[0m \u001b[0;36m3\u001b[0m\u001b[0;34m)\u001b[0m \u001b[0;32mor\u001b[0m \u001b[0;34m(\u001b[0m\u001b[0mpos\u001b[0m \u001b[0;34m/\u001b[0m \u001b[0macc_len\u001b[0m \u001b[0;34m>=\u001b[0m \u001b[0m_TARGET_WORD_LEN\u001b[0m\u001b[0;34m)\u001b[0m\u001b[0;34m\u001b[0m\u001b[0m\n\u001b[1;32m     58\u001b[0m       \u001b[0;32mif\u001b[0m \u001b[0minteresting\u001b[0m\u001b[0;34m:\u001b[0m\u001b[0;34m\u001b[0m\u001b[0m\n\u001b[0;32m---> 59\u001b[0;31m         \u001b[0;32mfor\u001b[0m \u001b[0mresult\u001b[0m \u001b[0;32min\u001b[0m \u001b[0mself\u001b[0m\u001b[0;34m.\u001b[0m\u001b[0m_walk_phrase_graph_from\u001b[0m\u001b[0;34m(\u001b[0m\u001b[0mpos\u001b[0m\u001b[0;34m,\u001b[0m \u001b[0macc\u001b[0m\u001b[0;34m,\u001b[0m \u001b[0macc_weight\u001b[0m\u001b[0;34m)\u001b[0m\u001b[0;34m:\u001b[0m\u001b[0;34m\u001b[0m\u001b[0m\n\u001b[0m\u001b[1;32m     60\u001b[0m           \u001b[0;31m# Forward any findings from recursive calls up the trampoline.\u001b[0m\u001b[0;34m\u001b[0m\u001b[0;34m\u001b[0m\u001b[0m\n\u001b[1;32m     61\u001b[0m           \u001b[0;32myield\u001b[0m \u001b[0mresult\u001b[0m\u001b[0;34m\u001b[0m\u001b[0m\n",
      "\u001b[0;32m/Users/philharnish/Projects/forge/src/puzzle/heuristics/acrostics/_acrostic_search.py\u001b[0m in \u001b[0;36m_walk_phrase_graph_from\u001b[0;34m(self, pos, acc, acc_weight)\u001b[0m\n\u001b[1;32m     30\u001b[0m         \u001b[0mbest_phrase\u001b[0m \u001b[0;34m=\u001b[0m \u001b[0mheap\u001b[0m\u001b[0;34m.\u001b[0m\u001b[0mpop\u001b[0m\u001b[0;34m(\u001b[0m\u001b[0;34m)\u001b[0m\u001b[0;34m\u001b[0m\u001b[0m\n\u001b[1;32m     31\u001b[0m         yield from self._recurse_with(\n\u001b[0;32m---> 32\u001b[0;31m             pos, acc, acc_weight, target, best_phrase, best_weight)\n\u001b[0m\u001b[1;32m     33\u001b[0m         \u001b[0mbest_weight\u001b[0m \u001b[0;34m=\u001b[0m \u001b[0mheap\u001b[0m\u001b[0;34m.\u001b[0m\u001b[0mbest_weight\u001b[0m\u001b[0;34m(\u001b[0m\u001b[0;34m)\u001b[0m\u001b[0;34m\u001b[0m\u001b[0m\n\u001b[1;32m     34\u001b[0m     \u001b[0;32mwhile\u001b[0m \u001b[0mlen\u001b[0m\u001b[0;34m(\u001b[0m\u001b[0mheap\u001b[0m\u001b[0;34m)\u001b[0m\u001b[0;34m:\u001b[0m\u001b[0;34m\u001b[0m\u001b[0m\n",
      "\u001b[0;32m/Users/philharnish/Projects/forge/src/puzzle/heuristics/acrostics/_acrostic_iter.py\u001b[0m in \u001b[0;36m_recurse_with\u001b[0;34m(self, pos, acc, acc_weight, target, phrase, weight)\u001b[0m\n\u001b[1;32m     57\u001b[0m       \u001b[0minteresting\u001b[0m \u001b[0;34m=\u001b[0m \u001b[0;34m(\u001b[0m\u001b[0macc_len\u001b[0m \u001b[0;34m<\u001b[0m \u001b[0;36m3\u001b[0m\u001b[0;34m)\u001b[0m \u001b[0;32mor\u001b[0m \u001b[0;34m(\u001b[0m\u001b[0mpos\u001b[0m \u001b[0;34m/\u001b[0m \u001b[0macc_len\u001b[0m \u001b[0;34m>=\u001b[0m \u001b[0m_TARGET_WORD_LEN\u001b[0m\u001b[0;34m)\u001b[0m\u001b[0;34m\u001b[0m\u001b[0m\n\u001b[1;32m     58\u001b[0m       \u001b[0;32mif\u001b[0m \u001b[0minteresting\u001b[0m\u001b[0;34m:\u001b[0m\u001b[0;34m\u001b[0m\u001b[0m\n\u001b[0;32m---> 59\u001b[0;31m         \u001b[0;32mfor\u001b[0m \u001b[0mresult\u001b[0m \u001b[0;32min\u001b[0m \u001b[0mself\u001b[0m\u001b[0;34m.\u001b[0m\u001b[0m_walk_phrase_graph_from\u001b[0m\u001b[0;34m(\u001b[0m\u001b[0mpos\u001b[0m\u001b[0;34m,\u001b[0m \u001b[0macc\u001b[0m\u001b[0;34m,\u001b[0m \u001b[0macc_weight\u001b[0m\u001b[0;34m)\u001b[0m\u001b[0;34m:\u001b[0m\u001b[0;34m\u001b[0m\u001b[0m\n\u001b[0m\u001b[1;32m     60\u001b[0m           \u001b[0;31m# Forward any findings from recursive calls up the trampoline.\u001b[0m\u001b[0;34m\u001b[0m\u001b[0;34m\u001b[0m\u001b[0m\n\u001b[1;32m     61\u001b[0m           \u001b[0;32myield\u001b[0m \u001b[0mresult\u001b[0m\u001b[0;34m\u001b[0m\u001b[0m\n",
      "\u001b[0;32m/Users/philharnish/Projects/forge/src/puzzle/heuristics/acrostics/_acrostic_search.py\u001b[0m in \u001b[0;36m_walk_phrase_graph_from\u001b[0;34m(self, pos, acc, acc_weight)\u001b[0m\n\u001b[1;32m     30\u001b[0m         \u001b[0mbest_phrase\u001b[0m \u001b[0;34m=\u001b[0m \u001b[0mheap\u001b[0m\u001b[0;34m.\u001b[0m\u001b[0mpop\u001b[0m\u001b[0;34m(\u001b[0m\u001b[0;34m)\u001b[0m\u001b[0;34m\u001b[0m\u001b[0m\n\u001b[1;32m     31\u001b[0m         yield from self._recurse_with(\n\u001b[0;32m---> 32\u001b[0;31m             pos, acc, acc_weight, target, best_phrase, best_weight)\n\u001b[0m\u001b[1;32m     33\u001b[0m         \u001b[0mbest_weight\u001b[0m \u001b[0;34m=\u001b[0m \u001b[0mheap\u001b[0m\u001b[0;34m.\u001b[0m\u001b[0mbest_weight\u001b[0m\u001b[0;34m(\u001b[0m\u001b[0;34m)\u001b[0m\u001b[0;34m\u001b[0m\u001b[0m\n\u001b[1;32m     34\u001b[0m     \u001b[0;32mwhile\u001b[0m \u001b[0mlen\u001b[0m\u001b[0;34m(\u001b[0m\u001b[0mheap\u001b[0m\u001b[0;34m)\u001b[0m\u001b[0;34m:\u001b[0m\u001b[0;34m\u001b[0m\u001b[0m\n",
      "\u001b[0;32m/Users/philharnish/Projects/forge/src/puzzle/heuristics/acrostics/_acrostic_iter.py\u001b[0m in \u001b[0;36m_recurse_with\u001b[0;34m(self, pos, acc, acc_weight, target, phrase, weight)\u001b[0m\n\u001b[1;32m     57\u001b[0m       \u001b[0minteresting\u001b[0m \u001b[0;34m=\u001b[0m \u001b[0;34m(\u001b[0m\u001b[0macc_len\u001b[0m \u001b[0;34m<\u001b[0m \u001b[0;36m3\u001b[0m\u001b[0;34m)\u001b[0m \u001b[0;32mor\u001b[0m \u001b[0;34m(\u001b[0m\u001b[0mpos\u001b[0m \u001b[0;34m/\u001b[0m \u001b[0macc_len\u001b[0m \u001b[0;34m>=\u001b[0m \u001b[0m_TARGET_WORD_LEN\u001b[0m\u001b[0;34m)\u001b[0m\u001b[0;34m\u001b[0m\u001b[0m\n\u001b[1;32m     58\u001b[0m       \u001b[0;32mif\u001b[0m \u001b[0minteresting\u001b[0m\u001b[0;34m:\u001b[0m\u001b[0;34m\u001b[0m\u001b[0m\n\u001b[0;32m---> 59\u001b[0;31m         \u001b[0;32mfor\u001b[0m \u001b[0mresult\u001b[0m \u001b[0;32min\u001b[0m \u001b[0mself\u001b[0m\u001b[0;34m.\u001b[0m\u001b[0m_walk_phrase_graph_from\u001b[0m\u001b[0;34m(\u001b[0m\u001b[0mpos\u001b[0m\u001b[0;34m,\u001b[0m \u001b[0macc\u001b[0m\u001b[0;34m,\u001b[0m \u001b[0macc_weight\u001b[0m\u001b[0;34m)\u001b[0m\u001b[0;34m:\u001b[0m\u001b[0;34m\u001b[0m\u001b[0m\n\u001b[0m\u001b[1;32m     60\u001b[0m           \u001b[0;31m# Forward any findings from recursive calls up the trampoline.\u001b[0m\u001b[0;34m\u001b[0m\u001b[0;34m\u001b[0m\u001b[0m\n\u001b[1;32m     61\u001b[0m           \u001b[0;32myield\u001b[0m \u001b[0mresult\u001b[0m\u001b[0;34m\u001b[0m\u001b[0m\n",
      "\u001b[0;32m/Users/philharnish/Projects/forge/src/puzzle/heuristics/acrostics/_acrostic_search.py\u001b[0m in \u001b[0;36m_walk_phrase_graph_from\u001b[0;34m(self, pos, acc, acc_weight)\u001b[0m\n\u001b[1;32m     19\u001b[0m     \u001b[0mremaining_distance\u001b[0m \u001b[0;34m=\u001b[0m \u001b[0mtarget\u001b[0m \u001b[0;34m-\u001b[0m \u001b[0mpos\u001b[0m\u001b[0;34m\u001b[0m\u001b[0m\n\u001b[1;32m     20\u001b[0m     \u001b[0mheap\u001b[0m \u001b[0;34m=\u001b[0m \u001b[0mmax_heap\u001b[0m\u001b[0;34m.\u001b[0m\u001b[0mMaxHeap\u001b[0m\u001b[0;34m(\u001b[0m\u001b[0;34m)\u001b[0m\u001b[0;34m\u001b[0m\u001b[0m\n\u001b[0;32m---> 21\u001b[0;31m     \u001b[0;32mfor\u001b[0m \u001b[0mphrase\u001b[0m\u001b[0;34m,\u001b[0m \u001b[0mweight\u001b[0m \u001b[0;32min\u001b[0m \u001b[0mself\u001b[0m\u001b[0;34m.\u001b[0m\u001b[0m_phrases_at\u001b[0m\u001b[0;34m(\u001b[0m\u001b[0mpos\u001b[0m\u001b[0;34m)\u001b[0m\u001b[0;34m:\u001b[0m\u001b[0;34m\u001b[0m\u001b[0m\n\u001b[0m\u001b[1;32m     22\u001b[0m       \u001b[0mphrase_len\u001b[0m \u001b[0;34m=\u001b[0m \u001b[0mlen\u001b[0m\u001b[0;34m(\u001b[0m\u001b[0mphrase\u001b[0m\u001b[0;34m)\u001b[0m\u001b[0;34m\u001b[0m\u001b[0m\n\u001b[1;32m     23\u001b[0m       \u001b[0mscale\u001b[0m \u001b[0;34m=\u001b[0m \u001b[0mphrase_len\u001b[0m \u001b[0;34m/\u001b[0m \u001b[0mremaining_distance\u001b[0m  \u001b[0;31m# n / target : {0 < scale <= 1}.\u001b[0m\u001b[0;34m\u001b[0m\u001b[0m\n",
      "\u001b[0;32m/Users/philharnish/Projects/forge/src/puzzle/heuristics/acrostics/_acrostic_iter.py\u001b[0m in \u001b[0;36m_phrases_at\u001b[0;34m(self, pos)\u001b[0m\n\u001b[1;32m     74\u001b[0m     \u001b[0mphrases_at\u001b[0m \u001b[0;34m=\u001b[0m \u001b[0mself\u001b[0m\u001b[0;34m.\u001b[0m\u001b[0m_phrase_graph\u001b[0m\u001b[0;34m[\u001b[0m\u001b[0mpos\u001b[0m\u001b[0;34m]\u001b[0m\u001b[0;34m\u001b[0m\u001b[0m\n\u001b[1;32m     75\u001b[0m     \u001b[0;31m# Exhaust known phrases first.\u001b[0m\u001b[0;34m\u001b[0m\u001b[0;34m\u001b[0m\u001b[0m\n\u001b[0;32m---> 76\u001b[0;31m     \u001b[0;32mfor\u001b[0m \u001b[0mphrase\u001b[0m \u001b[0;32min\u001b[0m \u001b[0mself\u001b[0m\u001b[0;34m.\u001b[0m\u001b[0m_iter_phrases\u001b[0m\u001b[0;34m(\u001b[0m\u001b[0mphrases_at\u001b[0m\u001b[0;34m)\u001b[0m\u001b[0;34m:\u001b[0m\u001b[0;34m\u001b[0m\u001b[0m\n\u001b[0m\u001b[1;32m     77\u001b[0m       \u001b[0;32myield\u001b[0m \u001b[0mphrase\u001b[0m\u001b[0;34m\u001b[0m\u001b[0m\n\u001b[1;32m     78\u001b[0m     \u001b[0;31m# Then find more.\u001b[0m\u001b[0;34m\u001b[0m\u001b[0;34m\u001b[0m\u001b[0m\n",
      "\u001b[0;32m/Users/philharnish/Projects/forge/src/puzzle/heuristics/acrostics/_acrostic_iter.py\u001b[0m in \u001b[0;36m_iter_phrases\u001b[0;34m(self, phrases)\u001b[0m\n\u001b[1;32m    123\u001b[0m         \u001b[0mitem\u001b[0m\u001b[0;34m,\u001b[0m \u001b[0mweight\u001b[0m \u001b[0;34m=\u001b[0m \u001b[0mnext_best_tuple\u001b[0m\u001b[0;34m\u001b[0m\u001b[0m\n\u001b[1;32m    124\u001b[0m         \u001b[0mcache\u001b[0m\u001b[0;34m[\u001b[0m\u001b[0mcache_id\u001b[0m\u001b[0;34m]\u001b[0m \u001b[0;34m=\u001b[0m \u001b[0;34m(\u001b[0m\u001b[0mnext_best_tuple\u001b[0m\u001b[0;34m,\u001b[0m \u001b[0mbest_items\u001b[0m\u001b[0;34m)\u001b[0m\u001b[0;34m\u001b[0m\u001b[0m\n\u001b[0;32m--> 125\u001b[0;31m         \u001b[0mheapq\u001b[0m\u001b[0;34m.\u001b[0m\u001b[0mheapreplace\u001b[0m\u001b[0;34m(\u001b[0m\u001b[0mbest_phrases\u001b[0m\u001b[0;34m,\u001b[0m \u001b[0;34m(\u001b[0m\u001b[0;34m-\u001b[0m\u001b[0mweight\u001b[0m\u001b[0;34m,\u001b[0m \u001b[0mcache_id\u001b[0m\u001b[0;34m)\u001b[0m\u001b[0;34m)\u001b[0m\u001b[0;34m\u001b[0m\u001b[0m\n\u001b[0m\u001b[1;32m    126\u001b[0m \u001b[0;34m\u001b[0m\u001b[0m\n\u001b[1;32m    127\u001b[0m \u001b[0;34m\u001b[0m\u001b[0m\n",
      "\u001b[0;31mKeyboardInterrupt\u001b[0m: "
     ]
    }
   ],
   "source": [
    "import forge\n",
    "from puzzle.puzzlepedia import puzzlepedia\n",
    "\n",
    "puzzle = puzzlepedia.parse(\"\"\"\n",
    "CRAB\n",
    "ARMS\n",
    "BIRD\n",
    "COAT\n",
    "WINGS\n",
    "ASH\n",
    "RISE\n",
    "STONE\n",
    "NOSE\n",
    "FIRE\n",
    "HARK\n",
    "HORSE\n",
    "HERD\n",
    "BOA\n",
    "\"\"\", hint='acrostic')"
   ]
  },
  {
   "cell_type": "code",
   "execution_count": 11,
   "metadata": {
    "collapsed": true
   },
   "outputs": [],
   "source": [
    "import forge\n",
    "from puzzle.puzzlepedia import puzzlepedia\n",
    "\n",
    "puzzle = puzzlepedia.parse(\"\"\"\n",
    "ta\n",
    "an\n",
    "ne\n",
    "ar\n",
    "ke\n",
    "ha\n",
    "st\n",
    "eh\n",
    "aa\n",
    "bs\n",
    "eb\n",
    "aa\n",
    "at\n",
    "tk\n",
    "\"\"\", hint='acrostic')"
   ]
  },
  {
   "cell_type": "markdown",
   "metadata": {
    "collapsed": true
   },
   "source": [
    "\n",
    "T honeytraps     /    2 = STONE / HARPY\n",
    "A ambuscader     /    3 = CRAB / MEDUSA\n",
    "\n",
    "A ambuscader     /    3 = CRAB / MEDUSA\n",
    "R hayriders      /    1 = RISE / HYDRA\n",
    "\n",
    "R hayriders      /    1 = RISE / HYDRA\n",
    "T comparative    /    4 = COAT / VAMPIRE\n",
    "\n",
    "T comparative    /    4 = COAT / VAMPIRE\n",
    "K shakerlike     /    4 = HARK / SELKIE\n",
    "\n",
    "K shakerlike     /    4 = HARK / SELKIE\n",
    "E releafing      /    4 = FIRE / ANGEL\n",
    "\n",
    "E releafing      /    4 = FIRE / ANGEL\n",
    "B braiding       /    1 = BIRD / AGNI\n",
    "\n",
    "B braiding       /    1 = BIRD / AGNI\n",
    "S crowings       /    5 = WINGS / ROC\n",
    "\n",
    "S crowings       /    5 = WINGS / ROC\n",
    "T honeytraps     /    2 = STONE / HARPY\n",
    "\n",
    "\n",
    "\n",
    "A anagrams       /    1 = ARMS / NAGA\n",
    "N misdemeanor    /    1 = NOSE / MERMAID\n",
    "\n",
    "N misdemeanor    /    1 = NOSE / MERMAID\n",
    "E tougheners     /    5 = HORSE / TENGU\n",
    "\n",
    "E tougheners     /    5 = HORSE / TENGU\n",
    "H unchartered    /    1 = HERD / CENTAUR\n",
    "\n",
    "H unchartered    /    1 = HERD / CENTAUR\n",
    "A handsome       /    1 = ASH / DEMON\n",
    "\n",
    "A handsome       /    1 = ASH / DEMON\n",
    "A xenophobia     /    3 = BOA / PHOENIX\n",
    "\n",
    "A xenophobia     /    3 = BOA / PHOENIX\n",
    "A anagrams       /    1 = ARMS / NAGA\n"
   ]
  },
  {
   "cell_type": "markdown",
   "metadata": {
    "collapsed": true
   },
   "source": [
    "B braiding       /    1 = BIRD / AGNI\n",
    "E releafing      /    4 = FIRE / ANGEL\n",
    "H unchartered    /    1 = HERD / CENTAUR\n",
    "A handsome       /    1 = ASH / DEMON\n",
    "T honeytraps     /    2 = STONE / HARPY\n",
    "R hayriders      /    1 = RISE / HYDRA\n",
    "A ambuscader     /    3 = CRAB / MEDUSA\n",
    "N misdemeanor    /    1 = NOSE / MERMAID\n",
    "A anagrams       /    1 = ARMS / NAGA\n",
    "A xenophobia     /    3 = BOA / PHOENIX\n",
    "S crowings       /    5 = WINGS / ROC\n",
    "K shakerlike     /    4 = HARK / SELKIE\n",
    "E tougheners     /    5 = HORSE / TENGU\n",
    "T comparative    /    4 = COAT / VAMPIRE"
   ]
  },
  {
   "cell_type": "code",
   "execution_count": 16,
   "metadata": {
    "collapsed": true
   },
   "outputs": [],
   "source": [
    "import forge\n",
    "from puzzle.puzzlepedia import puzzlepedia\n",
    "\n",
    "puzzle = puzzlepedia.parse(\"\"\"\n",
    "* t\n",
    "* a\n",
    "* n\n",
    "* a\n",
    "* k\n",
    "* h\n",
    "* s\n",
    "* e\n",
    "* a\n",
    "* b\n",
    "* e\n",
    "* a\n",
    "* r\n",
    "* t\n",
    "\"\"\", hint='acrostic')"
   ]
  },
  {
   "cell_type": "code",
   "execution_count": 22,
   "metadata": {
    "collapsed": false
   },
   "outputs": [],
   "source": [
    "import forge\n",
    "from puzzle.puzzlepedia import puzzlepedia\n",
    "\n",
    "puzzle = puzzlepedia.parse(\"\"\"\n",
    "* s\n",
    "* e\n",
    "* a\n",
    "* t\n",
    "* a\n",
    "* n\n",
    "* k\n",
    "\"\"\", hint='acrostic')"
   ]
  },
  {
   "cell_type": "code",
   "execution_count": null,
   "metadata": {
    "collapsed": true
   },
   "outputs": [],
   "source": []
  }
 ],
 "metadata": {
  "kernelspec": {
   "display_name": "Python 3",
   "language": "python",
   "name": "python3"
  },
  "language_info": {
   "codemirror_mode": {
    "name": "ipython",
    "version": 3
   },
   "file_extension": ".py",
   "mimetype": "text/x-python",
   "name": "python",
   "nbconvert_exporter": "python",
   "pygments_lexer": "ipython3",
   "version": "3.6.0"
  }
 },
 "nbformat": 4,
 "nbformat_minor": 2
}
