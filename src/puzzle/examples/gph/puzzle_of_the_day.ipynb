{
 "cells": [
  {
   "cell_type": "code",
   "execution_count": 1,
   "metadata": {
    "collapsed": false
   },
   "outputs": [],
   "source": [
    "import forge\n",
    "from puzzle.puzzlepedia import puzzlepedia\n",
    "\n",
    "puzzle = puzzlepedia.parse(\"\"\"\n",
    "Winner or advocate (4|2)\n",
    "Criticize small details (3|2)\n",
    "The Illuminati, for example (4|4)\n",
    "Trachea (4|2)\n",
    "C9H13NO3 (1|8)\n",
    "Altruistic (10|1)\n",
    "Namesake of a triangular fractal (4|4)\n",
    "U.S. state whose name may be used to count out roughly one second (9|0)\n",
    "Rice cooked in seasoned broth (0|3)\n",
    "Fox-like (3|2)\n",
    "Vegetable that gives Popeye superhuman strength (1|4)\n",
    "Chilean dictator (0|6)\n",
    "Animal with sharp quills (5|2)\n",
    "Modern camera smartphones have about 10–15 of these (4|4)\n",
    "Genus of the Taung child (8|6)\n",
    "Newell Brands permanent marker (4|1)\n",
    "Brave, as an explorer (5|1)\n",
    "Tasteless (4|1)\n",
    "French revolutionary figure (5|4)\n",
    "\"\"\", hint='crossword')"
   ]
  },
  {
   "cell_type": "code",
   "execution_count": 2,
   "metadata": {
    "collapsed": false
   },
   "outputs": [],
   "source": [
    "puzzlepedia.interact_with(puzzle)"
   ]
  },
  {
   "cell_type": "code",
   "execution_count": null,
   "metadata": {
    "collapsed": true
   },
   "outputs": [],
   "source": []
  }
 ],
 "metadata": {
  "kernelspec": {
   "display_name": "Python 3",
   "language": "python",
   "name": "python3"
  },
  "language_info": {
   "codemirror_mode": {
    "name": "ipython",
    "version": 3
   },
   "file_extension": ".py",
   "mimetype": "text/x-python",
   "name": "python",
   "nbconvert_exporter": "python",
   "pygments_lexer": "ipython3",
   "version": "3.6.0"
  },
  "widgets": {
   "state": {
    "a8435f4c9be0463e8bc76523ff303283": {
     "views": [
      {
       "cell_index": 1
      }
     ]
    }
   },
   "version": "1.2.0"
  }
 },
 "nbformat": 4,
 "nbformat_minor": 0
}
