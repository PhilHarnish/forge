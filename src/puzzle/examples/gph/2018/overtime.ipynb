{
 "cells": [
  {
   "cell_type": "markdown",
   "metadata": {},
   "source": [
    "# Setup\n",
    "* Names: Charles, Freya, Michelle, Rachel, Stephanie, Tristan\n",
    "* RRR, O?, Y, GGG, B, P\n",
    "* Apples x5, Kiwis x7, Oranges x3, Pumpkins x6, Strawberries x1, Tomatoes x2\n",
    "\n",
    "# On the subject of Houses\n",
    "## F (G), C (Y), R (B), S (O), T (R), M (P)\n",
    "1. x Both Freya and Tristan live next to Charles.\n",
    "1. x Charles has a yellow house.\n",
    "1. x Houses painted with complementary colors aren't neighbors.\n",
    "1. x Rachel lives as far away as possible from Stephanie.\n",
    "1. x Rachel's color mixed with Charles' color gives Freya's color.\n",
    "1. x Stephanie's house color is not blue.\n",
    "1. x The green house is next to Michelle's house, which she just painted purple.\n",
    "1. x The person in the blue house can see Charles' house to the right of Freya's.\n",
    "1. x There is one house of each color, and exactly one person lives in each house.\n",
    "1. x Tristan lives in the red house.\n",
    "\n",
    "# On the subject of Fruit\n",
    "1. x Freya has 3 oranges.\n",
    "1. If A's color mixed with B's color gives C's color, then the number of fruits that C has is equal to the number of fruits that A and B have together.\n",
    "1. Rachel has the fewest number of fruit, which are strawberries.\n",
    "1. The red house grows apples. There are fewer apples than kiwis.\n",
    "1. There are 24 fruits in all.\n",
    "1. There are double the number of pumpkins as oranges.\n",
    "1. x Tomatoes are a fruit.\n",
    "\n",
    "# On the subject of Roses\n",
    "## RYGPGRRGBP\n",
    "1. Exactly one green rose doesn't touch any red roses.\n",
    "2. x From left to right, these roses appear in this order, but not necessarily consecutively: Yellow, Green, Green, Blue, Purple.\n",
    "3. x One color of rose does not appear at all.\n",
    "4. x Red and green are the most common roses, and appear 3 times each.\n",
    "5. Red roses never border blue or purple roses.\n",
    "6. The roses in the middle of the left and right halves are both green.\n",
    "7. x The sequence Green, Red, Red, Green appears somewhere in the row of roses.\n",
    "8. There is one purple rose in the left half and one blue rose in the right half.\n",
    "\n",
    "# Solution\n",
    "* R Tristan  T\n",
    "* Y Charles  H\n",
    "* G Freya    E\n",
    "* P Michelle L\n",
    "* G Freya    E\n",
    "* R Tristan  T\n",
    "* R Tristan  T\n",
    "* G Freya    E\n",
    "* B Rachel   R\n",
    "* P Michelle L"
   ]
  },
  {
   "cell_type": "code",
   "execution_count": 14,
   "metadata": {
    "collapsed": false
   },
   "outputs": [],
   "source": [
    "import forge\n",
    "from puzzle.puzzlepedia import puzzlepedia\n",
    "\n",
    "# On the subject of Fruit.\n",
    "puzzle = puzzlepedia.parse(\"\"\"\n",
    "A = variable(1, 20, 'A')\n",
    "K = variable(1, 20, 'K')\n",
    "O = variable(3, 4, 'O')\n",
    "P = variable(1, 20, 'P')\n",
    "S = variable(1, 20, 'S')\n",
    "T = variable(1, 20, 'T')\n",
    "x = variable(1, 20, 'x')\n",
    "y = variable(1, 20, 'y')\n",
    "z = variable(1, 20, 'z')\n",
    "\n",
    "# x Freya has 3 oranges.\n",
    "O == 3\n",
    "\n",
    "# If A's color mixed with B's color gives C's color, then the number of fruits that C has is equal to the number of fruits that A and B have together.\n",
    "S + x == 3\n",
    "A + x == y\n",
    "A + S == z\n",
    "S < O\n",
    "for free in [x, y, z]:\n",
    "  free == K or free == P or free == T\n",
    "\n",
    "# x Rachel has the fewest number of fruit, which are strawberries.\n",
    "all(S < f for f in [A, K, O, P, T])\n",
    "\n",
    "# x The red house grows apples. There are fewer apples than kiwis.\n",
    "A < K\n",
    "\n",
    "# x There are 24 fruits in all.\n",
    "A + K + O + P + S + T == 24\n",
    "\n",
    "# x There are double the number of pumpkins as oranges.\n",
    "P == O * 2\n",
    "\n",
    "# x Tomatoes are a fruit.\n",
    "\n",
    "\"\"\".lower())"
   ]
  },
  {
   "cell_type": "code",
   "execution_count": null,
   "metadata": {
    "collapsed": true
   },
   "outputs": [],
   "source": []
  }
 ],
 "metadata": {
  "kernelspec": {
   "display_name": "Python 3",
   "language": "python",
   "name": "python3"
  },
  "language_info": {
   "codemirror_mode": {
    "name": "ipython",
    "version": 3
   },
   "file_extension": ".py",
   "mimetype": "text/x-python",
   "name": "python",
   "nbconvert_exporter": "python",
   "pygments_lexer": "ipython3",
   "version": "3.6.0"
  },
  "widgets": {
   "state": {
    "ce878c08fc2749eea9ffac36cc53e6d0": {
     "views": [
      {
       "cell_index": 1
      }
     ]
    }
   },
   "version": "1.2.0"
  }
 },
 "nbformat": 4,
 "nbformat_minor": 2
}
