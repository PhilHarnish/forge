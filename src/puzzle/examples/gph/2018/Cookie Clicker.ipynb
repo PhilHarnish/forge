{
 "cells": [
  {
   "cell_type": "code",
   "execution_count": 264,
   "metadata": {
    "collapsed": false
   },
   "outputs": [],
   "source": [
    "import time\n",
    "\n",
    "import Quartz\n",
    "from Quartz.CoreGraphics import CGEventCreateMouseEvent\n",
    "from Quartz.CoreGraphics import CGEventPost\n",
    "from Quartz.CoreGraphics import kCGEventMouseMoved\n",
    "from Quartz.CoreGraphics import kCGEventLeftMouseDown\n",
    "from Quartz.CoreGraphics import kCGEventLeftMouseDown\n",
    "from Quartz.CoreGraphics import kCGEventLeftMouseUp\n",
    "from Quartz.CoreGraphics import kCGMouseButtonLeft\n",
    "from Quartz.CoreGraphics import kCGHIDEventTap\n",
    "\n",
    "class State(object):\n",
    "  x: int = 0\n",
    "  y: int = 0\n",
    "\n",
    "_STATE = State()\n",
    "\n",
    "def mouse_event(type, x, y):\n",
    "  _STATE.x = x\n",
    "  _STATE.y = y\n",
    "  e = CGEventCreateMouseEvent(\n",
    "      None, \n",
    "      type, \n",
    "      (x, y), \n",
    "      kCGMouseButtonLeft)\n",
    "  CGEventPost(kCGHIDEventTap, e)\n",
    "\n",
    "def mouse_position():\n",
    "  return Quartz.CGEventGetLocation(Quartz.CGEventCreate(None))\n",
    "  \n",
    "def mouse_move(x, y):\n",
    "  global _LAST\n",
    "  mouse_event(kCGEventMouseMoved, x, y);\n",
    "\n",
    "def mouse_click(x=None, y=None, hold_ms=(50/1000)):\n",
    "  if x is None and y is None and mouse_position() != (_STATE.x, _STATE.y):\n",
    "    raise Exception('Mouse moved.')\n",
    "  if x is None:\n",
    "    x = _STATE.x\n",
    "  if y is None:\n",
    "    y = _STATE.y\n",
    "  # uncomment this line if you want to force the mouse \n",
    "  # to MOVE to the click location first (I found it was not necessary).\n",
    "  # mouse_event(kCGEventMouseMoved, x, y);\n",
    "  time.sleep(5 / 1000)\n",
    "  mouse_event(kCGEventLeftMouseDown, x, y);\n",
    "  time.sleep(hold_ms)\n",
    "  mouse_event(kCGEventLeftMouseUp, x, y);"
   ]
  },
  {
   "cell_type": "code",
   "execution_count": 265,
   "metadata": {
    "collapsed": false
   },
   "outputs": [
    {
     "data": {
      "text/plain": [
       "<NSPoint x=376.45703125 y=519.0546875>"
      ]
     },
     "execution_count": 265,
     "metadata": {},
     "output_type": "execute_result"
    }
   ],
   "source": [
    "mouse_position()"
   ]
  },
  {
   "cell_type": "code",
   "execution_count": 293,
   "metadata": {
    "collapsed": false
   },
   "outputs": [],
   "source": [
    "from pynput import keyboard"
   ]
  },
  {
   "cell_type": "code",
   "execution_count": 23,
   "metadata": {
    "collapsed": false
   },
   "outputs": [],
   "source": [
    "# LEVEL 1.\n",
    "mouse_move(1300, 600)\n",
    "for x in range(66):\n",
    "  mouse_click()\n",
    "  time.sleep(50 / 1000)"
   ]
  },
  {
   "cell_type": "code",
   "execution_count": 33,
   "metadata": {
    "collapsed": true
   },
   "outputs": [],
   "source": [
    "# LEVEL 2.\n",
    "mouse_move(1300, 600)\n",
    "for x in range(30):\n",
    "  mouse_click()\n",
    "  time.sleep(50 / 1000)"
   ]
  },
  {
   "cell_type": "code",
   "execution_count": 62,
   "metadata": {
    "collapsed": false
   },
   "outputs": [
    {
     "ename": "KeyboardInterrupt",
     "evalue": "",
     "output_type": "error",
     "traceback": [
      "\u001b[0;31m---------------------------------------------------------------------------\u001b[0m",
      "\u001b[0;31mKeyboardInterrupt\u001b[0m                         Traceback (most recent call last)",
      "\u001b[0;32m<ipython-input-62-ceeab2a99e78>\u001b[0m in \u001b[0;36m<module>\u001b[0;34m()\u001b[0m\n\u001b[1;32m      4\u001b[0m   \u001b[0mmouse_click\u001b[0m\u001b[0;34m(\u001b[0m\u001b[0mhold_ms\u001b[0m\u001b[0;34m=\u001b[0m\u001b[0;34m(\u001b[0m\u001b[0mx\u001b[0m \u001b[0;34m*\u001b[0m \u001b[0;36m500\u001b[0m\u001b[0;34m)\u001b[0m\u001b[0;34m/\u001b[0m\u001b[0;36m1000\u001b[0m\u001b[0;34m)\u001b[0m\u001b[0;34m\u001b[0m\u001b[0m\n\u001b[1;32m      5\u001b[0m   \u001b[0mtime\u001b[0m\u001b[0;34m.\u001b[0m\u001b[0msleep\u001b[0m\u001b[0;34m(\u001b[0m\u001b[0;36m500\u001b[0m \u001b[0;34m/\u001b[0m \u001b[0;36m1000\u001b[0m\u001b[0;34m)\u001b[0m\u001b[0;34m\u001b[0m\u001b[0m\n\u001b[0;32m----> 6\u001b[0;31m   \u001b[0mmouse_click\u001b[0m\u001b[0;34m(\u001b[0m\u001b[0mhold_ms\u001b[0m\u001b[0;34m=\u001b[0m\u001b[0;34m(\u001b[0m\u001b[0mx\u001b[0m \u001b[0;34m*\u001b[0m \u001b[0;36m500\u001b[0m \u001b[0;34m+\u001b[0m \u001b[0;36m250\u001b[0m\u001b[0;34m)\u001b[0m\u001b[0;34m/\u001b[0m\u001b[0;36m1000\u001b[0m\u001b[0;34m)\u001b[0m\u001b[0;34m\u001b[0m\u001b[0m\n\u001b[0m\u001b[1;32m      7\u001b[0m   \u001b[0mtime\u001b[0m\u001b[0;34m.\u001b[0m\u001b[0msleep\u001b[0m\u001b[0;34m(\u001b[0m\u001b[0;36m500\u001b[0m \u001b[0;34m/\u001b[0m \u001b[0;36m1000\u001b[0m\u001b[0;34m)\u001b[0m\u001b[0;34m\u001b[0m\u001b[0m\n",
      "\u001b[0;32m<ipython-input-35-0d390b98591a>\u001b[0m in \u001b[0;36mmouse_click\u001b[0;34m(x, y, hold_ms)\u001b[0m\n\u001b[1;32m     40\u001b[0m   \u001b[0mtime\u001b[0m\u001b[0;34m.\u001b[0m\u001b[0msleep\u001b[0m\u001b[0;34m(\u001b[0m\u001b[0;36m5\u001b[0m \u001b[0;34m/\u001b[0m \u001b[0;36m1000\u001b[0m\u001b[0;34m)\u001b[0m\u001b[0;34m\u001b[0m\u001b[0m\n\u001b[1;32m     41\u001b[0m   \u001b[0mmouse_event\u001b[0m\u001b[0;34m(\u001b[0m\u001b[0mkCGEventLeftMouseDown\u001b[0m\u001b[0;34m,\u001b[0m \u001b[0mx\u001b[0m\u001b[0;34m,\u001b[0m \u001b[0my\u001b[0m\u001b[0;34m)\u001b[0m\u001b[0;34m;\u001b[0m\u001b[0;34m\u001b[0m\u001b[0m\n\u001b[0;32m---> 42\u001b[0;31m   \u001b[0mtime\u001b[0m\u001b[0;34m.\u001b[0m\u001b[0msleep\u001b[0m\u001b[0;34m(\u001b[0m\u001b[0mhold_ms\u001b[0m\u001b[0;34m)\u001b[0m\u001b[0;34m\u001b[0m\u001b[0m\n\u001b[0m\u001b[1;32m     43\u001b[0m   \u001b[0mmouse_event\u001b[0m\u001b[0;34m(\u001b[0m\u001b[0mkCGEventLeftMouseUp\u001b[0m\u001b[0;34m,\u001b[0m \u001b[0mx\u001b[0m\u001b[0;34m,\u001b[0m \u001b[0my\u001b[0m\u001b[0;34m)\u001b[0m\u001b[0;34m;\u001b[0m\u001b[0;34m\u001b[0m\u001b[0m\n",
      "\u001b[0;31mKeyboardInterrupt\u001b[0m: "
     ]
    }
   ],
   "source": [
    "# LEVEL 3.\n",
    "mouse_move(1300, 600)\n",
    "for x in range(4, 18):\n",
    "  mouse_click(hold_ms=(x * 500)/1000)\n",
    "  time.sleep(500 / 1000)\n",
    "  mouse_click(hold_ms=(x * 500 + 250)/1000)\n",
    "  time.sleep(500 / 1000)\n"
   ]
  },
  {
   "cell_type": "code",
   "execution_count": 63,
   "metadata": {
    "collapsed": true
   },
   "outputs": [],
   "source": [
    "# LEVEL 4.\n",
    "mouse_move(1300, 600)\n",
    "for x in range(8):\n",
    "  mouse_click(hold_ms=1000/1000)\n",
    "  time.sleep(1000 / 1000)\n"
   ]
  },
  {
   "cell_type": "code",
   "execution_count": 255,
   "metadata": {
    "collapsed": true
   },
   "outputs": [],
   "source": [
    "CODE = {\n",
    "  '.': '.',\n",
    "  '-': '-',\n",
    "  ' ': ' ',\n",
    "\n",
    "  'A': '.-',     'B': '-...',   'C': '-.-.', \n",
    "  'D': '-..',    'E': '.',      'F': '..-.',\n",
    "  'G': '--.',    'H': '....',   'I': '..',\n",
    "  'J': '.---',   'K': '-.-',    'L': '.-..',\n",
    "  'M': '--',     'N': '-.',     'O': '---',\n",
    "  'P': '.--.',   'Q': '--.-',   'R': '.-.',\n",
    "  'S': '...',    'T': '-',      'U': '..-',\n",
    "  'V': '...-',   'W': '.--',    'X': '-..-',\n",
    "  'Y': '-.--',   'Z': '--..',\n",
    "\n",
    "  '0': '-----',  '1': '.----',  '2': '..---',\n",
    "  '3': '...--',  '4': '....-',  '5': '.....',\n",
    "  '6': '-....',  '7': '--...',  '8': '---..',\n",
    "  '9': '----.',\n",
    "}\n",
    "def word_stats(s):\n",
    "  symbols = [CODE[c] for c in s.upper()]\n",
    "  return s, ' '.join(symbols), len(''.join(symbols))"
   ]
  },
  {
   "cell_type": "code",
   "execution_count": 237,
   "metadata": {
    "collapsed": false
   },
   "outputs": [
    {
     "name": "stdout",
     "output_type": "stream",
     "text": [
      "('MARATHON', '-- .- .-. .- - .... --- -.', 19)\n",
      "('HORSE', '.... --- .-. ... .', 14)\n",
      "('RACE', '.-. .- -.-. .', 10)\n",
      "('PONY', '.--. --- -. -.--', 13)\n",
      "('EXAMPLE', '. -..- .- -- .--. .-.. .', 18)\n",
      "('ASCII', '.- ... -.-. .. ..', 13)\n"
     ]
    }
   ],
   "source": [
    "for s in ['MARATHON', 'HORSE', 'RACE', 'PONY', 'EXAMPLE', 'ASCII']:\n",
    "  print(word_stats(s))"
   ]
  },
  {
   "cell_type": "code",
   "execution_count": 219,
   "metadata": {
    "collapsed": false
   },
   "outputs": [
    {
     "name": "stdout",
     "output_type": "stream",
     "text": [
      "H = ....\n",
      "O = ---\n",
      "R = .-.\n",
      "S = ...\n",
      "E = .\n"
     ]
    }
   ],
   "source": [
    "# HORSE.\n",
    "mouse_move(1300, 600)\n",
    "mouse_click()  # Give focus.\n",
    "\n",
    "DOT = 200  # ms\n",
    "for c in 'HORSE':\n",
    "  print('%s = %s' % (c, CODE[c]))\n",
    "  for tone in CODE[c]:\n",
    "    if tone == '.':\n",
    "      mouse_click(hold_ms=DOT/1000)\n",
    "    elif tone == '-':\n",
    "      mouse_click(hold_ms=3*DOT/1000)\n",
    "    time.sleep(DOT / 1000)\n",
    "  time.sleep(3*DOT / 1000)"
   ]
  },
  {
   "cell_type": "code",
   "execution_count": 239,
   "metadata": {
    "collapsed": false
   },
   "outputs": [
    {
     "name": "stdout",
     "output_type": "stream",
     "text": [
      "P .--. O --- N -. Y -.-- \n",
      "P .--. O --- N -. Y -.-- \n"
     ]
    }
   ],
   "source": [
    "# MARATHON.\n",
    "mouse_move(1300, 600)\n",
    "mouse_click()  # Give focus.\n",
    "\n",
    "DOT = 75  # ms\n",
    "for word in ['PONY', 'PONY']:\n",
    "  for c in word:\n",
    "    print(c, end=' ')\n",
    "    for tone in CODE[c]:\n",
    "      if tone == '.':\n",
    "        print('.', end='')\n",
    "        mouse_click(hold_ms=DOT/1000)\n",
    "      elif tone == '-':\n",
    "        print('-', end='')\n",
    "        mouse_click(hold_ms=3*DOT/1000)\n",
    "      time.sleep(DOT / 1000)\n",
    "    print(end=' ')\n",
    "    time.sleep(3*DOT / 1000)\n",
    "  time.sleep(4*DOT / 1000)\n",
    "  print()\n"
   ]
  },
  {
   "cell_type": "code",
   "execution_count": 317,
   "metadata": {
    "collapsed": false
   },
   "outputs": [
    {
     "name": "stdout",
     "output_type": "stream",
     "text": [
      "-.-. ...-- ... .---- . .---- .\n"
     ]
    }
   ],
   "source": [
    "# PASSKEY.\n",
    "mouse_move(1300, 600)\n",
    "mouse_click()  # Give focus.\n",
    "\n",
    "DOT = 375  # ms\n",
    "# CV S1 E1\n",
    "for word in ['-.-. ...-- ... .---- . .---- .']:\n",
    "  for c in word:\n",
    "    if c in '.- ':\n",
    "      print(c, end='')\n",
    "    else:\n",
    "      print(c, CODE[c], end=' ')\n",
    "    for tone in CODE[c]:\n",
    "      if tone == '.':\n",
    "        mouse_click(hold_ms=DOT/1000)\n",
    "      elif tone == '-':\n",
    "        mouse_click(hold_ms=3*DOT/1000)\n",
    "      if c not in '.-':\n",
    "        time.sleep(DOT / 1000)\n",
    "    time.sleep(2*DOT / 1000)\n",
    "  print()\n",
    "  time.sleep(4*DOT / 1000)  # 3 (above) + 4 (remaining) = 7"
   ]
  },
  {
   "cell_type": "code",
   "execution_count": 275,
   "metadata": {
    "collapsed": true
   },
   "outputs": [
    {
     "name": "stdout",
     "output_type": "stream",
     "text": [
      "A .- S ... "
     ]
    },
    {
     "ename": "Exception",
     "evalue": "Mouse moved.",
     "output_type": "error",
     "traceback": [
      "\u001b[0;31m---------------------------------------------------------------------------\u001b[0m",
      "\u001b[0;31mException\u001b[0m                                 Traceback (most recent call last)",
      "\u001b[0;32m<ipython-input-275-723c02ab83a0>\u001b[0m in \u001b[0;36m<module>\u001b[0;34m()\u001b[0m\n\u001b[1;32m     10\u001b[0m       \u001b[0mmouse_click\u001b[0m\u001b[0;34m(\u001b[0m\u001b[0mhold_ms\u001b[0m\u001b[0;34m=\u001b[0m\u001b[0mDOT\u001b[0m\u001b[0;34m/\u001b[0m\u001b[0;36m1000\u001b[0m\u001b[0;34m)\u001b[0m\u001b[0;34m\u001b[0m\u001b[0m\n\u001b[1;32m     11\u001b[0m     \u001b[0;32melif\u001b[0m \u001b[0mtone\u001b[0m \u001b[0;34m==\u001b[0m \u001b[0;34m'.'\u001b[0m\u001b[0;34m:\u001b[0m\u001b[0;34m\u001b[0m\u001b[0m\n\u001b[0;32m---> 12\u001b[0;31m       \u001b[0mmouse_click\u001b[0m\u001b[0;34m(\u001b[0m\u001b[0mhold_ms\u001b[0m\u001b[0;34m=\u001b[0m\u001b[0;36m3\u001b[0m\u001b[0;34m*\u001b[0m\u001b[0mDOT\u001b[0m\u001b[0;34m/\u001b[0m\u001b[0;36m1000\u001b[0m\u001b[0;34m)\u001b[0m\u001b[0;34m\u001b[0m\u001b[0m\n\u001b[0m\u001b[1;32m     13\u001b[0m     \u001b[0mtime\u001b[0m\u001b[0;34m.\u001b[0m\u001b[0msleep\u001b[0m\u001b[0;34m(\u001b[0m\u001b[0mDOT\u001b[0m \u001b[0;34m/\u001b[0m \u001b[0;36m1000\u001b[0m\u001b[0;34m)\u001b[0m\u001b[0;34m\u001b[0m\u001b[0m\n\u001b[1;32m     14\u001b[0m   \u001b[0mtime\u001b[0m\u001b[0;34m.\u001b[0m\u001b[0msleep\u001b[0m\u001b[0;34m(\u001b[0m\u001b[0;36m3\u001b[0m\u001b[0;34m*\u001b[0m\u001b[0mDOT\u001b[0m \u001b[0;34m/\u001b[0m \u001b[0;36m1000\u001b[0m\u001b[0;34m)\u001b[0m\u001b[0;34m\u001b[0m\u001b[0m\n",
      "\u001b[0;32m<ipython-input-264-9e8aedb7a65d>\u001b[0m in \u001b[0;36mmouse_click\u001b[0;34m(x, y, hold_ms)\u001b[0m\n\u001b[1;32m     36\u001b[0m \u001b[0;32mdef\u001b[0m \u001b[0mmouse_click\u001b[0m\u001b[0;34m(\u001b[0m\u001b[0mx\u001b[0m\u001b[0;34m=\u001b[0m\u001b[0;32mNone\u001b[0m\u001b[0;34m,\u001b[0m \u001b[0my\u001b[0m\u001b[0;34m=\u001b[0m\u001b[0;32mNone\u001b[0m\u001b[0;34m,\u001b[0m \u001b[0mhold_ms\u001b[0m\u001b[0;34m=\u001b[0m\u001b[0;34m(\u001b[0m\u001b[0;36m50\u001b[0m\u001b[0;34m/\u001b[0m\u001b[0;36m1000\u001b[0m\u001b[0;34m)\u001b[0m\u001b[0;34m)\u001b[0m\u001b[0;34m:\u001b[0m\u001b[0;34m\u001b[0m\u001b[0m\n\u001b[1;32m     37\u001b[0m   \u001b[0;32mif\u001b[0m \u001b[0mx\u001b[0m \u001b[0;32mis\u001b[0m \u001b[0;32mNone\u001b[0m \u001b[0;32mand\u001b[0m \u001b[0my\u001b[0m \u001b[0;32mis\u001b[0m \u001b[0;32mNone\u001b[0m \u001b[0;32mand\u001b[0m \u001b[0mmouse_position\u001b[0m\u001b[0;34m(\u001b[0m\u001b[0;34m)\u001b[0m \u001b[0;34m!=\u001b[0m \u001b[0;34m(\u001b[0m\u001b[0m_STATE\u001b[0m\u001b[0;34m.\u001b[0m\u001b[0mx\u001b[0m\u001b[0;34m,\u001b[0m \u001b[0m_STATE\u001b[0m\u001b[0;34m.\u001b[0m\u001b[0my\u001b[0m\u001b[0;34m)\u001b[0m\u001b[0;34m:\u001b[0m\u001b[0;34m\u001b[0m\u001b[0m\n\u001b[0;32m---> 38\u001b[0;31m     \u001b[0;32mraise\u001b[0m \u001b[0mException\u001b[0m\u001b[0;34m(\u001b[0m\u001b[0;34m'Mouse moved.'\u001b[0m\u001b[0;34m)\u001b[0m\u001b[0;34m\u001b[0m\u001b[0m\n\u001b[0m\u001b[1;32m     39\u001b[0m   \u001b[0;32mif\u001b[0m \u001b[0mx\u001b[0m \u001b[0;32mis\u001b[0m \u001b[0;32mNone\u001b[0m\u001b[0;34m:\u001b[0m\u001b[0;34m\u001b[0m\u001b[0m\n\u001b[1;32m     40\u001b[0m     \u001b[0mx\u001b[0m \u001b[0;34m=\u001b[0m \u001b[0m_STATE\u001b[0m\u001b[0;34m.\u001b[0m\u001b[0mx\u001b[0m\u001b[0;34m\u001b[0m\u001b[0m\n",
      "\u001b[0;31mException\u001b[0m: Mouse moved."
     ]
    }
   ],
   "source": [
    "# FAUCET.\n",
    "mouse_move(1300, 600)\n",
    "mouse_click()  # Give focus.\n",
    "\n",
    "DOT = 750  # ms\n",
    "for c in 'ASCII':\n",
    "  print(c, CODE[c], end=' ')\n",
    "  for tone in CODE[c]:\n",
    "    if tone == '-':  # INVERTED\n",
    "      mouse_click(hold_ms=DOT/1000)\n",
    "    elif tone == '.':\n",
    "      mouse_click(hold_ms=3*DOT/1000)\n",
    "    time.sleep(DOT / 1000)\n",
    "  time.sleep(3*DOT / 1000)\n",
    "print()\n",
    "time.sleep(7*DOT / 1000)"
   ]
  },
  {
   "cell_type": "code",
   "execution_count": null,
   "metadata": {
    "collapsed": true
   },
   "outputs": [],
   "source": []
  }
 ],
 "metadata": {
  "kernelspec": {
   "display_name": "Python 3",
   "language": "python",
   "name": "python3"
  },
  "language_info": {
   "codemirror_mode": {
    "name": "ipython",
    "version": 3
   },
   "file_extension": ".py",
   "mimetype": "text/x-python",
   "name": "python",
   "nbconvert_exporter": "python",
   "pygments_lexer": "ipython3",
   "version": "3.6.0"
  }
 },
 "nbformat": 4,
 "nbformat_minor": 2
}
