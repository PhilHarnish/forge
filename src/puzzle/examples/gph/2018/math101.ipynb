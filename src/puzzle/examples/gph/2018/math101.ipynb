{
 "cells": [
  {
   "cell_type": "code",
   "execution_count": 15,
   "metadata": {
    "collapsed": false
   },
   "outputs": [
    {
     "name": "stdout",
     "output_type": "stream",
     "text": [
      "A02593 B02865 C03122 D03397 E03664\n",
      "A00161 B00180 C03090 D03348 E03680\n",
      "A02599 B45312 C49685 D53831 E59136\n",
      "A41488 B45680 C50261 D54816 E58960\n",
      "A00162 B00179 C00196 D00213 E00230\n",
      "A00164 B02841 C03104 D03362 E03620\n",
      "A00160 B00178 C00196 D00213 E00231\n",
      "A02709 B45345 C49761 D53881 E58481\n",
      "A663572 B729120 C796200 D862481 E930304\n",
      "A00162 B02850 C03160 D03474 E57638\n",
      "A02595 B02864 C03129 D03399 E03673\n"
     ]
    }
   ],
   "source": [
    "answers = \"\"\"\n",
    "A21  B31  C32  D45  E50\n",
    "A1  B4  C12  D14  E60\n",
    "A27  B100  C215  D247  E700\n",
    "A210  B270  C455  D620  E650\n",
    "A2  B3  C4  D5  E6\n",
    "A4  B19  C20  D22  E24\n",
    "A0  B2  C4  D5  E7\n",
    "A95  B121  C261  D279  E471\n",
    "A2014  B2020  C2628  D2911  E3200\n",
    "A2  B22  C58  D92  E126\n",
    "A23  B30  C39  D47  E59\n",
    "\"\"\".strip()\n",
    "\n",
    "correct = \"\"\"\n",
    "01000\n",
    "00101\n",
    "11000\n",
    "00001\n",
    "00100\n",
    "00101\n",
    "00011\n",
    "01001\n",
    "01101\n",
    "00001\n",
    "01100\n",
    "\"\"\".strip()\n",
    "\n",
    "prefix = 'ABCDEFG'\n",
    "for line, correct in zip(answers.split('\\n'), correct.split('\\n')):\n",
    "  ns = []\n",
    "  for i, a in enumerate(line.split()):\n",
    "    ns.append('%s%05d' % (prefix[i], int('0x%s' % a, 0)))\n",
    "  print(' '.join(map(str, ns)))\n",
    "      "
   ]
  },
  {
   "cell_type": "code",
   "execution_count": null,
   "metadata": {
    "collapsed": true
   },
   "outputs": [],
   "source": []
  }
 ],
 "metadata": {
  "kernelspec": {
   "display_name": "Python 3",
   "language": "python",
   "name": "python3"
  },
  "language_info": {
   "codemirror_mode": {
    "name": "ipython",
    "version": 3
   },
   "file_extension": ".py",
   "mimetype": "text/x-python",
   "name": "python",
   "nbconvert_exporter": "python",
   "pygments_lexer": "ipython3",
   "version": "3.6.0"
  }
 },
 "nbformat": 4,
 "nbformat_minor": 2
}
