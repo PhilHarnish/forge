{
 "cells": [
  {
   "cell_type": "code",
   "execution_count": 3,
   "metadata": {
    "collapsed": false
   },
   "outputs": [
    {
     "name": "stdout",
     "output_type": "stream",
     "text": [
      "is_sat True\n",
      "is_unsat False\n",
      " 9\t 8\t 7\t 3\t 4\t##\t-8\t 9\t 6\n",
      " 4\t-9\t 3\t 1\t 2\t##\t 1\t 4\t 2\n",
      "-1\t 6\t 2\t##\t 1\t 8\t 4\t 7\t 9\n",
      "##\t##\t 9\t 6\t-8\t 5\t##\t 1\t 3\n",
      " 9\t 5\t 8\t 7\t##\t 3\t 9\t-2\t 1\n",
      " 4\t 2\t##\t 8\t 9\t-4\t 6\t##\t##\n",
      " 6\t 1\t 3\t-9\t 2\t##\t 1\t 2\t 7\n",
      " 8\t 6\t-1\t##\t 1\t 2\t 4\t 3\t 5\n",
      " 7\t 3\t 5\t##\t 5\t 3\t 2\t 6\t-1\n"
     ]
    }
   ],
   "source": [
    "import Numberjack\n",
    "G = Numberjack.Matrix(9, 9, -9, 9)\n",
    "model = Numberjack.Model()\n",
    "a = model.add\n",
    "\n",
    "visited = {}\n",
    "\n",
    "def t(start, end, total):\n",
    "  results = []\n",
    "  r1, c1 = start\n",
    "  r2, c2 = end\n",
    "  if r1 == r2:\n",
    "    results = [G[r1][c] for c in range(c1, c2 + 1)]\n",
    "  elif c1 == c2:\n",
    "    results = [G[r][c1] for r in range(r1, r2 + 1)]\n",
    "  else:\n",
    "    raise Exception(start, end)\n",
    "  for exp in results:\n",
    "    visited[exp.name()] = True\n",
    "  model.add(Numberjack.Sum(results) == total)\n",
    "  model.add(Numberjack.AllDiff([Numberjack.Abs(x) for x in results]))\n",
    "  for x in results:\n",
    "    model.add(x != 0)\n",
    "\n",
    "\n",
    "def r(row, start, end, total):\n",
    "  t((row, start), (row, end), total)\n",
    "\n",
    "\n",
    "def c(col, start, end, total):\n",
    "  t((start, col), (end, col), total)\n",
    "\n",
    "\n",
    "r(0, 0, 4, 31) ; r(0, 6, 8, 7)\n",
    "r(1, 0, 4, 1)  ; r(1, 6, 8, 7)\n",
    "r(2, 0, 2, 7)  ; r(2, 4, 8, 29)\n",
    "r(3, 2, 5, 12) ; r(3, 7, 8, 4)\n",
    "r(4, 0, 3, 29) ; r(4, 5, 8, 11)\n",
    "r(5, 0, 1, 6)  ; r(5, 3, 6, 19)\n",
    "r(6, 0, 4, 3)  ; r(6, 6, 8, 10)\n",
    "r(7, 0, 2, 13) ; r(7, 4, 8, 15)\n",
    "r(8, 0, 2, 15) ; r(8, 4, 8, 15)\n",
    "\n",
    "c(0, 0, 2, 12) ; c(0, 4, 8, 34)\n",
    "c(1, 0, 2, 5)  ; c(1, 4, 8, 17)\n",
    "c(2, 0, 4, 29) ; c(2, 6, 8, 7)\n",
    "c(3, 0, 1, 4)  ; c(3, 3, 6, 12)\n",
    "c(4, 0, 3, -1) ; c(4, 5, 8, 17)\n",
    "c(5, 2, 5, 12) ; c(5, 7, 8, 5)\n",
    "c(6, 0, 2, -3) ; c(6, 4, 8, 22)\n",
    "c(7, 0, 4, 19) ; c(7, 6, 8, 11)\n",
    "c(8, 0, 4, 21) ; c(8, 6, 8, 11)\n",
    "\n",
    "\n",
    "for r in range(9):\n",
    "  group = []\n",
    "  for c in range(9):\n",
    "    if G[r][c].name() in visited:\n",
    "      group.append(G[r][c])\n",
    "  a(Numberjack.Sum([x < 0 for x in group]) == 1)\n",
    "for c in range(9):\n",
    "  group = []\n",
    "  for r in range(9):\n",
    "    if G[r][c].name() in visited:\n",
    "      group.append(G[r][c])\n",
    "  a(Numberjack.Sum([x < 0 for x in group]) == 1)\n",
    "\n",
    "solver = model.load('Mistral')\n",
    "solver.solve()\n",
    "\n",
    "print(\"is_sat\", solver.is_sat())\n",
    "print(\"is_unsat\", solver.is_unsat())\n",
    "\n",
    "for r in range(9):\n",
    "  row = []\n",
    "  for c in range(9):\n",
    "    if G[r][c].name() in visited:\n",
    "      row.append('%2d' % G[r][c].get_value())\n",
    "    else:\n",
    "      row.append('##')\n",
    "  print('\\t'.join(row))\n",
    "    "
   ]
  },
  {
   "cell_type": "code",
   "execution_count": null,
   "metadata": {
    "collapsed": true
   },
   "outputs": [],
   "source": []
  }
 ],
 "metadata": {
  "kernelspec": {
   "display_name": "Python 3",
   "language": "python",
   "name": "python3"
  },
  "language_info": {
   "codemirror_mode": {
    "name": "ipython",
    "version": 3
   },
   "file_extension": ".py",
   "mimetype": "text/x-python",
   "name": "python",
   "nbconvert_exporter": "python",
   "pygments_lexer": "ipython3",
   "version": "3.6.0"
  }
 },
 "nbformat": 4,
 "nbformat_minor": 2
}
