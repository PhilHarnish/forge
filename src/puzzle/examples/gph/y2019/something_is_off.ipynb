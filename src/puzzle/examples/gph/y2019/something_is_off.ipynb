{
 "cells": [
  {
   "cell_type": "code",
   "execution_count": 5,
   "metadata": {
    "collapsed": false
   },
   "outputs": [
    {
     "name": "stdout",
     "output_type": "stream",
     "text": [
      "Solution is...\n",
      "[0, 0, 0, 0, 1, 0, 1, 0]\n",
      "[1, 0, 1, 0, 0, 0, 0, 0]\n",
      "[0, 0, 0, 0, 1, 0, 1, 0]\n",
      "[1, 0, 1, 0, 0, 0, 0, 0]\n",
      "[0, 0, 0, 0, 0, 1, 0, 1]\n",
      "[0, 1, 0, 1, 0, 0, 0, 0]\n",
      "[0, 0, 0, 0, 0, 1, 0, 1]\n",
      "[0, 1, 0, 1, 0, 0, 0, 0]\n",
      "Nodes: 790  Time: 0.029999999999999805\n"
     ]
    }
   ],
   "source": [
    "import Numberjack\n",
    "\n",
    "SIZE = 8\n",
    "grid = Numberjack.Matrix(SIZE, SIZE, 'grid')\n",
    "model = Numberjack.Model()\n",
    "\n",
    "# Two in each row/column.\n",
    "for n in range(SIZE):\n",
    "  model.add(\n",
    "    Numberjack.Sum([grid[n][i] for i in range(SIZE)]) == 2,\n",
    "    Numberjack.Sum([grid[i][n] for i in range(SIZE)]) == 2,\n",
    "  )\n",
    "\n",
    "def if_then(cond, then):\n",
    "  return cond - then <= 0\n",
    "\n",
    "def no_neighbors(grid, x, y):\n",
    "  neighbors = []\n",
    "  for dx in (-1, 0, 1):\n",
    "    for dy in (-1, 0, 1):\n",
    "      if ((0 <= x + dx < SIZE) and\n",
    "          (0 <= y + dy < SIZE) and\n",
    "          not (dx == 0 and dy == 0)):\n",
    "        neighbors.append(grid[x + dx][y + dy])\n",
    "  return Numberjack.Sum(neighbors) == 0\n",
    "\n",
    "# May not touch.\n",
    "for x in range(SIZE):\n",
    "  for y in range(SIZE):\n",
    "    model.add(if_then(grid[x][y], no_neighbors(grid, x, y)))\n",
    "  \n",
    "# TODO: Constrain column 2.\n",
    "# for row in range(0, 3):\n",
    "#   for col in range(0, 3):\n",
    "#     model.add(\n",
    "#         # Ones digit equals target...\n",
    "#         (grid[row][col] % 10 == targets[row][col]) |\n",
    "#         # Tens digit equals target...\n",
    "#         (grid[row][col] - grid[row][col] % 10 == targets[row][col] * 10)\n",
    "#     )\n",
    "# (Not needed.)\n",
    "\n",
    "# Solve.\n",
    "solver = model.load('Mistral')\n",
    "print('Solution is...')\n",
    "solver.solve()\n",
    "for row in range(0, SIZE):\n",
    "  print(grid[row])\n",
    "\n",
    "print('Nodes:', solver.getNodes(), ' Time:', solver.getTime())\n"
   ]
  },
  {
   "cell_type": "code",
   "execution_count": 6,
   "metadata": {
    "collapsed": false
   },
   "outputs": [
    {
     "name": "stdout",
     "output_type": "stream",
     "text": [
      "[0, 1, 0, 1, 0, 0, 0, 0]\n",
      "[0, 0, 0, 0, 0, 1, 0, 1]\n",
      "[0, 1, 0, 1, 0, 0, 0, 0]\n",
      "[0, 0, 0, 0, 0, 1, 0, 1]\n",
      "[1, 0, 1, 0, 0, 0, 0, 0]\n",
      "[0, 0, 0, 0, 1, 0, 1, 0]\n",
      "[1, 0, 1, 0, 0, 0, 0, 0]\n",
      "[0, 0, 0, 0, 1, 0, 1, 0]\n"
     ]
    }
   ],
   "source": [
    "# Print mirrored solution.\n",
    "soln = [\n",
    "[0, 0, 0, 0, 1, 0, 1, 0],\n",
    "[1, 0, 1, 0, 0, 0, 0, 0],\n",
    "[0, 0, 0, 0, 1, 0, 1, 0],\n",
    "[1, 0, 1, 0, 0, 0, 0, 0],\n",
    "[0, 0, 0, 0, 0, 1, 0, 1],\n",
    "[0, 1, 0, 1, 0, 0, 0, 0],\n",
    "[0, 0, 0, 0, 0, 1, 0, 1],\n",
    "[0, 1, 0, 1, 0, 0, 0, 0],\n",
    "]\n",
    "\n",
    "for row in soln:\n",
    "  print(list(reversed(row)))"
   ]
  },
  {
   "cell_type": "code",
   "execution_count": null,
   "metadata": {
    "collapsed": true
   },
   "outputs": [],
   "source": []
  }
 ],
 "metadata": {
  "kernelspec": {
   "display_name": "Python 3",
   "language": "python",
   "name": "python3"
  },
  "language_info": {
   "codemirror_mode": {
    "name": "ipython",
    "version": 3
   },
   "file_extension": ".py",
   "mimetype": "text/x-python",
   "name": "python",
   "nbconvert_exporter": "python",
   "pygments_lexer": "ipython3",
   "version": "3.6.0"
  }
 },
 "nbformat": 4,
 "nbformat_minor": 2
}
