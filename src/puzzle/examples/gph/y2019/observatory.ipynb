{
 "cells": [
  {
   "cell_type": "code",
   "execution_count": 816,
   "metadata": {
    "collapsed": false
   },
   "outputs": [],
   "source": [
    "from forge import *\n",
    "\n",
    "import cv2\n",
    "import numpy as np\n",
    "from IPython.display import display\n",
    "from PIL import Image\n",
    "\n",
    "from data import data\n",
    "\n",
    "images = {\n",
    "  'before': 'src/puzzle/examples/gph/y2019/before.png',\n",
    "  'after': 'src/puzzle/examples/gph/y2019/after.png',\n",
    "}\n",
    "\n",
    "def get_image(src, scale=True):\n",
    "  # download the image, convert it to a NumPy array, and then read\n",
    "  # it into OpenCV format\n",
    "  image = cv2.imread(data.project_path(src), flags=cv2.IMREAD_UNCHANGED)\n",
    "  if scale:\n",
    "    return image[::4, ::4, :3]\n",
    "  return image\n",
    "\n",
    "def enhance(img):\n",
    "  kernel = np.ones((2, 2), np.uint8)\n",
    "  return cv2.dilate(recolor(img), kernel, iterations=1)\n",
    "\n",
    "_VALUE_MAP = {\n",
    "  204: 64,\n",
    "  221: 128,\n",
    "  238: 192,\n",
    "  255: 255,\n",
    "}\n",
    "\n",
    "def recolor(ndarray):\n",
    "  result = ndarray.copy()\n",
    "  for row, col in zip(*result[:,:,:1].nonzero()[:2]):\n",
    "    for channel, value in enumerate(result[row][col]):\n",
    "      try:\n",
    "        result[row][col][channel] = _VALUE_MAP[value]\n",
    "      except:\n",
    "        pass\n",
    "  return result\n",
    "\n",
    "def show(img, should_enhance=True):\n",
    "  if should_enhance:\n",
    "    img = enhance(recolor(img))\n",
    "  display(Image.fromarray(img))\n",
    "\n",
    "def pt(x):\n",
    "  a, b = x\n",
    "  return b, a\n",
    "\n",
    "WHITE = (255, 255, 255)\n",
    "\n",
    "\n",
    "import collections\n",
    "import heapq\n",
    "import itertools\n",
    "\n",
    "from typing import Generic, Iterable, Tuple, TypeVar\n",
    "\n",
    "T = TypeVar('T')\n",
    "\n",
    "\n",
    "class MinHeap(Generic[T]):\n",
    "  def __init__(self) -> None:\n",
    "    self._heap = []\n",
    "    self._pool = []\n",
    "    self._free_positions = []\n",
    "\n",
    "  def __len__(self) -> int:\n",
    "    return len(self._heap)\n",
    "\n",
    "  def push(self, cost: float, o: T) -> None:\n",
    "    if self._free_positions:\n",
    "      idx = self._free_positions.pop()\n",
    "      self._pool[idx] = o\n",
    "    else:\n",
    "      idx = len(self._pool)\n",
    "      self._pool.append(o)\n",
    "    heapq.heappush(self._heap, (cost, idx))\n",
    "\n",
    "  def pop(self) -> Tuple[T, float]:\n",
    "    weight, idx = heapq.heappop(self._heap)\n",
    "    result = self._pool[idx]\n",
    "    self._pool[idx] = None\n",
    "    self._free_positions.append(idx)\n",
    "    return result\n",
    "\n",
    "  def magnitude(self) -> float:\n",
    "    return self._heap[0][0]\n",
    "  \n",
    "  def __repr__(self) -> str:\n",
    "    return 'MinHeap(%s)' % repr(self._heap)\n",
    "  \n",
    "  __str__ = __repr__\n",
    "\n",
    "\n",
    "def calculate_distances(before, after):\n",
    "  distances = MinHeap()\n",
    "  # TODO: Consider luminosity and color too.\n",
    "  for pair in itertools.product(zip(*before.nonzero()[:2]), zip(*after.nonzero()[:2])):\n",
    "    a, b = pair\n",
    "    ax, ay = a\n",
    "    bx, by = b\n",
    "    dist = (bx - ax)**2 + (by - ay)**2\n",
    "    distances.push(dist, pair)\n",
    "  return distances\n",
    "\n",
    "def draw_closest_greedy(before, after, distance_heap):\n",
    "  kernel = np.ones((3, 3), np.uint8)\n",
    "  result = cv2.dilate(after, kernel, iterations=1)\n",
    "  before_seen = set()\n",
    "  after_seen = set()\n",
    "  while distance_heap:\n",
    "    before_pt, after_pt = distance_heap.pop()\n",
    "    if before_pt in before_seen or after_pt in after_seen:\n",
    "      continue\n",
    "    before_seen.add(before_pt)\n",
    "    after_seen.add(after_pt)\n",
    "    row, col = after_pt\n",
    "    r, g, b = after[row][col]\n",
    "    #print(before_pt, after_pt, (int(r), int(g), int(b)), 1)\n",
    "    cv2.line(result, before_pt[::-1], after_pt[::-1], (int(r), int(g), int(b)), 1)\n",
    "  return result\n",
    "\n",
    "def isolate_colors(changed):\n",
    "  result = {}\n",
    "  for row, col in zip(*changed[:,:,:1].nonzero()[:2]):\n",
    "    color = changed[row][col]\n",
    "    key = tuple(color)\n",
    "    if key not in result:\n",
    "      result[key] = np.zeros_like(changed)\n",
    "    isolate = result[key]\n",
    "    isolate[row][col] = color\n",
    "  return result\n",
    "\n",
    "def iter_nonzero(ndarray):\n",
    "  return zip(*ndarray[:,:,:1].nonzero()[:2])\n",
    "\n",
    "\n",
    "import collections\n",
    "\n",
    "def centers(ndarray, labels=None):\n",
    "  result = np.zeros_like(ndarray)\n",
    "\n",
    "  center_x = collections.defaultdict(list)\n",
    "  center_y = collections.defaultdict(list)\n",
    "  for row, col in iter_nonzero(ndarray):\n",
    "    color = tuple(ndarray[row][col])\n",
    "    center_x[color].append(col)\n",
    "    center_y[color].append(row)\n",
    "  for color in center_x:\n",
    "    cx = int(sum(center_x[color]) / len(center_x[color]))\n",
    "    cy = int(sum(center_y[color]) / len(center_y[color]))\n",
    "    r, g, b = color\n",
    "    if labels:\n",
    "      cv2.putText(result, labels[color], (cx, cy), cv2.FONT_HERSHEY_COMPLEX_SMALL, 1, (int(r), int(g), int(b)))\n",
    "    else:\n",
    "      cv2.circle(result, (cx, cy), 4, (int(r), int(g), int(b)))\n",
    "  return result"
   ]
  },
  {
   "cell_type": "code",
   "execution_count": 792,
   "metadata": {
    "collapsed": false
   },
   "outputs": [],
   "source": [
    "before = get_image(images['before'])\n",
    "after = get_image(images['after'])\n",
    "ret, before = cv2.threshold(before, 127, 255, cv2.THRESH_TOZERO)\n",
    "ret, after = cv2.threshold(after, 127, 255, cv2.THRESH_TOZERO)"
   ]
  },
  {
   "cell_type": "code",
   "execution_count": 596,
   "metadata": {
    "collapsed": false
   },
   "outputs": [],
   "source": [
    "same = np.all([before, after], axis=0)\n",
    "changed_after = np.where(same, 0, after)\n",
    "changed_before = np.where(same, 0, before)"
   ]
  },
  {
   "cell_type": "code",
   "execution_count": 177,
   "metadata": {
    "collapsed": false
   },
   "outputs": [
    {
     "data": {
      "text/plain": [
       "41"
      ]
     },
     "execution_count": 177,
     "metadata": {},
     "output_type": "execute_result"
    }
   ],
   "source": [
    "np.count_nonzero(np.all([before, after], axis=0)[:,:,:1])"
   ]
  },
  {
   "cell_type": "code",
   "execution_count": 517,
   "metadata": {
    "collapsed": false
   },
   "outputs": [
    {
     "name": "stdout",
     "output_type": "stream",
     "text": [
      "123\n"
     ]
    },
    {
     "data": {
      "image/png": "[encoded data removed]",
      "text/plain": [
       "<PIL.Image.Image image mode=RGB size=384x384 at 0x10DF09518>"
      ]
     },
     "metadata": {},
     "output_type": "display_data"
    }
   ],
   "source": [
    "unchanged = np.where(same, after, 0)\n",
    "print(np.count_nonzero(unchanged))\n",
    "show(unchanged)"
   ]
  },
  {
   "cell_type": "code",
   "execution_count": 8,
   "metadata": {
    "collapsed": false,
    "scrolled": true
   },
   "outputs": [
    {
     "name": "stdout",
     "output_type": "stream",
     "text": [
      "before\n",
      "245\t9\t#FFFFFF\tA\n",
      "30\t20\t#FFFFFF\tA\n",
      "311\t29\t#FFFFFF\tA\n",
      "187\t36\t#FFFFFF\tA\n",
      "169\t39\t#FFFFFF\tA\n",
      "26\t58\t#FFFFFF\tA\n",
      "74\t60\t#FFFFFF\tA\n",
      "270\t77\t#FFFFFF\tA\n",
      "295\t83\t#FFFFFF\tA\n",
      "263\t85\t#FFFFFF\tA\n",
      "154\t98\t#FFFFFF\tA\n",
      "98\t101\t#FFFFFF\tA\n",
      "207\t110\t#FFFFFF\tA\n",
      "4\t114\t#FFFFFF\tA\n",
      "102\t126\t#FFFFFF\tA\n",
      "262\t127\t#FFFFFF\tA\n",
      "210\t137\t#FFFFFF\tA\n",
      "55\t139\t#FFFFFF\tA\n",
      "98\t140\t#FFFFFF\tA\n",
      "23\t160\t#FFFFFF\tA\n",
      "343\t164\t#FFFFFF\tA\n",
      "139\t167\t#FFFFFF\tA\n",
      "99\t183\t#FFFFFF\tA\n",
      "285\t185\t#FFFFFF\tA\n",
      "235\t188\t#FFFFFF\tA\n",
      "50\t190\t#FFFFFF\tA\n",
      "327\t198\t#FFFFFF\tA\n",
      "356\t199\t#FFFFFF\tA\n",
      "278\t214\t#FFFFFF\tA\n",
      "12\t221\t#FFFFFF\tA\n",
      "91\t222\t#FFFFFF\tA\n",
      "241\t226\t#FFFFFF\tA\n",
      "116\t234\t#FFFFFF\tA\n",
      "380\t234\t#FFFFFF\tA\n",
      "136\t244\t#FFFFFF\tA\n",
      "190\t245\t#FFFFFF\tA\n",
      "43\t255\t#FFFFFF\tA\n",
      "50\t289\t#FFFFFF\tA\n",
      "218\t299\t#FFFFFF\tA\n",
      "292\t299\t#FFFFFF\tA\n",
      "174\t302\t#FFFFFF\tA\n",
      "146\t304\t#FFFFFF\tA\n",
      "309\t313\t#FFFFFF\tA\n",
      "98\t338\t#FFFFFF\tA\n",
      "229\t345\t#FFFFFF\tA\n",
      "after\n",
      "90\t50\t#CCCCFF\tA\n",
      "178\t61\t#CCCCEE\tB\n",
      "193\t63\t#CCCCEE\tB\n",
      "113\t72\t#CCCCFF\tA\n",
      "255\t75\t#CCCCDD\tC\n",
      "292\t78\t#CCCCDD\tC\n",
      "93\t79\t#CCCCFF\tA\n",
      "78\t91\t#CCCCFF\tA\n",
      "208\t91\t#CCCCEE\tB\n",
      "275\t102\t#CCCCDD\tC\n",
      "66\t104\t#DDDDEE\tD\n",
      "224\t105\t#CCCCDD\tC\n",
      "211\t107\t#CCCCDD\tC\n",
      "46\t116\t#DDDDEE\tD\n",
      "148\t117\t#CCCCEE\tB\n",
      "107\t120\t#CCCCFF\tA\n",
      "296\t131\t#CCCCCC\tE\n",
      "67\t132\t#DDDDEE\tD\n",
      "176\t143\t#CCCCEE\tB\n",
      "40\t156\t#DDDDEE\tD\n",
      "38\t171\t#DDDDEE\tD\n",
      "52\t174\t#EEEEDD\tF\n",
      "263\t182\t#CCCCCC\tE\n",
      "277\t184\t#CCCCCC\tE\n",
      "297\t195\t#CCCCCC\tE\n",
      "295\t201\t#CCCCCC\tE\n",
      "317\t202\t#DDDDCC\tG\n",
      "83\t205\t#EEEEDD\tF\n",
      "101\t210\t#EEEEDD\tF\n",
      "35\t212\t#EEEEDD\tF\n",
      "43\t225\t#EEEEDD\tF\n",
      "342\t233\t#DDDDCC\tG\n",
      "130\t248\t#FFFFCC\tH\n",
      "210\t252\t#EEEECC\tI\n",
      "299\t256\t#DDDDCC\tG\n",
      "93\t257\t#FFFFCC\tH\n",
      "236\t269\t#EEEECC\tI\n",
      "244\t281\t#DDDDCC\tG\n",
      "119\t286\t#FFFFCC\tH\n",
      "248\t287\t#DDDDCC\tG\n",
      "168\t296\t#FFFFCC\tH\n",
      "119\t297\t#FFFFCC\tH\n",
      "157\t304\t#EEEECC\tI\n",
      "233\t310\t#EEEECC\tI\n",
      "218\t316\t#EEEECC\tI\n"
     ]
    }
   ],
   "source": [
    "def coords(changed):\n",
    "  colors = {}\n",
    "  for y, row in enumerate(changed):\n",
    "    for x, col in enumerate(row):\n",
    "      if col[0]:\n",
    "        r, g, b = col\n",
    "        combined = r << 16 | r << 8 | b\n",
    "        name = colors.setdefault(combined, chr(ord('A') + len(colors)))\n",
    "        print(f'{x}\\t{y}\\t#{combined:0{6}x}\\t{name}'.upper())\n",
    "print('before')\n",
    "coords(changed_before)\n",
    "print('after')\n",
    "coords(changed_after)"
   ]
  },
  {
   "cell_type": "code",
   "execution_count": 180,
   "metadata": {
    "collapsed": false
   },
   "outputs": [
    {
     "data": {
      "image/png": "[encoded data removed]",
      "text/plain": [
       "<PIL.Image.Image image mode=RGB size=384x384 at 0x121A20DA0>"
      ]
     },
     "metadata": {},
     "output_type": "display_data"
    }
   ],
   "source": [
    "distances = calculate_distances(changed_before, changed_after)\n",
    "\n",
    "show(draw_closest_greedy(changed_before, changed_after, distances))"
   ]
  },
  {
   "cell_type": "code",
   "execution_count": 181,
   "metadata": {
    "collapsed": false
   },
   "outputs": [],
   "source": [
    "import math\n",
    "\n",
    "def angle_sort(data):\n",
    "  results = []\n",
    "  height, width, depth = data.shape\n",
    "  center_x = width / 2\n",
    "  center_y = height / 2\n",
    "  for y, row in enumerate(data):\n",
    "    for x, col in enumerate(row):\n",
    "      cx = x - center_x\n",
    "      cy = y - center_y\n",
    "      if col[0]:\n",
    "        results.append((math.degrees(math.atan2(cy, cx)) % 360, x, y, col))\n",
    "  return sorted(results, key=lambda x: x[0])\n",
    "\n",
    "before_angles = angle_sort(changed_before)\n",
    "after_angles = angle_sort(changed_after)"
   ]
  },
  {
   "cell_type": "code",
   "execution_count": 182,
   "metadata": {
    "collapsed": false
   },
   "outputs": [
    {
     "data": {
      "image/png": "[encoded data removed]",
      "text/plain": [
       "<PIL.Image.Image image mode=RGB size=384x384 at 0x1217DE908>"
      ]
     },
     "metadata": {},
     "output_type": "display_data"
    }
   ],
   "source": [
    "def motion(changed, before_angles, after_angles):\n",
    "  kernel = np.ones((3, 3), np.uint8)\n",
    "  result = cv2.dilate(changed, kernel, iterations=1)\n",
    "  for (before_d, before_x, before_y, _), (after_d, after_x, after_y, (r, g, b)) in zip(before_angles, after_angles):\n",
    "    cv2.line(result, (before_x, before_y), (after_x, after_y), (int(r), int(g), int(b)), 1)\n",
    "  return result\n",
    "\n",
    "show(motion(changed_after, before_angles, after_angles))\n"
   ]
  },
  {
   "cell_type": "code",
   "execution_count": 810,
   "metadata": {
    "collapsed": false
   },
   "outputs": [],
   "source": [
    "import collections\n",
    "\n",
    "def centers(ndarray):\n",
    "  kernel = np.ones((3, 3), np.uint8)\n",
    "  result = np.zeros_like(ndarray)\n",
    "\n",
    "  center_x = collections.defaultdict(list)\n",
    "  center_y = collections.defaultdict(list)\n",
    "  for row, col in iter_nonzero(ndarray):\n",
    "    key = tuple(ndarray[row][col])\n",
    "    center_x[key].append(col)\n",
    "    center_y[key].append(row)\n",
    "  for color in center_x:\n",
    "    cx = int(sum(center_x[color]) / len(center_x[color]))\n",
    "    cy = int(sum(center_y[color]) / len(center_y[color]))\n",
    "    r, g, b = color\n",
    "    cv2.circle(result, (cx, cy), 4, (int(r), int(g), int(b)))\n",
    "  return result"
   ]
  },
  {
   "cell_type": "code",
   "execution_count": 811,
   "metadata": {
    "collapsed": false
   },
   "outputs": [
    {
     "data": {
      "image/png": "[encoded data removed]",
      "text/plain": [
       "<PIL.Image.Image image mode=RGB size=384x384 at 0x12181D3C8>"
      ]
     },
     "metadata": {},
     "output_type": "display_data"
    }
   ],
   "source": [
    "show(centers(changed_after))"
   ]
  },
  {
   "cell_type": "code",
   "execution_count": 215,
   "metadata": {
    "collapsed": false
   },
   "outputs": [
    {
     "name": "stdout",
     "output_type": "stream",
     "text": [
      "0 0\n",
      "0 1\n",
      "0 2\n",
      "1 1\n",
      "1 2\n"
     ]
    }
   ],
   "source": [
    "a = np.array([\n",
    "  [[1, 1], [2, 2], [3, 3]],\n",
    "  [[0, 0], [4, 4], [6, 6]],\n",
    "])\n",
    "for row, col in zip(*a[:,:,:1].nonzero()[:2]):\n",
    "  print(row, col)\n"
   ]
  },
  {
   "cell_type": "code",
   "execution_count": 214,
   "metadata": {
    "collapsed": false
   },
   "outputs": [
    {
     "data": {
      "text/plain": [
       "(array([0, 0, 0, 1, 1]), array([0, 1, 2, 1, 2]))"
      ]
     },
     "execution_count": 214,
     "metadata": {},
     "output_type": "execute_result"
    }
   ],
   "source": [
    "a[:,:,:1].nonzero()[:2]"
   ]
  },
  {
   "cell_type": "code",
   "execution_count": 229,
   "metadata": {
    "collapsed": false
   },
   "outputs": [
    {
     "name": "stdout",
     "output_type": "stream",
     "text": [
      "45\n",
      "45\n"
     ]
    },
    {
     "data": {
      "image/png": "[encoded data removed]",
      "text/plain": [
       "<PIL.Image.Image image mode=RGB size=384x384 at 0x11E6FDF28>"
      ]
     },
     "metadata": {},
     "output_type": "display_data"
    }
   ],
   "source": [
    "kernel = np.ones((3, 3), np.uint8)\n",
    "show(cv2.dilate(changed_before, kernel, iterations=1) + centers(recolor(changed_after)))"
   ]
  },
  {
   "cell_type": "code",
   "execution_count": 285,
   "metadata": {
    "collapsed": false
   },
   "outputs": [],
   "source": [
    "unchanged = np.where(same, after, 0)\n",
    "SEARCH_BOX = 1\n",
    "\n",
    "def find_unchanged_destination(unchanged, before, after):\n",
    "  kernel = np.ones((3, 3), np.uint8)\n",
    "  result = cv2.dilate(after, kernel, iterations=1)\n",
    "  rows, cols = unchanged.shape[:2]\n",
    "  \n",
    "  before_found_counts = collections.defaultdict(int)\n",
    "  after_found_counts = collections.defaultdict(int)\n",
    "  \n",
    "  for pair in itertools.product(zip(*before.nonzero()[:2]), zip(*after.nonzero()[:2])):\n",
    "    b, a = pair\n",
    "    b_row, b_col = b  # Before.\n",
    "    a_row, a_col = a  # After.\n",
    "    d_row = a_row - b_row  # Delta row.\n",
    "    d_col = a_col - b_col  # Delta col.\n",
    "    e_row = b_row + 2 * d_row\n",
    "    e_col = b_col + 2 * d_col\n",
    "    found = 0\n",
    "    if 0 < e_row < rows and 0 < e_col < cols:\n",
    "      for row_offset in range(-SEARCH_BOX + 1, SEARCH_BOX):\n",
    "        for col_offset in range(-SEARCH_BOX + 1, SEARCH_BOX):\n",
    "          end = unchanged[(e_row+row_offset) % rows][(e_col+col_offset) % cols]\n",
    "          if end[0]:\n",
    "            print(b, a, end, row_offset, col_offset)\n",
    "            found += 1\n",
    "    if found:\n",
    "      before_found_counts[b] += 1\n",
    "      after_found_counts[a] += 1\n",
    "  return before_found_counts, after_found_counts\n"
   ]
  },
  {
   "cell_type": "code",
   "execution_count": 286,
   "metadata": {
    "collapsed": false
   },
   "outputs": [
    {
     "name": "stdout",
     "output_type": "stream",
     "text": [
      "(221, 12) (143, 176) [255 255 255] 0 0\n",
      "(221, 12) (143, 176) [255 255 255] 0 0\n",
      "(221, 12) (143, 176) [255 255 255] 0 0\n",
      "(221, 12) (143, 176) [255 255 255] 0 0\n",
      "(221, 12) (143, 176) [255 255 255] 0 0\n",
      "(221, 12) (143, 176) [255 255 255] 0 0\n",
      "(221, 12) (143, 176) [255 255 255] 0 0\n",
      "(221, 12) (143, 176) [255 255 255] 0 0\n",
      "(221, 12) (143, 176) [255 255 255] 0 0\n"
     ]
    },
    {
     "data": {
      "text/plain": [
       "(defaultdict(int, {(221, 12): 9}), defaultdict(int, {(143, 176): 9}))"
      ]
     },
     "execution_count": 286,
     "metadata": {},
     "output_type": "execute_result"
    }
   ],
   "source": [
    "find_unchanged_destination(unchanged, changed_before, changed_after)"
   ]
  },
  {
   "cell_type": "code",
   "execution_count": 291,
   "metadata": {
    "collapsed": false
   },
   "outputs": [],
   "source": []
  },
  {
   "cell_type": "code",
   "execution_count": 407,
   "metadata": {
    "collapsed": false
   },
   "outputs": [],
   "source": [
    "isolated = isolate_colors(changed_after)"
   ]
  },
  {
   "cell_type": "code",
   "execution_count": 408,
   "metadata": {
    "collapsed": false
   },
   "outputs": [
    {
     "data": {
      "text/plain": [
       "dict_keys([(204, 204, 255), (204, 221, 238), (204, 238, 221), (221, 204, 238), (204, 255, 204), (238, 204, 221), (221, 238, 204), (255, 204, 204), (238, 221, 204)])"
      ]
     },
     "execution_count": 408,
     "metadata": {},
     "output_type": "execute_result"
    }
   ],
   "source": [
    "isolated.keys()"
   ]
  },
  {
   "cell_type": "code",
   "execution_count": 410,
   "metadata": {
    "collapsed": false
   },
   "outputs": [
    {
     "data": {
      "image/png": "[encoded data removed]",
      "text/plain": [
       "<PIL.Image.Image image mode=RGB size=384x384 at 0x121A370F0>"
      ]
     },
     "metadata": {},
     "output_type": "display_data"
    }
   ],
   "source": [
    "show(isolated[(204, 204, 255)] + changed_before)"
   ]
  },
  {
   "cell_type": "code",
   "execution_count": 860,
   "metadata": {
    "collapsed": false
   },
   "outputs": [],
   "source": [
    "def compare_angles(*args, validate=False):   \n",
    "  slopes = []\n",
    "  for a, b in itertools.combinations(args, 2):\n",
    "    a_row, a_col = a\n",
    "    b_row, b_col = b\n",
    "    dx = abs(b_col - a_col)\n",
    "    dy = abs(b_row - a_row)\n",
    "    slopes.append(360 + (math.degrees(math.atan2(dy, dx)) % 360))\n",
    "  avg = sum(slopes) / len(slopes)\n",
    "  return sum(abs(slope - avg) for slope in slopes)\n",
    "\n",
    "def colinear(before, cluster, banned, validate=True):\n",
    "  results = collections.defaultdict(MinHeap)\n",
    "  for target in iter_nonzero(cluster):\n",
    "    for a, b in itertools.product(iter_nonzero(before), iter_nonzero(before)):\n",
    "      if a == b or a in banned or b in banned:\n",
    "        continue\n",
    "      if validate:\n",
    "        t_row, t_col = target\n",
    "        a_row, a_col = a\n",
    "        b_row, b_col = b\n",
    "        dra = t_row - a_row\n",
    "        drb = b_row - t_row\n",
    "        if (dra <= 0) != (drb <= 0):\n",
    "          continue\n",
    "        dca = t_col - a_col\n",
    "        dcb = b_col - t_col\n",
    "        if (dca <= 0) != (dcb <= 0):\n",
    "          continue\n",
    "      results[target].push(compare_angles(target, a, b), (a, b))\n",
    "  return results\n",
    "\n",
    "def filter_chains(collinear_data):\n",
    "  # Only keep points seen 2+ times.\n",
    "  counts = collections.defaultdict(set)\n",
    "  all_pairs = collections.defaultdict(list)\n",
    "  for target, collinear_points in collinear_data.items():\n",
    "    while collinear_points:\n",
    "      weight = collinear_points.magnitude()\n",
    "      top = collinear_points.pop()\n",
    "      if weight > 10:\n",
    "        continue\n",
    "      a, b = top\n",
    "      counts[a].add(target)\n",
    "      counts[b].add(target)\n",
    "      all_pairs[target].append((weight, top))\n",
    "  # Filter list.\n",
    "#   for target, pairs in all_pairs.items():\n",
    "#     filtered = []\n",
    "#     for weight, pair in pairs:\n",
    "#       a, b = pair\n",
    "#       if len(counts[a]) >= 2 and len(counts[b]) >= 2:\n",
    "#         filtered.append((weight, pair))\n",
    "#     all_pairs[target] = filtered\n",
    "  # Build a map of a<->b.\n",
    "  graph = collections.defaultdict(list)\n",
    "  for target, pairs in all_pairs.items():\n",
    "    for weight, pair in pairs:\n",
    "      a, b = pair\n",
    "      graph[a].append((target, b))\n",
    "      graph[b].append((target, a))\n",
    "  cycle = cyclic(graph)\n",
    "  if cycle:\n",
    "    return cycle\n",
    "    # Filter list again.\n",
    "    for target, pairs in all_pairs.items():\n",
    "      filtered = []\n",
    "      for weight, pair in pairs:\n",
    "        a, b = pair\n",
    "        if a in cycle and b in cycle:\n",
    "          filtered.append((weight, pair))\n",
    "      if filtered:\n",
    "        all_pairs[target] = filtered\n",
    "  # Restore data.\n",
    "  for target, pairs in all_pairs.items():\n",
    "    for weight, pair in pairs:\n",
    "      collinear_data[target].push(weight, pair)\n",
    "  return collinear_data\n",
    "\n",
    "def cyclic(g):\n",
    "    path = set()\n",
    "    targets = {}\n",
    "    first = None  # Set in loop below\n",
    "\n",
    "    def visit(vertex):\n",
    "        path.add(vertex)\n",
    "        if len(path) > 5:\n",
    "          path.remove(vertex)\n",
    "          return False\n",
    "        for target, neighbor in g.get(vertex, ()):\n",
    "          if target not in targets:\n",
    "            targets[target] = (vertex, neighbor)\n",
    "            if neighbor == first and len(path) == 5 and len(targets) == 5:\n",
    "              return True\n",
    "            elif neighbor not in path:\n",
    "              if visit(neighbor):\n",
    "                return True\n",
    "            del targets[target]\n",
    "        path.remove(vertex)\n",
    "        return False\n",
    "    for first in g:\n",
    "      if visit(first):\n",
    "        return targets\n",
    "\n",
    "import math      \n",
    "\n",
    "def extract(a, b, c):\n",
    "  ref = 'ABCDEFGHIJKLMNOPQRSTUVWXYZ'\n",
    "  fer = ''.join(reversed(ref))\n",
    "  ref += '#'\n",
    "  fer += '#'\n",
    "  size = len(ref)\n",
    "  ay, ax = a\n",
    "  cy, cx = c\n",
    "  total = math.sqrt((cx - ax)**2 + (cy - ay)**2)\n",
    "  result = []\n",
    "  for i, j in ((a, b),): #, (b, c)):\n",
    "    iy, ix = i\n",
    "    jy, jx = j\n",
    "    delta = math.sqrt((jx - ix)**2 + (jy - iy)**2)\n",
    "    #result.append(ref[int(round(size * delta / total))])\n",
    "    result.append(ref[round(size * delta / total) - 1])  # For 27.\n",
    "    #result.append(ref[int(round(size * delta / total))])\n",
    "    #result.append(ref[size - int(round(size * delta / total))])\n",
    "    #result.append(fer[round(size * delta / total) - 1])  # For 27.\n",
    "    #result.append(fer[int(round(size * delta / total))])\n",
    "  return result\n",
    "\n",
    "def draw_colinear(img, colinear_data, visited, reverse):\n",
    "  result = np.copy(img)\n",
    "  dim_step = .18\n",
    "  letters = []\n",
    "  last = None\n",
    "  items = list(colinear_data.items())\n",
    "  if reverse:\n",
    "    items = list(reversed(items))\n",
    "  for i, (target, (first, second)) in enumerate(items):\n",
    "    if reverse:\n",
    "      first, second = second, first\n",
    "    visited.add(first)\n",
    "    visited.add(second)\n",
    "    r, g, b = img[target]\n",
    "    r, g, b = int(r), int(g), int(b)\n",
    "    letter = extract(first, target, second)\n",
    "    letters.append(letter)\n",
    "    if False:\n",
    "      text = str(i + 1)\n",
    "    else:\n",
    "      text = letter[0]\n",
    "    if not last:\n",
    "      last = first\n",
    "      cv2.putText(result, text, pt(first), cv2.FONT_HERSHEY_COMPLEX_SMALL, 0.75, (r, g, b))\n",
    "    else:\n",
    "      if first != last:\n",
    "        print('swapped', first, second, 'expected', first, '=', last)\n",
    "        second, first = first, second\n",
    "      cv2.putText(result, text, pt(first), cv2.FONT_HERSHEY_COMPLEX_SMALL, 0.75, (r, g, b))\n",
    "    last = second\n",
    "    dim = 1 - (i * dim_step)\n",
    "    cv2.line(result, pt(first), pt(second), (int(r * dim), int(g * dim), int(b * dim)))\n",
    "    result[target] = (b, r, g)\n",
    "    result[first] = WHITE\n",
    "    result[second] = WHITE\n",
    "  print(set(map(''.join, zip(*letters))))\n",
    "  return result\n"
   ]
  },
  {
   "cell_type": "code",
   "execution_count": 872,
   "metadata": {
    "collapsed": false,
    "scrolled": false
   },
   "outputs": [
    {
     "name": "stdout",
     "output_type": "stream",
     "text": [
      "(204, 204, 255) False\n",
      "{'RMLYI'}\n"
     ]
    },
    {
     "data": {
      "image/png": "[encoded data removed]",
      "text/plain": [
       "<PIL.Image.Image image mode=RGB size=384x384 at 0x1218FEDD8>"
      ]
     },
     "metadata": {},
     "output_type": "display_data"
    },
    {
     "name": "stdout",
     "output_type": "stream",
     "text": [
      "(204, 238, 221) True\n",
      "{'YVATL'}\n"
     ]
    },
    {
     "data": {
      "image/png": "[encoded data removed]",
      "text/plain": [
       "<PIL.Image.Image image mode=RGB size=384x384 at 0x1218FE7F0>"
      ]
     },
     "metadata": {},
     "output_type": "display_data"
    },
    {
     "name": "stdout",
     "output_type": "stream",
     "text": [
      "(204, 255, 204) False\n",
      "{'LIGTF'}\n"
     ]
    },
    {
     "data": {
      "image/png": "[encoded data removed]",
      "text/plain": [
       "<PIL.Image.Image image mode=RGB size=384x384 at 0x1218FE7F0>"
      ]
     },
     "metadata": {},
     "output_type": "display_data"
    },
    {
     "name": "stdout",
     "output_type": "stream",
     "text": [
      "(221, 238, 204) False\n",
      "{'HLIVE'}\n"
     ]
    },
    {
     "data": {
      "image/png": "[encoded data removed]",
      "text/plain": [
       "<PIL.Image.Image image mode=RGB size=384x384 at 0x1218FEDD8>"
      ]
     },
     "metadata": {},
     "output_type": "display_data"
    },
    {
     "name": "stdout",
     "output_type": "stream",
     "text": [
      "(238, 221, 204) True\n",
      "{'SHLYR'}\n"
     ]
    },
    {
     "data": {
      "image/png": "[encoded data removed]",
      "text/plain": [
       "<PIL.Image.Image image mode=RGB size=384x384 at 0x1218FECF8>"
      ]
     },
     "metadata": {},
     "output_type": "display_data"
    },
    {
     "name": "stdout",
     "output_type": "stream",
     "text": [
      "(204, 221, 238) True\n",
      "{'GORSV'}\n"
     ]
    },
    {
     "data": {
      "image/png": "[encoded data removed]",
      "text/plain": [
       "<PIL.Image.Image image mode=RGB size=384x384 at 0x1218FECF8>"
      ]
     },
     "metadata": {},
     "output_type": "display_data"
    },
    {
     "name": "stdout",
     "output_type": "stream",
     "text": [
      "(238, 204, 221) True\n",
      "{'TSGHS'}\n"
     ]
    },
    {
     "data": {
      "image/png": "[encoded data removed]",
      "text/plain": [
       "<PIL.Image.Image image mode=RGB size=384x384 at 0x1218FECF8>"
      ]
     },
     "metadata": {},
     "output_type": "display_data"
    },
    {
     "name": "stdout",
     "output_type": "stream",
     "text": [
      "(221, 204, 238) False\n",
      "{'IGRUL'}\n"
     ]
    },
    {
     "data": {
      "image/png": "[encoded data removed]",
      "text/plain": [
       "<PIL.Image.Image image mode=RGB size=384x384 at 0x1218FECF8>"
      ]
     },
     "metadata": {},
     "output_type": "display_data"
    },
    {
     "name": "stdout",
     "output_type": "stream",
     "text": [
      "(255, 204, 204) True\n",
      "{'LSYLY'}\n"
     ]
    },
    {
     "data": {
      "image/png": "[encoded data removed]",
      "text/plain": [
       "<PIL.Image.Image image mode=RGB size=384x384 at 0x1218FEDD8>"
      ]
     },
     "metadata": {},
     "output_type": "display_data"
    },
    {
     "data": {
      "image/png": "[encoded data removed]",
      "text/plain": [
       "<PIL.Image.Image image mode=RGB size=384x384 at 0x1218FECF8>"
      ]
     },
     "metadata": {},
     "output_type": "display_data"
    }
   ],
   "source": [
    "visit_order = [\n",
    "  # Good.\n",
    "  (204, 204, 255),\n",
    "  (204, 238, 221),\n",
    "  (204, 255, 204),\n",
    "  (221, 238, 204),\n",
    "  (238, 221, 204),\n",
    "  \n",
    "  # Bad.\n",
    "  (204, 221, 238),\n",
    "  (238, 204, 221),\n",
    "  (221, 204, 238),\n",
    "  (255, 204, 204),\n",
    "]\n",
    "\n",
    "# parabling paraphing pedalling penancing petalling petarding phialling pleaching potashing preaching preacting prearming preassing proacting\n",
    "COUNTER_CLOCKWISE_LETTERS = {\n",
    "  (204, 204, 255): 'BONI(E)R',\n",
    "  (204, 221, 238): 'HILTE(D)',\n",
    "  (204, 238, 221): 'G(A)ZEBO',  # A\n",
    "  (204, 255, 204): 'TROUG(H)',  # H\n",
    "  (221, 238, 204): 'VER(S)OS',\n",
    "  (238, 221, 204): '(K)IBOSH',  # K\n",
    "  (255, 204, 204): 'HOB(N)OB',  # N\n",
    "  (238, 204, 221): 'THI(G)HS',  # G\n",
    "  (221, 204, 238): '(P)ROFIT',  # P\n",
    "}\n",
    "\n",
    "CLOCKWISE_LETTERS = {\n",
    "  (204, 204, 255): '(F)IRMLY',\n",
    "  (204, 221, 238): 'V(I)GORS',\n",
    "  (204, 238, 221): 'VA(S)TLY',\n",
    "  (204, 255, 204): 'FLIG(H)T',\n",
    "  (221, 238, 204): 'LIVE(T)H',\n",
    "  (238, 221, 204): 'R(A)SHLY',\n",
    "  (255, 204, 204): '(X)YLYLS',\n",
    "  (238, 204, 221): 'GH(O)STS',\n",
    "  (221, 204, 238): 'RULI(N)G',\n",
    "}\n",
    "MERGED_LETTERS = {\n",
    "  (204, 204, 255): 'EF',\n",
    "  (204, 221, 238): 'DI',\n",
    "  (204, 238, 221): 'AS',\n",
    "  (204, 255, 204): 'HH',\n",
    "  (221, 238, 204): 'ST',\n",
    "  (238, 221, 204): 'KA',\n",
    "  (255, 204, 204): 'NX',\n",
    "  (238, 204, 221): 'GO',\n",
    "  (221, 204, 238): 'PN',\n",
    "}\n",
    "\n",
    "TEND_CLOCKWISE = {\n",
    "  (204, 204, 255),\n",
    "  (204, 255, 204),\n",
    "  (221, 238, 204),\n",
    "  (221, 204, 238),\n",
    "}\n",
    "\n",
    "combined = None\n",
    "visited = set()\n",
    "want_clockwise = True\n",
    "for color in visit_order:\n",
    "  reverse = False\n",
    "  if want_clockwise:\n",
    "    letters = CLOCKWISE_LETTERS\n",
    "    if color not in TEND_CLOCKWISE:\n",
    "      reverse = True\n",
    "  else:\n",
    "    letters = COUNTER_CLOCKWISE_LETTERS\n",
    "    if color in TEND_CLOCKWISE:\n",
    "      reverse = True\n",
    "  letters = MERGED_LETTERS\n",
    "  print(color, color not in TEND_CLOCKWISE)\n",
    "  colinear_data = filter_chains(colinear(changed_before, isolated[color], visited))\n",
    "  drawn = draw_colinear(\n",
    "    recolor(isolated[color]),\n",
    "    colinear_data,\n",
    "    visited,\n",
    "    reverse,\n",
    "  ) + centers(isolated[color], letters)\n",
    "  #if color in good:\n",
    "  if combined is None:\n",
    "    combined = drawn\n",
    "  else:\n",
    "    combined += drawn\n",
    "  show(drawn + changed_before)\n",
    "\n",
    "if combined is not None:\n",
    "  show(combined + changed_before)"
   ]
  },
  {
   "cell_type": "code",
   "execution_count": 863,
   "metadata": {
    "collapsed": false
   },
   "outputs": [
    {
     "data": {
      "text/plain": [
       "array([204, 204, 255], dtype=uint8)"
      ]
     },
     "execution_count": 863,
     "metadata": {},
     "output_type": "execute_result"
    }
   ],
   "source": [
    "changed_after[(50, 90)]"
   ]
  },
  {
   "cell_type": "code",
   "execution_count": null,
   "metadata": {
    "collapsed": true
   },
   "outputs": [],
   "source": [
    "itertools.product(zip(*changed_before[:,:,:1].nonzero()[:2]), zip(*before[:,:,:1].nonzero()[:2]))"
   ]
  },
  {
   "cell_type": "code",
   "execution_count": 449,
   "metadata": {
    "collapsed": false
   },
   "outputs": [
    {
     "data": {
      "text/plain": [
       "(array([  9,  20,  29,  36,  39,  58,  60,  77,  83,  85,  98, 101, 110,\n",
       "        114, 126, 127, 137, 139, 140, 160, 164, 167, 183, 185, 188, 190,\n",
       "        198, 199, 214, 221, 222, 226, 234, 234, 244, 245, 255, 289, 299,\n",
       "        299, 302, 304, 313, 338, 345]),\n",
       " array([245,  30, 311, 187, 169,  26,  74, 270, 295, 263, 154,  98, 207,\n",
       "          4, 102, 262, 210,  55,  98,  23, 343, 139,  99, 285, 235,  50,\n",
       "        327, 356, 278,  12,  91, 241, 116, 380, 136, 190,  43,  50, 218,\n",
       "        292, 174, 146, 309,  98, 229]),\n",
       " array([0, 0, 0, 0, 0, 0, 0, 0, 0, 0, 0, 0, 0, 0, 0, 0, 0, 0, 0, 0, 0, 0, 0,\n",
       "        0, 0, 0, 0, 0, 0, 0, 0, 0, 0, 0, 0, 0, 0, 0, 0, 0, 0, 0, 0, 0, 0]))"
      ]
     },
     "execution_count": 449,
     "metadata": {},
     "output_type": "execute_result"
    }
   ],
   "source": [
    "changed_before[:,:,:1].nonzero()"
   ]
  },
  {
   "cell_type": "code",
   "execution_count": 484,
   "metadata": {
    "collapsed": true
   },
   "outputs": [],
   "source": [
    "lines = [\n",
    "  ((43, 255), (90, 50)),\n",
    "  ((309, 313), (113, 72)),\n",
    "  ((99, 183), (93, 79)),\n",
    "  ((50, 190), (78, 91)),\n",
    "  ((146, 304), (107, 120)),\n",
    "]\n",
    "dest = (91, 45)"
   ]
  },
  {
   "cell_type": "code",
   "execution_count": 487,
   "metadata": {
    "collapsed": false
   },
   "outputs": [],
   "source": [
    "def draw_lines(img, lines, dest):\n",
    "  r, g, b = (204, 204, 255)\n",
    "  result = np.copy(img)\n",
    "  dim = 0.5\n",
    "  for before, after in lines:\n",
    "    print(before, after, (int(r * dim), int(g * dim), int(b * dim)))\n",
    "    cv2.line(result, before, after, (int(r * dim), int(g * dim), int(b * dim)))\n",
    "  cv2.circle(result, dest, 4, (int(r), int(g), int(b)))\n",
    "  return result + img"
   ]
  },
  {
   "cell_type": "code",
   "execution_count": 490,
   "metadata": {
    "collapsed": false
   },
   "outputs": [
    {
     "name": "stdout",
     "output_type": "stream",
     "text": [
      "(43, 255) (90, 50) (102, 102, 127)\n",
      "(309, 313) (113, 72) (102, 102, 127)\n",
      "(99, 183) (93, 79) (102, 102, 127)\n",
      "(50, 190) (78, 91) (102, 102, 127)\n",
      "(146, 304) (107, 120) (102, 102, 127)\n"
     ]
    },
    {
     "data": {
      "image/png": "[encoded data removed]",
      "text/plain": [
       "<PIL.Image.Image image mode=RGB size=384x384 at 0x12191D278>"
      ]
     },
     "metadata": {},
     "output_type": "display_data"
    }
   ],
   "source": [
    "show(draw_lines(changed_before, lines, dest) | changed_after | changed_before)"
   ]
  },
  {
   "cell_type": "code",
   "execution_count": 492,
   "metadata": {
    "collapsed": false
   },
   "outputs": [
    {
     "data": {
      "image/png": "[encoded data removed]",
      "text/plain": [
       "<PIL.Image.Image image mode=RGB size=384x384 at 0x12191D080>"
      ]
     },
     "metadata": {},
     "output_type": "display_data"
    }
   ],
   "source": [
    "show(isolated[(204, 238, 221)] | changed_before)"
   ]
  },
  {
   "cell_type": "code",
   "execution_count": 767,
   "metadata": {
    "collapsed": false
   },
   "outputs": [
    {
     "data": {
      "text/plain": [
       "['Z', 'Y', 'A', 'B', 'A', 'A', 'Z', 'Z']"
      ]
     },
     "execution_count": 767,
     "metadata": {},
     "output_type": "execute_result"
    }
   ],
   "source": [
    "extract((0, 0), (24.9, 24.9), (25, 25))"
   ]
  },
  {
   "cell_type": "code",
   "execution_count": null,
   "metadata": {
    "collapsed": true
   },
   "outputs": [],
   "source": []
  }
 ],
 "metadata": {
  "kernelspec": {
   "display_name": "Python 3",
   "language": "python",
   "name": "python3"
  },
  "language_info": {
   "codemirror_mode": {
    "name": "ipython",
    "version": 3
   },
   "file_extension": ".py",
   "mimetype": "text/x-python",
   "name": "python",
   "nbconvert_exporter": "python",
   "pygments_lexer": "ipython3",
   "version": "3.6.0"
  }
 },
 "nbformat": 4,
 "nbformat_minor": 2
}
