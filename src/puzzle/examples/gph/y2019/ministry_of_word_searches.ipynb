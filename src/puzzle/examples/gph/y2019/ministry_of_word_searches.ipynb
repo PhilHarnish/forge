{
 "cells": [
  {
   "cell_type": "code",
   "execution_count": 28,
   "metadata": {
    "collapsed": false
   },
   "outputs": [
    {
     "data": {
      "text/plain": [
       "'\\n'"
      ]
     },
     "execution_count": 28,
     "metadata": {},
     "output_type": "execute_result"
    }
   ],
   "source": [
    "import collections\n",
    "\n",
    "SIZE = 11\n",
    "PM = collections.namedtuple('PM', ['name', 'prime', 'row', 'drow', 'col', 'dcol', 'dir', 'ddir'])\n",
    "\n",
    "DIRECTION_MAP = {\n",
    "  'N': 0,\n",
    "  'NE': 1,\n",
    "  'E': 2,\n",
    "  'SE': 3,\n",
    "  'S': 4,\n",
    "  'SW': 5,\n",
    "  'W': 6,\n",
    "  'NW': 7,\n",
    "}\n",
    "DEGREE_STR_MAP = {\n",
    "  '90deg CCW': 8 - 2,\n",
    "  '45deg CCW': 8 - 1,\n",
    "  'no change': 0,\n",
    "  '45deg CW': 1,\n",
    "  '90deg CW': 2,\n",
    "  '135deg CW': 3,\n",
    "}\n",
    "DEGREE_DR_DC_MAP = {\n",
    "  0: (0, -1),  # N.\n",
    "  1: (1, -1),\n",
    "  2: (1, 0),  # E.\n",
    "  3: (1, 1),\n",
    "  4: (0, 1),  # S.\n",
    "  5: (-1, 1),\n",
    "  6: (-1, 0),  # W.\n",
    "  7: (-1, -1),  # NW.\n",
    "}\n",
    "\n",
    "  \n",
    "def parse_data(data):\n",
    "  result = {}\n",
    "  lines = data.split('\\n')\n",
    "  for line in lines[1:]:\n",
    "    properties = line.split('\\t')\n",
    "    for i, v in enumerate(properties):\n",
    "      try:\n",
    "        properties[i] = int(v)\n",
    "      except:\n",
    "        pass\n",
    "    properties[2] -= 1\n",
    "    properties[4] -= 1\n",
    "    properties[-2] = DIRECTION_MAP[properties[-2]]\n",
    "    result[properties[0]] = PM(*properties)\n",
    "  return result\n",
    "\n",
    "pms = parse_data(\"\"\"\n",
    "PM\tPrime\tStart Row\tRow Δ\tStart Col\tCol Δ\tStart Dir\t\"Dir Δ [45 deg CW]\"\n",
    "TRUDEAU\t23\t2\t7\t9\t4\tW\t1\n",
    "CAMPBELL\t19\t5\t6\t3\t8\tN\t3\n",
    "TURNER\t17\t7\t7\t9\t5\tS\t7\n",
    "DIEFENBAKER\t13\t8\t8\t4\t4\tE\t2\n",
    "BENNETT\t11\t5\t2\t6\t7\tNW\t6\n",
    "LAURIER\t7\t8\t8\t6\t1\tNW\t3\n",
    "BOWELL\t5\t6\t1\t1\t9\tNW\t0\n",
    "ABBOTT\t3\t2\t9\t2\t2\tSE\t6\n",
    "MACKENZIE\t2\t2\t8\t3\t9\tS\t1\n",
    "\"\"\".strip())\n",
    "\"\"\"\n",
    "\"\"\""
   ]
  },
  {
   "cell_type": "code",
   "execution_count": 29,
   "metadata": {
    "collapsed": false
   },
   "outputs": [
    {
     "data": {
      "text/plain": [
       "{'ABBOTT': PM(name='ABBOTT', prime=3, row=1, drow=9, col=1, dcol=2, dir=3, ddir=6),\n",
       " 'BENNETT': PM(name='BENNETT', prime=11, row=4, drow=2, col=5, dcol=7, dir=7, ddir=6),\n",
       " 'BOWELL': PM(name='BOWELL', prime=5, row=5, drow=1, col=0, dcol=9, dir=7, ddir=0),\n",
       " 'CAMPBELL': PM(name='CAMPBELL', prime=19, row=4, drow=6, col=2, dcol=8, dir=0, ddir=3),\n",
       " 'DIEFENBAKER': PM(name='DIEFENBAKER', prime=13, row=7, drow=8, col=3, dcol=4, dir=2, ddir=2),\n",
       " 'LAURIER': PM(name='LAURIER', prime=7, row=7, drow=8, col=5, dcol=1, dir=7, ddir=3),\n",
       " 'MACKENZIE': PM(name='MACKENZIE', prime=2, row=1, drow=8, col=2, dcol=9, dir=4, ddir=1),\n",
       " 'TRUDEAU': PM(name='TRUDEAU', prime=23, row=1, drow=7, col=8, dcol=4, dir=6, ddir=1),\n",
       " 'TURNER': PM(name='TURNER', prime=17, row=6, drow=7, col=8, dcol=5, dir=4, ddir=7)}"
      ]
     },
     "execution_count": 29,
     "metadata": {},
     "output_type": "execute_result"
    }
   ],
   "source": [
    "pms"
   ]
  },
  {
   "cell_type": "code",
   "execution_count": 30,
   "metadata": {
    "collapsed": false
   },
   "outputs": [],
   "source": [
    "PM = collections.namedtuple('PM', ['name', 'prime', 'row', 'drow', 'col', 'dcol', 'dir', 'ddir'])\n",
    "\n",
    "def wrap(n):\n",
    "  return (n + SIZE) % SIZE\n",
    "\n",
    "def pm_coord_iter(pm, n):\n",
    "  n %= pm.prime\n",
    "  row = (pm.row + n * pm.drow) % SIZE\n",
    "  col = (pm.col + n * pm.dcol) % SIZE\n",
    "  dir = (pm.dir + n * pm.ddir) % len(DIRECTION_MAP)\n",
    "  dcol, drow = DEGREE_DR_DC_MAP[dir]\n",
    "  for i, c in enumerate(pm.name):\n",
    "    yield (c, wrap(row + drow * i), wrap(col + dcol * i))\n",
    "  "
   ]
  },
  {
   "cell_type": "code",
   "execution_count": 31,
   "metadata": {
    "collapsed": false
   },
   "outputs": [],
   "source": [
    "def score_n(n, pms):\n",
    "  scored = collections.defaultdict(dict)\n",
    "  visited = set()\n",
    "  for pm in pms.values():\n",
    "    for c, row, col in pm_coord_iter(pm, n):\n",
    "      visited.add((row, col))\n",
    "  return len(visited)\n",
    "\n",
    "def score_valid(n, pms):\n",
    "  scored = collections.defaultdict(dict)\n",
    "  grid = {}\n",
    "  \n",
    "  for pm in pms.values():\n",
    "    for c, row, col in pm_coord_iter(pm, n):\n",
    "      key = (row, col)\n",
    "      if key not in grid:\n",
    "        grid[key] = c\n",
    "      elif grid[key] != c:\n",
    "        return False\n",
    "  return len(grid)\n"
   ]
  },
  {
   "cell_type": "code",
   "execution_count": 33,
   "metadata": {
    "collapsed": false,
    "scrolled": true
   },
   "outputs": [
    {
     "name": "stdout",
     "output_type": "stream",
     "text": [
      "3\n",
      "5\n",
      "9\n",
      "17\n",
      "33\n",
      "65\n",
      "129\n",
      "257\n",
      "513\n",
      "1025\n",
      "2049\n",
      "4097\n",
      "8193\n",
      "16385\n",
      "32769\n",
      "65537\n",
      "131073\n",
      "262145\n",
      "524289\n",
      "1048577\n",
      "2097153\n",
      "4194305\n",
      "8388609\n",
      "16777217\n",
      "24519388 60\n",
      "28663528 59\n",
      "29566738 60\n",
      "33554433\n",
      "63888718 58\n",
      "67108865\n",
      "94279078 62\n",
      "95182288 63\n"
     ]
    }
   ],
   "source": [
    "\"\"\"\n",
    "best 32 748448\n",
    "worst 65 2854719\n",
    "best 31 3045743\n",
    "best 30 6204717\n",
    "best 28 23607102\n",
    "worst 66 48000127\n",
    "\"\"\"\n",
    "\n",
    "best = float('inf')\n",
    "best_i = -1\n",
    "worst = float('-inf')\n",
    "worst_i = -1\n",
    "\n",
    "threshold = 2\n",
    "\n",
    "for i in range(99999999 + 1):\n",
    "  score = score_valid(i, pms)\n",
    "  if i > threshold:\n",
    "    threshold *= 2\n",
    "    print(i)\n",
    "  if score is False:\n",
    "    continue\n",
    "  print(i, score)\n",
    "#   if score < best:\n",
    "#     best = score\n",
    "#     best_i = i\n",
    "#     print('best', best, best_i)\n",
    "#   if score >= worst:\n",
    "#     worst = score\n",
    "#     worst_i = i\n",
    "#     print('worst', worst, worst_i)\n"
   ]
  },
  {
   "cell_type": "code",
   "execution_count": 118,
   "metadata": {
    "collapsed": false
   },
   "outputs": [
    {
     "data": {
      "text/plain": [
       "[('M', 9, 0),\n",
       " ('A', 10, 10),\n",
       " ('C', 0, 9),\n",
       " ('K', 1, 8),\n",
       " ('E', 2, 7),\n",
       " ('N', 3, 6),\n",
       " ('Z', 4, 5),\n",
       " ('I', 5, 4),\n",
       " ('E', 6, 3)]"
      ]
     },
     "execution_count": 118,
     "metadata": {},
     "output_type": "execute_result"
    }
   ],
   "source": [
    "list(pm_coord_iter(pms['MACKENZIE'], 1))"
   ]
  },
  {
   "cell_type": "code",
   "execution_count": null,
   "metadata": {
    "collapsed": true
   },
   "outputs": [],
   "source": [
    "# DIEFENBAKER\n",
    "# TRUDEAU"
   ]
  },
  {
   "cell_type": "code",
   "execution_count": null,
   "metadata": {
    "collapsed": true
   },
   "outputs": [],
   "source": []
  }
 ],
 "metadata": {
  "kernelspec": {
   "display_name": "Python 3",
   "language": "python",
   "name": "python3"
  },
  "language_info": {
   "codemirror_mode": {
    "name": "ipython",
    "version": 3
   },
   "file_extension": ".py",
   "mimetype": "text/x-python",
   "name": "python",
   "nbconvert_exporter": "python",
   "pygments_lexer": "ipython3",
   "version": "3.6.0"
  }
 },
 "nbformat": 4,
 "nbformat_minor": 2
}
