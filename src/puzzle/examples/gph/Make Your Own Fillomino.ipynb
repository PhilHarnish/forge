{
 "cells": [
  {
   "cell_type": "code",
   "execution_count": 10,
   "metadata": {
    "collapsed": true
   },
   "outputs": [],
   "source": [
    "SOLUTION = \"\"\"\n",
    "-\t-\t-\t-\t1\t-\t-\t2\t-\t-\n",
    "1\t2\t-\t1\t2\t-\t1\t-\t-\t1\n",
    "-\t1\t-\t-\t-\t-\t-\t1\t3\t-\n",
    "-\t-\t1\t-\t9\t3\t1\t3\t-\t-\n",
    "-\t1\t-\t-\t-\t-\t-\t-\t-\t1\n",
    "1\t-\t-\t-\t-\t-\t-\t-\t1\t-\n",
    "-\t-\t3\t1\t3\t9\t-\t1\t-\t-\n",
    "-\t3\t1\t-\t-\t-\t-\t-\t1\t-\n",
    "1\t-\t-\t1\t-\t2\t1\t-\t2\t1\n",
    "-\t-\t2\t-\t-\t1\t-\t-\t-\t-\n",
    "\"\"\".replace('\\t', '').strip()"
   ]
  },
  {
   "cell_type": "code",
   "execution_count": 11,
   "metadata": {
    "collapsed": true
   },
   "outputs": [],
   "source": [
    "def flip(src):\n",
    "  for line in src.split('\\n'):\n",
    "    print(str(''.join(reversed(line))))"
   ]
  },
  {
   "cell_type": "code",
   "execution_count": 12,
   "metadata": {
    "collapsed": false
   },
   "outputs": [
    {
     "name": "stdout",
     "output_type": "stream",
     "text": [
      "--2--1----\n",
      "1--1-21-21\n",
      "-31-----1-\n",
      "--3139-1--\n",
      "1-------1-\n",
      "-1-------1\n",
      "--1-9313--\n",
      "-1-----13-\n",
      "12-12-1--1\n",
      "----1--2--\n"
     ]
    }
   ],
   "source": [
    "flip(SOLUTION)"
   ]
  },
  {
   "cell_type": "code",
   "execution_count": null,
   "metadata": {
    "collapsed": true
   },
   "outputs": [],
   "source": []
  }
 ],
 "metadata": {
  "kernelspec": {
   "display_name": "Python 3",
   "language": "python",
   "name": "python3"
  },
  "language_info": {
   "codemirror_mode": {
    "name": "ipython",
    "version": 3
   },
   "file_extension": ".py",
   "mimetype": "text/x-python",
   "name": "python",
   "nbconvert_exporter": "python",
   "pygments_lexer": "ipython3",
   "version": "3.6.0"
  }
 },
 "nbformat": 4,
 "nbformat_minor": 2
}
