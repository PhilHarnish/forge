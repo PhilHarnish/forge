{
 "cells": [
  {
   "cell_type": "code",
   "execution_count": 1,
   "metadata": {
    "collapsed": false
   },
   "outputs": [],
   "source": [
    "import forge\n",
    "from puzzle.puzzlepedia import puzzlepedia\n",
    "\n",
    "puzzle = puzzlepedia.parse(\"\"\"\n",
    "A bird that sings after sunset is in the wind (11)\n",
    "A crazy state in, say, covered louse (8)\n",
    "Attempt to be better than best above; I've entangled ache (11)\n",
    "California nature spot informally greets Jewish person (8)\n",
    "Facetious, playful knave with an eyepiece (7)\n",
    "Fiery spouts put oven coals in a mess (9)\n",
    "Fifty circuit flips follow machine's soft hum, Eddy (9)\n",
    "Half hope mystery author ships without equal (8)\n",
    "Iranian devotee overturns a large island with strange saint roar (11)\n",
    "Laughter at English poet, Broadway musical subject (8)\n",
    "Man's chromosomes left up will surrender sugar (8)\n",
    "Memorable item holds a key without end (8)\n",
    "MOBA's slippery toad (4)\n",
    "Oddly gifted small repetitive movement (6)\n",
    "Performed in return, cooking guide almost chops up coral (10)\n",
    "Person who plays the second piano briefly (8)\n",
    "Place surrounded by Chardonnay, hold on (7)\n",
    "Probability Eisenhower swims in '50s, plus me and Robin (10)\n",
    "Shouts \"It has an air bag\" (7)\n",
    "Singing insect's resistanceless cardiac surgery (6)\n",
    "Soccer player coming back calls uninitiated trunk owners (9)\n",
    "Spot and then apply bandages: dissertation (7)\n",
    "Tail-twisted bird, airborne, lacking length, meeting all the requirements (10)\n",
    "Terraces remodeled? Yes, senior official of the government (9)\n",
    "The United Nations is messily reactive, only by rote (10)\n",
    "Thousands are found around a signet - curious attractiveness (9)\n",
    "\"\"\", hint='cryptic')"
   ]
  },
  {
   "cell_type": "code",
   "execution_count": null,
   "metadata": {
    "collapsed": true
   },
   "outputs": [],
   "source": []
  }
 ],
 "metadata": {
  "kernelspec": {
   "display_name": "Python 3",
   "language": "python",
   "name": "python3"
  },
  "language_info": {
   "codemirror_mode": {
    "name": "ipython",
    "version": 3
   },
   "file_extension": ".py",
   "mimetype": "text/x-python",
   "name": "python",
   "nbconvert_exporter": "python",
   "pygments_lexer": "ipython3",
   "version": "3.6.0"
  },
  "widgets": {
   "state": {
    "9e0b1d14af5e47079e545fe7ac0c8431": {
     "views": [
      {
       "cell_index": 0
      }
     ]
    }
   },
   "version": "1.2.0"
  }
 },
 "nbformat": 4,
 "nbformat_minor": 2
}
