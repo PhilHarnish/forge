{
 "cells": [
  {
   "cell_type": "code",
   "execution_count": 30,
   "metadata": {
    "collapsed": false
   },
   "outputs": [
    {
     "name": "stdout",
     "output_type": "stream",
     "text": [
      "E\tN\tT\tE\tR\tL\tA\tS\tE\tR\tL\tA\tS\tE\tR\tR\tE\tS\tA\tL\n",
      "L\tA\tS\tE\tR\tO\tB\tS\tI\tD\tI\tA\tN\tL\tA\tS\tE\tR\tG\tW\n",
      "E\tR\tE\tS\tA\tL\tL\tA\tS\tE\tR\tL\tM\tR\tR\tE\tS\tA\tL\tA\n",
      "L\tA\tS\tE\tR\tR\tE\tS\tA\tL\tA\tO\tE\tR\tL\tA\tS\tE\tR\tL\n",
      "L\tL\tE\tM\tI\tT\tT\tE\tR\tS\tO\tS\tE\tL\tR\tE\tS\tA\tL\tL\n",
      "A\tA\tM\tR\tE\tS\tA\tL\tE\tN\tA\tS\tL\tA\tL\tA\tS\tE\tR\tR\n",
      "S\tS\tR\tE\tS\tA\tL\tR\tS\tL\tA\tR\tA\tS\tR\tE\tS\tA\tL\tE\n",
      "E\tE\tL\tA\tS\tE\tR\tT\tR\tL\tL\tE\tS\tE\tL\tA\tS\tE\tR\tS\n",
      "R\tR\tW\tA\tL\tL\tO\tE\tR\tR\tA\tS\tE\tR\tR\tE\tS\tA\tL\tA\n",
      "L\tA\tS\tE\tR\tN\tS\tE\tL\tE\tS\tA\tR\tE\tB\tE\tR\tY\tL\tL\n",
      "L\tR\tL\tM\tE\tA\tS\tL\tA\tS\tE\tL\tN\tL\tL\tA\tS\tE\tR\tJ\n",
      "A\tE\tA\tO\tL\tA\tR\tA\tS\tA\tR\tO\tL\tR\tE\tS\tA\tL\tA\tE\n",
      "S\tS\tS\tO\tL\tL\tE\tS\tE\tL\tT\tA\tL\tA\tS\tE\tR\tD\tS\tM\n",
      "E\tA\tE\tN\tR\tA\tS\tE\tR\tS\tW\tR\tE\tS\tA\tL\tE\tL\tR\tI\n",
      "R\tL\tR\tS\tE\tS\tA\tR\tD\tR\tL\tA\tS\tE\tR\tO\tW\tA\tE\tT\n",
      "L\tR\tR\tT\tS\tE\tL\tO\tE\tT\tR\tE\tS\tA\tL\tN\tA\tS\tS\tT\n",
      "A\tE\tE\tO\tA\tR\tO\tS\tO\tN\tL\tA\tS\tE\tR\tY\tL\tE\tA\tE\n",
      "S\tS\tS\tN\tL\tL\tA\tB\tA\tR\tR\tE\tS\tA\tL\tX\tL\tR\tL\tR\n",
      "E\tA\tA\tE\tB\tL\tR\tE\tS\tA\tL\tL\tA\tS\tE\tR\tE\tX\tI\tT\n",
      "R\tL\tL\tL\tA\tS\tE\tR\tE\tS\tL\tA\tS\tE\tR\tL\tA\tS\tE\tR\n"
     ]
    }
   ],
   "source": [
    "given = \"\"\"\n",
    "E N T E R L A S E R L A S E R R E S A L\n",
    "L A S E R O B S I D I A N L A S E R G W\n",
    "E R E S A L L A S E R L M R R E S A L A\n",
    "L A S E R R E S A L A O E R L A S E R L\n",
    "L L E M I T T E R S O S E L R E S A L L\n",
    "A A M R E S A L E N A S L A L A S E R R\n",
    "S S R E S A L R S L A R A S R E S A L E\n",
    "E E L A S E R T R L L E S E L A S E R S\n",
    "R R W A L L O E R R A S E R R E S A L A\n",
    "L A S E R N S E L E S A R E B E R Y L L\n",
    "L R L M E A S L A S E L N L L A S E R J\n",
    "A E A O L A R A S A R O L R E S A L A E\n",
    "S S S O L L E S E L T A L A S E R D S M\n",
    "E A E N R A S E R S W R E S A L E L R I\n",
    "R L R S E S A R D R L A S E R O W A E T\n",
    "L R R T S E L O E T R E S A L N A S S T\n",
    "A E E O A R O S O N L A S E R Y L E A E\n",
    "S S S N L L A B A R R E S A L X L R L R\n",
    "E A A E B L R E S A L L A S E R E X I T\n",
    "R L L L A S E R E S L A S E R L A S E R\n",
    "\"\"\".strip().replace(' ', '\\t')\n",
    "print(given)"
   ]
  },
  {
   "cell_type": "code",
   "execution_count": 3,
   "metadata": {
    "collapsed": false
   },
   "outputs": [
    {
     "name": "stdout",
     "output_type": "stream",
     "text": [
      "\n",
      "Artisan\n",
      "Bass speaker\n",
      "Count (on)\n",
      "Deprived (of)\n",
      "Enjoyed together\n",
      "False teeth\n",
      "French cap\n",
      "Gram or pound\n",
      "Inform (of)\n",
      "Like a birthday\n",
      "Moon feature\n",
      "More confident\n",
      "Not capable\n",
      "Place a value on\n",
      "Put in danger\n",
      "Race in stages\n",
      "Recycle alternative\n",
      "Regal \n",
      "Renders undrinkable\n",
      "Rip up\n",
      "Suitor\n",
      "Trash\n",
      "Undo a wedding\n",
      "Wave rider\n",
      "\n"
     ]
    }
   ],
   "source": [
    "print(\"\"\"\n",
    "Artisan\n",
    "Bass\tspeaker\n",
    "Count\t(on)\n",
    "Deprived\t(of)\n",
    "Enjoyed\ttogether\n",
    "False\tteeth\n",
    "French\tcap\n",
    "Gram\tor\tpound\n",
    "Inform\t(of)\n",
    "Like\ta\tbirthday\n",
    "Moon\tfeature\n",
    "More\tconfident\n",
    "Not\tcapable\n",
    "Place\ta\tvalue\ton\n",
    "Put\tin\tdanger\n",
    "Race in\tstages\n",
    "Recycle\talternative\n",
    "Regal\t\n",
    "Renders undrinkable\n",
    "Rip\tup\n",
    "Suitor\n",
    "Trash\n",
    "Undo\ta\twedding\n",
    "Wave\trider\n",
    "\"\"\".replace('\\t', ' '))"
   ]
  },
  {
   "cell_type": "code",
   "execution_count": 5,
   "metadata": {
    "collapsed": false
   },
   "outputs": [
    {
     "name": "stdout",
     "output_type": "stream",
     "text": [
      "WARNING\n",
      "Max fringe size was: 2158\n",
      "WARNING\n",
      "Max fringe size was: 2298\n",
      "WARNING\n",
      "Max fringe size was: 2257\n",
      "WARNING\n",
      "Max fringe size was: 2293\n",
      "WARNING\n",
      "Max fringe size was: 2030\n",
      "WARNING\n",
      "Max fringe size was: 1959\n"
     ]
    }
   ],
   "source": [
    "import forge\n",
    "from puzzle.puzzlepedia import puzzlepedia\n",
    "\n",
    "puzzle = puzzlepedia.parse(\"\"\"\n",
    "@ 6 9 7 11 3 1 8 4 10 5 12 2\n",
    "* APPRAISE\n",
    "* DENATURE\n",
    "* IMPERIAL\n",
    "* ?\n",
    "* RELAY\n",
    "* ?\n",
    "* BEREFT\n",
    "* CRAFTER\n",
    "* REFUSE\n",
    "* SURFER\n",
    "* UNFIT\n",
    "* WOOFER\n",
    "\"\"\".lower())"
   ]
  },
  {
   "cell_type": "code",
   "execution_count": 22,
   "metadata": {
    "collapsed": false
   },
   "outputs": [
    {
     "name": "stdout",
     "output_type": "stream",
     "text": [
      "assign:\n",
      "  x0.0 in {0}\n",
      "  x0.1 in {1}\n",
      "  x0.2 in {1}\n",
      "  x0.3 in {1}\n",
      "  x0.4 in {0}\n",
      "  x1.0 in {0}\n",
      "  x1.1 in {0}\n",
      "  x1.2 in {1}\n",
      "  x1.3 in {0}\n",
      "  x1.4 in {0}\n",
      "  x2.0 in {0}\n",
      "  x2.1 in {1}\n",
      "  x2.2 in {0}\n",
      "  x2.3 in {1}\n",
      "  x2.4 in {1}\n",
      "  x3.0 in {1}\n",
      "  x3.1 in {0}\n",
      "  x3.2 in {0}\n",
      "  x3.3 in {0}\n",
      "  x3.4 in {0}\n",
      "  x4.0 in {1}\n",
      "  x4.1 in {0}\n",
      "  x4.2 in {1}\n",
      "  x4.3 in {1}\n",
      "  x4.4 in {1}\n",
      "  \n",
      "subject to:\n",
      "  OR(AND((x0.0 == True), (x0.1 == False), (x0.2 == True), (x0.3 == False), (x0.4 == False)), AND((x1.0 == True), (x1.1 == False), (x1.2 == True), (x1.3 == False), (x1.4 == False)), AND((x2.0 == True), (x2.1 == False), (x2.2 == True), (x2.3 == False), (x2.4 == False)), AND((x3.0 == True), (x3.1 == False), (x3.2 == True), (x3.3 == False), (x3.4 == False)), AND((x4.0 == True), (x4.1 == False), (x4.2 == True), (x4.3 == False), (x4.4 == False)), AND((x0.0 == True), (x1.0 == False), (x2.0 == True), (x3.0 == False), (x4.0 == False)), AND((x0.1 == True), (x1.1 == False), (x2.1 == True), (x3.1 == False), (x4.1 == False)), AND((x0.2 == True), (x1.2 == False), (x2.2 == True), (x3.2 == False), (x4.2 == False)), AND((x0.3 == True), (x1.3 == False), (x2.3 == True), (x3.3 == False), (x4.3 == False)), AND((x0.4 == True), (x1.4 == False), (x2.4 == True), (x3.4 == False), (x4.4 == False)))\n",
      "  OR(AND((x0.0 == False), (x0.1 == False), (x0.2 == False), (x0.3 == True), (x0.4 == True)), AND((x1.0 == False), (x1.1 == False), (x1.2 == False), (x1.3 == True), (x1.4 == True)), AND((x2.0 == False), (x2.1 == False), (x2.2 == False), (x2.3 == True), (x2.4 == True)), AND((x3.0 == False), (x3.1 == False), (x3.2 == False), (x3.3 == True), (x3.4 == True)), AND((x4.0 == False), (x4.1 == False), (x4.2 == False), (x4.3 == True), (x4.4 == True)), AND((x0.0 == False), (x1.0 == False), (x2.0 == False), (x3.0 == True), (x4.0 == True)), AND((x0.1 == False), (x1.1 == False), (x2.1 == False), (x3.1 == True), (x4.1 == True)), AND((x0.2 == False), (x1.2 == False), (x2.2 == False), (x3.2 == True), (x4.2 == True)), AND((x0.3 == False), (x1.3 == False), (x2.3 == False), (x3.3 == True), (x4.3 == True)), AND((x0.4 == False), (x1.4 == False), (x2.4 == False), (x3.4 == True), (x4.4 == True)))\n",
      "  OR(AND((x0.0 == False), (x0.1 == False), (x0.2 == True), (x0.3 == False), (x0.4 == True)), AND((x1.0 == False), (x1.1 == False), (x1.2 == True), (x1.3 == False), (x1.4 == True)), AND((x2.0 == False), (x2.1 == False), (x2.2 == True), (x2.3 == False), (x2.4 == True)), AND((x3.0 == False), (x3.1 == False), (x3.2 == True), (x3.3 == False), (x3.4 == True)), AND((x4.0 == False), (x4.1 == False), (x4.2 == True), (x4.3 == False), (x4.4 == True)), AND((x0.0 == False), (x1.0 == False), (x2.0 == True), (x3.0 == False), (x4.0 == True)), AND((x0.1 == False), (x1.1 == False), (x2.1 == True), (x3.1 == False), (x4.1 == True)), AND((x0.2 == False), (x1.2 == False), (x2.2 == True), (x3.2 == False), (x4.2 == True)), AND((x0.3 == False), (x1.3 == False), (x2.3 == True), (x3.3 == False), (x4.3 == True)), AND((x0.4 == False), (x1.4 == False), (x2.4 == True), (x3.4 == False), (x4.4 == True)))\n",
      "  OR(AND((x0.0 == False), (x0.1 == True), (x0.2 == True), (x0.3 == True), (x0.4 == False)), AND((x1.0 == False), (x1.1 == True), (x1.2 == True), (x1.3 == True), (x1.4 == False)), AND((x2.0 == False), (x2.1 == True), (x2.2 == True), (x2.3 == True), (x2.4 == False)), AND((x3.0 == False), (x3.1 == True), (x3.2 == True), (x3.3 == True), (x3.4 == False)), AND((x4.0 == False), (x4.1 == True), (x4.2 == True), (x4.3 == True), (x4.4 == False)), AND((x0.0 == False), (x1.0 == True), (x2.0 == True), (x3.0 == True), (x4.0 == False)), AND((x0.1 == False), (x1.1 == True), (x2.1 == True), (x3.1 == True), (x4.1 == False)), AND((x0.2 == False), (x1.2 == True), (x2.2 == True), (x3.2 == True), (x4.2 == False)), AND((x0.3 == False), (x1.3 == True), (x2.3 == True), (x3.3 == True), (x4.3 == False)), AND((x0.4 == False), (x1.4 == True), (x2.4 == True), (x3.4 == True), (x4.4 == False)))\n",
      "  OR(AND((x0.0 == True), (x0.1 == False), (x0.2 == True), (x0.3 == False), (x0.4 == True)), AND((x1.0 == True), (x1.1 == False), (x1.2 == True), (x1.3 == False), (x1.4 == True)), AND((x2.0 == True), (x2.1 == False), (x2.2 == True), (x2.3 == False), (x2.4 == True)), AND((x3.0 == True), (x3.1 == False), (x3.2 == True), (x3.3 == False), (x3.4 == True)), AND((x4.0 == True), (x4.1 == False), (x4.2 == True), (x4.3 == False), (x4.4 == True)), AND((x0.0 == True), (x1.0 == False), (x2.0 == True), (x3.0 == False), (x4.0 == True)), AND((x0.1 == True), (x1.1 == False), (x2.1 == True), (x3.1 == False), (x4.1 == True)), AND((x0.2 == True), (x1.2 == False), (x2.2 == True), (x3.2 == False), (x4.2 == True)), AND((x0.3 == True), (x1.3 == False), (x2.3 == True), (x3.3 == False), (x4.3 == True)), AND((x0.4 == True), (x1.4 == False), (x2.4 == True), (x3.4 == False), (x4.4 == True)))\n",
      "  OR(AND((x0.0 == False), (x0.1 == True), (x0.2 == False), (x0.3 == True), (x0.4 == True)), AND((x1.0 == False), (x1.1 == True), (x1.2 == False), (x1.3 == True), (x1.4 == True)), AND((x2.0 == False), (x2.1 == True), (x2.2 == False), (x2.3 == True), (x2.4 == True)), AND((x3.0 == False), (x3.1 == True), (x3.2 == False), (x3.3 == True), (x3.4 == True)), AND((x4.0 == False), (x4.1 == True), (x4.2 == False), (x4.3 == True), (x4.4 == True)), AND((x0.0 == False), (x1.0 == True), (x2.0 == False), (x3.0 == True), (x4.0 == True)), AND((x0.1 == False), (x1.1 == True), (x2.1 == False), (x3.1 == True), (x4.1 == True)), AND((x0.2 == False), (x1.2 == True), (x2.2 == False), (x3.2 == True), (x4.2 == True)), AND((x0.3 == False), (x1.3 == True), (x2.3 == False), (x3.3 == True), (x4.3 == True)), AND((x0.4 == False), (x1.4 == True), (x2.4 == False), (x3.4 == True), (x4.4 == True)))\n",
      "  OR(AND((x0.0 == False), (x0.1 == False), (x0.2 == True), (x0.3 == False), (x0.4 == False)), AND((x1.0 == False), (x1.1 == False), (x1.2 == True), (x1.3 == False), (x1.4 == False)), AND((x2.0 == False), (x2.1 == False), (x2.2 == True), (x2.3 == False), (x2.4 == False)), AND((x3.0 == False), (x3.1 == False), (x3.2 == True), (x3.3 == False), (x3.4 == False)), AND((x4.0 == False), (x4.1 == False), (x4.2 == True), (x4.3 == False), (x4.4 == False)), AND((x0.0 == False), (x1.0 == False), (x2.0 == True), (x3.0 == False), (x4.0 == False)), AND((x0.1 == False), (x1.1 == False), (x2.1 == True), (x3.1 == False), (x4.1 == False)), AND((x0.2 == False), (x1.2 == False), (x2.2 == True), (x3.2 == False), (x4.2 == False)), AND((x0.3 == False), (x1.3 == False), (x2.3 == True), (x3.3 == False), (x4.3 == False)), AND((x0.4 == False), (x1.4 == False), (x2.4 == True), (x3.4 == False), (x4.4 == False)))\n",
      "  OR(AND((x0.0 == True), (x0.1 == False), (x0.2 == True), (x0.3 == True), (x0.4 == True)), AND((x1.0 == True), (x1.1 == False), (x1.2 == True), (x1.3 == True), (x1.4 == True)), AND((x2.0 == True), (x2.1 == False), (x2.2 == True), (x2.3 == True), (x2.4 == True)), AND((x3.0 == True), (x3.1 == False), (x3.2 == True), (x3.3 == True), (x3.4 == True)), AND((x4.0 == True), (x4.1 == False), (x4.2 == True), (x4.3 == True), (x4.4 == True)), AND((x0.0 == True), (x1.0 == False), (x2.0 == True), (x3.0 == True), (x4.0 == True)), AND((x0.1 == True), (x1.1 == False), (x2.1 == True), (x3.1 == True), (x4.1 == True)), AND((x0.2 == True), (x1.2 == False), (x2.2 == True), (x3.2 == True), (x4.2 == True)), AND((x0.3 == True), (x1.3 == False), (x2.3 == True), (x3.3 == True), (x4.3 == True)), AND((x0.4 == True), (x1.4 == False), (x2.4 == True), (x3.4 == True), (x4.4 == True)))\n",
      "  OR(AND((x0.0 == True), (x0.1 == False), (x0.2 == False), (x0.3 == False), (x0.4 == False)), AND((x1.0 == True), (x1.1 == False), (x1.2 == False), (x1.3 == False), (x1.4 == False)), AND((x2.0 == True), (x2.1 == False), (x2.2 == False), (x2.3 == False), (x2.4 == False)), AND((x3.0 == True), (x3.1 == False), (x3.2 == False), (x3.3 == False), (x3.4 == False)), AND((x4.0 == True), (x4.1 == False), (x4.2 == False), (x4.3 == False), (x4.4 == False)), AND((x0.0 == True), (x1.0 == False), (x2.0 == False), (x3.0 == False), (x4.0 == False)), AND((x0.1 == True), (x1.1 == False), (x2.1 == False), (x3.1 == False), (x4.1 == False)), AND((x0.2 == True), (x1.2 == False), (x2.2 == False), (x3.2 == False), (x4.2 == False)), AND((x0.3 == True), (x1.3 == False), (x2.3 == False), (x3.3 == False), (x4.3 == False)), AND((x0.4 == True), (x1.4 == False), (x2.4 == False), (x3.4 == False), (x4.4 == False)))\n",
      "  OR(AND((x0.0 == True), (x0.1 == True), (x0.2 == False), (x0.3 == False), (x0.4 == True)), AND((x1.0 == True), (x1.1 == True), (x1.2 == False), (x1.3 == False), (x1.4 == True)), AND((x2.0 == True), (x2.1 == True), (x2.2 == False), (x2.3 == False), (x2.4 == True)), AND((x3.0 == True), (x3.1 == True), (x3.2 == False), (x3.3 == False), (x3.4 == True)), AND((x4.0 == True), (x4.1 == True), (x4.2 == False), (x4.3 == False), (x4.4 == True)), AND((x0.0 == True), (x1.0 == True), (x2.0 == False), (x3.0 == False), (x4.0 == True)), AND((x0.1 == True), (x1.1 == True), (x2.1 == False), (x3.1 == False), (x4.1 == True)), AND((x0.2 == True), (x1.2 == True), (x2.2 == False), (x3.2 == False), (x4.2 == True)), AND((x0.3 == True), (x1.3 == True), (x2.3 == False), (x3.3 == False), (x4.3 == True)), AND((x0.4 == True), (x1.4 == True), (x2.4 == False), (x3.4 == False), (x4.4 == True)))\n",
      "  \n",
      "is_sat True\n",
      "is_unsat False\n",
      " 0\t 1\t 1\t 1\t 0\n",
      " 0\t 0\t 1\t 0\t 0\n",
      " 0\t 1\t 0\t 1\t 1\n",
      " 1\t 0\t 0\t 0\t 0\n",
      " 1\t 0\t 1\t 1\t 1\n"
     ]
    }
   ],
   "source": [
    "import Numberjack\n",
    "\n",
    "given = \"\"\"\n",
    "1\t0\t1\t0\t0\n",
    "0\t0\t0\t1\t1\n",
    "0\t0\t1\t0\t1\n",
    "0\t1\t1\t1\t0\n",
    "1\t0\t1\t0\t1\n",
    "0\t1\t0\t1\t1\n",
    "0\t0\t1\t0\t0\n",
    "1\t0\t1\t1\t1\n",
    "1\t0\t0\t0\t0\n",
    "1\t1\t0\t0\t1\n",
    "\"\"\".strip()\n",
    "\n",
    "G = Numberjack.Matrix(5, 5, 'x')\n",
    "model = Numberjack.Model()\n",
    "\n",
    "options = G.row + G.col\n",
    "\n",
    "def constrain(bits):\n",
    "  model.add(Numberjack.Disjunction([\n",
    "    Numberjack.Conjunction([bits_bit == option_bit for bits_bit, option_bit in zip(bits, option)])\n",
    "    for option in options\n",
    "  ]))\n",
    "\n",
    "for soln in given.split('\\n'):\n",
    "  bits = [bit == '1' for bit in soln.split('\\t')]\n",
    "  constrain(bits)\n",
    "\n",
    "solver = model.load('Mistral')\n",
    "solver.solve()\n",
    "print(str(model))\n",
    "\n",
    "print(\"is_sat\", solver.is_sat())\n",
    "print(\"is_unsat\", solver.is_unsat())\n",
    "\n",
    "\n",
    "for r in range(5):\n",
    "  row = []\n",
    "  for c in range(5):\n",
    "    row.append('%2d' % G[r][c].get_value())\n",
    "  print('\\t'.join(row))\n"
   ]
  },
  {
   "cell_type": "code",
   "execution_count": 23,
   "metadata": {
    "collapsed": false
   },
   "outputs": [
    {
     "data": {
      "text/plain": [
       "'QLSRUXWGGSFCSUSLFWLSDAFHWFIXTEYYCMVTOLTGUGHVHMVIXOUBWEZFTHYPTXCGPWGIKOLWBFIIRBYXTOGQYFPYOZZXGMQJNUUGHNWNWATHMYZFRGMSYUUFVYEDPTPHLJOOQLFTXARTWKOGYNJSTTHPXNCRHOSHLKJYWVBTDCYNRGLVKMWNHIURUSGNCIFNJWXWCPCTROYRQGELVRFWEAGTRHTFGEWNRJGYGYKFVYEYMSPQDWKFEXUDPJRZEMDDUGUCGTGRGMFGRPVYIMVQUWVBGOAPKRGNGHJTUTNYGWYWWKVTKRTRUNULGYFUYEXQRUCFCNXJKUFKHYJVCITWIBGMGIIFRIARRIXAWJKISUNERQRUTFGRGFDPMJUWNBWDJWKCZJJYFVKNWJSHPGNPLPLTULJHRSMKMAXNVZYRMYGHWNDUENUIWQDDLSATXFJQSZSTNPZIVERLCTLXKGTDWZIQXWCYTGERRLFWMQMJSXILJAVGSTCRVQHWVFJPUQNUFHEYMHNYNNLRJGJRQKXGFPRENLWRGHDDFLLNUZHTXQRFTCXQMAJNYGILDPIZXUGK'"
      ]
     },
     "execution_count": 23,
     "metadata": {},
     "output_type": "execute_result"
    }
   ],
   "source": [
    "''.join(\"\"\"\n",
    "QLSRUXWGGSFCSUSLFWLSDAFHWFIXTEYYCMVT\n",
    "OLTGUGHVHMVIXOUBWEZFTHYPTXCGPWGIKOLW\n",
    "BFIIRBYXTOGQYFPYOZZXGMQJNUUGHNWNWATH\n",
    "MYZFRGMSYUUFVYEDPTPHLJOOQLFTXARTWKOG\n",
    "YNJSTTHPXNCRHOSHLKJYWVBTDCYNRGLVKMWN\n",
    "HIURUSGNCIFNJWXWCPCTROYRQGELVRFWEAGT\n",
    "RHTFGEWNRJGYGYKFVYEYMSPQDWKFEXUDPJRZ\n",
    "EMDDUGUCGTGRGMFGRPVYIMVQUWVBGOAPKRGN\n",
    "GHJTUTNYGWYWWKVTKRTRUNULGYFUYEXQRUCF\n",
    "CNXJKUFKHYJVCITWIBGMGIIFRIARRIXAWJKI\n",
    "SUNERQRUTFGRGFDPMJUWNBWDJWKCZJJYFVKN\n",
    "WJSHPGNPLPLTULJHRSMKMAXNVZYRMYGHWNDU\n",
    "ENUIWQDDLSATXFJQSZSTNPZIVERLCTLXKGTD\n",
    "WZIQXWCYTGERRLFWMQMJSXILJAVGSTCRVQHW\n",
    "VFJPUQNUFHEYMHNYNNLRJGJRQKXGFPRENLWR\n",
    "GHDDFLLNUZHTXQRFTCXQMAJNYGILDPIZXUGK\n",
    "\"\"\".strip().split('\\n'))"
   ]
  },
  {
   "cell_type": "code",
   "execution_count": 24,
   "metadata": {
    "collapsed": true
   },
   "outputs": [],
   "source": [
    "example = {\"ver\":[[1,2,3],[0],[0],[0],[0],[0],[0],[0],[0],[0],[0],[0],[0],[0],[0],[0],[0],[0],[0],[0],[0],[0],[0],[0],[0],[0],[0],[0],[0],[0],[0],[0],[0],[0],[0],[0],[0],[0]],\"hor\":[[12,3],[0],[0],[0],[0],[0],[0],[0],[0],[0],[0],[0],[0],[0],[0],[0],[0],[0],[0],[0],[0],[0],[0],[0],[0],[0],[0],[0],[0],[0],[0],[0],[0],[0],[0],[0],[0],[0],[0],[0],[0],[0],[0],[0],[0],[0],[0],[0],[0],[0]]}\n"
   ]
  },
  {
   "cell_type": "code",
   "execution_count": 26,
   "metadata": {
    "collapsed": false
   },
   "outputs": [
    {
     "name": "stdout",
     "output_type": "stream",
     "text": [
      "[[5, 1, 1, 5], [4, 3, 3, 1, 3, 4, 3, 4], [4, 4, 1, 1, 1, 1, 1, 1, 4, 3], [3, 4, 3, 1, 1, 1, 1, 2, 4, 3], [2, 4, 1, 1, 1, 1, 1, 1, 1, 5, 2], [1, 2, 2, 3, 4, 3, 4, 2, 2, 1], [1, 2, 2, 2, 2, 1], [2, 2, 2, 2], [2, 2, 4, 4, 4, 4, 4, 1, 1, 2, 2], [2, 2, 1, 1, 1, 1, 1, 1, 1, 1, 2, 2, 2, 2], [2, 2, 3, 4, 4, 1, 1, 1, 1, 1, 1, 1, 2, 2], [2, 2, 1, 1, 1, 1, 1, 1, 1, 1, 1, 1, 1, 2, 2], [2, 4, 4, 4, 1, 2, 4, 4, 1, 1, 2, 2], [2, 4, 2, 2], [2, 6, 2, 2], [2, 6, 1, 1, 4, 4, 4, 2, 4], [2, 7, 1, 1, 1, 1, 1, 1, 1, 2, 4], [2, 4, 2, 4, 1, 1, 1, 1, 4, 2, 5], [2, 8, 1, 1, 1, 1, 1, 1, 4, 5], [2, 5, 3, 1, 4, 4, 4, 5, 5], [2, 6, 3, 6, 6], [2, 5, 3, 6, 5], [2, 6, 4, 4, 8, 6], [2, 6, 24, 3, 3, 2], [9, 23, 3, 2, 2], [2, 1, 5, 4, 3, 3, 2, 2], [1, 3, 5, 4, 4, 4, 2, 2, 1], [1, 3, 4, 15, 4, 2, 2, 1], [2, 3, 4, 9, 5, 2, 2, 2], [3, 3, 5, 5, 2, 2, 3], [3, 3, 6, 7, 2, 2, 3], [4, 3, 18, 4, 4], [5, 4, 14, 4, 5], [6, 4, 8, 4, 6], [8, 4, 5, 8], [10, 5, 6, 9], [12, 19, 11], [14, 14, 13]]\n",
      "[[7, 9, 12], [5, 15, 10], [4, 5, 5, 9], [3, 3, 7, 3, 7], [1, 2, 13, 3, 6], [3, 18, 5], [3, 19, 4, 4], [16, 8, 3, 4], [6, 5, 7, 3, 3], [2, 1, 1, 4, 5, 2, 3], [1, 1, 1, 3, 4, 2, 2], [1, 1, 1, 3, 4, 2, 2], [5, 3, 4, 2, 1], [4, 3, 2, 1], [5, 5, 3, 4, 3, 2], [1, 1, 1, 1, 1, 1, 1, 5, 2, 2], [1, 1, 1, 1, 1, 1, 1, 5, 3, 2], [1, 1, 1, 3, 5, 5, 2, 2], [2, 2, 3, 3], [2, 1, 3, 2], [5, 5, 2, 2, 2, 2], [1, 5, 1, 1, 2, 2, 3, 2], [1, 1, 1, 1, 1, 2, 2, 3, 2], [1, 1, 3, 5, 3, 2, 3, 2], [3, 1, 3, 2, 3, 2], [3, 2, 3, 2], [5, 5, 5, 3, 2, 3, 2], [1, 1, 1, 1, 1, 1, 2, 2, 3, 2], [1, 1, 1, 1, 1, 1, 2, 2, 3, 2], [3, 5, 5, 2, 2, 3, 2], [2, 2, 3, 2], [5, 2, 1, 3, 3], [5, 1, 1, 3, 1, 4, 3, 2], [1, 1, 1, 1, 1, 1, 1, 3, 4, 2], [1, 1, 1, 5, 1, 1, 1, 4, 3, 3], [1, 3, 1, 3, 3, 4, 2], [5, 3, 4, 3], [1, 3, 4, 2, 1], [1, 4, 4, 3, 1], [1, 9, 4, 2], [2, 5, 9, 4, 2], [6, 10, 3, 2, 3], [15, 3, 4, 2, 4], [3, 8, 5, 2, 4], [3, 5, 3, 5], [1, 3, 7, 3, 6], [2, 3, 8, 3, 7], [4, 5, 11, 9], [5, 15, 10], [7, 9, 12]]\n"
     ]
    }
   ],
   "source": [
    "ver_str = \"\"\"\n",
    "5 1 1 5\n",
    "4 3 3 1 3 4 3 4\n",
    "4 4 1 1 1 1 1 1 4 3\n",
    "3 4 3 1 1 1 1 2 4 3\n",
    "2 4 1 1 1 1 1 1 1 5 2\n",
    "1 2 2 3 4 3 4 2 2 1\n",
    "1 2 2 2 2 1\n",
    "2 2 2 2\n",
    "2 2 4 4 4 4 4 1 1 2 2\n",
    "2 2 1 1 1 1 1 1 1 1 2 2 2 2\n",
    "2 2 3 4 4 1 1 1 1 1 1 1 2 2\n",
    "2 2 1 1 1 1 1 1 1 1 1 1 1 2 2\n",
    "2 4 4 4 1 2 4 4 1 1 2 2\n",
    "2 4 2 2\n",
    "2 6 2 2\n",
    "2 6 1 1 4 4 4 2 4\n",
    "2 7 1 1 1 1 1 1 1 2 4\n",
    "2 4 2 4 1 1 1 1 4 2 5\n",
    "2 8 1 1 1 1 1 1 4 5\n",
    "2 5 3 1 4 4 4 5 5\n",
    "2 6 3 6 6\n",
    "2 5 3 6 5\n",
    "2 6 4 4 8 6\n",
    "2 6 24 3 3 2\n",
    "9 23 3 2 2\n",
    "2 1 5 4 3 3 2 2\n",
    "1 3 5 4 4 4 2 2 1\n",
    "1 3 4 15 4 2 2 1\n",
    "2 3 4 9 5 2 2 2\n",
    "3 3 5 5 2 2 3\n",
    "3 3 6 7 2 2 3\n",
    "4 3 18 4 4\n",
    "5 4 14 4 5\n",
    "6 4 8 4 6\n",
    "8 4 5 8\n",
    "10 5 6 9\n",
    "12 19 11\n",
    "14 14 13\n",
    "\"\"\".strip()\n",
    "hor_str = \"\"\"\n",
    "00 00 0 0 00 00 00 00 0 0 0 0 0 0 0 1 1 0 0 0 0 0 0 0 0 0 0 1 1 0 0 0 0 1 1\n",
    "00 00 0 0 00 00 00 00 0 0 0 0 0 0 0 1 1 0 0 0 0 0 1 0 0 0 0 1 1 0 0 0 0 1 1\n",
    "00 00 0 0 00 00 00 00 0 0 0 0 0 0 0 1 1 1 0 0 0 1 1 1 0 0 0 1 1 0 0 0 5 1 1\n",
    "00 00 0 0 00 00 00 00 0 2 1 1 0 0 0 1 1 1 0 0 0 5 1 1 0 0 5 1 1 3 0 0 1 1 5 1\n",
    "00 00 0 0 00 00 00 00 0 1 1 1 0 0 5 1 1 1 0 0 5 1 1 3 3 0 5 1 1 5 0 0 1 1 1 3\n",
    "00 00 0 3 01 00 00 00 6 1 1 1 5 0 5 1 1 3 0 0 5 1 1 5 1 0 5 1 1 5 0 5 3 1 1 1 0 1 1 0 2 06 15 3 0 1 2\n",
    "00 00 4 3 02 00 03 16 5 4 3 3 3 4 3 1 1 5 2 2 2 2 2 3 3 3 3 2 2 2 2 2 1 1 1 3 5 3 4 1 5 10 03 8 3 3 3 04\n",
    "07 05 5 7 13 03 19 08 7 5 4 4 4 3 4 5 5 5 2 1 2 2 2 2 2 2 2 2 2 2 2 1 4 3 4 3 3 4 4 9 9 03 04 5 5 7 8 05 05 7\n",
    "09 15 5 3 03 18 04 03 3 2 2 2 2 2 3 2 3 2 3 3 2 3 3 3 3 3 3 3 3 3 3 3 3 4 3 4 4 2 3 4 4 02 02 2 3 3 3 11 15 9\n",
    "12 10 9 7 06 05 04 04 3 3 2 2 1 1 2 2 2 2 3 2 2 2 2 2 2 2 2 2 2 2 2 3 2 2 3 2 3 1 1 2 2 03 04 4 5 6 7 09 10 12\n",
    "\"\"\".strip()\n",
    "ver = [[int(s) for s in line.split()] for line in ver_str.split('\\n')]\n",
    "hor_rows = [[int(s) for s in line.split()] for line in hor_str.split('\\n')]\n",
    "hor = []\n",
    "for col_idx in range(max(map(len, hor_rows))):\n",
    "  col = []\n",
    "  hor.append(col)\n",
    "  for row in hor_rows:\n",
    "    if col_idx < len(row) and row[col_idx]:\n",
    "      col.append(row[col_idx])\n",
    "print(ver)\n",
    "print(hor)"
   ]
  },
  {
   "cell_type": "code",
   "execution_count": 27,
   "metadata": {
    "collapsed": false
   },
   "outputs": [
    {
     "data": {
      "text/plain": [
       "'{\"ver\": [[5, 1, 1, 5], [4, 3, 3, 1, 3, 4, 3, 4], [4, 4, 1, 1, 1, 1, 1, 1, 4, 3], [3, 4, 3, 1, 1, 1, 1, 2, 4, 3], [2, 4, 1, 1, 1, 1, 1, 1, 1, 5, 2], [1, 2, 2, 3, 4, 3, 4, 2, 2, 1], [1, 2, 2, 2, 2, 1], [2, 2, 2, 2], [2, 2, 4, 4, 4, 4, 4, 1, 1, 2, 2], [2, 2, 1, 1, 1, 1, 1, 1, 1, 1, 2, 2, 2, 2], [2, 2, 3, 4, 4, 1, 1, 1, 1, 1, 1, 1, 2, 2], [2, 2, 1, 1, 1, 1, 1, 1, 1, 1, 1, 1, 1, 2, 2], [2, 4, 4, 4, 1, 2, 4, 4, 1, 1, 2, 2], [2, 4, 2, 2], [2, 6, 2, 2], [2, 6, 1, 1, 4, 4, 4, 2, 4], [2, 7, 1, 1, 1, 1, 1, 1, 1, 2, 4], [2, 4, 2, 4, 1, 1, 1, 1, 4, 2, 5], [2, 8, 1, 1, 1, 1, 1, 1, 4, 5], [2, 5, 3, 1, 4, 4, 4, 5, 5], [2, 6, 3, 6, 6], [2, 5, 3, 6, 5], [2, 6, 4, 4, 8, 6], [2, 6, 24, 3, 3, 2], [9, 23, 3, 2, 2], [2, 1, 5, 4, 3, 3, 2, 2], [1, 3, 5, 4, 4, 4, 2, 2, 1], [1, 3, 4, 15, 4, 2, 2, 1], [2, 3, 4, 9, 5, 2, 2, 2], [3, 3, 5, 5, 2, 2, 3], [3, 3, 6, 7, 2, 2, 3], [4, 3, 18, 4, 4], [5, 4, 14, 4, 5], [6, 4, 8, 4, 6], [8, 4, 5, 8], [10, 5, 6, 9], [12, 19, 11], [14, 14, 13]], \"hor\": [[7, 9, 12], [5, 15, 10], [4, 5, 5, 9], [3, 3, 7, 3, 7], [1, 2, 13, 3, 6], [3, 18, 5], [3, 19, 4, 4], [16, 8, 3, 4], [6, 5, 7, 3, 3], [2, 1, 1, 4, 5, 2, 3], [1, 1, 1, 3, 4, 2, 2], [1, 1, 1, 3, 4, 2, 2], [5, 3, 4, 2, 1], [4, 3, 2, 1], [5, 5, 3, 4, 3, 2], [1, 1, 1, 1, 1, 1, 1, 5, 2, 2], [1, 1, 1, 1, 1, 1, 1, 5, 3, 2], [1, 1, 1, 3, 5, 5, 2, 2], [2, 2, 3, 3], [2, 1, 3, 2], [5, 5, 2, 2, 2, 2], [1, 5, 1, 1, 2, 2, 3, 2], [1, 1, 1, 1, 1, 2, 2, 3, 2], [1, 1, 3, 5, 3, 2, 3, 2], [3, 1, 3, 2, 3, 2], [3, 2, 3, 2], [5, 5, 5, 3, 2, 3, 2], [1, 1, 1, 1, 1, 1, 2, 2, 3, 2], [1, 1, 1, 1, 1, 1, 2, 2, 3, 2], [3, 5, 5, 2, 2, 3, 2], [2, 2, 3, 2], [5, 2, 1, 3, 3], [5, 1, 1, 3, 1, 4, 3, 2], [1, 1, 1, 1, 1, 1, 1, 3, 4, 2], [1, 1, 1, 5, 1, 1, 1, 4, 3, 3], [1, 3, 1, 3, 3, 4, 2], [5, 3, 4, 3], [1, 3, 4, 2, 1], [1, 4, 4, 3, 1], [1, 9, 4, 2], [2, 5, 9, 4, 2], [6, 10, 3, 2, 3], [15, 3, 4, 2, 4], [3, 8, 5, 2, 4], [3, 5, 3, 5], [1, 3, 7, 3, 6], [2, 3, 8, 3, 7], [4, 5, 11, 9], [5, 15, 10], [7, 9, 12]]}'"
      ]
     },
     "execution_count": 27,
     "metadata": {},
     "output_type": "execute_result"
    }
   ],
   "source": [
    "import json\n",
    "json.dumps({'ver': ver, 'hor': hor})"
   ]
  },
  {
   "cell_type": "code",
   "execution_count": 31,
   "metadata": {
    "collapsed": false,
    "scrolled": true
   },
   "outputs": [
    {
     "name": "stderr",
     "output_type": "stream",
     "text": [
      "ERROR:root:An unexpected error occurred while tokenizing input\n",
      "The following traceback may be corrupted or invalid\n",
      "The error message is: ('EOF in multi-line string', (1, 0))\n",
      "\n"
     ]
    },
    {
     "ename": "KeyboardInterrupt",
     "evalue": "",
     "output_type": "error",
     "traceback": [
      "\u001b[0;31m---------------------------------------------------------------------------\u001b[0m",
      "\u001b[0;31mKeyboardInterrupt\u001b[0m                         Traceback (most recent call last)",
      "\u001b[0;32m<ipython-input-31-ee22142fabb0>\u001b[0m in \u001b[0;36m<module>\u001b[0;34m()\u001b[0m\n\u001b[1;32m     14\u001b[0m \u001b[0;34m*\u001b[0m \u001b[0mSqueezeToy\u001b[0m\u001b[0;34m\u001b[0m\u001b[0m\n\u001b[1;32m     15\u001b[0m \u001b[0;34m*\u001b[0m \u001b[0mTinyStools\u001b[0m\u001b[0;34m\u001b[0m\u001b[0m\n\u001b[0;32m---> 16\u001b[0;31m \"\"\".lower())\n\u001b[0m",
      "\u001b[0;32m/Users/philharnish/Projects/forge/src/puzzle/puzzlepedia/puzzlepedia.py\u001b[0m in \u001b[0;36mparse\u001b[0;34m(source, hint, threshold)\u001b[0m\n\u001b[1;32m      9\u001b[0m   \u001b[0m_init\u001b[0m\u001b[0;34m(\u001b[0m\u001b[0;34m)\u001b[0m\u001b[0;34m\u001b[0m\u001b[0m\n\u001b[1;32m     10\u001b[0m   \u001b[0mresult\u001b[0m \u001b[0;34m=\u001b[0m \u001b[0mpuzzle\u001b[0m\u001b[0;34m.\u001b[0m\u001b[0mPuzzle\u001b[0m\u001b[0;34m(\u001b[0m\u001b[0;34m'first stage'\u001b[0m\u001b[0;34m,\u001b[0m \u001b[0msource\u001b[0m\u001b[0;34m,\u001b[0m \u001b[0mhint\u001b[0m\u001b[0;34m=\u001b[0m\u001b[0mhint\u001b[0m\u001b[0;34m,\u001b[0m \u001b[0mthreshold\u001b[0m\u001b[0;34m=\u001b[0m\u001b[0mthreshold\u001b[0m\u001b[0;34m)\u001b[0m\u001b[0;34m\u001b[0m\u001b[0m\n\u001b[0;32m---> 11\u001b[0;31m   \u001b[0minteract_with\u001b[0m\u001b[0;34m(\u001b[0m\u001b[0mresult\u001b[0m\u001b[0;34m)\u001b[0m\u001b[0;34m\u001b[0m\u001b[0m\n\u001b[0m\u001b[1;32m     12\u001b[0m   \u001b[0;32mreturn\u001b[0m \u001b[0mresult\u001b[0m\u001b[0;34m\u001b[0m\u001b[0m\n\u001b[1;32m     13\u001b[0m \u001b[0;34m\u001b[0m\u001b[0m\n",
      "\u001b[0;32m/Users/philharnish/Projects/forge/src/puzzle/puzzlepedia/puzzlepedia.py\u001b[0m in \u001b[0;36minteract_with\u001b[0;34m(puzzle)\u001b[0m\n\u001b[1;32m     15\u001b[0m \u001b[0;32mdef\u001b[0m \u001b[0minteract_with\u001b[0m\u001b[0;34m(\u001b[0m\u001b[0mpuzzle\u001b[0m\u001b[0;34m)\u001b[0m\u001b[0;34m:\u001b[0m\u001b[0;34m\u001b[0m\u001b[0m\n\u001b[1;32m     16\u001b[0m   \u001b[0m_init\u001b[0m\u001b[0;34m(\u001b[0m\u001b[0;34m)\u001b[0m\u001b[0;34m\u001b[0m\u001b[0m\n\u001b[0;32m---> 17\u001b[0;31m   \u001b[0mdisplay\u001b[0m\u001b[0;34m.\u001b[0m\u001b[0mdisplay\u001b[0m\u001b[0;34m(\u001b[0m\u001b[0mpuzzle_widget\u001b[0m\u001b[0;34m.\u001b[0m\u001b[0mPuzzleWidget\u001b[0m\u001b[0;34m(\u001b[0m\u001b[0mpuzzle\u001b[0m\u001b[0;34m)\u001b[0m\u001b[0;34m)\u001b[0m\u001b[0;34m\u001b[0m\u001b[0m\n\u001b[0m\u001b[1;32m     18\u001b[0m \u001b[0;34m\u001b[0m\u001b[0m\n\u001b[1;32m     19\u001b[0m \u001b[0;34m\u001b[0m\u001b[0m\n",
      "\u001b[0;32m/Users/philharnish/Projects/forge/src/puzzle/puzzlepedia/puzzle_widget.py\u001b[0m in \u001b[0;36mPuzzleWidget\u001b[0;34m(puzzle)\u001b[0m\n\u001b[1;32m      8\u001b[0m   \u001b[0mwidget_children\u001b[0m \u001b[0;34m=\u001b[0m \u001b[0;34m[\u001b[0m\u001b[0;34m]\u001b[0m\u001b[0;34m\u001b[0m\u001b[0m\n\u001b[1;32m      9\u001b[0m   \u001b[0;32mfor\u001b[0m \u001b[0mproblem\u001b[0m \u001b[0;32min\u001b[0m \u001b[0mpuzzle\u001b[0m\u001b[0;34m.\u001b[0m\u001b[0m_meta_problems\u001b[0m\u001b[0;34m:\u001b[0m\u001b[0;34m\u001b[0m\u001b[0m\n\u001b[0;32m---> 10\u001b[0;31m     \u001b[0mwidget_children\u001b[0m\u001b[0;34m.\u001b[0m\u001b[0mappend\u001b[0m\u001b[0;34m(\u001b[0m\u001b[0mproblem_widget\u001b[0m\u001b[0;34m.\u001b[0m\u001b[0mProblemWidget\u001b[0m\u001b[0;34m(\u001b[0m\u001b[0mproblem\u001b[0m\u001b[0;34m)\u001b[0m\u001b[0;34m)\u001b[0m\u001b[0;34m\u001b[0m\u001b[0m\n\u001b[0m\u001b[1;32m     11\u001b[0m   \u001b[0maccordion\u001b[0m \u001b[0;34m=\u001b[0m \u001b[0mwidgets\u001b[0m\u001b[0;34m.\u001b[0m\u001b[0mAccordion\u001b[0m\u001b[0;34m(\u001b[0m\u001b[0mchildren\u001b[0m\u001b[0;34m=\u001b[0m\u001b[0mwidget_children\u001b[0m\u001b[0;34m)\u001b[0m\u001b[0;34m\u001b[0m\u001b[0m\n\u001b[1;32m     12\u001b[0m   \u001b[0;32mfor\u001b[0m \u001b[0mi\u001b[0m\u001b[0;34m,\u001b[0m \u001b[0mproblem\u001b[0m \u001b[0;32min\u001b[0m \u001b[0menumerate\u001b[0m\u001b[0;34m(\u001b[0m\u001b[0mpuzzle\u001b[0m\u001b[0;34m.\u001b[0m\u001b[0m_meta_problems\u001b[0m\u001b[0;34m)\u001b[0m\u001b[0;34m:\u001b[0m\u001b[0;34m\u001b[0m\u001b[0m\n",
      "\u001b[0;32m/Users/philharnish/Projects/forge/src/puzzle/puzzlepedia/problem_widget.py\u001b[0m in \u001b[0;36mProblemWidget\u001b[0;34m(meta_problem)\u001b[0m\n\u001b[1;32m     34\u001b[0m   \u001b[0;32mif\u001b[0m \u001b[0mmeta_problem\u001b[0m\u001b[0;34m.\u001b[0m\u001b[0mpeek\u001b[0m\u001b[0;34m(\u001b[0m\u001b[0;34m)\u001b[0m\u001b[0;34m:\u001b[0m\u001b[0;34m\u001b[0m\u001b[0m\n\u001b[1;32m     35\u001b[0m     _update_solutions_for_problem(\n\u001b[0;32m---> 36\u001b[0;31m         solutions_table, best_solution, meta_problem.peek())\n\u001b[0m\u001b[1;32m     37\u001b[0m   \u001b[0;32mreturn\u001b[0m \u001b[0mwidgets\u001b[0m\u001b[0;34m.\u001b[0m\u001b[0mVBox\u001b[0m\u001b[0;34m(\u001b[0m\u001b[0;34m[\u001b[0m\u001b[0mwidgets\u001b[0m\u001b[0;34m.\u001b[0m\u001b[0mHBox\u001b[0m\u001b[0;34m(\u001b[0m\u001b[0mitems\u001b[0m\u001b[0;34m)\u001b[0m\u001b[0;34m,\u001b[0m \u001b[0msolutions_table\u001b[0m\u001b[0;34m]\u001b[0m\u001b[0;34m)\u001b[0m\u001b[0;34m\u001b[0m\u001b[0m\n\u001b[1;32m     38\u001b[0m \u001b[0;34m\u001b[0m\u001b[0m\n",
      "\u001b[0;32m/Users/philharnish/Projects/forge/src/puzzle/puzzlepedia/problem_widget.py\u001b[0m in \u001b[0;36m_update_solutions_for_problem\u001b[0;34m(table, best_solution, problem)\u001b[0m\n\u001b[1;32m     39\u001b[0m \u001b[0;34m\u001b[0m\u001b[0m\n\u001b[1;32m     40\u001b[0m \u001b[0;32mdef\u001b[0m \u001b[0m_update_solutions_for_problem\u001b[0m\u001b[0;34m(\u001b[0m\u001b[0mtable\u001b[0m\u001b[0;34m,\u001b[0m \u001b[0mbest_solution\u001b[0m\u001b[0;34m,\u001b[0m \u001b[0mproblem\u001b[0m\u001b[0;34m)\u001b[0m\u001b[0;34m:\u001b[0m\u001b[0;34m\u001b[0m\u001b[0m\n\u001b[0;32m---> 41\u001b[0;31m   \u001b[0msolutions\u001b[0m \u001b[0;34m=\u001b[0m \u001b[0mproblem\u001b[0m\u001b[0;34m.\u001b[0m\u001b[0msolutions\u001b[0m\u001b[0;34m(\u001b[0m\u001b[0;34m)\u001b[0m\u001b[0;34m\u001b[0m\u001b[0m\n\u001b[0m\u001b[1;32m     42\u001b[0m   \u001b[0;32mif\u001b[0m \u001b[0msolutions\u001b[0m\u001b[0;34m.\u001b[0m\u001b[0mpeek\u001b[0m\u001b[0;34m(\u001b[0m\u001b[0;34m)\u001b[0m\u001b[0;34m:\u001b[0m\u001b[0;34m\u001b[0m\u001b[0m\n\u001b[1;32m     43\u001b[0m     \u001b[0mbest_solution\u001b[0m\u001b[0;34m.\u001b[0m\u001b[0mvalue\u001b[0m \u001b[0;34m=\u001b[0m \u001b[0msolutions\u001b[0m\u001b[0;34m.\u001b[0m\u001b[0mpeek\u001b[0m\u001b[0;34m(\u001b[0m\u001b[0;34m)\u001b[0m\u001b[0;34m\u001b[0m\u001b[0m\n",
      "\u001b[0;32m/Users/philharnish/Projects/forge/src/puzzle/problems/problem.py\u001b[0m in \u001b[0;36msolutions\u001b[0;34m(self)\u001b[0m\n\u001b[1;32m     42\u001b[0m \u001b[0;34m\u001b[0m\u001b[0m\n\u001b[1;32m     43\u001b[0m   \u001b[0;32mdef\u001b[0m \u001b[0msolutions\u001b[0m\u001b[0;34m(\u001b[0m\u001b[0mself\u001b[0m\u001b[0;34m)\u001b[0m\u001b[0;34m:\u001b[0m\u001b[0;34m\u001b[0m\u001b[0m\n\u001b[0;32m---> 44\u001b[0;31m     \u001b[0;32mfor\u001b[0m \u001b[0m_\u001b[0m \u001b[0;32min\u001b[0m \u001b[0mself\u001b[0m\u001b[0;34m.\u001b[0m\u001b[0m_filtered_solutions_iterator\u001b[0m\u001b[0;34m:\u001b[0m\u001b[0;34m\u001b[0m\u001b[0m\n\u001b[0m\u001b[1;32m     45\u001b[0m       \u001b[0;31m# Exhaust the _filtered_solutions_iterator.\u001b[0m\u001b[0;34m\u001b[0m\u001b[0;34m\u001b[0m\u001b[0m\n\u001b[1;32m     46\u001b[0m       \u001b[0;32mpass\u001b[0m\u001b[0;34m\u001b[0m\u001b[0m\n",
      "\u001b[0;32m/Users/philharnish/Projects/forge/src/puzzle/problems/problem.py\u001b[0m in \u001b[0;36m_filter_solutions_iter\u001b[0;34m(self)\u001b[0m\n\u001b[1;32m     65\u001b[0m     \u001b[0;31m# the Problem's constraints changed mid-solve.\u001b[0m\u001b[0;34m\u001b[0m\u001b[0;34m\u001b[0m\u001b[0m\n\u001b[1;32m     66\u001b[0m     for k, v in itertools.chain(\n\u001b[0;32m---> 67\u001b[0;31m         self._all_solutions.items(), self._solutions_iterator):\n\u001b[0m\u001b[1;32m     68\u001b[0m       \u001b[0mconstrained\u001b[0m \u001b[0;34m=\u001b[0m \u001b[0mall\u001b[0m\u001b[0;34m(\u001b[0m\u001b[0mfn\u001b[0m\u001b[0;34m(\u001b[0m\u001b[0mk\u001b[0m\u001b[0;34m,\u001b[0m \u001b[0mv\u001b[0m\u001b[0;34m)\u001b[0m \u001b[0;32mfor\u001b[0m \u001b[0mfn\u001b[0m \u001b[0;32min\u001b[0m \u001b[0mself\u001b[0m\u001b[0;34m.\u001b[0m\u001b[0m_constraints\u001b[0m\u001b[0;34m)\u001b[0m\u001b[0;34m\u001b[0m\u001b[0m\n\u001b[1;32m     69\u001b[0m       \u001b[0;32mif\u001b[0m \u001b[0mconstrained\u001b[0m\u001b[0;34m:\u001b[0m\u001b[0;34m\u001b[0m\u001b[0m\n",
      "\u001b[0;32m/Users/philharnish/Projects/forge/src/puzzle/problems/problem.py\u001b[0m in \u001b[0;36m_take_solutions_iter\u001b[0;34m(self)\u001b[0m\n\u001b[1;32m     57\u001b[0m \u001b[0;34m\u001b[0m\u001b[0m\n\u001b[1;32m     58\u001b[0m   \u001b[0;32mdef\u001b[0m \u001b[0m_take_solutions_iter\u001b[0m\u001b[0;34m(\u001b[0m\u001b[0mself\u001b[0m\u001b[0;34m)\u001b[0m\u001b[0;34m:\u001b[0m\u001b[0;34m\u001b[0m\u001b[0m\n\u001b[0;32m---> 59\u001b[0;31m     \u001b[0;32mfor\u001b[0m \u001b[0mk\u001b[0m\u001b[0;34m,\u001b[0m \u001b[0mv\u001b[0m \u001b[0;32min\u001b[0m \u001b[0mself\u001b[0m\u001b[0;34m.\u001b[0m\u001b[0m_solve_iter\u001b[0m\u001b[0;34m(\u001b[0m\u001b[0;34m)\u001b[0m\u001b[0;34m:\u001b[0m\u001b[0;34m\u001b[0m\u001b[0m\n\u001b[0m\u001b[1;32m     60\u001b[0m       \u001b[0mself\u001b[0m\u001b[0;34m.\u001b[0m\u001b[0m_all_solutions\u001b[0m\u001b[0;34m[\u001b[0m\u001b[0mk\u001b[0m\u001b[0;34m]\u001b[0m \u001b[0;34m=\u001b[0m \u001b[0mv\u001b[0m\u001b[0;34m\u001b[0m\u001b[0m\n\u001b[1;32m     61\u001b[0m       \u001b[0;32myield\u001b[0m \u001b[0mk\u001b[0m\u001b[0;34m,\u001b[0m \u001b[0mv\u001b[0m\u001b[0;34m\u001b[0m\u001b[0m\n",
      "\u001b[0;32m/Users/philharnish/Projects/forge/src/puzzle/problems/acrostic_problem.py\u001b[0m in \u001b[0;36m_solve_iter\u001b[0;34m(self)\u001b[0m\n\u001b[1;32m     42\u001b[0m \u001b[0;34m\u001b[0m\u001b[0m\n\u001b[1;32m     43\u001b[0m   \u001b[0;32mdef\u001b[0m \u001b[0m_solve_iter\u001b[0m\u001b[0;34m(\u001b[0m\u001b[0mself\u001b[0m\u001b[0;34m)\u001b[0m\u001b[0;34m:\u001b[0m\u001b[0;34m\u001b[0m\u001b[0m\n\u001b[0;32m---> 44\u001b[0;31m     \u001b[0;32mfor\u001b[0m \u001b[0msolution\u001b[0m\u001b[0;34m,\u001b[0m \u001b[0mweight\u001b[0m \u001b[0;32min\u001b[0m \u001b[0mself\u001b[0m\u001b[0;34m.\u001b[0m\u001b[0m_acrostic\u001b[0m\u001b[0;34m.\u001b[0m\u001b[0mitems\u001b[0m\u001b[0;34m(\u001b[0m\u001b[0;34m)\u001b[0m\u001b[0;34m:\u001b[0m\u001b[0;34m\u001b[0m\u001b[0m\n\u001b[0m\u001b[1;32m     45\u001b[0m       \u001b[0;32mif\u001b[0m \u001b[0mweight\u001b[0m \u001b[0;34m<\u001b[0m \u001b[0mself\u001b[0m\u001b[0;34m.\u001b[0m\u001b[0m_threshold\u001b[0m\u001b[0;34m:\u001b[0m\u001b[0;34m\u001b[0m\u001b[0m\n\u001b[1;32m     46\u001b[0m         \u001b[0;32mreturn\u001b[0m\u001b[0;34m\u001b[0m\u001b[0m\n",
      "\u001b[0;32m/Users/philharnish/Projects/forge/src/puzzle/heuristics/acrostics/_acrostic_iter.py\u001b[0m in \u001b[0;36mitems\u001b[0;34m(self)\u001b[0m\n\u001b[1;32m     41\u001b[0m \u001b[0;34m\u001b[0m\u001b[0m\n\u001b[1;32m     42\u001b[0m   \u001b[0;32mdef\u001b[0m \u001b[0mitems\u001b[0m\u001b[0;34m(\u001b[0m\u001b[0mself\u001b[0m\u001b[0;34m)\u001b[0m\u001b[0;34m:\u001b[0m\u001b[0;34m\u001b[0m\u001b[0m\n\u001b[0;32m---> 43\u001b[0;31m     \u001b[0;32mfor\u001b[0m \u001b[0mphrase\u001b[0m\u001b[0;34m,\u001b[0m \u001b[0mweight\u001b[0m \u001b[0;32min\u001b[0m \u001b[0mself\u001b[0m\u001b[0;34m.\u001b[0m\u001b[0m_walk_phrase_graph_from\u001b[0m\u001b[0;34m(\u001b[0m\u001b[0;36m0\u001b[0m\u001b[0;34m,\u001b[0m \u001b[0;34m[\u001b[0m\u001b[0;34m]\u001b[0m\u001b[0;34m,\u001b[0m \u001b[0;36m0\u001b[0m\u001b[0;34m)\u001b[0m\u001b[0;34m:\u001b[0m\u001b[0;34m\u001b[0m\u001b[0m\n\u001b[0m\u001b[1;32m     44\u001b[0m       \u001b[0;32myield\u001b[0m \u001b[0mphrase\u001b[0m\u001b[0;34m,\u001b[0m \u001b[0mweight\u001b[0m\u001b[0;34m\u001b[0m\u001b[0m\n\u001b[1;32m     45\u001b[0m \u001b[0;34m\u001b[0m\u001b[0m\n",
      "\u001b[0;32m/Users/philharnish/Projects/forge/src/puzzle/heuristics/acrostics/_acrostic_search.py\u001b[0m in \u001b[0;36m_walk_phrase_graph_from\u001b[0;34m(self, pos, acc, acc_weight)\u001b[0m\n\u001b[1;32m     32\u001b[0m         \u001b[0mbest_phrase\u001b[0m \u001b[0;34m=\u001b[0m \u001b[0mheap\u001b[0m\u001b[0;34m.\u001b[0m\u001b[0mpop\u001b[0m\u001b[0;34m(\u001b[0m\u001b[0;34m)\u001b[0m\u001b[0;34m\u001b[0m\u001b[0m\n\u001b[1;32m     33\u001b[0m         yield from self._recurse_with(\n\u001b[0;32m---> 34\u001b[0;31m             pos, acc, acc_weight, target, best_phrase, best_weight)\n\u001b[0m\u001b[1;32m     35\u001b[0m         \u001b[0mbest_weight\u001b[0m \u001b[0;34m=\u001b[0m \u001b[0mheap\u001b[0m\u001b[0;34m.\u001b[0m\u001b[0mbest_weight\u001b[0m\u001b[0;34m(\u001b[0m\u001b[0;34m)\u001b[0m\u001b[0;34m\u001b[0m\u001b[0m\n\u001b[1;32m     36\u001b[0m     \u001b[0;32mwhile\u001b[0m \u001b[0mlen\u001b[0m\u001b[0;34m(\u001b[0m\u001b[0mheap\u001b[0m\u001b[0;34m)\u001b[0m\u001b[0;34m:\u001b[0m\u001b[0;34m\u001b[0m\u001b[0m\n",
      "\u001b[0;32m/Users/philharnish/Projects/forge/src/puzzle/heuristics/acrostics/_acrostic_iter.py\u001b[0m in \u001b[0;36m_recurse_with\u001b[0;34m(self, pos, acc, acc_weight, target, phrase, weight)\u001b[0m\n\u001b[1;32m     59\u001b[0m       \u001b[0minteresting\u001b[0m \u001b[0;34m=\u001b[0m \u001b[0;34m(\u001b[0m\u001b[0macc_len\u001b[0m \u001b[0;34m<\u001b[0m \u001b[0;36m3\u001b[0m\u001b[0;34m)\u001b[0m \u001b[0;32mor\u001b[0m \u001b[0;34m(\u001b[0m\u001b[0mpos\u001b[0m \u001b[0;34m/\u001b[0m \u001b[0macc_len\u001b[0m \u001b[0;34m>=\u001b[0m \u001b[0m_TARGET_WORD_LEN\u001b[0m\u001b[0;34m)\u001b[0m\u001b[0;34m\u001b[0m\u001b[0m\n\u001b[1;32m     60\u001b[0m       \u001b[0;32mif\u001b[0m \u001b[0minteresting\u001b[0m\u001b[0;34m:\u001b[0m\u001b[0;34m\u001b[0m\u001b[0m\n\u001b[0;32m---> 61\u001b[0;31m         \u001b[0;32mfor\u001b[0m \u001b[0mresult\u001b[0m \u001b[0;32min\u001b[0m \u001b[0mself\u001b[0m\u001b[0;34m.\u001b[0m\u001b[0m_walk_phrase_graph_from\u001b[0m\u001b[0;34m(\u001b[0m\u001b[0mpos\u001b[0m\u001b[0;34m,\u001b[0m \u001b[0macc\u001b[0m\u001b[0;34m,\u001b[0m \u001b[0macc_weight\u001b[0m\u001b[0;34m)\u001b[0m\u001b[0;34m:\u001b[0m\u001b[0;34m\u001b[0m\u001b[0m\n\u001b[0m\u001b[1;32m     62\u001b[0m           \u001b[0;31m# Forward any findings from recursive calls up the trampoline.\u001b[0m\u001b[0;34m\u001b[0m\u001b[0;34m\u001b[0m\u001b[0m\n\u001b[1;32m     63\u001b[0m           \u001b[0;32myield\u001b[0m \u001b[0mresult\u001b[0m\u001b[0;34m\u001b[0m\u001b[0m\n",
      "\u001b[0;32m/Users/philharnish/Projects/forge/src/puzzle/heuristics/acrostics/_acrostic_search.py\u001b[0m in \u001b[0;36m_walk_phrase_graph_from\u001b[0;34m(self, pos, acc, acc_weight)\u001b[0m\n\u001b[1;32m     32\u001b[0m         \u001b[0mbest_phrase\u001b[0m \u001b[0;34m=\u001b[0m \u001b[0mheap\u001b[0m\u001b[0;34m.\u001b[0m\u001b[0mpop\u001b[0m\u001b[0;34m(\u001b[0m\u001b[0;34m)\u001b[0m\u001b[0;34m\u001b[0m\u001b[0m\n\u001b[1;32m     33\u001b[0m         yield from self._recurse_with(\n\u001b[0;32m---> 34\u001b[0;31m             pos, acc, acc_weight, target, best_phrase, best_weight)\n\u001b[0m\u001b[1;32m     35\u001b[0m         \u001b[0mbest_weight\u001b[0m \u001b[0;34m=\u001b[0m \u001b[0mheap\u001b[0m\u001b[0;34m.\u001b[0m\u001b[0mbest_weight\u001b[0m\u001b[0;34m(\u001b[0m\u001b[0;34m)\u001b[0m\u001b[0;34m\u001b[0m\u001b[0m\n\u001b[1;32m     36\u001b[0m     \u001b[0;32mwhile\u001b[0m \u001b[0mlen\u001b[0m\u001b[0;34m(\u001b[0m\u001b[0mheap\u001b[0m\u001b[0;34m)\u001b[0m\u001b[0;34m:\u001b[0m\u001b[0;34m\u001b[0m\u001b[0m\n",
      "\u001b[0;32m/Users/philharnish/Projects/forge/src/puzzle/heuristics/acrostics/_acrostic_iter.py\u001b[0m in \u001b[0;36m_recurse_with\u001b[0;34m(self, pos, acc, acc_weight, target, phrase, weight)\u001b[0m\n\u001b[1;32m     59\u001b[0m       \u001b[0minteresting\u001b[0m \u001b[0;34m=\u001b[0m \u001b[0;34m(\u001b[0m\u001b[0macc_len\u001b[0m \u001b[0;34m<\u001b[0m \u001b[0;36m3\u001b[0m\u001b[0;34m)\u001b[0m \u001b[0;32mor\u001b[0m \u001b[0;34m(\u001b[0m\u001b[0mpos\u001b[0m \u001b[0;34m/\u001b[0m \u001b[0macc_len\u001b[0m \u001b[0;34m>=\u001b[0m \u001b[0m_TARGET_WORD_LEN\u001b[0m\u001b[0;34m)\u001b[0m\u001b[0;34m\u001b[0m\u001b[0m\n\u001b[1;32m     60\u001b[0m       \u001b[0;32mif\u001b[0m \u001b[0minteresting\u001b[0m\u001b[0;34m:\u001b[0m\u001b[0;34m\u001b[0m\u001b[0m\n\u001b[0;32m---> 61\u001b[0;31m         \u001b[0;32mfor\u001b[0m \u001b[0mresult\u001b[0m \u001b[0;32min\u001b[0m \u001b[0mself\u001b[0m\u001b[0;34m.\u001b[0m\u001b[0m_walk_phrase_graph_from\u001b[0m\u001b[0;34m(\u001b[0m\u001b[0mpos\u001b[0m\u001b[0;34m,\u001b[0m \u001b[0macc\u001b[0m\u001b[0;34m,\u001b[0m \u001b[0macc_weight\u001b[0m\u001b[0;34m)\u001b[0m\u001b[0;34m:\u001b[0m\u001b[0;34m\u001b[0m\u001b[0m\n\u001b[0m\u001b[1;32m     62\u001b[0m           \u001b[0;31m# Forward any findings from recursive calls up the trampoline.\u001b[0m\u001b[0;34m\u001b[0m\u001b[0;34m\u001b[0m\u001b[0m\n\u001b[1;32m     63\u001b[0m           \u001b[0;32myield\u001b[0m \u001b[0mresult\u001b[0m\u001b[0;34m\u001b[0m\u001b[0m\n",
      "\u001b[0;32m/Users/philharnish/Projects/forge/src/puzzle/heuristics/acrostics/_acrostic_search.py\u001b[0m in \u001b[0;36m_walk_phrase_graph_from\u001b[0;34m(self, pos, acc, acc_weight)\u001b[0m\n\u001b[1;32m     32\u001b[0m         \u001b[0mbest_phrase\u001b[0m \u001b[0;34m=\u001b[0m \u001b[0mheap\u001b[0m\u001b[0;34m.\u001b[0m\u001b[0mpop\u001b[0m\u001b[0;34m(\u001b[0m\u001b[0;34m)\u001b[0m\u001b[0;34m\u001b[0m\u001b[0m\n\u001b[1;32m     33\u001b[0m         yield from self._recurse_with(\n\u001b[0;32m---> 34\u001b[0;31m             pos, acc, acc_weight, target, best_phrase, best_weight)\n\u001b[0m\u001b[1;32m     35\u001b[0m         \u001b[0mbest_weight\u001b[0m \u001b[0;34m=\u001b[0m \u001b[0mheap\u001b[0m\u001b[0;34m.\u001b[0m\u001b[0mbest_weight\u001b[0m\u001b[0;34m(\u001b[0m\u001b[0;34m)\u001b[0m\u001b[0;34m\u001b[0m\u001b[0m\n\u001b[1;32m     36\u001b[0m     \u001b[0;32mwhile\u001b[0m \u001b[0mlen\u001b[0m\u001b[0;34m(\u001b[0m\u001b[0mheap\u001b[0m\u001b[0;34m)\u001b[0m\u001b[0;34m:\u001b[0m\u001b[0;34m\u001b[0m\u001b[0m\n",
      "\u001b[0;32m/Users/philharnish/Projects/forge/src/puzzle/heuristics/acrostics/_acrostic_iter.py\u001b[0m in \u001b[0;36m_recurse_with\u001b[0;34m(self, pos, acc, acc_weight, target, phrase, weight)\u001b[0m\n\u001b[1;32m     59\u001b[0m       \u001b[0minteresting\u001b[0m \u001b[0;34m=\u001b[0m \u001b[0;34m(\u001b[0m\u001b[0macc_len\u001b[0m \u001b[0;34m<\u001b[0m \u001b[0;36m3\u001b[0m\u001b[0;34m)\u001b[0m \u001b[0;32mor\u001b[0m \u001b[0;34m(\u001b[0m\u001b[0mpos\u001b[0m \u001b[0;34m/\u001b[0m \u001b[0macc_len\u001b[0m \u001b[0;34m>=\u001b[0m \u001b[0m_TARGET_WORD_LEN\u001b[0m\u001b[0;34m)\u001b[0m\u001b[0;34m\u001b[0m\u001b[0m\n\u001b[1;32m     60\u001b[0m       \u001b[0;32mif\u001b[0m \u001b[0minteresting\u001b[0m\u001b[0;34m:\u001b[0m\u001b[0;34m\u001b[0m\u001b[0m\n\u001b[0;32m---> 61\u001b[0;31m         \u001b[0;32mfor\u001b[0m \u001b[0mresult\u001b[0m \u001b[0;32min\u001b[0m \u001b[0mself\u001b[0m\u001b[0;34m.\u001b[0m\u001b[0m_walk_phrase_graph_from\u001b[0m\u001b[0;34m(\u001b[0m\u001b[0mpos\u001b[0m\u001b[0;34m,\u001b[0m \u001b[0macc\u001b[0m\u001b[0;34m,\u001b[0m \u001b[0macc_weight\u001b[0m\u001b[0;34m)\u001b[0m\u001b[0;34m:\u001b[0m\u001b[0;34m\u001b[0m\u001b[0m\n\u001b[0m\u001b[1;32m     62\u001b[0m           \u001b[0;31m# Forward any findings from recursive calls up the trampoline.\u001b[0m\u001b[0;34m\u001b[0m\u001b[0;34m\u001b[0m\u001b[0m\n\u001b[1;32m     63\u001b[0m           \u001b[0;32myield\u001b[0m \u001b[0mresult\u001b[0m\u001b[0;34m\u001b[0m\u001b[0m\n",
      "\u001b[0;32m/Users/philharnish/Projects/forge/src/puzzle/heuristics/acrostics/_acrostic_search.py\u001b[0m in \u001b[0;36m_walk_phrase_graph_from\u001b[0;34m(self, pos, acc, acc_weight)\u001b[0m\n\u001b[1;32m     20\u001b[0m     \u001b[0minterval_size\u001b[0m \u001b[0;34m=\u001b[0m \u001b[0;36m1\u001b[0m \u001b[0;34m/\u001b[0m \u001b[0mremaining_distance\u001b[0m\u001b[0;34m\u001b[0m\u001b[0m\n\u001b[1;32m     21\u001b[0m     \u001b[0mheap\u001b[0m \u001b[0;34m=\u001b[0m \u001b[0mmax_heap\u001b[0m\u001b[0;34m.\u001b[0m\u001b[0mMaxHeap\u001b[0m\u001b[0;34m(\u001b[0m\u001b[0;34m)\u001b[0m\u001b[0;34m\u001b[0m\u001b[0m\n\u001b[0;32m---> 22\u001b[0;31m     \u001b[0;32mfor\u001b[0m \u001b[0mphrase\u001b[0m\u001b[0;34m,\u001b[0m \u001b[0mweight\u001b[0m \u001b[0;32min\u001b[0m \u001b[0mself\u001b[0m\u001b[0;34m.\u001b[0m\u001b[0m_phrases_at\u001b[0m\u001b[0;34m(\u001b[0m\u001b[0mpos\u001b[0m\u001b[0;34m,\u001b[0m \u001b[0macc\u001b[0m\u001b[0;34m)\u001b[0m\u001b[0;34m:\u001b[0m\u001b[0;34m\u001b[0m\u001b[0m\n\u001b[0m\u001b[1;32m     23\u001b[0m       \u001b[0mphrase_len\u001b[0m \u001b[0;34m=\u001b[0m \u001b[0mlen\u001b[0m\u001b[0;34m(\u001b[0m\u001b[0mphrase\u001b[0m\u001b[0;34m)\u001b[0m\u001b[0;34m\u001b[0m\u001b[0m\n\u001b[1;32m     24\u001b[0m       \u001b[0mnormalized_weight\u001b[0m \u001b[0;34m=\u001b[0m \u001b[0mmin\u001b[0m\u001b[0;34m(\u001b[0m\u001b[0;36m1\u001b[0m\u001b[0;34m,\u001b[0m \u001b[0mweight\u001b[0m \u001b[0;34m/\u001b[0m \u001b[0mself\u001b[0m\u001b[0;34m.\u001b[0m\u001b[0m_trie\u001b[0m\u001b[0;34m.\u001b[0m\u001b[0minteresting_threshold\u001b[0m\u001b[0;34m(\u001b[0m\u001b[0;34m)\u001b[0m\u001b[0;34m)\u001b[0m\u001b[0;34m\u001b[0m\u001b[0m\n",
      "\u001b[0;32m/Users/philharnish/Projects/forge/src/puzzle/heuristics/acrostics/_acrostic_iter.py\u001b[0m in \u001b[0;36m_phrases_at\u001b[0;34m(self, pos, acc)\u001b[0m\n\u001b[1;32m     78\u001b[0m     \u001b[0;32myield\u001b[0m \u001b[0;32mfrom\u001b[0m \u001b[0mself\u001b[0m\u001b[0;34m.\u001b[0m\u001b[0m_iter_phrases\u001b[0m\u001b[0;34m(\u001b[0m\u001b[0mphrases_at\u001b[0m\u001b[0;34m)\u001b[0m\u001b[0;34m\u001b[0m\u001b[0m\n\u001b[1;32m     79\u001b[0m     \u001b[0;31m# Then find more.\u001b[0m\u001b[0;34m\u001b[0m\u001b[0;34m\u001b[0m\u001b[0m\n\u001b[0;32m---> 80\u001b[0;31m     \u001b[0;32myield\u001b[0m \u001b[0;32mfrom\u001b[0m \u001b[0mself\u001b[0m\u001b[0;34m.\u001b[0m\u001b[0m_walk\u001b[0m\u001b[0;34m(\u001b[0m\u001b[0mpos\u001b[0m\u001b[0;34m,\u001b[0m \u001b[0macc\u001b[0m\u001b[0;34m)\u001b[0m\u001b[0;34m\u001b[0m\u001b[0m\n\u001b[0m\u001b[1;32m     81\u001b[0m \u001b[0;34m\u001b[0m\u001b[0m\n\u001b[1;32m     82\u001b[0m   \u001b[0;32mdef\u001b[0m \u001b[0m_start_walk\u001b[0m\u001b[0;34m(\u001b[0m\u001b[0mself\u001b[0m\u001b[0;34m,\u001b[0m \u001b[0mpos\u001b[0m\u001b[0;34m,\u001b[0m \u001b[0macc\u001b[0m\u001b[0;34m)\u001b[0m\u001b[0;34m:\u001b[0m\u001b[0;34m\u001b[0m\u001b[0m\n",
      "\u001b[0;32m/Users/philharnish/Projects/forge/src/puzzle/heuristics/acrostics/_acrostic_iter.py\u001b[0m in \u001b[0;36m_walk\u001b[0;34m(self, pos, acc)\u001b[0m\n\u001b[1;32m     99\u001b[0m     \u001b[0;32mif\u001b[0m \u001b[0;32mnot\u001b[0m \u001b[0mwalk\u001b[0m\u001b[0;34m:\u001b[0m\u001b[0;34m\u001b[0m\u001b[0m\n\u001b[1;32m    100\u001b[0m       \u001b[0;32mreturn\u001b[0m\u001b[0;34m\u001b[0m\u001b[0m\n\u001b[0;32m--> 101\u001b[0;31m     \u001b[0;32mfor\u001b[0m \u001b[0mphrase\u001b[0m\u001b[0;34m,\u001b[0m \u001b[0mweight\u001b[0m \u001b[0;32min\u001b[0m \u001b[0mwalk\u001b[0m\u001b[0;34m:\u001b[0m\u001b[0;34m\u001b[0m\u001b[0m\n\u001b[0m\u001b[1;32m    102\u001b[0m       \u001b[0;32mif\u001b[0m \u001b[0mphrases_at\u001b[0m \u001b[0;32mis\u001b[0m \u001b[0;32mnot\u001b[0m \u001b[0;32mNone\u001b[0m\u001b[0;34m:\u001b[0m\u001b[0;34m\u001b[0m\u001b[0m\n\u001b[1;32m    103\u001b[0m         \u001b[0ml\u001b[0m \u001b[0;34m=\u001b[0m \u001b[0mlen\u001b[0m\u001b[0;34m(\u001b[0m\u001b[0mphrase\u001b[0m\u001b[0;34m)\u001b[0m\u001b[0;34m\u001b[0m\u001b[0m\n",
      "\u001b[0;32m/Users/philharnish/Projects/forge/src/data/trie.py\u001b[0m in \u001b[0;36mwalk\u001b[0;34m(self, seek_sets, exact_match)\u001b[0m\n\u001b[1;32m     81\u001b[0m       \u001b[0mexact_matches\u001b[0m\u001b[0;34m.\u001b[0m\u001b[0madd\u001b[0m\u001b[0;34m(\u001b[0m\u001b[0mword\u001b[0m\u001b[0;34m)\u001b[0m\u001b[0;34m\u001b[0m\u001b[0m\n\u001b[1;32m     82\u001b[0m       \u001b[0;32myield\u001b[0m \u001b[0mword\u001b[0m\u001b[0;34m,\u001b[0m \u001b[0mweight\u001b[0m\u001b[0;34m\u001b[0m\u001b[0m\n\u001b[0;32m---> 83\u001b[0;31m     \u001b[0;32mfor\u001b[0m \u001b[0mword\u001b[0m\u001b[0;34m,\u001b[0m \u001b[0mweight\u001b[0m \u001b[0;32min\u001b[0m \u001b[0mself\u001b[0m\u001b[0;34m.\u001b[0m\u001b[0m_walk\u001b[0m\u001b[0;34m(\u001b[0m\u001b[0mseek_sets\u001b[0m\u001b[0;34m,\u001b[0m \u001b[0;32mFalse\u001b[0m\u001b[0;34m)\u001b[0m\u001b[0;34m:\u001b[0m\u001b[0;34m\u001b[0m\u001b[0m\n\u001b[0m\u001b[1;32m     84\u001b[0m       \u001b[0;32mif\u001b[0m \u001b[0mword\u001b[0m \u001b[0;32min\u001b[0m \u001b[0mexact_matches\u001b[0m\u001b[0;34m:\u001b[0m\u001b[0;34m\u001b[0m\u001b[0m\n\u001b[1;32m     85\u001b[0m         \u001b[0;32mcontinue\u001b[0m\u001b[0;34m\u001b[0m\u001b[0m\n",
      "\u001b[0;32m/Users/philharnish/Projects/forge/src/data/trie.py\u001b[0m in \u001b[0;36m_walk\u001b[0;34m(self, seek_sets, exact_match)\u001b[0m\n\u001b[1;32m    102\u001b[0m       \u001b[0mpos\u001b[0m \u001b[0;34m=\u001b[0m \u001b[0mlen\u001b[0m\u001b[0;34m(\u001b[0m\u001b[0macc\u001b[0m\u001b[0;34m)\u001b[0m\u001b[0;34m\u001b[0m\u001b[0m\n\u001b[1;32m    103\u001b[0m       \u001b[0;32mif\u001b[0m \u001b[0mseek_set_mode\u001b[0m\u001b[0;34m:\u001b[0m\u001b[0;34m\u001b[0m\u001b[0m\n\u001b[0;32m--> 104\u001b[0;31m         \u001b[0mseeking\u001b[0m \u001b[0;34m=\u001b[0m \u001b[0mseek_sets\u001b[0m\u001b[0;34m.\u001b[0m\u001b[0mseek\u001b[0m\u001b[0;34m(\u001b[0m\u001b[0macc\u001b[0m\u001b[0;34m)\u001b[0m\u001b[0;34m\u001b[0m\u001b[0m\n\u001b[0m\u001b[1;32m    105\u001b[0m       \u001b[0;32melse\u001b[0m\u001b[0;34m:\u001b[0m\u001b[0;34m\u001b[0m\u001b[0m\n\u001b[1;32m    106\u001b[0m         \u001b[0mseeking\u001b[0m \u001b[0;34m=\u001b[0m \u001b[0mseek_sets\u001b[0m\u001b[0;34m[\u001b[0m\u001b[0mpos\u001b[0m\u001b[0;34m]\u001b[0m\u001b[0;34m\u001b[0m\u001b[0m\n",
      "\u001b[0;32m/Users/philharnish/Projects/forge/src/data/seek_sets/seek_set.py\u001b[0m in \u001b[0;36mseek\u001b[0;34m(self, seek)\u001b[0m\n\u001b[1;32m     73\u001b[0m       _visit(\n\u001b[1;32m     74\u001b[0m           \u001b[0mresult\u001b[0m\u001b[0;34m,\u001b[0m \u001b[0;34m[\u001b[0m\u001b[0;32mFalse\u001b[0m\u001b[0;34m]\u001b[0m \u001b[0;34m*\u001b[0m \u001b[0ml\u001b[0m\u001b[0;34m,\u001b[0m \u001b[0mself\u001b[0m\u001b[0;34m.\u001b[0m\u001b[0m_sets\u001b[0m\u001b[0;34m,\u001b[0m \u001b[0mself\u001b[0m\u001b[0;34m.\u001b[0m\u001b[0m_set_index\u001b[0m\u001b[0;34m,\u001b[0m\u001b[0;34m\u001b[0m\u001b[0m\n\u001b[0;32m---> 75\u001b[0;31m           self._indexes, seek, 0, False)\n\u001b[0m\u001b[1;32m     76\u001b[0m     \u001b[0;32mexcept\u001b[0m \u001b[0mStopIteration\u001b[0m\u001b[0;34m:\u001b[0m\u001b[0;34m\u001b[0m\u001b[0m\n\u001b[1;32m     77\u001b[0m       \u001b[0;32mpass\u001b[0m\u001b[0;34m\u001b[0m\u001b[0m\n",
      "\u001b[0;32m/Users/philharnish/Projects/forge/src/data/seek_sets/seek_set.py\u001b[0m in \u001b[0;36m_visit\u001b[0;34m(result, visited, sets, set_index, indexes, seek, pos, stop)\u001b[0m\n\u001b[1;32m    163\u001b[0m       \u001b[0;32mcontinue\u001b[0m\u001b[0;34m\u001b[0m\u001b[0m\n\u001b[1;32m    164\u001b[0m     \u001b[0mvisited\u001b[0m\u001b[0;34m[\u001b[0m\u001b[0mnext_visit\u001b[0m\u001b[0;34m]\u001b[0m \u001b[0;34m=\u001b[0m \u001b[0;32mTrue\u001b[0m\u001b[0;34m\u001b[0m\u001b[0m\n\u001b[0;32m--> 165\u001b[0;31m     \u001b[0m_visit\u001b[0m\u001b[0;34m(\u001b[0m\u001b[0mresult\u001b[0m\u001b[0;34m,\u001b[0m \u001b[0mvisited\u001b[0m\u001b[0;34m,\u001b[0m \u001b[0msets\u001b[0m\u001b[0;34m,\u001b[0m \u001b[0mset_index\u001b[0m\u001b[0;34m,\u001b[0m \u001b[0mindexes\u001b[0m\u001b[0;34m,\u001b[0m \u001b[0mseek\u001b[0m\u001b[0;34m,\u001b[0m \u001b[0mpos\u001b[0m \u001b[0;34m+\u001b[0m \u001b[0;36m1\u001b[0m\u001b[0;34m,\u001b[0m \u001b[0mstop\u001b[0m\u001b[0;34m)\u001b[0m\u001b[0;34m\u001b[0m\u001b[0m\n\u001b[0m\u001b[1;32m    166\u001b[0m     \u001b[0mvisited\u001b[0m\u001b[0;34m[\u001b[0m\u001b[0mnext_visit\u001b[0m\u001b[0;34m]\u001b[0m \u001b[0;34m=\u001b[0m \u001b[0;32mFalse\u001b[0m\u001b[0;34m\u001b[0m\u001b[0m\n",
      "\u001b[0;32m/Users/philharnish/Projects/forge/src/data/seek_sets/seek_set.py\u001b[0m in \u001b[0;36m_visit\u001b[0;34m(result, visited, sets, set_index, indexes, seek, pos, stop)\u001b[0m\n\u001b[1;32m    163\u001b[0m       \u001b[0;32mcontinue\u001b[0m\u001b[0;34m\u001b[0m\u001b[0m\n\u001b[1;32m    164\u001b[0m     \u001b[0mvisited\u001b[0m\u001b[0;34m[\u001b[0m\u001b[0mnext_visit\u001b[0m\u001b[0;34m]\u001b[0m \u001b[0;34m=\u001b[0m \u001b[0;32mTrue\u001b[0m\u001b[0;34m\u001b[0m\u001b[0m\n\u001b[0;32m--> 165\u001b[0;31m     \u001b[0m_visit\u001b[0m\u001b[0;34m(\u001b[0m\u001b[0mresult\u001b[0m\u001b[0;34m,\u001b[0m \u001b[0mvisited\u001b[0m\u001b[0;34m,\u001b[0m \u001b[0msets\u001b[0m\u001b[0;34m,\u001b[0m \u001b[0mset_index\u001b[0m\u001b[0;34m,\u001b[0m \u001b[0mindexes\u001b[0m\u001b[0;34m,\u001b[0m \u001b[0mseek\u001b[0m\u001b[0;34m,\u001b[0m \u001b[0mpos\u001b[0m \u001b[0;34m+\u001b[0m \u001b[0;36m1\u001b[0m\u001b[0;34m,\u001b[0m \u001b[0mstop\u001b[0m\u001b[0;34m)\u001b[0m\u001b[0;34m\u001b[0m\u001b[0m\n\u001b[0m\u001b[1;32m    166\u001b[0m     \u001b[0mvisited\u001b[0m\u001b[0;34m[\u001b[0m\u001b[0mnext_visit\u001b[0m\u001b[0;34m]\u001b[0m \u001b[0;34m=\u001b[0m \u001b[0;32mFalse\u001b[0m\u001b[0;34m\u001b[0m\u001b[0m\n",
      "\u001b[0;32m/Users/philharnish/Projects/forge/src/data/seek_sets/seek_set.py\u001b[0m in \u001b[0;36m_visit\u001b[0;34m(result, visited, sets, set_index, indexes, seek, pos, stop)\u001b[0m\n\u001b[1;32m    163\u001b[0m       \u001b[0;32mcontinue\u001b[0m\u001b[0;34m\u001b[0m\u001b[0m\n\u001b[1;32m    164\u001b[0m     \u001b[0mvisited\u001b[0m\u001b[0;34m[\u001b[0m\u001b[0mnext_visit\u001b[0m\u001b[0;34m]\u001b[0m \u001b[0;34m=\u001b[0m \u001b[0;32mTrue\u001b[0m\u001b[0;34m\u001b[0m\u001b[0m\n\u001b[0;32m--> 165\u001b[0;31m     \u001b[0m_visit\u001b[0m\u001b[0;34m(\u001b[0m\u001b[0mresult\u001b[0m\u001b[0;34m,\u001b[0m \u001b[0mvisited\u001b[0m\u001b[0;34m,\u001b[0m \u001b[0msets\u001b[0m\u001b[0;34m,\u001b[0m \u001b[0mset_index\u001b[0m\u001b[0;34m,\u001b[0m \u001b[0mindexes\u001b[0m\u001b[0;34m,\u001b[0m \u001b[0mseek\u001b[0m\u001b[0;34m,\u001b[0m \u001b[0mpos\u001b[0m \u001b[0;34m+\u001b[0m \u001b[0;36m1\u001b[0m\u001b[0;34m,\u001b[0m \u001b[0mstop\u001b[0m\u001b[0;34m)\u001b[0m\u001b[0;34m\u001b[0m\u001b[0m\n\u001b[0m\u001b[1;32m    166\u001b[0m     \u001b[0mvisited\u001b[0m\u001b[0;34m[\u001b[0m\u001b[0mnext_visit\u001b[0m\u001b[0;34m]\u001b[0m \u001b[0;34m=\u001b[0m \u001b[0;32mFalse\u001b[0m\u001b[0;34m\u001b[0m\u001b[0m\n",
      "\u001b[0;32m/Users/philharnish/Projects/forge/src/data/seek_sets/seek_set.py\u001b[0m in \u001b[0;36m_visit\u001b[0;34m(result, visited, sets, set_index, indexes, seek, pos, stop)\u001b[0m\n\u001b[1;32m    163\u001b[0m       \u001b[0;32mcontinue\u001b[0m\u001b[0;34m\u001b[0m\u001b[0m\n\u001b[1;32m    164\u001b[0m     \u001b[0mvisited\u001b[0m\u001b[0;34m[\u001b[0m\u001b[0mnext_visit\u001b[0m\u001b[0;34m]\u001b[0m \u001b[0;34m=\u001b[0m \u001b[0;32mTrue\u001b[0m\u001b[0;34m\u001b[0m\u001b[0m\n\u001b[0;32m--> 165\u001b[0;31m     \u001b[0m_visit\u001b[0m\u001b[0;34m(\u001b[0m\u001b[0mresult\u001b[0m\u001b[0;34m,\u001b[0m \u001b[0mvisited\u001b[0m\u001b[0;34m,\u001b[0m \u001b[0msets\u001b[0m\u001b[0;34m,\u001b[0m \u001b[0mset_index\u001b[0m\u001b[0;34m,\u001b[0m \u001b[0mindexes\u001b[0m\u001b[0;34m,\u001b[0m \u001b[0mseek\u001b[0m\u001b[0;34m,\u001b[0m \u001b[0mpos\u001b[0m \u001b[0;34m+\u001b[0m \u001b[0;36m1\u001b[0m\u001b[0;34m,\u001b[0m \u001b[0mstop\u001b[0m\u001b[0;34m)\u001b[0m\u001b[0;34m\u001b[0m\u001b[0m\n\u001b[0m\u001b[1;32m    166\u001b[0m     \u001b[0mvisited\u001b[0m\u001b[0;34m[\u001b[0m\u001b[0mnext_visit\u001b[0m\u001b[0;34m]\u001b[0m \u001b[0;34m=\u001b[0m \u001b[0;32mFalse\u001b[0m\u001b[0;34m\u001b[0m\u001b[0m\n",
      "\u001b[0;32m/Users/philharnish/Projects/forge/src/data/seek_sets/seek_set.py\u001b[0m in \u001b[0;36m_visit\u001b[0;34m(result, visited, sets, set_index, indexes, seek, pos, stop)\u001b[0m\n\u001b[1;32m    139\u001b[0m     \u001b[0mindex\u001b[0m \u001b[0;34m=\u001b[0m \u001b[0;32mNone\u001b[0m\u001b[0;34m\u001b[0m\u001b[0m\n\u001b[1;32m    140\u001b[0m   \u001b[0;32melse\u001b[0m\u001b[0;34m:\u001b[0m\u001b[0;34m\u001b[0m\u001b[0m\n\u001b[0;32m--> 141\u001b[0;31m     \u001b[0mindex\u001b[0m \u001b[0;34m=\u001b[0m \u001b[0mindexes\u001b[0m\u001b[0;34m[\u001b[0m\u001b[0mpos\u001b[0m\u001b[0;34m]\u001b[0m \u001b[0;34m-\u001b[0m \u001b[0;36m1\u001b[0m\u001b[0;34m\u001b[0m\u001b[0m\n\u001b[0m\u001b[1;32m    142\u001b[0m   \u001b[0;32mif\u001b[0m \u001b[0mpos\u001b[0m \u001b[0;34m==\u001b[0m \u001b[0mlen\u001b[0m\u001b[0;34m(\u001b[0m\u001b[0mseek\u001b[0m\u001b[0;34m)\u001b[0m\u001b[0;34m:\u001b[0m\u001b[0;34m\u001b[0m\u001b[0m\n\u001b[1;32m    143\u001b[0m     \u001b[0;32mfor\u001b[0m \u001b[0mi\u001b[0m\u001b[0;34m,\u001b[0m \u001b[0mset\u001b[0m \u001b[0;32min\u001b[0m \u001b[0menumerate\u001b[0m\u001b[0;34m(\u001b[0m\u001b[0msets\u001b[0m\u001b[0;34m)\u001b[0m\u001b[0;34m:\u001b[0m\u001b[0;34m\u001b[0m\u001b[0m\n",
      "\u001b[0;31mKeyboardInterrupt\u001b[0m: "
     ]
    }
   ],
   "source": [
    "import forge\n",
    "from puzzle.puzzlepedia import puzzlepedia\n",
    "\n",
    "puzzle = puzzlepedia.parse(\"\"\"\n",
    "@ 1 2 3 4 5 6 7 8 9 10\n",
    "* BigOldBell\n",
    "* BootyJuker\n",
    "* CorkChoker\n",
    "* FacePinner\n",
    "* FakeTurtle\n",
    "* LemurPoker\n",
    "* PixieProng\n",
    "* SheepStick\n",
    "* SqueezeToy\n",
    "* TinyStools\n",
    "\"\"\".lower())\n"
   ]
  },
  {
   "cell_type": "code",
   "execution_count": 8,
   "metadata": {
    "collapsed": false
   },
   "outputs": [
    {
     "name": "stdout",
     "output_type": "stream",
     "text": [
      "is_sat False\n",
      "is_unsat True\n",
      "assign:\n",
      "  a in {1..8}\n",
      "  b in {1..8}\n",
      "  c in {1..8}\n",
      "  d in {1..8}\n",
      "  e in {1..8}\n",
      "  f in {1..8}\n",
      "  g in {1..8}\n",
      "  h in {1..8}\n",
      "  \n",
      "subject to:\n",
      "  AllDiff(a, b, c, d, e, f, g, h)\n",
      "  ((a + b + c + d) == 23)\n",
      "  ((h * (g * (f * (e * 1)))) == 42)\n",
      "  \n",
      "a in {1..8} None\n",
      "b in {1..8} None\n",
      "c in {1..8} None\n",
      "d in {1..8} None\n",
      "e in {1..8} None\n",
      "f in {1..8} None\n",
      "g in {1..8} None\n",
      "h in {1..8} None\n"
     ]
    }
   ],
   "source": [
    "import Numberjack\n",
    "\n",
    "model = Numberjack.Model()\n",
    "\n",
    "x = {}\n",
    "for name in 'abcd':\n",
    "  x[name] = Numberjack.Variable([4, 5, 6, 8], name)\n",
    "\n",
    "model.add(Numberjack.AllDiff(x.values()))\n",
    "\n",
    "model.add(Numberjack.Sum([x[n] for n in 'abcd']) == 23)\n",
    "base = 1\n",
    "for n in 'efgh':\n",
    "  base = x[n] * base\n",
    "model.add(base == 42)\n",
    "\n",
    "solver = model.load('Mistral')\n",
    "solver.solve()\n",
    "\n",
    "print(\"is_sat\", solver.is_sat())\n",
    "print(\"is_unsat\", solver.is_unsat())\n",
    "\n",
    "print(model)\n",
    "\n",
    "for name in 'abcdefgh':\n",
    "  print(x[name], x[name].get_value())"
   ]
  },
  {
   "cell_type": "code",
   "execution_count": null,
   "metadata": {
    "collapsed": true
   },
   "outputs": [],
   "source": []
  }
 ],
 "metadata": {
  "kernelspec": {
   "display_name": "Python 3",
   "language": "python",
   "name": "python3"
  },
  "language_info": {
   "codemirror_mode": {
    "name": "ipython",
    "version": 3
   },
   "file_extension": ".py",
   "mimetype": "text/x-python",
   "name": "python",
   "nbconvert_exporter": "python",
   "pygments_lexer": "ipython3",
   "version": "3.6.0"
  },
  "widgets": {
   "state": {
    "56dfa242d42e435abea1d1b4ea6e31aa": {
     "views": [
      {
       "cell_index": 2
      }
     ]
    }
   },
   "version": "1.2.0"
  }
 },
 "nbformat": 4,
 "nbformat_minor": 2
}
