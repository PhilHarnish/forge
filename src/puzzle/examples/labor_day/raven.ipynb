{
 "cells": [
  {
   "cell_type": "code",
   "execution_count": 54,
   "metadata": {
    "collapsed": true
   },
   "outputs": [],
   "source": [
    "original = [\n",
    "  'chhips',\n",
    "  'ceegkor',\n",
    "  'aesuw',\n",
    "  'dprtt',\n",
    "  'eeehsv',\n",
    "  'aadelrr',\n",
    "  'eeeiopr',\n",
    "  'deo',\n",
    "  'aopt',\n",
    "  'enoossu',\n",
    "  'dmnsuuw',\n",
    "  'eer',\n",
    "  'eefhit',\n",
    "  'ahlotu',\n",
    "  'eilntx',\n",
    "  'adhlpx',\n",
    "  'eemno',\n",
    "  'acptty',\n",
    "  'ahhrtt',\n",
    "  'eeirrtu',\n",
    "  'ciins',\n",
    "  'cjossx',\n",
    "  'eiort',\n",
    "  'empv',\n",
    "  'iioptty',\n",
    "]\n",
    "\n",
    "sets = [\n",
    "  'chhis',\n",
    "  'ceekr',\n",
    "  'aes',\n",
    "  'prt',\n",
    "  'eesv',\n",
    "  'aadel',\n",
    "  'eeopr',\n",
    "  'o',\n",
    "  'aopt',\n",
    "  'enoossu',\n",
    "  'dmnsuuw',\n",
    "  'eer',\n",
    "  'eefit',\n",
    "  'ahlot',\n",
    "  'eilnt',\n",
    "  'adhpx',\n",
    "  'eno',\n",
    "  'cptt',\n",
    "  'ahhrt',\n",
    "  'eeirtu',\n",
    "  'cins',\n",
    "  'cjoss',\n",
    "  'eiort',\n",
    "  'empv',\n",
    "  'iioptty',\n",
    "]\n",
    "\n",
    "#sets = original"
   ]
  },
  {
   "cell_type": "code",
   "execution_count": 80,
   "metadata": {
    "collapsed": false
   },
   "outputs": [],
   "source": [
    "import forge\n",
    "from puzzle.puzzlepedia import puzzlepedia\n",
    "\n",
    "puzzle = puzzlepedia.parse('\\n'.join(sets[23:24+1]+sets[0:3+1]), hint='acrostic')"
   ]
  },
  {
   "cell_type": "code",
   "execution_count": null,
   "metadata": {
    "collapsed": true
   },
   "outputs": [],
   "source": []
  }
 ],
 "metadata": {
  "kernelspec": {
   "display_name": "Python 3",
   "language": "python",
   "name": "python3"
  },
  "language_info": {
   "codemirror_mode": {
    "name": "ipython",
    "version": 3
   },
   "file_extension": ".py",
   "mimetype": "text/x-python",
   "name": "python",
   "nbconvert_exporter": "python",
   "pygments_lexer": "ipython3",
   "version": "3.6.0"
  },
  "widgets": {
   "state": {
    "add03e9b5e04456db854fb62d2e4fbb0": {
     "views": [
      {
       "cell_index": 1
      }
     ]
    }
   },
   "version": "1.2.0"
  }
 },
 "nbformat": 4,
 "nbformat_minor": 2
}
