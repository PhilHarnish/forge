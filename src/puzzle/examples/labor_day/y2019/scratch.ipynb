{
 "cells": [
  {
   "cell_type": "code",
   "execution_count": 8,
   "metadata": {},
   "outputs": [
    {
     "name": "stdout",
     "output_type": "stream",
     "text": [
      "[('W', 1), ('Z', 1), ('H', 2), ('C', 2), ('Y', 2), ('P', 3), ('V', 3), ('K', 4), ('F', 4), ('G', 5), ('M', 5), ('U', 9), ('D', 10), ('B', 11), ('\\n', 11), ('S', 11), ('L', 11), ('O', 14), ('T', 15), ('I', 15), ('N', 20), ('R', 20), ('A', 21), ('E', 29)]\n",
      "[('BA', 1), ('TH', 1), ('HN', 1), ('KG', 1), ('RI', 1), ('PT', 1), ('TT', 1), ('EF', 1), ('FA', 1), ('AV', 1), ('VD', 1), ('FR', 1), ('BO', 1), ('BS', 1), ('FL', 1), ('LO', 1), ('AW', 1), ('WE', 1), ('EI', 1), ('IC', 1), ('CI', 1), ('NT', 1), ('TN', 1), ('BT', 1), ('AI', 1), ('OS', 1), ('SA', 1), ('AO', 1), ('SH', 1), ('HT', 1), ('IM', 1), ('NS', 1), ('SL', 1), ('EM', 1), ('MF', 1), ('FI', 1), ('IA', 1), ('RL', 1), ('AC', 1), ('CE', 1), ('SM', 1), ('RB', 1), ('TL', 1), ('LN', 1), ('OI', 1), ('IU', 1), ('UG', 1), ('GE', 1), ('MI', 1), ('IT', 1), ('TR', 1), ('EZ', 1), ('ZG', 1), ('GN', 1), ('UT', 1), ('IP', 1), ('RR', 1), ('RY', 1), ('YU', 1), ('DN', 1), ('BD', 1), ('BL', 1), ('DO', 1), ('OD', 1), ('EO', 1), ('OE', 1), ('EK', 1), ('UN', 1), ('LY', 1), ('YS', 1), ('EL', 1), ('LL', 1), ('DV', 1), ('VA', 1), ('AR', 1), ('NV', 1), ('VL', 1), ('LI', 1), ('IE', 1), ('ST', 1), ('IG', 1), ('GD', 1), ('IL', 1), ('LK', 1), ('KB', 1), ('AS', 1), ('SG', 1), ('AT', 2), ('NK', 2), ('GR', 2), ('KU', 2), ('UD', 2), ('EP', 2), ('TB', 2), ('DA', 2), ('RO', 2), ('OF', 2), ('EB', 2), ('NE', 2), ('EA', 2), ('UR', 2), ('AB', 2), ('SO', 2), ('RU', 2), ('UB', 2), ('IO', 2), ('NI', 2), ('LA', 2), ('AD', 2), ('ES', 2), ('OT', 2), ('BI', 2), ('PA', 2), ('AM', 2), ('AL', 2), ('ED', 2), ('BR', 3), ('RE', 3), ('ET', 3), ('ON', 3), ('NU', 3), ('OR', 3), ('NO', 3), ('EN', 3), ('TI', 3), ('ME', 3), ('SE', 3), ('LE', 3), ('IN', 4), ('AN', 4), ('NA', 4), ('RA', 4), ('RS', 4), ('DE', 5), ('TE', 5), ('ER', 6)]\n",
      "Counter({'T': 3, 'N': 2, 'K': 2, 'B': 1, 'A': 1, 'H': 1, 'G': 1, 'R': 1, 'I': 1, 'U': 1, 'D': 1, 'E': 1, 'P': 1})\n",
      "Counter({'E': 4, 'R': 3, 'A': 3, 'B': 2, 'T': 2, 'F': 2, 'N': 2, 'O': 2, 'V': 1, 'D': 1})\n",
      "Counter({'A': 3, 'R': 2, 'O': 2, 'E': 1, 'N': 1, 'U': 1, 'B': 1, 'S': 1, 'F': 1, 'L': 1, 'W': 1})\n",
      "Counter({'N': 4, 'I': 2, 'T': 2, 'O': 2, 'U': 2, 'E': 1, 'C': 1, 'R': 1, 'B': 1})\n",
      "Counter({'N': 4, 'E': 3, 'A': 3, 'I': 3, 'S': 3, 'R': 2, 'O': 2, 'H': 1, 'T': 1, 'M': 1})\n",
      "Counter({'E': 5, 'A': 3, 'L': 2, 'D': 2, 'S': 2, 'T': 1, 'M': 1, 'F': 1, 'I': 1, 'R': 1, 'C': 1})\n",
      "Counter({'T': 3, 'E': 2, 'R': 2, 'B': 2, 'O': 2, 'M': 1, 'I': 1, 'L': 1})\n",
      "Counter({'I': 2, 'N': 1, 'O': 1, 'U': 1, 'G': 1, 'E': 1, 'P': 1, 'A': 1, 'M': 1, 'T': 1})\n",
      "Counter({'R': 2, 'A': 2, 'E': 2, 'L': 1, 'Z': 1, 'G': 1, 'N': 1, 'U': 1, 'T': 1, 'I': 1, 'P': 1, 'M': 1})\n",
      "Counter({'D': 4, 'E': 4, 'O': 3, 'R': 2, 'Y': 2, 'U': 2, 'N': 2, 'A': 2, 'B': 2, 'L': 2, 'S': 1, 'K': 1})\n",
      "Counter({'E': 4, 'S': 3, 'L': 3, 'V': 2, 'R': 2, 'D': 1, 'A': 1, 'N': 1, 'I': 1})\n",
      "Counter({'I': 3, 'G': 2, 'A': 2, 'N': 2, 'B': 2, 'R': 2, 'T': 1, 'D': 1, 'L': 1, 'K': 1, 'E': 1, 'S': 1, 'U': 1})\n"
     ]
    }
   ],
   "source": [
    "import collections\n",
    "\n",
    "given = \"\"\"\n",
    "BATHNKGRINKUDEPTT\n",
    "BRETEFAVDANATEROFREBON\n",
    "EANURABSOFLORAW\n",
    "EICINTNONONURUBT\n",
    "ENERAIOSANAORSHTINIMENS\n",
    "LADESETEMFIADERLACES\n",
    "MERBROTBIOTETL\n",
    "NOIUGEPAMIT\n",
    "RALEZGNUTIPAMER\n",
    "RYUDNABDEBLEDORSODEOEKUNALY\n",
    "SELLEDVARSENVLIERS\n",
    "TIGDANILKBREASGRUBIN\n",
    "\"\"\".strip()\n",
    "\n",
    "print(sorted(collections.Counter(given).items(), key=lambda x: x[1]))\n",
    "\n",
    "clean = given.replace('\\n', '')\n",
    "bigrams = [a + b for a, b in zip(clean, clean[1:])]\n",
    "print(sorted(collections.Counter(bigrams).items(), key=lambda x: x[1]))\n",
    "\n",
    "\n",
    "for line in given.split('\\n'):\n",
    "  freq = collections.Counter(line)\n",
    "  print(freq)"
   ]
  },
  {
   "cell_type": "code",
   "execution_count": null,
   "metadata": {},
   "outputs": [],
   "source": []
  }
 ],
 "metadata": {
  "kernelspec": {
   "display_name": "Python 3",
   "language": "python",
   "name": "python3"
  },
  "language_info": {
   "codemirror_mode": {
    "name": "ipython",
    "version": 3
   },
   "file_extension": ".py",
   "mimetype": "text/x-python",
   "name": "python",
   "nbconvert_exporter": "python",
   "pygments_lexer": "ipython3",
   "version": "3.6.0"
  }
 },
 "nbformat": 4,
 "nbformat_minor": 2
}
