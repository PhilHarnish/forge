{
 "cells": [
  {
   "cell_type": "code",
   "execution_count": null,
   "metadata": {
    "collapsed": true
   },
   "outputs": [],
   "source": [
    "#1\n",
    "AALPYBETWITYEELETTRSKSAMEYNZAYIANDLGIME\n",
    "              LETT\n",
    "             E\n",
    "                  RS\n",
    "                    K\n",
    "            E\n",
    "           Y\n",
    "AALPYBETWIT          SAMEYNZAYIANDLGIME\n",
    "AALPYBETWIT          SAMEYNZAYIANDLGIME\n",
    "AALPYBETWIT          SAMEYNZAYIANDLGIME\n"
   ]
  },
  {
   "cell_type": "code",
   "execution_count": null,
   "metadata": {
    "collapsed": true
   },
   "outputs": [],
   "source": [
    "#2\n",
    "# BIYGIYIGHTISDOMIYOSPIZZAADVRTISMYTS\n",
    "# BIYGI YIGHT IS DOMIYO S PIZZA ADV RTIS M YTS\n",
    "# BINGI NIGHT IS DOMINOES PIZZA ADVERTISEMENTS"
   ]
  },
  {
   "cell_type": "code",
   "execution_count": 2,
   "metadata": {
    "collapsed": true
   },
   "outputs": [],
   "source": [
    "#3\n",
    "# CECKOTRDELYO L CHEROUSLY\n",
    "#              E"
   ]
  },
  {
   "cell_type": "code",
   "execution_count": null,
   "metadata": {
    "collapsed": true
   },
   "outputs": [],
   "source": [
    "#4\n",
    "# CREAKIGNCDAMAWYREXHMOZODUCETTREDALL"
   ]
  },
  {
   "cell_type": "code",
   "execution_count": null,
   "metadata": {
    "collapsed": true
   },
   "outputs": [],
   "source": [
    "#5\n",
    "# DDESIAREEGDERROY YSSASKKLATKCAB"
   ]
  },
  {
   "cell_type": "code",
   "execution_count": null,
   "metadata": {
    "collapsed": true
   },
   "outputs": [],
   "source": [
    "#6 = DAIPERS\n",
    "# FRHQUHNTLYGMCHANGHDGMGARMHNTGMFORGMNHWBORNGMBABIHSGM\n",
    "# FREQUENTLY  CHANGED  GARMENT  FOR  NEWBORN  BABIES"
   ]
  },
  {
   "cell_type": "code",
   "execution_count": null,
   "metadata": {
    "collapsed": true
   },
   "outputs": [],
   "source": [
    "#7\n",
    "# GENUSKAPPAOBLAMBDABRUITMUTREESNUBEARINGXIBIGSOMICRON"
   ]
  },
  {
   "cell_type": "code",
   "execution_count": null,
   "metadata": {
    "collapsed": true
   },
   "outputs": [],
   "source": [
    "#8\n",
    "# HASRPSHARPORFKFORKARPTPART\n",
    "# HASRP SHARP OR FKFORKARPTPART\n",
    "# HASL  SHAR  OR   FOLKAR T\n",
    "#"
   ]
  },
  {
   "cell_type": "code",
   "execution_count": null,
   "metadata": {
    "collapsed": true
   },
   "outputs": [],
   "source": [
    "#9\n",
    "# HOWRISNVOLVINGRIINRIACEANICRIOIRLINESRIARASHRIC\n",
    "#     I NVOLVING      OCEAN       LINE R"
   ]
  },
  {
   "cell_type": "code",
   "execution_count": 9,
   "metadata": {
    "collapsed": false
   },
   "outputs": [],
   "source": [
    "#10 = TUBA?\n",
    "# MISICILINSTRIMINTISIDTIPLIYTHIFIMIISTIMIFRIMJIWS\n",
    "# MISICIL INSTRIMINT ISID TI PLIY THI FIMIIS TIMI FRIM JIWS\n",
    "#  U   A       U E   U E   O   A    E  A OU   U E   O   A\n",
    "# MUSICAL INSTRUMENT USED TO PLAY THE FAMOUS TUNE FROM JAWS\n",
    "# ...six basses, eight celli, four trombones and a tuba?\n",
    "start = 'THIFIMIISTIMIFRIMJIWS'\n",
    "translated = []\n",
    "for c in start:\n",
    "  if c == 'I':\n",
    "    translated.append('AEIOU')\n",
    "  else:\n",
    "    translated.append(c)\n",
    "end = '\\n'.join(translated)\n",
    "puzzle = puzzlepedia.parse(end, hint=\"acrostic\")"
   ]
  },
  {
   "cell_type": "code",
   "execution_count": null,
   "metadata": {
    "collapsed": true
   },
   "outputs": [],
   "source": [
    "#11\n",
    "# OLISTENDOOOAOCOUTOCAEOAGAN"
   ]
  },
  {
   "cell_type": "code",
   "execution_count": null,
   "metadata": {
    "collapsed": true
   },
   "outputs": [],
   "source": [
    "#12\n",
    "# OHARDENTPENULTIMATEOWTNOTEEERHFINRUOFTHEEVISTENORXISARIANEVEENESSUNTHGINDORMAENI\n",
    "#         PENULTIMATE"
   ]
  },
  {
   "cell_type": "code",
   "execution_count": null,
   "metadata": {
    "collapsed": true
   },
   "outputs": [],
   "source": [
    "#13\n",
    "# PEEUORGFEEOSEEEVLOWSEEETTERAGICREEOSEEDRAC"
   ]
  },
  {
   "cell_type": "code",
   "execution_count": null,
   "metadata": {
    "collapsed": true
   },
   "outputs": [],
   "source": [
    "#14\n",
    "# POCCOSCHACPEDICACORSPIGHCPUCCER"
   ]
  },
  {
   "cell_type": "code",
   "execution_count": null,
   "metadata": {
    "collapsed": true
   },
   "outputs": [],
   "source": [
    "#15\n",
    "# QPERSONEDOINGTSUMSPORBAWVIPER"
   ]
  },
  {
   "cell_type": "code",
   "execution_count": null,
   "metadata": {
    "collapsed": true
   },
   "outputs": [],
   "source": [
    "#16\n",
    "# REHTONADROWROFTSEEBEDLIW"
   ]
  },
  {
   "cell_type": "code",
   "execution_count": null,
   "metadata": {
    "collapsed": true
   },
   "outputs": [],
   "source": [
    "#17\n",
    "# SOSSESSELOTSGUOTGETHOTTSWISEDOSTREOTLLYSPEOTK"
   ]
  },
  {
   "cell_type": "code",
   "execution_count": null,
   "metadata": {
    "collapsed": true
   },
   "outputs": [],
   "source": [
    "#18\n",
    "# SSEIVPPVIIMEVIRRVIIOONEYVIII"
   ]
  },
  {
   "cell_type": "code",
   "execution_count": null,
   "metadata": {
    "collapsed": true
   },
   "outputs": [],
   "source": [
    "#19\n",
    "\"\"\"\n",
    "WFILPMWMADPEWOUTPSIDEWTHEPWSTUPDIOWSYSPTEMWBRIPEFLY\n",
    " FIL M MAD E OUT SIDE THE  STU DIO SYS TEM BRI EFLY\n",
    "\"\"\""
   ]
  },
  {
   "cell_type": "code",
   "execution_count": null,
   "metadata": {
    "collapsed": true
   },
   "outputs": [],
   "source": [
    "#20\n",
    "# YRALLELUEFUSGTLKINAKTNAEEGINN"
   ]
  }
 ],
 "metadata": {
  "kernelspec": {
   "display_name": "Python 3",
   "language": "python",
   "name": "python3"
  },
  "language_info": {
   "codemirror_mode": {
    "name": "ipython",
    "version": 3
   },
   "file_extension": ".py",
   "mimetype": "text/x-python",
   "name": "python",
   "nbconvert_exporter": "python",
   "pygments_lexer": "ipython3",
   "version": "3.6.0"
  },
  "widgets": {
   "state": {
    "a01fa65c68dc4633bb5cd2eabf93acb1": {
     "views": [
      {
       "cell_index": 2
      }
     ]
    }
   },
   "version": "1.2.0"
  }
 },
 "nbformat": 4,
 "nbformat_minor": 2
}
