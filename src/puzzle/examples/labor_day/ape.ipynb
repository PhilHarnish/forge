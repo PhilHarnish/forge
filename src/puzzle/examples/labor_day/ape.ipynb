{
 "cells": [
  {
   "cell_type": "code",
   "execution_count": null,
   "metadata": {
    "collapsed": true
   },
   "outputs": [],
   "source": [
    "# Use with https://www.quinapalus.com/qat.html\n",
    "# (2) AogB;A.uB;|A|=4;|B|=1\n",
    "# (3) tantA;t.itA;|A|=2\n",
    "# (8) AtaB;A.eB;|A|=3;|B|=1\n",
    "# (9) aioA;a.iA;|A|=3\n",
    "# (12) AicB;Ag.B;|A|=2;|B|=2\n",
    "# (13) AeveB;Aet.B;|A|=1;|B|=2\n",
    "# (16) AshB;A.vB;|A|=3;|B|=3\n",
    "# (17) AlecB;Alb.B;|A|=2;|B|=1\n",
    "# (18) AruB;A.eB;|A|=1;|B|=4"
   ]
  }
 ],
 "metadata": {
  "kernelspec": {
   "display_name": "Python 3",
   "language": "python",
   "name": "python3"
  },
  "language_info": {
   "codemirror_mode": {
    "name": "ipython",
    "version": 3
   },
   "file_extension": ".py",
   "mimetype": "text/x-python",
   "name": "python",
   "nbconvert_exporter": "python",
   "pygments_lexer": "ipython3",
   "version": "3.6.0"
  }
 },
 "nbformat": 4,
 "nbformat_minor": 2
}
