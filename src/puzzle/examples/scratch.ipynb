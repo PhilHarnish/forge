{
 "cells": [
  {
   "cell_type": "code",
   "execution_count": 1,
   "metadata": {
    "collapsed": false
   },
   "outputs": [],
   "source": [
    "import importlib\n",
    "\n",
    "from forge import *\n",
    "from puzzle.puzzlepedia import annotation_widget, prod_config, problem_widget, debug_data_widget\n",
    "from data.image import image, component\n",
    "\n",
    "prod_config.init()"
   ]
  },
  {
   "cell_type": "code",
   "execution_count": 2,
   "metadata": {
    "collapsed": false
   },
   "outputs": [],
   "source": [
    "from os import path\n",
    "import cv2\n",
    "import numpy as np\n",
    "import importlib\n",
    "\n",
    "from data import data\n",
    "from puzzle.problems import problem\n",
    "from puzzle.problems.image import image_problem\n",
    "\n",
    "def load_image(name: str) -> np.ndarray:\n",
    "  return cv2.imread(image_path(name), flags=cv2.IMREAD_UNCHANGED)\n",
    "\n",
    "def image_path(name: str) -> str:\n",
    "  return path.join(data.project_path('data/grid/original'), name)\n"
   ]
  },
  {
   "cell_type": "code",
   "execution_count": 7,
   "metadata": {
    "collapsed": false
   },
   "outputs": [
    {
     "data": {
      "text/plain": [
       "<puzzle.puzzlepedia.puzzle.Puzzle at 0x10f19b518>"
      ]
     },
     "execution_count": 7,
     "metadata": {},
     "output_type": "execute_result"
    }
   ],
   "source": [
    "importlib.reload(annotation_widget)\n",
    "importlib.reload(debug_data_widget)\n",
    "importlib.reload(problem_widget)\n",
    "importlib.reload(image)\n",
    "importlib.reload(problem)\n",
    "importlib.reload(image_problem)\n",
    "prod_config.reset()\n",
    "prod_config.init()\n",
    "\n",
    "solve(load_image('thermo.png'))"
   ]
  },
  {
   "cell_type": "code",
   "execution_count": null,
   "metadata": {
    "collapsed": true
   },
   "outputs": [],
   "source": []
  }
 ],
 "metadata": {
  "kernelspec": {
   "display_name": "Python 3",
   "language": "python",
   "name": "python3"
  },
  "language_info": {
   "codemirror_mode": {
    "name": "ipython",
    "version": 3
   },
   "file_extension": ".py",
   "mimetype": "text/x-python",
   "name": "python",
   "nbconvert_exporter": "python",
   "pygments_lexer": "ipython3",
   "version": "3.6.0"
  },
  "pycharm": {
   "stem_cell": {
    "cell_type": "raw",
    "metadata": {
     "collapsed": false
    },
    "source": []
   }
  },
  "widgets": {
   "state": {
    "b7786d49e8b049348c0655b6e2d6fa96": {
     "views": [
      {
       "cell_index": 2
      }
     ]
    }
   },
   "version": "1.2.0"
  }
 },
 "nbformat": 4,
 "nbformat_minor": 2
}
