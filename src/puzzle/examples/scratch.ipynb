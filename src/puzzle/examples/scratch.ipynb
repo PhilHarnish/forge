{
 "cells": [
  {
   "cell_type": "code",
   "execution_count": 4,
   "metadata": {},
   "outputs": [],
   "source": [
    "import importlib\n",
    "\n",
    "from forge import *\n",
    "from puzzle.puzzlepedia import annotation_widget, prod_config, problem_widget, debug_data_widget\n",
    "from data.image import image, component\n",
    "\n",
    "prod_config.init()"
   ]
  },
  {
   "cell_type": "code",
   "execution_count": 5,
   "metadata": {},
   "outputs": [],
   "source": [
    "from os import path\n",
    "import cv2\n",
    "import numpy as np\n",
    "import importlib\n",
    "\n",
    "from data import data\n",
    "from puzzle.problems import problem\n",
    "from puzzle.problems.image import image_problem\n",
    "\n",
    "def load_image(name: str) -> np.ndarray:\n",
    "  return cv2.imread(image_path(name), flags=cv2.IMREAD_UNCHANGED)\n",
    "\n",
    "def image_path(name: str) -> str:\n",
    "  return path.join(data.project_path('data/grid/original'), name)\n"
   ]
  },
  {
   "cell_type": "code",
   "execution_count": 14,
   "metadata": {
    "scrolled": false
   },
   "outputs": [
    {
     "data": {
      "application/vnd.jupyter.widget-view+json": {
       "model_id": "2ab994a9ab334aad85a5813b5ce5a204",
       "version_major": 2,
       "version_minor": 0
      },
      "text/plain": [
       "Accordion(children=(VBox(children=(HBox(children=(Dropdown(options={'ImageProblem': ImageProblem('#1', array([…"
      ]
     },
     "metadata": {},
     "output_type": "display_data"
    },
    {
     "data": {
      "text/plain": [
       "'\\nrowsgarden:\\ncenter: (488, 425)\\noffset: 30\\nfirst: -486, 558\\nsecond: -486, 558\\nthird: -422, 421\\nn_divisions: 15, 15, 12\\n'"
      ]
     },
     "execution_count": 14,
     "metadata": {},
     "output_type": "execute_result"
    }
   ],
   "source": [
    "from puzzle.constraints.image import identify_regions_constraints, lines_classifier_constraints, sliced_grid_constraints\n",
    "from puzzle.steps.image import identify_regions\n",
    "from data.image import image, lines_classifier, sliced_grid\n",
    "\n",
    "importlib.reload(annotation_widget)\n",
    "importlib.reload(debug_data_widget)\n",
    "# importlib.reload(problem_widget)\n",
    "# importlib.reload(image)\n",
    "# importlib.reload(problem)\n",
    "# importlib.reload(image_problem)\n",
    "importlib.reload(sliced_grid_constraints)\n",
    "importlib.reload(sliced_grid)\n",
    "importlib.reload(lines_classifier)\n",
    "# importlib.reload(lines_classifier_constraints)\n",
    "# importlib.reload(identify_regions_constraints)\n",
    "importlib.reload(identify_regions)\n",
    "prod_config.reset()\n",
    "prod_config.init()\n",
    "\n",
    "solve(load_image('cages.png'))\n",
    "\"\"\"\n",
    "rowsgarden:\n",
    "center: (488, 425)\n",
    "offset: 30\n",
    "first: -486, 558\n",
    "second: -486, 558\n",
    "third: -422, 421\n",
    "n_divisions: 15, 15, 12\n",
    "\"\"\""
   ]
  },
  {
   "cell_type": "code",
   "execution_count": 21,
   "metadata": {
    "scrolled": false
   },
   "outputs": [
    {
     "data": {
      "application/vnd.jupyter.widget-view+json": {
       "model_id": "ff45f039ba4e424380118e2e0e363f2b",
       "version_major": 2,
       "version_minor": 0
      },
      "text/plain": [
       "Accordion(children=(VBox(children=(HBox(children=(Dropdown(options={'MorseProblem': MorseProblem('#1', ['-..-.…"
      ]
     },
     "metadata": {},
     "output_type": "display_data"
    },
    {
     "data": {
      "text/plain": [
       "<puzzle.puzzlepedia.puzzle.Puzzle at 0x135007588>"
      ]
     },
     "execution_count": 21,
     "metadata": {},
     "output_type": "execute_result"
    }
   ],
   "source": [
    "solve('-..-.-.-')"
   ]
  },
  {
   "cell_type": "code",
   "execution_count": null,
   "metadata": {},
   "outputs": [],
   "source": []
  },
  {
   "cell_type": "code",
   "execution_count": null,
   "metadata": {},
   "outputs": [],
   "source": []
  }
 ],
 "metadata": {
  "kernelspec": {
   "display_name": "Python 3",
   "language": "python",
   "name": "python3"
  },
  "language_info": {
   "codemirror_mode": {
    "name": "ipython",
    "version": 3
   },
   "file_extension": ".py",
   "mimetype": "text/x-python",
   "name": "python",
   "nbconvert_exporter": "python",
   "pygments_lexer": "ipython3",
   "version": "3.6.0"
  },
  "pycharm": {
   "stem_cell": {
    "cell_type": "raw",
    "metadata": {
     "collapsed": false
    },
    "source": []
   }
  },
  "widgets": {
   "state": {
    "9db555e1efed494e86786214c01600ca": {
     "views": [
      {
       "cell_index": 2
      }
     ]
    }
   },
   "version": "1.2.0"
  }
 },
 "nbformat": 4,
 "nbformat_minor": 2
}
