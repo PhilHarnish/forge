{
 "cells": [
  {
   "cell_type": "code",
   "execution_count": 6,
   "metadata": {},
   "outputs": [],
   "source": [
    "import forge\n",
    "from data import warehouse\n",
    "from puzzle.puzzlepedia import puzzlepedia\n",
    "from puzzle.puzzlepedia import prod_config\n"
   ]
  },
  {
   "cell_type": "code",
   "execution_count": null,
   "metadata": {},
   "outputs": [],
   "source": [
    "prod_config.init()"
   ]
  },
  {
   "cell_type": "code",
   "execution_count": 7,
   "metadata": {},
   "outputs": [],
   "source": [
    "top_words = warehouse.get('/words/unigram')"
   ]
  },
  {
   "cell_type": "code",
   "execution_count": 22,
   "metadata": {},
   "outputs": [
    {
     "name": "stdout",
     "output_type": "stream",
     "text": [
      "excluding\n",
      "acquiring\n",
      "rewarding\n",
      "uploading\n",
      "assigning\n",
      "crumbling\n",
      "pampering\n",
      "brokering\n",
      "delisting\n",
      "labouring\n",
      "remapping\n",
      "anodizing\n",
      "redrawing\n",
      "exculding\n",
      "bellowing\n",
      "jockeying\n",
      "imploding\n",
      "repricing\n",
      "facturing\n",
      "obviating\n"
     ]
    }
   ],
   "source": [
    "for word in top_words:\n",
    "  if len(word) != 9:\n",
    "    continue\n",
    "  if word[-3:] != \"ing\":\n",
    "    continue\n",
    "  score = sum(ord(c) - ord('a') + 1 for c in word)\n",
    "  if score == 99:\n",
    "    #for c in word:\n",
    "    #  print(c, ord(c) - ord('a') + 1)\n",
    "    print(word)\n"
   ]
  },
  {
   "cell_type": "code",
   "execution_count": null,
   "metadata": {},
   "outputs": [],
   "source": []
  }
 ],
 "metadata": {
  "kernelspec": {
   "display_name": "Python 3",
   "language": "python",
   "name": "python3"
  },
  "language_info": {
   "codemirror_mode": {
    "name": "ipython",
    "version": 3
   },
   "file_extension": ".py",
   "mimetype": "text/x-python",
   "name": "python",
   "nbconvert_exporter": "python",
   "pygments_lexer": "ipython3",
   "version": "3.6.0"
  }
 },
 "nbformat": 4,
 "nbformat_minor": 2
}
