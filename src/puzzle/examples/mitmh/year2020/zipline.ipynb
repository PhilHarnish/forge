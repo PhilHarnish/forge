{
 "cells": [
  {
   "cell_type": "code",
   "execution_count": 100,
   "metadata": {},
   "outputs": [],
   "source": [
    "import os\n",
    "import io\n",
    "import numpy as np\n",
    "import math\n",
    "import matplotlib.pyplot as plt\n",
    "from IPython.display import display, HTML\n",
    "from PIL import Image\n",
    "from ipywidgets import widgets\n",
    "from os import path\n",
    "\n",
    "import zipcodes\n",
    "\n",
    "import forge\n",
    "from data import data\n",
    "from data.image import coloring\n"
   ]
  },
  {
   "cell_type": "code",
   "execution_count": 97,
   "metadata": {},
   "outputs": [],
   "source": [
    "DEBUG = False\n",
    "\n",
    "\n",
    "def show(label, img=None):\n",
    "  if img is None:\n",
    "    img = label\n",
    "  else:\n",
    "    print(label)\n",
    "\n",
    "  height, width = img.shape[:2]\n",
    "  max_dim = max(width, height)\n",
    "  if max_dim < 200:\n",
    "    width = round(width * 200 / max_dim)\n",
    "    height = round(height * 200 / max_dim)\n",
    "  f = io.BytesIO()\n",
    "  Image.fromarray(np.array(img, dtype=np.uint8)).save(f, 'png')\n",
    "  # This method keeps data out of notebook source.\n",
    "  widget = widgets.Image(\n",
    "      value=f.getvalue(),\n",
    "      width=width,\n",
    "      height=height,\n",
    "  )\n",
    "  display(widget)\n",
    "\n",
    "\n",
    "\n",
    "def load_zip():\n",
    "  prefix = data.project_path('data/zip_line/')\n",
    "\n",
    "  result = {}\n",
    "  count = 0\n",
    "  for root, dirs, files in os.walk(data.project_path('data/zip_line/')):\n",
    "    city_state = root[len(prefix):].replace(os.sep, '').split(',')\n",
    "    if not city_state:\n",
    "      continue\n",
    "    for file in files:\n",
    "      if file in result:\n",
    "        raise Exception('duplicate zipcode:', file)\n",
    "      result[file] = tuple(city_state)\n",
    "      count += 1\n",
    "      if DEBUG: print('%s\\t%s' % ('\\t'.join(city_state), file))\n",
    "    if DEBUG and count > 100:\n",
    "      break\n",
    "\n",
    "  return result\n",
    "\n",
    "\n",
    "# are files all empty?\n",
    "#def check_dirs()\n",
    "\n",
    "\n",
    "def write_zip(result):\n",
    "  with open(data.project_path('data/zip_line.txt'), 'w') as out:\n",
    "    for zipcode, city_state in result.items():\n",
    "      out.write('%s\\t%s\\n' % ('%s\\t%s' % city_state, zipcode))\n",
    "\n",
    "      \n",
    "def write_translations(result):\n",
    "  count = 0\n",
    "  with open(data.project_path('data/zip_line_translated.csv'), 'w') as out:\n",
    "    out.write('zip,correct,rotn,rotated\\n')\n",
    "    for zipcode, city_state in results.items():\n",
    "      locations = zipcodes.matching(zipcode)\n",
    "      if not locations:\n",
    "        raise Exception('Not found:', zipcode, city_state)\n",
    "      key = ''.join(city_state)\n",
    "      for location in locations:\n",
    "        reference = location['city'].replace(' ', '') + location['state'][-2:]\n",
    "        if DEBUG: print(zipcode, reference, '+%d' % offset(reference, key), key)\n",
    "        out.write('%s,%s,%s,%s\\n' % (zipcode, reference, offset(reference, key), key))\n",
    "        count += 1\n",
    "      if DEBUG and count >= 20:\n",
    "        break\n",
    "      \n",
    "\n",
    "def offset(s1, s2):\n",
    "  if len(s1) != len(s2):\n",
    "    return None\n",
    "  items = iter((ord(c2) - ord(c1) + 26) % 26 for c1, c2 in zip(s1.lower(), s2.lower()))\n",
    "  first = next(items, None)\n",
    "  if all(x == first for x in items):\n",
    "    return first\n",
    "  return None\n"
   ]
  },
  {
   "cell_type": "code",
   "execution_count": 94,
   "metadata": {},
   "outputs": [],
   "source": [
    "# results = load_zip()\n",
    "# write_zip(results)\n"
   ]
  },
  {
   "cell_type": "code",
   "execution_count": 95,
   "metadata": {},
   "outputs": [],
   "source": [
    "write_translations(results)"
   ]
  },
  {
   "cell_type": "code",
   "execution_count": 71,
   "metadata": {},
   "outputs": [
    {
     "data": {
      "text/plain": [
       "20"
      ]
     },
     "execution_count": 71,
     "metadata": {},
     "output_type": "execute_result"
    }
   ],
   "source": [
    "offset('RRUEJSZ', 'LloydMT')"
   ]
  },
  {
   "cell_type": "code",
   "execution_count": 72,
   "metadata": {},
   "outputs": [
    {
     "data": {
      "text/plain": [
       "6"
      ]
     },
     "execution_count": 72,
     "metadata": {},
     "output_type": "execute_result"
    }
   ],
   "source": [
    "offset('LloydMT', 'RRUEJSZ')"
   ]
  },
  {
   "cell_type": "code",
   "execution_count": 45,
   "metadata": {},
   "outputs": [
    {
     "data": {
      "text/plain": [
       "[{'zip_code': '59535',\n",
       "  'zip_code_type': 'STANDARD',\n",
       "  'active': True,\n",
       "  'city': 'Lloyd',\n",
       "  'acceptable_cities': [],\n",
       "  'unacceptable_cities': ['Chinook'],\n",
       "  'state': 'MT',\n",
       "  'county': 'Blaine County',\n",
       "  'timezone': 'America/Denver',\n",
       "  'area_codes': ['406'],\n",
       "  'world_region': 'NA',\n",
       "  'country': 'US',\n",
       "  'lat': '48.0382',\n",
       "  'long': '-109.2177'}]"
      ]
     },
     "execution_count": 45,
     "metadata": {},
     "output_type": "execute_result"
    }
   ],
   "source": [
    "zipcodes.matching('59535')"
   ]
  },
  {
   "cell_type": "code",
   "execution_count": 78,
   "metadata": {
    "scrolled": true
   },
   "outputs": [
    {
     "name": "stdout",
     "output_type": "stream",
     "text": [
      "59535 LloydMT +6 RRUEJSZ\n",
      "03777 OrfordNH +3 RUIRUGQK\n",
      "88255 LocoHillsNM +6 RUIUNORRYTS\n",
      "23404 LocustvilleVA +6 RUIAYZBORRKBG\n",
      "36455 LockhartAL +6 RUIQNGXZGR\n",
      "78644 LockhartTX +6 RUIQNGXZZD\n",
      "70374 LockportLA +6 RUIQVUXZRG\n",
      "52635 LockridgeIA +6 RUIQXOJMKOG\n",
      "64654 LockSpringsMO +6 RUIQYVXOTMYSU\n",
      "36865 LoachapokaAL +6 RUGINGVUQGGR\n",
      "84758 OrdervilleUT +3 RUGHUYLOOHXW\n",
      "90815 LongBeachCA +6 RUTMHKGINIG\n",
      "90814 LongBeachCA +6 RUTMHKGINIG\n",
      "90835 LongBeachCA +6 RUTMHKGINIG\n",
      "90834 LongBeachCA +6 RUTMHKGINIG\n",
      "75604 LongviewTX +6 RUTMBOKCZD\n",
      "75615 LongviewTX +6 RUTMBOKCZD\n",
      "61544 LondonMillsIL +6 RUTJUTSORRYOR\n",
      "52755 LoneTreeIA +6 RUTKZXKKOG\n",
      "73655 LoneWolfOK +6 RUTKCURLUQ\n",
      "93545 LonePineCA +6 RUTKVOTKIG\n",
      "81524 LomaCO +6 RUSGIU\n",
      "56654 LomanMN +6 RUSGTST\n",
      "61454 LomaxIL +6 RUSGDOR\n",
      "65685 LouisburgMO +6 RUAOYHAXMSU\n",
      "30434 LouisvilleGA +6 RUAOYBORRKMG\n",
      "40294 LouisvilleKY +6 RUAOYBORRKQE\n",
      "40205 LouisvilleKY +6 RUAOYBORRKQE\n",
      "40255 LouisvilleKY +6 RUAOYBORRKQE\n",
      "40285 LouisvilleKY +6 RUAOYBORRKQE\n",
      "40215 LouisvilleKY +6 RUAOYBORRKQE\n",
      "31814 LouvaleGA +6 RUABGRKMG\n",
      "14127 OrchardParkNY +3 RUFKDUGSDUNQB\n",
      "20128 OrleanVA +3 RUOHDQYD\n",
      "32878 OrlandoFL +3 RUODQGRIO\n",
      "32807 OrlandoFL +3 RUODQGRIO\n",
      "32837 OrlandoFL +3 RUODQGRIO\n",
      "32887 OrlandoFL +3 RUODQGRIO\n",
      "32818 OrlandoFL +3 RUODQGRIO\n",
      "32868 OrlandoFL +3 RUODQGRIO\n",
      "32867 OrlandoFL +3 RUODQGRIO\n",
      "84058 OremUT +3 RUHPXW\n",
      "44254 LodiOH +6 RUJOUN\n",
      "75564 LodiTX +6 RUJOZD\n",
      "07644 LodiNJ +6 RUJOTP\n",
      "25148 OrgasWV +3 RUJDVZY\n",
      "76855 LowakeTX +6 RUCGQKZD\n",
      "61545 LowpointIL +6 RUCVUOTZOR\n",
      "45744 LowellOH +6 RUCKRRUN\n",
      "72745 LowellAR +6 RUCKRRGX\n",
      "01854 LowellMA +6 RUCKRRSG\n",
      "46968 OraIN +3 RUDLQ\n",
      "92868 OrangeCA +3 RUDQJHFD\n",
      "29117 OrangeburgSC +3 RUDQJHEXUJVF\n",
      "29118 OrangeburgSC +3 RUDQJHEXUJVF\n",
      "37933 KnoxvilleTN +7 RUVECPSSLAU\n",
      "37924 KnoxvilleTN +7 RUVECPSSLAU\n",
      "37914 KnoxvilleTN +7 RUVECPSSLAU\n",
      "44055 LorainOH +6 RUXGOTUN\n",
      "88045 LordsburgNM +6 RUXJYHAXMTS\n",
      "55595 LorettoMN +6 RUXKZZUST\n",
      "40854 LoyallKY +6 RUEGRRQE\n",
      "11957 OrientNY +3 RULHQWQB\n",
      "87545 LosAlamosNM +6 RUYGRGSUYTS\n",
      "87544 LosAlamosNM +6 RUYGRGSUYTS\n",
      "94024 LosAltosCA +6 RUYGRZUYIG\n",
      "47354 LosantvilleIN +6 RUYGTZBORRKOT\n",
      "90044 LosAngelesCA +6 RUYGTMKRKYIG\n",
      "90004 LosAngelesCA +6 RUYGTMKRKYIG\n",
      "90005 LosAngelesCA +6 RUYGTMKRKYIG\n",
      "90084 LosAngelesCA +6 RUYGTMKRKYIG\n",
      "90024 LosAngelesCA +6 RUYGTMKRKYIG\n",
      "90014 LosAngelesCA +6 RUYGTMKRKYIG\n",
      "90054 LosAngelesCA +6 RUYGTMKRKYIG\n",
      "90055 LosAngelesCA +6 RUYGTMKRKYIG\n",
      "61334 LostantIL +6 RUYZGTZOR\n",
      "52254 LostNationIA +6 RUYZTGZOUTOG\n",
      "78565 LosEbanosTX +6 RUYKHGTUYZD\n",
      "42753 KnifleyKY +7 RUPMSLFRF\n",
      "56278 OrtonvilleMN +3 RUWRQYLOOHPQ\n",
      "29453 JamestownSC +8 RIUMABWEVAK\n",
      "14702 JamestownNY +8 RIUMABWEVVG\n",
      "27282 JamestownNC +8 RIUMABWEVVK\n",
      "58402 JamestownND +8 RIUMABWEVVL\n",
      "54957 NeenahWI +4 RIIRELAM\n",
      "54956 NeenahWI +4 RIIRELAM\n",
      "87023 JaralesNM +8 RIZITMAVU\n",
      "66757 NeodeshaKS +4 RISHIWLEOW\n",
      "62447 NeogaIL +4 RISKEMP\n",
      "15067 NewEaglePA +4 RIAIEKPITE\n",
      "28126 NewellNC +4 RIAIPPRG\n",
      "15466 NewellPA +4 RIAIPPTE\n",
      "10956 NewCityNY +4 RIAGMXCRC\n",
      "68757 NewcastleNE +4 RIAGEWXPIRI\n",
      "81647 NewCastleCO +4 RIAGEWXPIGS\n",
      "24127 NewCastleVA +4 RIAGEWXPIZE\n",
      "16107 NewCastlePA +4 RIAGEWXPITE\n",
      "07976 NewVernonNJ +4 RIAZIVRSRRN\n",
      "23607 NewportNewsVA +4 RIATSVXRIAWZE\n",
      "92657 NewportCoastCA +4 RIATSVXGSEWXGE\n",
      "13416 NewportNY +4 RIATSVXRC\n"
     ]
    }
   ],
   "source": [
    "for zipcode, city_state in results.items():\n",
    "  locations = zipcodes.matching(zipcode)\n",
    "  if not locations:\n",
    "    raise Exception('Not found:', zipcode, city_state)\n",
    "  key = ''.join(city_state)\n",
    "  for location in locations:\n",
    "    reference = location['city'].replace(' ', '') + location['state']\n",
    "    print(zipcode, reference, '+%d' % offset(reference, key), key)\n",
    "  "
   ]
  },
  {
   "cell_type": "code",
   "execution_count": 120,
   "metadata": {},
   "outputs": [
    {
     "ename": "Exception",
     "evalue": "('not matched', '76127', ('REZEPEMVWXEXMSRNVF', 'XB'), 'NavalAirStation/JrbTX')",
     "output_type": "error",
     "traceback": [
      "\u001b[0;31m---------------------------------------------------------------------------\u001b[0m",
      "\u001b[0;31mException\u001b[0m                                 Traceback (most recent call last)",
      "\u001b[0;32m<ipython-input-120-3178d56adeee>\u001b[0m in \u001b[0;36m<module>\u001b[0;34m\u001b[0m\n\u001b[1;32m     13\u001b[0m     \u001b[0mlong\u001b[0m \u001b[0;34m=\u001b[0m \u001b[0mint\u001b[0m\u001b[0;34m(\u001b[0m\u001b[0mfloat\u001b[0m\u001b[0;34m(\u001b[0m\u001b[0mlocation\u001b[0m\u001b[0;34m[\u001b[0m\u001b[0;34m'long'\u001b[0m\u001b[0;34m]\u001b[0m\u001b[0;34m)\u001b[0m \u001b[0;34m*\u001b[0m \u001b[0mSCALE\u001b[0m\u001b[0;34m)\u001b[0m \u001b[0;34m+\u001b[0m \u001b[0;36m180\u001b[0m\u001b[0;34m\u001b[0m\u001b[0m\n\u001b[1;32m     14\u001b[0m     \u001b[0;32mif\u001b[0m \u001b[0moffset\u001b[0m\u001b[0;34m(\u001b[0m\u001b[0mreference\u001b[0m\u001b[0;34m,\u001b[0m \u001b[0mkey\u001b[0m\u001b[0;34m)\u001b[0m \u001b[0;32mis\u001b[0m \u001b[0;32mNone\u001b[0m\u001b[0;34m:\u001b[0m\u001b[0;34m\u001b[0m\u001b[0m\n\u001b[0;32m---> 15\u001b[0;31m       \u001b[0;32mraise\u001b[0m \u001b[0mException\u001b[0m\u001b[0;34m(\u001b[0m\u001b[0;34m'not matched'\u001b[0m\u001b[0;34m,\u001b[0m \u001b[0mzipcode\u001b[0m\u001b[0;34m,\u001b[0m \u001b[0mcity_state\u001b[0m\u001b[0;34m,\u001b[0m \u001b[0mreference\u001b[0m\u001b[0;34m)\u001b[0m\u001b[0;34m\u001b[0m\u001b[0m\n\u001b[0m\u001b[1;32m     16\u001b[0m     \u001b[0;32melse\u001b[0m\u001b[0;34m:\u001b[0m\u001b[0;34m\u001b[0m\u001b[0m\n\u001b[1;32m     17\u001b[0m       \u001b[0mimg\u001b[0m\u001b[0;34m[\u001b[0m\u001b[0mlat\u001b[0m\u001b[0;34m]\u001b[0m\u001b[0;34m[\u001b[0m\u001b[0mlong\u001b[0m\u001b[0;34m]\u001b[0m \u001b[0;34m=\u001b[0m \u001b[0mcolors\u001b[0m\u001b[0;34m[\u001b[0m\u001b[0moffset\u001b[0m\u001b[0;34m(\u001b[0m\u001b[0mreference\u001b[0m\u001b[0;34m,\u001b[0m \u001b[0mkey\u001b[0m\u001b[0;34m)\u001b[0m \u001b[0;34m-\u001b[0m \u001b[0;36m1\u001b[0m\u001b[0;34m]\u001b[0m\u001b[0;34m\u001b[0m\u001b[0m\n",
      "\u001b[0;31mException\u001b[0m: ('not matched', '76127', ('REZEPEMVWXEXMSRNVF', 'XB'), 'NavalAirStation/JrbTX')"
     ]
    }
   ],
   "source": [
    "SCALE = 10\n",
    "\n",
    "img = np.zeros((360 * SCALE, 360 * SCALE, 3))\n",
    "colors = list(coloring.colors(10))\n",
    "for zipcode, city_state in results.items():\n",
    "  locations = zipcodes.matching(zipcode)\n",
    "  if not locations:\n",
    "    raise Exception('Not found:', zipcode, city_state)\n",
    "  key = ''.join(city_state)\n",
    "  for location in locations:\n",
    "    reference = location['city'].replace(' ', '') + location['state'][-2:]\n",
    "    lat = 360 - int(float(location['lat']) * SCALE) + 180\n",
    "    long = int(float(location['long']) * SCALE) + 180\n",
    "    if offset(reference, key) is None:\n",
    "      raise Exception('not matched', zipcode, city_state, reference)\n",
    "    else:\n",
    "      img[lat][long] = colors[offset(reference, key) - 1]\n",
    "\n",
    "show(img)"
   ]
  },
  {
   "cell_type": "code",
   "execution_count": 121,
   "metadata": {},
   "outputs": [
    {
     "data": {
      "application/vnd.jupyter.widget-view+json": {
       "model_id": "b0a6a5741af34645a286b4759598bdc2",
       "version_major": 2,
       "version_minor": 0
      },
      "text/plain": [
       "Image(value=b'\\x89PNG\\r\\n\\x1a\\n\\x00\\x00\\x00\\rIHDR\\x00\\x00\\x0e\\x10\\x00\\x00\\x0e\\x10\\x08\\x02\\x00\\x00\\x00\\x92\\xd88…"
      ]
     },
     "metadata": {},
     "output_type": "display_data"
    }
   ],
   "source": [
    "show(img)"
   ]
  },
  {
   "cell_type": "code",
   "execution_count": 111,
   "metadata": {},
   "outputs": [
    {
     "data": {
      "text/plain": [
       "'TX'"
      ]
     },
     "execution_count": 111,
     "metadata": {},
     "output_type": "execute_result"
    }
   ],
   "source": [
    "'NavalAirStation/JrbTX'[-2:]"
   ]
  },
  {
   "cell_type": "code",
   "execution_count": null,
   "metadata": {},
   "outputs": [],
   "source": []
  }
 ],
 "metadata": {
  "kernelspec": {
   "display_name": "Python 3",
   "language": "python",
   "name": "python3"
  },
  "language_info": {
   "codemirror_mode": {
    "name": "ipython",
    "version": 3
   },
   "file_extension": ".py",
   "mimetype": "text/x-python",
   "name": "python",
   "nbconvert_exporter": "python",
   "pygments_lexer": "ipython3",
   "version": "3.6.0"
  }
 },
 "nbformat": 4,
 "nbformat_minor": 2
}
