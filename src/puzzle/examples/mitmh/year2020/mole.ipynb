{
 "cells": [
  {
   "cell_type": "code",
   "execution_count": 1,
   "metadata": {},
   "outputs": [],
   "source": [
    "import time\n",
    "\n",
    "import Quartz\n",
    "from Quartz.CoreGraphics import CGEventCreateMouseEvent\n",
    "from Quartz.CoreGraphics import CGEventPost\n",
    "from Quartz.CoreGraphics import kCGEventMouseMoved\n",
    "from Quartz.CoreGraphics import kCGEventLeftMouseDown\n",
    "from Quartz.CoreGraphics import kCGEventLeftMouseDown\n",
    "from Quartz.CoreGraphics import kCGEventLeftMouseUp\n",
    "from Quartz.CoreGraphics import kCGMouseButtonLeft\n",
    "from Quartz.CoreGraphics import kCGHIDEventTap\n",
    "\n",
    "class State(object):\n",
    "  x: int = 0\n",
    "  y: int = 0\n",
    "\n",
    "_STATE = State()\n",
    "\n",
    "def mouse_event(type, x, y):\n",
    "  _STATE.x = x\n",
    "  _STATE.y = y\n",
    "  e = CGEventCreateMouseEvent(\n",
    "      None, \n",
    "      type, \n",
    "      (x, y), \n",
    "      kCGMouseButtonLeft)\n",
    "  CGEventPost(kCGHIDEventTap, e)\n",
    "\n",
    "def mouse_position():\n",
    "  return Quartz.CGEventGetLocation(Quartz.CGEventCreate(None))\n",
    "  \n",
    "def mouse_move(x, y):\n",
    "  global _LAST\n",
    "  mouse_event(kCGEventMouseMoved, x, y);\n",
    "\n",
    "def mouse_click(x=None, y=None, hold_ms=(50/1000)):\n",
    "  if x is None and y is None and mouse_position() != (_STATE.x, _STATE.y):\n",
    "    raise Exception('Mouse moved.')\n",
    "  if x is None:\n",
    "    x = _STATE.x\n",
    "  if y is None:\n",
    "    y = _STATE.y\n",
    "  # uncomment this line if you want to force the mouse \n",
    "  # to MOVE to the click location first (I found it was not necessary).\n",
    "  # mouse_event(kCGEventMouseMoved, x, y);\n",
    "  time.sleep(5 / 1000)\n",
    "  mouse_event(kCGEventLeftMouseDown, x, y);\n",
    "  time.sleep(hold_ms)\n",
    "  mouse_event(kCGEventLeftMouseUp, x, y);"
   ]
  },
  {
   "cell_type": "code",
   "execution_count": null,
   "metadata": {},
   "outputs": [],
   "source": []
  }
 ],
 "metadata": {
  "kernelspec": {
   "display_name": "Python 3",
   "language": "python",
   "name": "python3"
  },
  "language_info": {
   "codemirror_mode": {
    "name": "ipython",
    "version": 3
   },
   "file_extension": ".py",
   "mimetype": "text/x-python",
   "name": "python",
   "nbconvert_exporter": "python",
   "pygments_lexer": "ipython3",
   "version": "3.6.0"
  }
 },
 "nbformat": 4,
 "nbformat_minor": 2
}
