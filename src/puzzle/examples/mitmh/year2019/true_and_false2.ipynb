{
 "cells": [
  {
   "cell_type": "code",
   "execution_count": 14,
   "metadata": {
    "collapsed": false
   },
   "outputs": [
    {
     "name": "stdout",
     "output_type": "stream",
     "text": [
      "# A1: To get the magic word, interpret each row as a letter using 5–bit encoding.\n",
      "# A2: Of the statements that lie on a main diagonal, less than half are true.\n",
      "# A3: The magic word contains an O.\n",
      "# A4: The magic word contains an H.\n",
      "# A5: None of the corner statements are true.\n",
      "# B1: The sixteen statements on the perimeter of this grid contain exactly as many true statements as the nine statements on the interior of this grid.\n",
      "# B2: Of the statements that are a knight’s move from this one, exactly half are true.\n",
      "# B3: Of the statements that lie on a main diagonal, exactly three are true.\n",
      "# B4: The magic word contains an A.\n",
      "# B5: The magic word contains a T.\n",
      "# C1: More than half the total statements are true.\n",
      "# C2: The magic word contains an L.\n",
      "# C3: Of the statements that are a king’s move from this one, a multiple of three are true.\n",
      "# C4: This column contains exactly as many true statements as the rightmost column.\n",
      "# C5: Of the statements at the midpoint of an edge (including this one), exactly half are true.\n",
      "# D1: Of the statements that are a rook’s move from this one, an even number are true.\n",
      "# D2: The magic word contains a G.\n",
      "# D3: The magic word starts with a vowel.\n",
      "# D4: The magic word contains an S.\n",
      "# D5: Of the statements that are a bishop’s move from this one, none are true.\n",
      "# E1: Exactly two of the corner statements are true.\n",
      "# E2: None of the statements in this column are true.\n",
      "# E3: The magic word has no repeating letters.\n",
      "# E4: The magic word contains a C.\n",
      "# E5: To get the magic word, interpret each column as a letter using 5–bit encoding.\n"
     ]
    }
   ],
   "source": [
    "given = \"\"\"\n",
    "To get the magic word, interpret each row as a letter using 5–bit encoding.\tOf the statements that lie on a main diagonal, less than half are true.\tThe magic word contains an O.\tThe magic word contains an H.\tNone of the corner statements are true.\n",
    "The sixteen statements on the perimeter of this grid contain exactly as many true statements as the nine statements on the interior of this grid.\tOf the statements that are a knight’s move from this one, exactly half are true.\tOf the statements that lie on a main diagonal, exactly three are true.\tThe magic word contains an A.\tThe magic word contains a T.\n",
    "More than half the total statements are true.\tThe magic word contains an L.\tOf the statements that are a king’s move from this one, a multiple of three are true.\tThis column contains exactly as many true statements as the rightmost column.\tOf the statements at the midpoint of an edge (including this one), exactly half are true.\n",
    "Of the statements that are a rook’s move from this one, an even number are true.\tThe magic word contains a G.\tThe magic word starts with a vowel.\tThe magic word contains an S.\tOf the statements that are a bishop’s move from this one, none are true.\n",
    "Exactly two of the corner statements are true.\tNone of the statements in this column are true.\tThe magic word has no repeating letters.\tThe magic word contains a C.\tTo get the magic word, interpret each column as a letter using 5–bit encoding.\n",
    "\"\"\"\n",
    "\n",
    "for letter, line in zip('ABCDE', given.strip('\\n').split('\\n')):\n",
    "  for i, clue in enumerate(line.split('\\t')):\n",
    "    print('# %s%s: %s' % (letter, i + 1, clue))"
   ]
  },
  {
   "cell_type": "code",
   "execution_count": 67,
   "metadata": {
    "collapsed": false
   },
   "outputs": [
    {
     "name": "stdout",
     "output_type": "stream",
     "text": [
      "[['A1', 'A2', 'A3', 'A4', 'A5'], ['B1', 'B2', 'B3', 'B4', 'B5'], ['C1', 'C2', 'C3', 'C4', 'C5'], ['D1', 'D2', 'D3', 'D4', 'D5'], ['E1', 'E2', 'E3', 'E4', 'E5']]\n",
      "[['A1', 'A2', 'A3', 'A4', 'A5'], ['B1', 'B2', 'B3', 'B4', 'B5'], ['C1', 'C2', 'C3', 'C4', 'C5'], ['D1', 'D2', 'D3', 'D4', 'D5'], ['E1', 'E2', 'E3', 'E4', 'E5']]\n",
      "[['A1', 'A2', 'A3', 'A4', 'A5'], ['B1', 'B2', 'B3', 'B4', 'B5'], ['C1', 'C2', 'C3', 'C4', 'C5'], ['D1', 'D2', 'D3', 'D4', 'D5'], ['E1', 'E2', 'E3', 'E4', 'E5']]\n",
      "[['A1', 'A2', 'A3', 'A4', 'A5'], ['B1', 'B2', 'B3', 'B4', 'B5'], ['C1', 'C2', 'C3', 'C4', 'C5'], ['D1', 'D2', 'D3', 'D4', 'D5'], ['E1', 'E2', 'E3', 'E4', 'E5']]\n"
     ]
    }
   ],
   "source": [
    "import forge\n",
    "from puzzle.puzzlepedia import puzzlepedia\n",
    "\n",
    "puzzle = puzzlepedia.parse(\"\"\"\n",
    "(row, column) in ({A, B, C, D, E}, {1, 2, 3, 4, 5})\n",
    "correct in {T, F}\n",
    "\n",
    "ALL = {\n",
    "  A1, A2, A3, A4, A5,\n",
    "  B1, B2, B3, B4, B5,\n",
    "  C1, C2, C3, C4, C5,\n",
    "  D1, D2, D3, D4, D5,\n",
    "  E1, E2, E3, E4, E5,\n",
    "}\n",
    "ROWS = [\n",
    "  [A1, A2, A3, A4, A5],\n",
    "  [B1, B2, B3, B4, B5],\n",
    "  [C1, C2, C3, C4, C5],\n",
    "  [D1, D2, D3, D4, D5],\n",
    "  [E1, E2, E3, E4, E5],\n",
    "]\n",
    "COLUMNS = [\n",
    "  [A1, B1, C1, D1, E1],\n",
    "  [A2, B2, C2, D2, E2],\n",
    "  [A3, B3, C3, D3, E3],\n",
    "  [A4, B4, C4, D4, E4],\n",
    "  [A5, B5, C5, D5, E5],\n",
    "]\n",
    "N_ALL = len(ALL)\n",
    "letters = {k: i+1 for i, k in enumerate('abcdefghijklmnopqrstuvwxyz')}\n",
    "backward = {v: k for k, v in letters.items()}\n",
    "\n",
    "def n_true(cells):\n",
    "  return sum([cell.correct == T for cell in cells])\n",
    "\n",
    "def constrain(cell, stmt):\n",
    "  return (cell.correct == T) == stmt\n",
    "\n",
    "def binary(cells):\n",
    "  return sum([2**i * (cell.correct == T) for i, cell in enumerate(cells)])\n",
    "\n",
    "# A1: To get the magic word, interpret each row as a letter using 5–bit encoding.\n",
    "# Assume true?\n",
    "#A1.correct == T\n",
    "\n",
    "# A2: Of the statements that lie on a main diagonal, less than half are true.\n",
    "DIAGONAL = {A1, B2, C3, D4, E5} | {A5, B4, C3, D2, E1}\n",
    "constrain(A2, n_true(DIAGONAL) <= len(DIAGONAL))\n",
    "\n",
    "# A3: The magic word contains an O.\n",
    "# ???\n",
    "\n",
    "# A4: The magic word contains an H.\n",
    "# ???\n",
    "\n",
    "# A5: None of the corner statements are true.\n",
    "CORNERS = {A1, A5, E1, E5}\n",
    "constrain(A5, n_true(CORNERS) == 0)\n",
    "\n",
    "# B1: The sixteen statements on the perimeter of this grid contain exactly as many true statements as the nine statements on the interior of this grid.\n",
    "TOP = {A1, A2, A3, A4, A5}\n",
    "LEFT = {A1, B1, C1, D1, E1}\n",
    "BOTTOM = {E1, E2, E3, E4, E5}\n",
    "RIGHT = {A5, B5, C5, D5, E5}\n",
    "PERIMETER = TOP | LEFT | BOTTOM | RIGHT\n",
    "INTERIOR = ALL - PERIMETER\n",
    "constrain(B1, n_true(PERIMETER) == n_true(INTERIOR))\n",
    "\n",
    "# B2: Of the statements that are a knight’s move from this one, exactly half are true.\n",
    "B2_KNIGHTS = {A4, C4, D3, D1}\n",
    "constrain(B2, n_true(B2_KNIGHTS) == 2)\n",
    "\n",
    "# B3: Of the statements that lie on a main diagonal, exactly three are true.\n",
    "constrain(B3, n_true(DIAGONAL) == 3)\n",
    "\n",
    "# B4: The magic word contains an A.\n",
    "# ???\n",
    "\n",
    "# B5: The magic word contains a T.\n",
    "# ???\n",
    "\n",
    "# C1: More than half the total statements are true.\n",
    "constrain(C1, n_true(ALL) > N_ALL)\n",
    "\n",
    "# C2: The magic word contains an L.\n",
    "\n",
    "# C3: Of the statements that are a king’s move from this one, a multiple of three are true.\n",
    "C3_KING = {B2, B3, B4, C4, D4, D3, D2, C2}\n",
    "constrain(C3, (n_true(C3_KING) == 3) or (n_true(C3_KING) == 6))\n",
    "\n",
    "# C4: This column contains exactly as many true statements as the rightmost column.\n",
    "constrain(C4, n_true(LEFT) == n_true(RIGHT))\n",
    "\n",
    "# C5: Of the statements at the midpoint of an edge (including this one), exactly half are true.\n",
    "MIDPOINTS = {A3, C5, E3, C1}\n",
    "\n",
    "# D1: Of the statements that are a rook’s move from this one, an even number are true.\n",
    "D1_ROOK = {A1, B1, C1, E1} | {D2, D3, D4, D5}\n",
    "constrain(D1, n_true(D1_ROOK) & 1 == 0)\n",
    "\n",
    "# D2: The magic word contains a G.\n",
    "# D3: The magic word starts with a vowel.\n",
    "# D4: The magic word contains an S.\n",
    "# D5: Of the statements that are a bishop’s move from this one, none are true.\n",
    "D5_BISHOP = {A2, B3, C4, E4}\n",
    "constrain(D5, n_true(D5_BISHOP) == 0)\n",
    "\n",
    "# E1: Exactly two of the corner statements are true.\n",
    "constrain(E1, n_true(CORNERS) == 2)\n",
    "\n",
    "# E2: None of the statements in this column are true.\n",
    "E2_COLUMN = {A2, B2, C2, D2, E2}\n",
    "constrain(E2, n_true(E2_COLUMN) == 0)\n",
    "\n",
    "# E3: The magic word has no repeating letters.\n",
    "# E4: The magic word contains a C.\n",
    "# E5: To get the magic word, interpret each column as a letter using 5–bit encoding.\n",
    "E5.correct == T\n",
    "\n",
    "# TODO:\n",
    "#print(ROWS)\n",
    "\"\"\")"
   ]
  },
  {
   "cell_type": "code",
   "execution_count": 60,
   "metadata": {
    "collapsed": false
   },
   "outputs": [],
   "source": [
    "letters = {k: i+1 for i, k in enumerate('abcdefghijklmnopqrstuvwxyz')}\n",
    "backward = {v: k for k, v in letters.items()}"
   ]
  },
  {
   "cell_type": "code",
   "execution_count": 61,
   "metadata": {
    "collapsed": false
   },
   "outputs": [
    {
     "data": {
      "text/plain": [
       "({'a': 1,\n",
       "  'b': 2,\n",
       "  'c': 3,\n",
       "  'd': 4,\n",
       "  'e': 5,\n",
       "  'f': 6,\n",
       "  'g': 7,\n",
       "  'h': 8,\n",
       "  'i': 9,\n",
       "  'j': 10,\n",
       "  'k': 11,\n",
       "  'l': 12,\n",
       "  'm': 13,\n",
       "  'n': 14,\n",
       "  'o': 15,\n",
       "  'p': 16,\n",
       "  'q': 17,\n",
       "  'r': 18,\n",
       "  's': 19,\n",
       "  't': 20,\n",
       "  'u': 21,\n",
       "  'v': 22,\n",
       "  'w': 23,\n",
       "  'x': 24,\n",
       "  'y': 25,\n",
       "  'z': 26},\n",
       " {1: 'a',\n",
       "  2: 'b',\n",
       "  3: 'c',\n",
       "  4: 'd',\n",
       "  5: 'e',\n",
       "  6: 'f',\n",
       "  7: 'g',\n",
       "  8: 'h',\n",
       "  9: 'i',\n",
       "  10: 'j',\n",
       "  11: 'k',\n",
       "  12: 'l',\n",
       "  13: 'm',\n",
       "  14: 'n',\n",
       "  15: 'o',\n",
       "  16: 'p',\n",
       "  17: 'q',\n",
       "  18: 'r',\n",
       "  19: 's',\n",
       "  20: 't',\n",
       "  21: 'u',\n",
       "  22: 'v',\n",
       "  23: 'w',\n",
       "  24: 'x',\n",
       "  25: 'y',\n",
       "  26: 'z'})"
      ]
     },
     "execution_count": 61,
     "metadata": {},
     "output_type": "execute_result"
    }
   ],
   "source": [
    "letters, backward"
   ]
  },
  {
   "cell_type": "code",
   "execution_count": null,
   "metadata": {
    "collapsed": true
   },
   "outputs": [],
   "source": []
  }
 ],
 "metadata": {
  "kernelspec": {
   "display_name": "Python 3",
   "language": "python",
   "name": "python3"
  },
  "language_info": {
   "codemirror_mode": {
    "name": "ipython",
    "version": 3
   },
   "file_extension": ".py",
   "mimetype": "text/x-python",
   "name": "python",
   "nbconvert_exporter": "python",
   "pygments_lexer": "ipython3",
   "version": "3.6.0"
  },
  "widgets": {
   "state": {
    "e147bae13a704e02a814f82fa7e337f5": {
     "views": [
      {
       "cell_index": 1
      }
     ]
    }
   },
   "version": "1.2.0"
  }
 },
 "nbformat": 4,
 "nbformat_minor": 2
}
