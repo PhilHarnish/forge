{
 "cells": [
  {
   "cell_type": "code",
   "execution_count": 1,
   "metadata": {},
   "outputs": [],
   "source": [
    "given = \"\"\"\n",
    "1. N ouveau _____ 2. Value 3. Several feet 4. Pierces 5. Bisect 6. Boa or asp 7. Story message 8. Dancer Alvin 9. W anders 10. Dive forward 11. Liquid food 12. Ticket prices? 13. Little ones 14. Pine Tree state 15. Swigs 16. Bake 17. Like a confident person (hyph) 18. Hackneyed 19. Move gracefully 20. Indicate 21. Aromatic seed 22. Leg bone 23. Pattern 24. Seamstress H ead 25. Turns in football 26. Shoe spike 27. Hoodlums 28. Brownish tone 29. Thought process 30. W ood-shaper 31. Full of dirt, like a roiled river 32. Swiss river 33. Belgian city of import in 1814 34. G lossy Asian fibers 35. Eagle’s nest 36. Q ueen of Scots et al \n",
    "\"\"\""
   ]
  },
  {
   "cell_type": "code",
   "execution_count": 8,
   "metadata": {},
   "outputs": [
    {
     "name": "stdout",
     "output_type": "stream",
     "text": [
      "\n",
      "\n",
      "1. N ouveau _____ \n",
      "2. Value \n",
      "3. Several feet \n",
      "4. Pierces \n",
      "5. Bisect \n",
      "6. Boa or asp \n",
      "7. Story message \n",
      "8. Dancer Alvin \n",
      "9. W anders \n",
      "10. Dive forward \n",
      "11. Liquid food \n",
      "12. Ticket prices? \n",
      "13. Little ones \n",
      "14. Pine Tree state \n",
      "15. Swigs \n",
      "16. Bake \n",
      "17. Like a confident person (hyph) \n",
      "18. Hackneyed \n",
      "19. Move gracefully \n",
      "20. Indicate \n",
      "21. Aromatic seed \n",
      "22. Leg bone \n",
      "23. Pattern \n",
      "24. Seamstress H ead \n",
      "25. Turns in football \n",
      "26. Shoe spike \n",
      "27. Hoodlums \n",
      "28. Brownish tone \n",
      "29. Thought process \n",
      "30. W ood-shaper \n",
      "31. Full of dirt, like a roiled river \n",
      "32. Swiss river \n",
      "33. Belgian city of import in \n",
      "1814 \n",
      "34. G lossy Asian fibers \n",
      "35. Eagle’s nest \n",
      "36. Q ueen of Scots et al \n",
      "\n"
     ]
    }
   ],
   "source": [
    "import re\n",
    "regex = re.compile(r'([\\d]+.)')\n",
    "\n",
    "print(regex.sub('\\n\\\\1', given))"
   ]
  },
  {
   "cell_type": "code",
   "execution_count": null,
   "metadata": {},
   "outputs": [],
   "source": []
  }
 ],
 "metadata": {
  "kernelspec": {
   "display_name": "Python 3",
   "language": "python",
   "name": "python3"
  },
  "language_info": {
   "codemirror_mode": {
    "name": "ipython",
    "version": 3
   },
   "file_extension": ".py",
   "mimetype": "text/x-python",
   "name": "python",
   "nbconvert_exporter": "python",
   "pygments_lexer": "ipython3",
   "version": "3.6.0"
  }
 },
 "nbformat": 4,
 "nbformat_minor": 2
}
