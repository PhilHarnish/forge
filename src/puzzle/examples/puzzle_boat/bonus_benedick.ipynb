{
 "cells": [
  {
   "cell_type": "markdown",
   "metadata": {},
   "source": [
    "# Benedick = QUAINTEST\n",
    "Benedick heard FarmersOnly was a place to meet chicks.\n",
    "\n",
    "* Classic Billy Wilder movie (4 wds)\n",
    "* It ended with the Siege of Yorktown (2 wds)\n",
    "* It may warn you of suprising object sizes (3 wds)\n",
    "* Like most solid objects, as opposed to linear (hyph.)\n",
    "* One who studies the spread of diseases\n",
    "* The point in the orbit of a planet at which its closest to the sun\n",
    "* Something asked intended to provoke a specific response (2 wds)\n",
    "* Sort of valuable, like some gemstones\n",
    "* Thoughtful discussion, as before a bill\n",
    "\n",
    "<img src=\"benedick.png\" width=\"300\">"
   ]
  },
  {
   "cell_type": "code",
   "execution_count": 1,
   "metadata": {
    "collapsed": false
   },
   "outputs": [
    {
     "name": "stderr",
     "output_type": "stream",
     "text": [
      "Widget Javascript not detected.  It may not be installed properly. Did you enable the widgetsnbextension? If not, then run \"jupyter nbextension enable --py --sys-prefix widgetsnbextension\"\n"
     ]
    },
    {
     "data": {
      "text/plain": [
       "'\\ngOneWitHtHewINd == OW(H)HIN\\n\\n'"
      ]
     },
     "execution_count": 1,
     "metadata": {},
     "output_type": "execute_result"
    }
   ],
   "source": [
    "import forge\n",
    "from puzzle.puzzlepedia import puzzlepedia\n",
    "\n",
    "# disattune indurates indusiate insulated inundates quantised sturnidae supinated sustained unsainted unstained\n",
    "puzzle = puzzlepedia.parse(\"\"\"\n",
    "T SOME LIKE IT HOT (Classic Billy Wilder movie (4 wds))\n",
    "A REVOLUTIONARY WAR (It ended with the Siege of Yorktown (2 wds))\n",
    "A REAR VIEW MIRROR (It may warn you of suprising object sizes (3 wds))\n",
    "E THREE DIMENSIONAL (Like most solid objects, as opposed to linear (hyph.))\n",
    "I EPIDEMIOLOGIST (One who studies the spread of diseases)\n",
    "N PERIHELION (The point in the orbit of a planet at which its closest to the sun)\n",
    "Something asked intended to provoke a specific response (2 wds)\n",
    "Sort of valuable, like some gemstones\n",
    "D DELIBERATION (Thoughtful discussion, as before a bill)\n",
    "\"\"\")\n",
    "\"\"\"\n",
    "lEadIngQuEstIOn    == EI(Q)EIO Q \n",
    "amErIcanrEvolUtIOn == EIE(U)IO U\n",
    "rEArvIEwmIrrOr     == E(A)IEIO A\n",
    "EpIdEmIOlogIst     == EIEIO(I) I\n",
    "pErIhElION         == EIEIO(N) N\n",
    "dElIbEraTIOn       == EIE(T)IO T\n",
    "thrEEdImEnsIOnal   == E(E)IEIO E\n",
    "SEmIprEcIOus       == (S)EIEIO S\n",
    "somElIkEIthOt      == EIEIO(T) T\n",
    "\"\"\""
   ]
  },
  {
   "cell_type": "code",
   "execution_count": 5,
   "metadata": {
    "collapsed": false
   },
   "outputs": [
    {
     "name": "stdout",
     "output_type": "stream",
     "text": [
      "WARNING\n",
      "Max fringe size was: 4857\n"
     ]
    }
   ],
   "source": [
    "import forge\n",
    "from puzzle.puzzlepedia import puzzlepedia\n",
    "\n",
    "puzzle = puzzlepedia.parse(\"\"\"\n",
    "* abcdefghijklmnopqrstuvwxyz\n",
    "* U\n",
    "* A\n",
    "* I\n",
    "* N\n",
    "* T\n",
    "* E\n",
    "* S\n",
    "* T\n",
    "\"\"\", hint=\"acrostic\")\n"
   ]
  },
  {
   "cell_type": "code",
   "execution_count": null,
   "metadata": {
    "collapsed": true
   },
   "outputs": [],
   "source": [
    "import forge\n",
    "from puzzle.puzzlepedia import puzzlepedia\n",
    "\n",
    "puzzle = puzzlepedia.parse(\"\"\"\n",
    "abcdefghijklmnopqrstuvwxyz\n",
    "e\n",
    "abcdefghijklmnopqrstuvwxyz\n",
    "abcdefghijklmnopqrstuvwxyz\n",
    "i\n",
    "abcdefghijklmnopqrstuvwxyz\n",
    "abcdefghijklmnopqrstuvwxyz\n",
    "abcdefghijklmnopqrstuvwxyz\n",
    "abcdefghijklmnopqrstuvwxyz\n",
    "e\n",
    "abcdefghijklmnopqrstuvwxyz\n",
    "abcdefghijklmnopqrstuvwxyz\n",
    "e\n",
    "o\n",
    "abcdefghijklmnopqrstuvwxyz\n",
    "\"\"\", hint=\"acrostic\")\n"
   ]
  },
  {
   "cell_type": "code",
   "execution_count": null,
   "metadata": {
    "collapsed": true
   },
   "outputs": [],
   "source": []
  }
 ],
 "metadata": {
  "kernelspec": {
   "display_name": "Python 3",
   "language": "python",
   "name": "python3"
  },
  "language_info": {
   "codemirror_mode": {
    "name": "ipython",
    "version": 3
   },
   "file_extension": ".py",
   "mimetype": "text/x-python",
   "name": "python",
   "nbconvert_exporter": "python",
   "pygments_lexer": "ipython3",
   "version": "3.6.0"
  },
  "widgets": {
   "state": {
    "5b601245aa1240f8bb7e14c4df30ff92": {
     "views": [
      {
       "cell_index": 2
      }
     ]
    }
   },
   "version": "1.2.0"
  }
 },
 "nbformat": 4,
 "nbformat_minor": 2
}
