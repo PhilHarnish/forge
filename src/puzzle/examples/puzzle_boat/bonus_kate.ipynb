{
 "cells": [
  {
   "cell_type": "markdown",
   "metadata": {},
   "source": [
    "# Kate\n",
    "The controversy over Ashley Madison is that most of the women on the site were fake accounts.\n",
    "\n",
    "[headshots](https://docs.google.com/document/d/17kMCe1VnyqIwKK1rL7AFBqpuf771w1PoB8QPMEiIu5k/edit)\n",
    "\n",
    "## ENJOYD AND OR SIMULATE\n",
    "\n",
    "* E Carrie Fisher 3\n",
    "* * Fisher Stevens -- (Actor known for playing the sidekick in Short Circuit and the TV show Early Edition (6 6 7))\n",
    "* * Carrie Fisher Stevens\n",
    "* N Brenda Lee 6\n",
    "* * Lee Marvin               -- (He’s best known for roles in Cat Ballou and the Dirty Dozen. (6 3 6))\n",
    "* * Brenda Lee Marvin\n",
    "* J Jamie Lee Curtis 1\n",
    "* * Curtis James Jackson III -- (Real name of the rapper 50 Cent (5 3 6 7))\n",
    "* * Jamie Lee Curtis Jackson\n",
    "* O Wynonna Judd 5\n",
    "* * Judd Nelson              -- (Actor who played the rebel in the movie The Breakfast Club (7 4 6))\n",
    "* * Wynonna Judd Nelson\n",
    "* Y Liv Tyler 6\n",
    "* * Tyler Oakley             -- (YouTube activist who raced with Korey Kuhl on The Amazing Race (3 5 6))\n",
    "* * Liv Tyler Oakley\n",
    "* D Halle Berry Gordy 4\n",
    "* * Berry Gordy              -- (Record producer known as the founder of Motown (5 5 5))\n",
    "* A Rachael Ray Bradbury 3\n",
    "* * Ray Bradbury             -- (Science fiction author who wrote The Martian Chronicles and Fahrenheit 451 (7 3 8))\n",
    "* N Marcia Clark Kent 3\n",
    "* * Clark Kent               -- (Daily Planet reporter better known as Superman (6 5 4))\n",
    "* D Debbie Harry Houdini 4\n",
    "* * Harry Houdini            -- (Well-known escape artist who died on Halloween (7 5 7))\n",
    "* D Amy Grant Wood 4\n",
    "* * Grant Wood               -- (Painter of American Gothic (3 5 4))\n",
    "* O Daisy Ridley Scott 3\n",
    "* * Ridley Scott             -- (Director and producer of the Alien series of films (5 6 5))\n",
    "* R Gillian Anderson Cooper 6\n",
    "* * Anderson Cooper          -- (Silver-haired journalist whose show goes 360 and once hosted The Mole (7 8 6))\n",
    "* S Emma Stone Phillips 8\n",
    "* * Stone Phillips           -- (NBC journalist best known for being a co-anchor on Dateline NBC (4 5 8))\n",
    "* I Meg Ryan Gosling 5\n",
    "* * Ryan Gosling       -- (Actor who played leads in Drive, Lars and the Real Girl, and La La Land (3 4 7))\n",
    "* M Katy Perry Como 3\n",
    "* * Perry Como               -- (Singer of “A You’re Adorable” and “BibbidiBobbidi-Boo” (4 5 4))\n",
    "* U Christine Taylor Lautner 3\n",
    "* * Taylor Lautner           -- (He played the character you supported if you were Team Jacob. (9 6 7))\n",
    "* L Jennifer Lawrence Welk 3\n",
    "* * Lawrence Welk            -- (Bandleader who often said “And a one, and a two” (8 8 4))\n",
    "* A Miley Cyrus Vance 2\n",
    "* * Cyrus Vance      -- (Jimmy Carter’s Secretary of State (5 5 5))\n",
    "* T Nancy Travis Tritt 1\n",
    "* * Travis Tritt             -- (Country singer whose albums include My Honky Tonk History (5 6 5))\n",
    "* E Carly Simon Cowell 4\n",
    "* * Simon Cowell             -- (American Idol and X Factor judge known for harsh, brutal criticism (5 5 6))"
   ]
  },
  {
   "cell_type": "code",
   "execution_count": 3,
   "metadata": {
    "collapsed": true
   },
   "outputs": [],
   "source": [
    "puzzle = puzzlepedia.parse(\"\"\"\n",
    "E\n",
    "N\n",
    "J\n",
    "O\n",
    "Y\n",
    "D\n",
    "A\n",
    "N\n",
    "D\n",
    "O\n",
    "R\n",
    "S\n",
    "I\n",
    "M\n",
    "U\n",
    "L\n",
    "A\n",
    "T\n",
    "E\n",
    "\"\"\", hint=\"acrostic\")\n"
   ]
  },
  {
   "cell_type": "code",
   "execution_count": null,
   "metadata": {
    "collapsed": true
   },
   "outputs": [],
   "source": []
  }
 ],
 "metadata": {
  "kernelspec": {
   "display_name": "Python 3",
   "language": "python",
   "name": "python3"
  },
  "language_info": {
   "codemirror_mode": {
    "name": "ipython",
    "version": 3
   },
   "file_extension": ".py",
   "mimetype": "text/x-python",
   "name": "python",
   "nbconvert_exporter": "python",
   "pygments_lexer": "ipython3",
   "version": "3.6.0"
  },
  "widgets": {
   "state": {
    "f0907d67f30e4786b65854637d160183": {
     "views": [
      {
       "cell_index": 1
      }
     ]
    }
   },
   "version": "1.2.0"
  }
 },
 "nbformat": 4,
 "nbformat_minor": 2
}
