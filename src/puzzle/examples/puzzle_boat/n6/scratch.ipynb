{
 "cells": [
  {
   "cell_type": "code",
   "execution_count": 35,
   "metadata": {},
   "outputs": [],
   "source": [
    "given = \"\"\"\n",
    "T H I R D M Y N A M E I S D R G\n",
    "O O D A R N M O E S U N R N I N\n",
    "G Y H P O E O W H A E A L O N G\n",
    "R A E A C T Y O T U V I P M W G\n",
    "D R R R K F R O M I O M A I O R\n",
    "N T T T E L R E S T M E R D H A\n",
    "I E N M T I U S W A L T T H S D\n",
    "I B N E G X W R E S T L I N G U\n",
    "S I M N N E T T E S S A C O T A\n",
    "R O F T A D P A R A C H U T E L\n",
    "W R E A L E D O C T O R L V F L\n",
    "E B U T I C A M A R E A A O A Y\n",
    "S L I A M K M E D I U M T L B A\n",
    "T E N D E R S N A C T U E U R A\n",
    "L I L I Y R A R B I L A V M I E\n",
    "L I K E A I L I K E T N I E C O\n",
    "\"\"\""
   ]
  },
  {
   "cell_type": "code",
   "execution_count": 38,
   "metadata": {},
   "outputs": [
    {
     "name": "stdout",
     "output_type": "stream",
     "text": [
      "\n",
      "T\tH\tI\tR\tD\tM\tY\tN\tA\tM\tE\tI\tS\tD\tR\tG\n",
      "O\tO\tD\tA\tR\tN\tM\tO\tE\tS\tU\tN\tR\tN\tI\tN\n",
      "G\tY\tH\tP\tO\tE\tO\tW\tH\tA\tE\tA\tL\tO\tN\tG\n",
      "R\tA\tE\tA\tC\tT\tY\tO\tT\tU\tV\tI\tP\tM\tW\tG\n",
      "D\tR\tR\tR\tK\tF\tR\tO\tM\tI\tO\tM\tA\tI\tO\tR\n",
      "N\tT\tT\tT\tE\tL\tR\tE\tS\tT\tM\tE\tR\tD\tH\tA\n",
      "I\tE\tN\tM\tT\tI\tU\tS\tW\tA\tL\tT\tT\tH\tS\tD\n",
      "I\tB\tN\tE\tG\tX\tW\tR\tE\tS\tT\tL\tI\tN\tG\tU\n",
      "S\tI\tM\tN\tN\tE\tT\tT\tE\tS\tS\tA\tC\tO\tT\tA\n",
      "R\tO\tF\tT\tA\tD\tP\tA\tR\tA\tC\tH\tU\tT\tE\tL\n",
      "W\tR\tE\tA\tL\tE\tD\tO\tC\tT\tO\tR\tL\tV\tF\tL\n",
      "E\tB\tU\tT\tI\tC\tA\tM\tA\tR\tE\tA\tA\tO\tA\tY\n",
      "S\tL\tI\tA\tM\tK\tM\tE\tD\tI\tU\tM\tT\tL\tB\tA\n",
      "T\tE\tN\tD\tE\tR\tS\tN\tA\tC\tT\tU\tE\tU\tR\tA\n",
      "L\tI\tL\tI\tY\tR\tA\tR\tB\tI\tL\tA\tV\tM\tI\tE\n",
      "L\tI\tK\tE\tA\tI\tL\tI\tK\tE\tT\tN\tI\tE\tC\tO\n",
      "\n"
     ]
    }
   ],
   "source": [
    "for line in given.split('\\n'):\n",
    "  print('\\t'.join(line.split(' ')))"
   ]
  },
  {
   "cell_type": "code",
   "execution_count": 40,
   "metadata": {},
   "outputs": [],
   "source": [
    "given = \"\"\"\n",
    "4 5 9\n",
    "5 4 4 3 3\n",
    "7 9 4\n",
    "8 4 6\n",
    "11\n",
    "9 3 4 6\n",
    "9 6\n",
    "7\n",
    "6 2 1 7\n",
    "6\n",
    "\"\"\""
   ]
  },
  {
   "cell_type": "code",
   "execution_count": 42,
   "metadata": {},
   "outputs": [
    {
     "name": "stdout",
     "output_type": "stream",
     "text": [
      "\n",
      "'4 5 9\n",
      "'5 4 4 3 3\n",
      "'7 9 4\n",
      "'8 4 6\n",
      "'11\n",
      "'9 3 4 6\n",
      "'9 6\n",
      "'7\n",
      "'6 2 1 7\n",
      "'6\n",
      "'\n"
     ]
    }
   ],
   "source": [
    "print(given.replace('\\n', '\\n\\''))"
   ]
  },
  {
   "cell_type": "code",
   "execution_count": 45,
   "metadata": {},
   "outputs": [
    {
     "data": {
      "text/plain": [
       "'a]zm[a]tg[]vi[n]ob['"
      ]
     },
     "execution_count": 45,
     "metadata": {},
     "output_type": "execute_result"
    }
   ],
   "source": [
    "''.join(reversed('[bo]n[iv][gt]a[mz]a'))"
   ]
  },
  {
   "cell_type": "code",
   "execution_count": null,
   "metadata": {},
   "outputs": [],
   "source": []
  }
 ],
 "metadata": {
  "kernelspec": {
   "display_name": "Python 3",
   "language": "python",
   "name": "python3"
  },
  "language_info": {
   "codemirror_mode": {
    "name": "ipython",
    "version": 3
   },
   "file_extension": ".py",
   "mimetype": "text/x-python",
   "name": "python",
   "nbconvert_exporter": "python",
   "pygments_lexer": "ipython3",
   "version": "3.6.0"
  }
 },
 "nbformat": 4,
 "nbformat_minor": 2
}
