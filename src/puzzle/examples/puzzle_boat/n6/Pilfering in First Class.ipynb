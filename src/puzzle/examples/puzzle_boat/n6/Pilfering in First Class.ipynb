{
 "cells": [
  {
   "cell_type": "code",
   "execution_count": null,
   "metadata": {},
   "outputs": [],
   "source": [
    "# 41-A. Two times 44-Across (3)\n",
    "# 44-A. Square root of 28-Down (3)\n",
    "# 28-D. Square of 44-Across (5)\n",
    "# 41-D. Not a prime"
   ]
  },
  {
   "cell_type": "code",
   "execution_count": 10,
   "metadata": {},
   "outputs": [],
   "source": [
    "PRIMES = set(map(int, \"\"\"\n",
    "2\t3\t5\t7\t11\t13\t17\t19\t23\n",
    "29\t31\t37\t41\t43\t47\t53\t59\t61\t67\n",
    "71\t73\t79\t83\t89\t97\t101\t103\t107\t109\n",
    "113\t127\t131\t137\t139\t149\t151\t157\t163\t167\n",
    "173\t179\t181\t191\t193\t197\t199\t211\t223\t227\n",
    "229\t233\t239\t241\t251\t257\t263\t269\t271\t277\n",
    "281\t283\t293\t307\t311\t313\t317\t331\t337\t347\n",
    "349\t353\t359\t367\t373\t379\t383\t389\t397\t401\n",
    "409\t419\t421\t431\t433\t439\t443\t449\t457\t461\n",
    "463\t467\t479\t487\t491\t499\t503\t509\t521\t523\n",
    "541\t547\t557\t563\t569\t571\t577\t587\t593\t599\n",
    "601\t607\t613\t617\t619\t631\t641\t643\t647\t653\n",
    "659\t661\t673\t677\t683\t691\t701\t709\t719\t727\n",
    "733\t739\t743\t751\t757\t761\t769\t773\t787\t797\n",
    "809\t811\t821\t823\t827\t829\t839\t853\t857\t859\n",
    "863\t877\t881\t883\t887\t907\t911\t919\t929\t937\n",
    "941\t947\t953\t967\t971\t977\t983\t991\t997\n",
    "\"\"\".split()))\n",
    "SQRS_2 = [i ** 2 for i in range(4, )]"
   ]
  },
  {
   "cell_type": "code",
   "execution_count": 24,
   "metadata": {},
   "outputs": [
    {
     "name": "stdout",
     "output_type": "stream",
     "text": [
      "222 111 12321 21\n",
      "358 179 32041 39\n"
     ]
    }
   ],
   "source": [
    "for a44 in range(100, 999):\n",
    "  d28 = a44 ** 2\n",
    "  if d28 > 99999:\n",
    "    break\n",
    "  if int(str(d28)[1]) not in {1, 2, 6}:\n",
    "    continue\n",
    "  if str(d28)[-1] != str(a44)[0]:\n",
    "    continue\n",
    "  a41 = a44 * 2\n",
    "  if a41 > 999:\n",
    "    break\n",
    "  # 41-D. Not a prime\n",
    "  d41 = int(str(a41)[0] + str(a44)[2])\n",
    "  if d41 in PRIMES:\n",
    "    continue\n",
    "  print(a41, a44, d28, d41)\n",
    "  #break"
   ]
  },
  {
   "cell_type": "code",
   "execution_count": 11,
   "metadata": {},
   "outputs": [
    {
     "data": {
      "text/plain": [
       "{2,\n",
       " 3,\n",
       " 5,\n",
       " 7,\n",
       " 11,\n",
       " 13,\n",
       " 17,\n",
       " 19,\n",
       " 23,\n",
       " 29,\n",
       " 31,\n",
       " 37,\n",
       " 41,\n",
       " 43,\n",
       " 47,\n",
       " 53,\n",
       " 59,\n",
       " 61,\n",
       " 67,\n",
       " 71,\n",
       " 73,\n",
       " 79,\n",
       " 83,\n",
       " 89,\n",
       " 97,\n",
       " 101,\n",
       " 103,\n",
       " 107,\n",
       " 109,\n",
       " 113,\n",
       " 127,\n",
       " 131,\n",
       " 137,\n",
       " 139,\n",
       " 149,\n",
       " 151,\n",
       " 157,\n",
       " 163,\n",
       " 167,\n",
       " 173,\n",
       " 179,\n",
       " 181,\n",
       " 191,\n",
       " 193,\n",
       " 197,\n",
       " 199,\n",
       " 211,\n",
       " 223,\n",
       " 227,\n",
       " 229,\n",
       " 233,\n",
       " 239,\n",
       " 241,\n",
       " 251,\n",
       " 257,\n",
       " 263,\n",
       " 269,\n",
       " 271,\n",
       " 277,\n",
       " 281,\n",
       " 283,\n",
       " 293,\n",
       " 307,\n",
       " 311,\n",
       " 313,\n",
       " 317,\n",
       " 331,\n",
       " 337,\n",
       " 347,\n",
       " 349,\n",
       " 353,\n",
       " 359,\n",
       " 367,\n",
       " 373,\n",
       " 379,\n",
       " 383,\n",
       " 389,\n",
       " 397,\n",
       " 401,\n",
       " 409,\n",
       " 419,\n",
       " 421,\n",
       " 431,\n",
       " 433,\n",
       " 439,\n",
       " 443,\n",
       " 449,\n",
       " 457,\n",
       " 461,\n",
       " 463,\n",
       " 467,\n",
       " 479,\n",
       " 487,\n",
       " 491,\n",
       " 499,\n",
       " 503,\n",
       " 509,\n",
       " 521,\n",
       " 523,\n",
       " 541,\n",
       " 547,\n",
       " 557,\n",
       " 563,\n",
       " 569,\n",
       " 571,\n",
       " 577,\n",
       " 587,\n",
       " 593,\n",
       " 599,\n",
       " 601,\n",
       " 607,\n",
       " 613,\n",
       " 617,\n",
       " 619,\n",
       " 631,\n",
       " 641,\n",
       " 643,\n",
       " 647,\n",
       " 653,\n",
       " 659,\n",
       " 661,\n",
       " 673,\n",
       " 677,\n",
       " 683,\n",
       " 691,\n",
       " 701,\n",
       " 709,\n",
       " 719,\n",
       " 727,\n",
       " 733,\n",
       " 739,\n",
       " 743,\n",
       " 751,\n",
       " 757,\n",
       " 761,\n",
       " 769,\n",
       " 773,\n",
       " 787,\n",
       " 797,\n",
       " 809,\n",
       " 811,\n",
       " 821,\n",
       " 823,\n",
       " 827,\n",
       " 829,\n",
       " 839,\n",
       " 853,\n",
       " 857,\n",
       " 859,\n",
       " 863,\n",
       " 877,\n",
       " 881,\n",
       " 883,\n",
       " 887,\n",
       " 907,\n",
       " 911,\n",
       " 919,\n",
       " 929,\n",
       " 937,\n",
       " 941,\n",
       " 947,\n",
       " 953,\n",
       " 967,\n",
       " 971,\n",
       " 977,\n",
       " 983,\n",
       " 991,\n",
       " 997}"
      ]
     },
     "execution_count": 11,
     "metadata": {},
     "output_type": "execute_result"
    }
   ],
   "source": [
    "PRIMES"
   ]
  },
  {
   "cell_type": "code",
   "execution_count": 20,
   "metadata": {},
   "outputs": [
    {
     "data": {
      "text/plain": [
       "['21', '51', '81']"
      ]
     },
     "execution_count": 20,
     "metadata": {},
     "output_type": "execute_result"
    }
   ],
   "source": [
    "[str(i * 3) for i in range(99) if len(str(i * 3)) == 2 and str(i * 3)[1] == '1']"
   ]
  },
  {
   "cell_type": "code",
   "execution_count": 23,
   "metadata": {},
   "outputs": [
    {
     "name": "stdout",
     "output_type": "stream",
     "text": [
      "121 11\n",
      "225 15\n",
      "256 16\n",
      "625 25\n"
     ]
    }
   ],
   "source": [
    "for d29 in range(10, 99):\n",
    "  a32 = d29 ** 2\n",
    "  if a32 > 999:\n",
    "    break\n",
    "  if str(d29)[1] != str(a32)[-1]:\n",
    "    continue\n",
    "  if int(str(a32)[1]) not in {2, 5, 8}:\n",
    "    continue\n",
    "  print(a32, d29)"
   ]
  },
  {
   "cell_type": "code",
   "execution_count": 26,
   "metadata": {},
   "outputs": [
    {
     "data": {
      "text/plain": [
       "[40,\n",
       " 44,\n",
       " 48,\n",
       " 52,\n",
       " 56,\n",
       " 60,\n",
       " 64,\n",
       " 68,\n",
       " 72,\n",
       " 76,\n",
       " 80,\n",
       " 84,\n",
       " 88,\n",
       " 92,\n",
       " 96,\n",
       " 100,\n",
       " 104,\n",
       " 108,\n",
       " 112,\n",
       " 116]"
      ]
     },
     "execution_count": 26,
     "metadata": {},
     "output_type": "execute_result"
    }
   ],
   "source": [
    "[i*4 for i in range(10,30)]"
   ]
  },
  {
   "cell_type": "code",
   "execution_count": null,
   "metadata": {},
   "outputs": [],
   "source": []
  }
 ],
 "metadata": {
  "kernelspec": {
   "display_name": "Python 3",
   "language": "python",
   "name": "python3"
  },
  "language_info": {
   "codemirror_mode": {
    "name": "ipython",
    "version": 3
   },
   "file_extension": ".py",
   "mimetype": "text/x-python",
   "name": "python",
   "nbconvert_exporter": "python",
   "pygments_lexer": "ipython3",
   "version": "3.6.0"
  }
 },
 "nbformat": 4,
 "nbformat_minor": 2
}
