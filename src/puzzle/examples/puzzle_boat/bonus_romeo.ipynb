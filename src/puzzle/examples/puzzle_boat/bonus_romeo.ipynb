{
 "cells": [
  {
   "cell_type": "markdown",
   "metadata": {},
   "source": [
    "# Romeo = FACE TO FACE\n",
    "Romeo tried out PlentyOfFish.com, but had trouble meeting people in person.\n",
    "\n",
    "* F 1 DORY = FLY ROD\n",
    "* A 2 DABS = CARLSBAD\n",
    "* C 1 ONO = CHRONO\n",
    "* E 2 COD = MEDOC\n",
    "* T 1 SOLE = TANGELOS\n",
    "* O 2 SHAD = HOWDAHS\n",
    "* F 3 GAR = DEFRAG\n",
    "* A 2 RAY = MAGYAR\n",
    "* C 1 EEL = COULEE\n",
    "* E 2 TUNA = PEANUT"
   ]
  },
  {
   "cell_type": "code",
   "execution_count": 4,
   "metadata": {
    "collapsed": true
   },
   "outputs": [],
   "source": [
    "import forge\n",
    "from puzzle.puzzlepedia import puzzlepedia\n",
    "\n",
    "puzzle = puzzlepedia.parse(\"\"\"\n",
    "DEFRAG (Clean up a drive (6))\n",
    "PEANUT (Common legume (6))\n",
    "HOWDAHS (Elephant seats (7))\n",
    "CARLSBAD (Famed caverns (8))\n",
    "FLY ROD (Fishing tool (3 3))\n",
    "MEDOC (French wine (5))\n",
    "TANGELOS (Fruit like oranges (8))\n",
    "Grand ____ (riverbed) (6)\n",
    "MAGYAR (Hungarian language (6))\n",
    "____ Trigger (6)\n",
    "\"\"\")\n",
    "\n",
    "# ____ Trigger (6)\n",
    "# ONO\n"
   ]
  },
  {
   "cell_type": "code",
   "execution_count": null,
   "metadata": {
    "collapsed": true
   },
   "outputs": [],
   "source": []
  }
 ],
 "metadata": {
  "kernelspec": {
   "display_name": "Python 3",
   "language": "python",
   "name": "python3"
  },
  "language_info": {
   "codemirror_mode": {
    "name": "ipython",
    "version": 3
   },
   "file_extension": ".py",
   "mimetype": "text/x-python",
   "name": "python",
   "nbconvert_exporter": "python",
   "pygments_lexer": "ipython3",
   "version": "3.6.0"
  },
  "widgets": {
   "state": {
    "8569dff5015a41e991848536abadd128": {
     "views": [
      {
       "cell_index": 1
      }
     ]
    }
   },
   "version": "1.2.0"
  }
 },
 "nbformat": 4,
 "nbformat_minor": 2
}
