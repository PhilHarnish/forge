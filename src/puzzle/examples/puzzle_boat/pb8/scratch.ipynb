{
 "cells": [
  {
   "cell_type": "code",
   "execution_count": 47,
   "metadata": {},
   "outputs": [
    {
     "name": "stdout",
     "output_type": "stream",
     "text": [
      "0b101111 \t 47 \t 15246\n",
      "0b101010 \t 42 \t 154\n",
      "0b101001 \t 41 \t 156\n",
      "0b000000 \t 0 \t \n",
      "0b100110 \t 38 \t 124\n",
      "0b010100 \t 20 \t 32\n",
      "0b100110 \t 38 \t 124\n",
      "0b000000 \t 0 \t \n",
      "0b010100 \t 20 \t 32\n",
      "0b011110 \t 30 \t 3524\n",
      "0b000000 \t 0 \t \n",
      "0b110000 \t 48 \t 13\n",
      "0b101001 \t 41 \t 156\n",
      "0b011110 \t 30 \t 3524\n",
      "0b000000 \t 0 \t \n",
      "0b010111 \t 23 \t 3246\n",
      "0b110010 \t 50 \t 134\n",
      "0b100000 \t 32 \t 1\n",
      "0b011110 \t 30 \t 3524\n",
      "0b000000 \t 0 \t \n",
      "0b101110 \t 46 \t 1524\n",
      "0b100010 \t 34 \t 14\n",
      "0b101101 \t 45 \t 1526\n",
      "0b011110 \t 30 \t 3524\n"
     ]
    }
   ],
   "source": [
    "given = \"101111101010101001000000100110010100100110000000010100011110000000110000101001011110000000010111110010100000011110000000101110100010101101011110\"\n",
    "\n",
    "braille_map = [0, 1, 3, 5, 2, 4, 6]\n",
    "\n",
    "for x in range(0, len(given), 6):\n",
    "  acc = []\n",
    "  letter = given[x:x+6]\n",
    "  i = 1\n",
    "  for c in letter:\n",
    "    if c == '1':\n",
    "      acc.append(str(braille_map[i]))\n",
    "    i += 1\n",
    "  print(\"0b\"+given[x:x+6], \"\\t\", int(given[x:x+6], 2), '\\t',''.join(acc))"
   ]
  },
  {
   "cell_type": "code",
   "execution_count": 24,
   "metadata": {},
   "outputs": [
    {
     "name": "stdout",
     "output_type": "stream",
     "text": [
      "270\n",
      "AABAA\tBABAB\tAAABA\tAABAA\tABABA\tABABA\tAABAA\tABBAA\tBAABA\tAABAB\tABBAB\tBAAAA\tBAABA\tAABBB\tAABAA\tAAAAB\tAAAAA\tAAABA\tABBAB\tABBAA\tAAABA\tABAAA\tABBBA\tAABBB\tAABAA\tBAAAA\tBAABA\tBABAA\tABBAB\tAAAAB\tBAAAB\tABAAA\tBAAAB\tAAAAA\tAAABB\tAAAAA\tBAAAB\tAABBB\tAAAAB\tAAAAA\tAAABB\tABBAB\tBAABA\tAAAAA\tABBAA\tAAABB\tAAAAA\tABAAA\tBAAAB\tAAAAB\tBAAAA\tAABAA\tAAAAA\tABAAB\n"
     ]
    }
   ],
   "source": [
    "given = \"\"\"\n",
    "9323989498533 87 936559 4927349 85 7925732833 699 8535874 3669623\n",
    "9798738773286532 95959947 77559394 9 7 2 63258299 77 945 9 833 7\n",
    "34845756863969723939 6952543497 7865 6559968539 45 259789394 77 37 73 59243335\n",
    "56573 23 92 2 25 7758 535359 3364 9465847589799 3 5348 7 737 3867 37 73 9453927 7\n",
    "98 733542 37735965377395569 98\n",
    "\"\"\".strip().replace(' ', '').replace('\\n', '')\n",
    "\n",
    "print(len(given))\n",
    "\n",
    "subs = ['B', 'A']\n",
    "acc = []\n",
    "\n",
    "for x in range(0, len(given), 5):\n",
    "  letter = ''.join(map(lambda x: subs[int(x) % 2], given[x:x+5]))\n",
    "  acc.append(letter)\n",
    "\n",
    "print('\\t'.join(acc))\n"
   ]
  },
  {
   "cell_type": "code",
   "execution_count": 40,
   "metadata": {},
   "outputs": [
    {
     "name": "stdout",
     "output_type": "stream",
     "text": [
      "K\tE\tE\tP\tG\tO\tI\tN\tG\tB\tI\tN\tA\tR\tY\tC\tO\tD\tE\tI\tS\tR\tE\tA\tL\tL\tY\tB\tR\tA\tI\tL\tL\tE\tW\tH\tE\tN\tR\tE\tG\tR\tO\tU\tP\tE\tD\tI\tN\tT\tO\tS\tI\tX\tD\tI\tG\tI\tT\tS\tE\tG\tM\tE\tN\tT\tS\tT\tH\tI\tR\tD\tD\tI\tG\tI\tT\tI\tS\tL\tO\tW\tE\tR\tL\tE\tF\tT\n"
     ]
    }
   ],
   "source": [
    "given = \"\"\"\n",
    "0101 1001 010 0101 1000 00 0111 01 1110 1001 011 1000 1 110 0 0100 100 1011 10\n",
    "000 011 001 01 1001 0 0011 011 110 0100 001 01 01 0011 0 011 100 1000 1010 0001\n",
    "011 00 01 1001 1001 0001 0 10 0100 000 1010 010 110 0011 000 010 110 11 1010 0000\n",
    "101 011 10 1001 0001 0100 111 1001 001 111 1010 1100 000 01 010 010 0010 0101\n",
    "1101 010 0011 111 0011 010 0 1 1 1000 001 0001 001 00 1 110 100 11 0100 1001\n",
    "100 101 001 1101 1010 010 1 0 111 0101 0 010 01 1101 0001 000 0100 1100 1000 100\n",
    "00 1000 1001 001 1 1010 0 110 10 00 10 011 001 101 1000 1 111 1011 100 10 1100\n",
    "100 1100 0010 1001 1010 100\n",
    "\"\"\".strip().replace(' ', '').replace('\\n', '')\n",
    "\n",
    "acc = []\n",
    "subs = ['B', 'A']\n",
    "\n",
    "\n",
    "for x in range(0, len(given), 5):\n",
    "  letter = chr(64+int(given[x:x+5], 2))\n",
    "  #letter = ''.join(map(lambda x: subs[int(x) % 2], given[x:x+5]))\n",
    "  acc.append(letter)\n",
    "print('\\t'.join(acc))\n",
    "\n"
   ]
  },
  {
   "cell_type": "code",
   "execution_count": 32,
   "metadata": {},
   "outputs": [
    {
     "name": "stdout",
     "output_type": "stream",
     "text": [
      "Help on built-in function chr in module builtins:\n",
      "\n",
      "chr(i, /)\n",
      "    Return a Unicode string of one character with ordinal i; 0 <= i <= 0x10ffff.\n",
      "\n"
     ]
    }
   ],
   "source": [
    "help(chr)"
   ]
  },
  {
   "cell_type": "code",
   "execution_count": 41,
   "metadata": {},
   "outputs": [],
   "source": [
    "given = \"\"\"\n",
    "101111101010101001000000100110010100100110000000010100011110000000110000101001011\n",
    "110000000010111110010100000011110000000101110100010101101011110\n",
    "\"\"\""
   ]
  },
  {
   "cell_type": "code",
   "execution_count": 54,
   "metadata": {},
   "outputs": [
    {
     "name": "stdout",
     "output_type": "stream",
     "text": [
      "FOIGLBCHMLPMFOCBOLLKGKBBFOKGPHFMOMOLCDPBEPMBBOLCHLOBCQB\n",
      "0100100011110100111101000110100111110010011001100110010\n",
      "I\tC\tZ\tO\tH\tZ\tO\tR\tL\tY\tR\n"
     ]
    }
   ],
   "source": [
    "given = \"\"\"FOI GLBC HML PMFOC BOLL KG KBBFO KGPHFMOM OLC DP BEPMB BOL CHLO BCQB\"\"\".strip().replace(' ', '')\n",
    "print(given)\n",
    "\n",
    "acc = []\n",
    "for c in given:\n",
    "  if c < 'J':\n",
    "    acc.append('0')\n",
    "  else:\n",
    "    acc.append('1')\n",
    "\n",
    "given = ''.join(acc)\n",
    "\n",
    "print(given)\n",
    "acc = []\n",
    "\n",
    "for x in range(0, len(given), 5):\n",
    "  letter = chr(64+int(given[x:x+5], 2))\n",
    "  #letter = ''.join(map(lambda x: subs[int(x) % 2], given[x:x+5]))\n",
    "  acc.append(letter)\n",
    "print('\\t'.join(acc))\n",
    "\n"
   ]
  },
  {
   "cell_type": "code",
   "execution_count": null,
   "metadata": {},
   "outputs": [],
   "source": []
  }
 ],
 "metadata": {
  "kernelspec": {
   "display_name": "Python 3",
   "language": "python",
   "name": "python3"
  },
  "language_info": {
   "codemirror_mode": {
    "name": "ipython",
    "version": 3
   },
   "file_extension": ".py",
   "mimetype": "text/x-python",
   "name": "python",
   "nbconvert_exporter": "python",
   "pygments_lexer": "ipython3",
   "version": "3.6.0"
  }
 },
 "nbformat": 4,
 "nbformat_minor": 2
}
