{
 "cells": [
  {
   "cell_type": "markdown",
   "metadata": {},
   "source": [
    "# Bottom = OFFENDED\n",
    "Bottom tried OKCupid, but couldn’t follow the directions and figure out what comes next.\n",
    "<img src=\"bottom.png\" width=\"300\">"
   ]
  },
  {
   "cell_type": "code",
   "execution_count": null,
   "metadata": {
    "collapsed": true
   },
   "outputs": [],
   "source": [
    "import forge\n",
    "from puzzle.puzzlepedia import puzzlepedia\n",
    "# hillary, the who, etrade, subway, amazon, volvo, innout\n",
    "puzzle = puzzlepedia.parse(\"\"\"\n",
    "D Y E K K C A E Y E S L L U B O R E T A D E S\n",
    "K(T\\V B L A C K S T U O N I K O N O V O L V E\n",
    "O I\\U\\K A P R A C E S N C E S S N/a)O N R S D\n",
    "K U N\\O\\T T E R L E X-E-D-E-F N/m/W D U S N R\n",
    "C R E K\\N\\I L B A E J W K O D/a/K R O I E L A\n",
    "U F A J O\\N\\K Z I G Z A G E/z/Z J F N E D S T\n",
    "P J Z A Z S\\I)E E U V Y N/o/S Z E T U Y Q A E\n",
    "I S A G I T T A R I U S(n/K R R A Q F F I U S sagittarius\n",
    "D S C O R P I O S O R D I O R K R/O)O H M T U scorpio\n",
    "I J O Q O O F O K Z B O C A V E/H/I F I W E B\n",
    "C|s|N Z H N E|y|U D(V\\I C T V/W/O K F L I R T\n",
    "U|u|B W A T E|r|P Y V\\O\\N I/E/C D A E C T N W\n",
    "P|b|Q I T I D|a|C G E X\\LXH/L S e-t-r-a-d-e F\n",
    "K|w|B U D A X|l|V D W O(TXV\\O H I N E I H H E\n",
    "O|a|G Q I C O|l|M A T H L L\\O)O R I X N E O T\n",
    "R|y|F L F V O|i|C B H T Z F N E D E H T R O F\n",
    "N N L H P P E|h|Y M A V W G V B Q V M O S D H\n",
    "P N L D F T D R O N K Y I T A R G E T N E V O\n",
    "\"\"\")\n",
    "# O F F E N D E D\n"
   ]
  },
  {
   "cell_type": "code",
   "execution_count": 4,
   "metadata": {
    "collapsed": true
   },
   "outputs": [],
   "source": [
    "import forge\n",
    "from puzzle.puzzlepedia import puzzlepedia\n",
    "\n",
    "puzzle = puzzlepedia.parse(\"\"\"\n",
    "O\n",
    "abcdefghijklmnopqrstuvwxyz\n",
    "F\n",
    "E\n",
    "N\n",
    "D\n",
    "E\n",
    "D\n",
    "\"\"\", hint=\"acrostic\")"
   ]
  },
  {
   "cell_type": "code",
   "execution_count": null,
   "metadata": {
    "collapsed": true
   },
   "outputs": [],
   "source": []
  }
 ],
 "metadata": {
  "kernelspec": {
   "display_name": "Python 3",
   "language": "python",
   "name": "python3"
  },
  "language_info": {
   "codemirror_mode": {
    "name": "ipython",
    "version": 3
   },
   "file_extension": ".py",
   "mimetype": "text/x-python",
   "name": "python",
   "nbconvert_exporter": "python",
   "pygments_lexer": "ipython3",
   "version": "3.6.0"
  },
  "widgets": {
   "state": {
    "2e913e178bb04493a9cff955fab0cc50": {
     "views": [
      {
       "cell_index": 2
      }
     ]
    }
   },
   "version": "1.2.0"
  }
 },
 "nbformat": 4,
 "nbformat_minor": 2
}
