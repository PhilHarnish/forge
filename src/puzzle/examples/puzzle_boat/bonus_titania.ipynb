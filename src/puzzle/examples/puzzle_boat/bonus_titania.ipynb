{
 "cells": [
  {
   "cell_type": "markdown",
   "metadata": {},
   "source": [
    "# Titania = CLERK\n",
    "On Bumble, the Queen of Fairies and the Queen of Bees got together to find some other queens.\n",
    "\n",
    "* Given\n",
    "  * Queen of Fairies\n",
    "  * Queen of Bees\n",
    "* Solutions\n",
    "  * C [Ellery Queen](https://en.wikipedia.org/wiki/Ellery_Queen) = TDDTNW M UPZTDO\n",
    "  * L Queen of Hearts = THE L OF HEARTS\n",
    "  * E Queen Elizabeth = E ELIZABETH II\n",
    "  * R Steve McQueen = STEVE MC R MOVIES\n",
    "  * K Queen Latifah = K LATIFAH ALBUMS\n",
    "  * meta\n",
    "\n",
    "```\n",
    "  C  L\n",
    "  E  R\n",
    "  K\n",
    "```"
   ]
  },
  {
   "cell_type": "code",
   "execution_count": 1,
   "metadata": {
    "collapsed": false
   },
   "outputs": [
    {
     "name": "stdout",
     "output_type": "stream",
     "text": [
      "WARNING\n",
      "Max fringe size was: 15112\n"
     ]
    },
    {
     "name": "stderr",
     "output_type": "stream",
     "text": [
      "Widget Javascript not detected.  It may not be installed properly. Did you enable the widgetsnbextension? If not, then run \"jupyter nbextension enable --py --sys-prefix widgetsnbextension\"\n"
     ]
    }
   ],
   "source": [
    "import forge\n",
    "from puzzle.puzzlepedia import puzzlepedia\n",
    "\n",
    "puzzle = puzzlepedia.parse(\"\"\"\n",
    "LIT NPGRU IRL GWOLTNW\n",
    "LIT ENTTJ MPVVFU GWOLTNW\n",
    "LIT TEWYLFRU MNPOO GWOLTNW\n",
    "LIT OFRGTOT LCFU GWOLTNW\n",
    "LIT PNFEFU PV TZFD\n",
    "\"\"\", hint=\"cryptogram\", threshold=1)\n",
    "# LIT NPGRU IRL GWOLTNW\n",
    "# THE ROMAN HAT MYSTERY\n",
    "# LIT ENTTJ MPVVFU GWOLTNW\n",
    "# THE GREEK COFFIN MYSTERY\n",
    "# LIT TEWYLFRU MNPOO GWOLTNW\n",
    "# THE EGYPTIAN CROSS MYSTERY\n",
    "# LIT OFRGTOT LCFU GWOLTNW\n",
    "# THE SIAMESE TWIN MYSTERY\n",
    "# LIT PNFEFU PV TZFD\n",
    "# THE ORIGIN OF EVIL\n",
    "\n",
    "# TDDTNW M UPZTDO\n",
    "# ELLERY C NOVELS"
   ]
  },
  {
   "cell_type": "code",
   "execution_count": 18,
   "metadata": {
    "collapsed": false
   },
   "outputs": [
    {
     "name": "stdout",
     "output_type": "stream",
     "text": [
      "WARNING\n",
      "Max fringe size was: 7225\n"
     ]
    }
   ],
   "source": [
    "import forge\n",
    "from puzzle.puzzlepedia import puzzlepedia\n",
    "\n",
    "puzzle = puzzlepedia.parse(\"\"\"\n",
    "KQLECDP\n",
    "NDWSDNLSI\n",
    "ZOMXFUSLDI\n",
    "LZZ BFPN PNDFQ NDMWI\n",
    "YOMRFUS KMQW\n",
    "\"\"\", hint=\"cryptogram\")\n",
    "# Queen of Hearts\n",
    "#    THELOFHEARTS\n",
    "#    PNDOLZNDMQPI\n",
    "# CROQUET\n",
    "# KQLECDP\n",
    "# HEDGEHOGS\n",
    "# NDWSDNLSI\n",
    "# FLAMINGOES\n",
    "# ZOMXFUSLDI\n",
    "# OFF WITH THEIR HEADS\n",
    "# LZZ BFPN PNDFQ NDMWI\n",
    "# BLAZING CARD\n",
    "# YOMRFUS KMQW"
   ]
  },
  {
   "cell_type": "code",
   "execution_count": 10,
   "metadata": {
    "collapsed": false
   },
   "outputs": [
    {
     "name": "stdout",
     "output_type": "stream",
     "text": [
      "WARNING\n",
      "Max fringe size was: 7225\n"
     ]
    }
   ],
   "source": [
    "import forge\n",
    "from puzzle.puzzlepedia import puzzlepedia\n",
    "\n",
    "puzzle = puzzlepedia.parse(\"\"\"\n",
    "ZOXMNRBFGP DGQGXT\n",
    "XYIBNK\n",
    "DINRXT XFGIQTK\n",
    "QYRBTKL ITNBRNRB PYRGIXF\n",
    "YXTGR QNRTI\n",
    "\"\"\", hint=\"cryptogram\")\n",
    "#       TQN?GZTLF\n",
    "# Queen Elizabeth\n",
    "#      EELIZABETHII\n",
    "# \n",
    "# BUCKINGHAM PALACE\n",
    "# ZOXMNRBFGP DGQGXT\n",
    "# CORGIS\n",
    "# XYIBNK\n",
    "# PRINCE CHARLES \n",
    "# DINRXT XFGIQTK\n",
    "# LONGEST-REIGNING MONARCH\n",
    "# QYRBTKL ITNBRNRB PYRGIXF\n",
    "# OCEAN LINER\n",
    "# YXTGR QNRTI\n"
   ]
  },
  {
   "cell_type": "code",
   "execution_count": 19,
   "metadata": {
    "collapsed": false
   },
   "outputs": [
    {
     "name": "stdout",
     "output_type": "stream",
     "text": [
      "WARNING\n",
      "Max fringe size was: 3682\n"
     ]
    }
   ],
   "source": [
    "import forge\n",
    "from puzzle.puzzlepedia import puzzlepedia\n",
    "\n",
    "puzzle = puzzlepedia.parse(\"\"\"\n",
    "LUF ZTYSWDWMFSL VFQFS\n",
    "LUF YEFTL FVMTRF\n",
    "LUF LPXFEWSY WSDFESP\n",
    "RTRWJJPS\n",
    "LUF MWSMWSSTLW OWC\n",
    "\"\"\", hint=\"cryptogram\", threshold=1)\n",
    "# Steve McQueen\n",
    "# STEVEMCRMOVIES\n",
    "# VLFQFZMEZPQWFV\n",
    "# THE MAGNIFICENT SEVEN\n",
    "# LUF ZTYSWDWMFSL VFQFS\n",
    "# THE GREAT ESCAPE\n",
    "# LUF YEFTL FVMTRF\n",
    "# THE TOWERING INFERNO\n",
    "# LUF LPXFEWSY WSDFESP\n",
    "# PAPILLON\n",
    "# RTRWJJPS\n",
    "# THE CINCINNATI KID\n",
    "# LUF MWSMWSSTLW OWC\n"
   ]
  },
  {
   "cell_type": "code",
   "execution_count": 11,
   "metadata": {
    "collapsed": false
   },
   "outputs": [
    {
     "name": "stdout",
     "output_type": "stream",
     "text": [
      "WARNING\n",
      "Max fringe size was: 17839\n"
     ]
    }
   ],
   "source": [
    "import forge\n",
    "from puzzle.puzzlepedia import puzzlepedia\n",
    "\n",
    "puzzle = puzzlepedia.parse(\"\"\"\n",
    "HZRWPO FY Z BDBRZ\n",
    "IQZVL PODTH\n",
    "FPGOP DH RNO VFWPR\n",
    "RNO GZHZ FXOHB ZQIWU\n",
    "SOPBFHZ\n",
    "\"\"\", hint=\"cryptogram\", threshold=1)\n",
    "# Queen Latifah\n",
    "#      LQZRDYZNZQIWUB\n",
    "#      KLATIFAHALBUMS\n",
    "# NATURE OF A SISTA\n",
    "# HZRWPO FY Z BDBRZ\n",
    "# BLACK REIGN\n",
    "# IQZVL PODTH\n",
    "# ORDER IN THE COURT\n",
    "# FPGOP DH RNO VFWPR\n",
    "# THE DANA OVENS ALBUM\n",
    "# RNO GZHZ FXOHB ZQIWU\n",
    "# PERSONA\n",
    "# SOPBFHZ\n"
   ]
  },
  {
   "cell_type": "code",
   "execution_count": 26,
   "metadata": {
    "collapsed": false
   },
   "outputs": [],
   "source": [
    "import forge\n",
    "from puzzle.puzzlepedia import puzzlepedia\n",
    "\n",
    "puzzle = puzzlepedia.parse(\"\"\"\n",
    "LQZRDYZNZQIWUB\n",
    "PNDOLZNDMQPI\n",
    "TDDTNWMUPZTDO\n",
    "TTQNJGZTLFNN\n",
    "VLFQFZMEZPQWFV\n",
    "\"\"\", hint=\"cryptogram\")\n",
    "\n",
    "\n",
    "################\n",
    "# LQZRDYZNZQIWUB\n",
    "# KLATIFAHALBUMS\n",
    "################\n",
    "# PNDOLZNDMQPI\n",
    "# THELOFHEARTS\n",
    "################\n",
    "# TDDTNWMUPZTDO\n",
    "# ELLERYCNOVELS\n",
    "################\n",
    "# TTQNJGZTLFNN\n",
    "# EELIZABETHII\n",
    "################\n",
    "# VLFQFZMEZPQWFV\n",
    "# STEVEMCRMOVIES\n",
    "################\n"
   ]
  }
 ],
 "metadata": {
  "kernelspec": {
   "display_name": "Python 3",
   "language": "python",
   "name": "python3"
  },
  "language_info": {
   "codemirror_mode": {
    "name": "ipython",
    "version": 3
   },
   "file_extension": ".py",
   "mimetype": "text/x-python",
   "name": "python",
   "nbconvert_exporter": "python",
   "pygments_lexer": "ipython3",
   "version": "3.6.0"
  },
  "widgets": {
   "state": {
    "08b47b0774f04448b1b9c0a91e99f831": {
     "views": [
      {
       "cell_index": 6
      }
     ]
    },
    "170f2d069628407dbf0f6ff5b9e14a66": {
     "views": [
      {
       "cell_index": 5
      }
     ]
    },
    "1b5537180ed14cb0977fb453aa44efd0": {
     "views": [
      {
       "cell_index": 3
      }
     ]
    },
    "5f76ce8230544f358c0a7d8f99fc8493": {
     "views": [
      {
       "cell_index": 4
      }
     ]
    },
    "7ad23e93831343fda098ff301bf90515": {
     "views": [
      {
       "cell_index": 2
      }
     ]
    },
    "e92c65d6a1c94ea082afbbca1e7dee01": {
     "views": [
      {
       "cell_index": 1
      }
     ]
    }
   },
   "version": "1.2.0"
  }
 },
 "nbformat": 4,
 "nbformat_minor": 2
}
