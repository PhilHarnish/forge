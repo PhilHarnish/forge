{
 "cells": [
  {
   "cell_type": "markdown",
   "metadata": {},
   "source": [
    "# Meta\n",
    "\n",
    "## Benedick\n",
    "QUAINTEST\n",
    "\n",
    "## Beatrice\n",
    "COLORER\n",
    "\n",
    "## Bottom\n",
    "OFFENDED\n",
    "\n",
    "## Juliet\n",
    "RADAR LOVE\n",
    "\n",
    "## Kate\n",
    "ROLE PLAY\n",
    "\n",
    "## Petrucio\n",
    "MITZVAH\n",
    "\n",
    "## Romeo\n",
    "FACE TO FACE\n",
    "\n",
    "## Titania\n",
    "MOTEL CLERK"
   ]
  },
  {
   "cell_type": "code",
   "execution_count": null,
   "metadata": {
    "collapsed": true
   },
   "outputs": [],
   "source": []
  }
 ],
 "metadata": {
  "kernelspec": {
   "display_name": "Python 3",
   "language": "python",
   "name": "python3"
  },
  "language_info": {
   "codemirror_mode": {
    "name": "ipython",
    "version": 3
   },
   "file_extension": ".py",
   "mimetype": "text/x-python",
   "name": "python",
   "nbconvert_exporter": "python",
   "pygments_lexer": "ipython3",
   "version": "3.6.0"
  }
 },
 "nbformat": 4,
 "nbformat_minor": 2
}
