{
 "cells": [
  {
   "cell_type": "code",
   "execution_count": 33,
   "metadata": {
    "collapsed": false
   },
   "outputs": [
    {
     "name": "stdout",
     "output_type": "stream",
     "text": [
      "Default constraints disabled\n",
      "\n",
      " *\tMako\tJaws\tKillin\tBarbara\tRobert\t\n",
      "1\t0\t0\t0\t1\t1\t\n",
      "2\t0\t1\t0\t0\t0\t\n",
      "3\t1\t0\t1\t0\t1\t\n",
      "4\t0\t1\t1\t0\t1\t\n",
      "5\t0\t1\t1\t0\t1\t\n",
      "6\t1\t1\t0\t0\t1\t\n",
      "\n"
     ]
    }
   ],
   "source": [
    "import forge\n",
    "from puzzle.puzzlepedia import puzzlepedia\n",
    "\n",
    "puzzle = puzzlepedia.parse(\"\"\"\n",
    "import functools\n",
    "\n",
    "projects in range(1, 6+1)\n",
    "vc in {Mako, Jaws, Killin, Barbara, Robert}\n",
    "\n",
    "@functools.lru_cache()\n",
    "def n_investors(p):\n",
    "  return sum(v[p] for v in vc)\n",
    "\n",
    "@functools.lru_cache()\n",
    "def n_investments(v):\n",
    "  return sum(v[p] for p in projects)\n",
    "\n",
    "# FIXME: This should have been possible with sum((2**i) * p[v] for i, v in enumerate(vc))\n",
    "@functools.lru_cache()\n",
    "def invest_vector(p):\n",
    "  return Mako[p] + 2 * Jaws[p] + 4 * Killin[p] + 8 * Barbara[p] + 16 * Robert[p]\n",
    "\n",
    "model.disable_constraints()\n",
    "\n",
    "#1. A project that Robert Hammerhead did not invest in was immediately after a project that only two sharks invested in.\n",
    "any(\n",
    "  (Robert != p) and\n",
    "  (n_investors(p - 1) == 2) for p in range(2, 6+1)\n",
    ")\n",
    "\n",
    "# FIXME: This should have worked: n_investments(Jaws) == n_investments(Mako) * 2\n",
    "#2. Daymond Jaws invested in twice as many projects as Mako Cuban...\n",
    "n_investments(Jaws) == 4\n",
    "n_investments(Mako) == 2\n",
    "# ...They went in on exactly one project together.\n",
    "sum(Jaws[p] and Mako[p] for p in projects) == 1\n",
    "\n",
    "#3. There were exactly two projects neither Killin’ O’Leary or Barbara Cor-gorin’ invested in.\n",
    "sum(not Killin[p] and not Barbara[p] for p in projects) == 2\n",
    "\n",
    "#4. Only one shark invested in the second project.\n",
    "n_investors(2) == 1\n",
    "\n",
    "#5. The only project Barbara Cor-gorin invested in was one Robert Hammerhead invested in.\n",
    "n_investments(Barbara) == 1\n",
    "sum(Barbara[p] and Robert[p] for p in projects) == 1\n",
    "\n",
    "#6. Mako Cuban and Killin’ O’Leary both invested in a project that immediately followed one that Daymond Jaws invested in.\n",
    "any(\n",
    "  (Mako[p] and Killin[p]) and Jaws[p-1] for p in range(2, 6+1)\n",
    ")\n",
    "\n",
    "#7. No two sharks invested in the same number of projects. Every shark invested in at least one project.\n",
    "all_diff([n_investments(v) for v in vc])\n",
    "\n",
    "#8. Either Robert Hammerhead said no to the fifth project or Daymond Jaws said no to the third project, or both.\n",
    "(Robert != 5) | (Jaws != 3)\n",
    "\n",
    "#9. No project had more than three sharks invest in it.\n",
    "for p in projects:\n",
    "  n_investors(p) <= 3\n",
    "\n",
    "#10. Two consecutive projects (including project #4) were invested in by exactly the same set of sharks.\n",
    "(invest_vector(3) == invest_vector(4)) or (invest_vector(4) == invest_vector(5))\n",
    "\n",
    "model.grid()\n",
    "\"\"\")"
   ]
  },
  {
   "cell_type": "code",
   "execution_count": null,
   "metadata": {
    "collapsed": true
   },
   "outputs": [],
   "source": []
  }
 ],
 "metadata": {
  "kernelspec": {
   "display_name": "Python 3",
   "language": "python",
   "name": "python3"
  },
  "language_info": {
   "codemirror_mode": {
    "name": "ipython",
    "version": 3
   },
   "file_extension": ".py",
   "mimetype": "text/x-python",
   "name": "python",
   "nbconvert_exporter": "python",
   "pygments_lexer": "ipython3",
   "version": "3.6.0"
  },
  "widgets": {
   "state": {
    "126f30bb49434236be0449516d869e3e": {
     "views": [
      {
       "cell_index": 0
      }
     ]
    }
   },
   "version": "1.2.0"
  }
 },
 "nbformat": 4,
 "nbformat_minor": 2
}
