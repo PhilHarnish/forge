{
 "cells": [
  {
   "cell_type": "code",
   "execution_count": 7,
   "metadata": {
    "collapsed": false
   },
   "outputs": [],
   "source": [
    "tiles = \"\"\"\n",
    "abl ace adj aer ara art ase ave ban bar bas ble\n",
    "bri buk che cme cnt coo dct dep der des dge\n",
    "dim dle ent ent erp etm ewe gai gre gri gts ham\n",
    "hit hod hyp ifi ign ile inc ing ini ino inv itc\n",
    "ker ket men mic nae nch nee nin non ome ore\n",
    "pal ran rdi res roo rry sch sci she sys taa tau\n",
    "tcr ted tem tep ter tst ust ver was wat\n",
    "\"\"\""
   ]
  },
  {
   "cell_type": "code",
   "execution_count": 4,
   "metadata": {
    "collapsed": true
   },
   "outputs": [],
   "source": [
    "import forge\n",
    "from data import warehouse\n",
    "from puzzle.puzzlepedia import prod_config\n",
    "prod_config.init()\n",
    "\n",
    "trie = warehouse.get('/words/unigram/trie')"
   ]
  },
  {
   "cell_type": "code",
   "execution_count": 5,
   "metadata": {
    "collapsed": true
   },
   "outputs": [],
   "source": [
    "import re\n",
    "from data.seek_sets import chain_seek_set"
   ]
  },
  {
   "cell_type": "code",
   "execution_count": 89,
   "metadata": {
    "collapsed": true
   },
   "outputs": [],
   "source": [
    "def walk(seek_set, acc, targets, pos=0):\n",
    "  if pos >= len(targets):\n",
    "    yield ' '.join(acc)\n",
    "    return\n",
    "  target = targets[pos]\n",
    "  seek_set.set_length(target)\n",
    "  for result, weight in trie.walk(seek_set, exact_match=True):\n",
    "    #if weight < 5e4:\n",
    "    #  break\n",
    "    acc.append(result)\n",
    "    yield from walk(seek_set[result:], acc, targets, pos+1)\n",
    "    acc.pop()\n",
    "\n",
    "def process(tiles, targets):\n",
    "  #print(tiles + ['a'])\n",
    "  found = set()\n",
    "  for c in 'abcdefghijklmnopqrstuvwxyz':\n",
    "    seek_set = chain_seek_set.ChainSeekSet(inject(tiles, c), sum(targets))\n",
    "    for result in walk(seek_set, [], targets):\n",
    "      if result in found:\n",
    "        continue\n",
    "      print(result)\n",
    "      found.add(result)\n",
    "\n",
    "def inject(tiles, c):\n",
    "  result = [c]\n",
    "  for t in tiles:\n",
    "    result.append(t)\n",
    "    result.append(c + t[0] + t[1] + t[2])\n",
    "    result.append(t[0] + c + t[1] + t[2])\n",
    "    result.append(t[0] + t[1] + c + t[2])\n",
    "  return result\n",
    "      \n",
    "def parse(s):\n",
    "  parts = s.split(' ')\n",
    "  result = []\n",
    "  for p in parts:\n",
    "    p = p.strip('’,;.‘^!-*')\n",
    "    if p:\n",
    "      result.append(int(p))\n",
    "  return result"
   ]
  },
  {
   "cell_type": "code",
   "execution_count": 93,
   "metadata": {
    "collapsed": false
   },
   "outputs": [
    {
     "name": "stdout",
     "output_type": "stream",
     "text": [
      "diminished basket\n",
      "diminished wasted\n",
      "diminished sheave\n",
      "diminished basted\n",
      "diminished cittie\n",
      "diminished octave\n",
      "diminished octavo\n",
      "diminished pimpin\n",
      "diminished pimppa\n",
      "diminishes basket\n",
      "diminishes wastes\n",
      "diminishes insist\n",
      "diminishes basins\n",
      "diminishes insite\n",
      "diminishes bassas\n",
      "diminishes sheave\n",
      "diminishes bassin\n"
     ]
    }
   ],
   "source": [
    "tiles = \"\"\"\n",
    "abl ace adj aer ara art ase ave ban bar bas ble\n",
    "bri buk che cme cnt coo dct dep der des dge\n",
    "dim dle ent ent erp etm ewe gai gre gri gts ham\n",
    "hit hod hyp ifi ign ile inc ing ini ino inv itc\n",
    "ker ket men mic nae nch nee nin non ome ore\n",
    "pal ran rdi res roo rry sch sci she sys taa tau\n",
    "tcr ted tem tep ter tst ust ver was wat\n",
    "\"\"\"\n",
    "tiles = \"\"\"\n",
    "\t\t\taer\t\t\t\tave\t\t\tbas\n",
    "\t\t\t\t\t\tdct\t\t\t\t\n",
    "dim\t\t\t\t\t\t\t\t\t\t\n",
    "\t\t\t\t\t\t\t\tini\t\t\n",
    "\tket\t\t\t\t\t\t\t\t\t\n",
    "\t\t\t\t\t\t\t\tshe\t\t\n",
    "\t\t\ttep\t\t\t\t\twas\t\t\n",
    "\"\"\"\n",
    "process(tiles.split(), [10, 6])"
   ]
  },
  {
   "cell_type": "code",
   "execution_count": 70,
   "metadata": {
    "collapsed": false
   },
   "outputs": [
    {
     "name": "stdout",
     "output_type": "stream",
     "text": [
      "\n",
      "\t\t\taer\t\t\t\tave\t\tbar\tbas\tble\n",
      "\t\t\t\t\tcoo\tdct\t\t\t\t\t\n",
      "dim\t\t\t\t\t\tewe\tgai\t\tgri\tgts\t\n",
      "\t\t\t\t\t\t\t\tini\t\t\titc\n",
      "\tket\t\t\tnae\tnch\t\tnin\tnon\t\t\t\n",
      "\tran\trdi\tres\t\t\t\t\tshe\tsys\ttaa\ttau\n",
      "tcr\t\ttem\ttep\t\t\t\t\twas\t\t\t\n",
      "\n"
     ]
    }
   ],
   "source": [
    "print(\"\"\"\n",
    "abl ace adj aer ara art ase ave ban bar bas ble\n",
    "bri buk che cme cnt coo dct dep der des dge\n",
    "dim dle ent ent erp etm ewe gai gre gri gts ham\n",
    "hit hod hyp ifi ign ile inc ing ini ino inv itc\n",
    "ker ket men mic nae nch nee nin non ome ore\n",
    "pal ran rdi res roo rry sch sci she sys taa tau\n",
    "tcr ted tem tep ter tst ust ver was wat\n",
    "\"\"\".replace(' ', '\\t'))"
   ]
  },
  {
   "cell_type": "code",
   "execution_count": null,
   "metadata": {
    "collapsed": true
   },
   "outputs": [],
   "source": []
  }
 ],
 "metadata": {
  "kernelspec": {
   "display_name": "Python 3",
   "language": "python",
   "name": "python3"
  },
  "language_info": {
   "codemirror_mode": {
    "name": "ipython",
    "version": 3
   },
   "file_extension": ".py",
   "mimetype": "text/x-python",
   "name": "python",
   "nbconvert_exporter": "python",
   "pygments_lexer": "ipython3",
   "version": "3.6.0"
  }
 },
 "nbformat": 4,
 "nbformat_minor": 2
}
