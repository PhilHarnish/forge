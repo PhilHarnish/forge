{
 "cells": [
  {
   "cell_type": "code",
   "execution_count": 16,
   "metadata": {
    "collapsed": false
   },
   "outputs": [
    {
     "name": "stdout",
     "output_type": "stream",
     "text": [
      "S\tO\tH\tC\tT\tG\tO\tI\tH\tH\tN\tB\tR\n",
      "A\tP\tO\tU\tE\tU\tD\tS\tU\tO\tI\tE\tE\n",
      "N\tP\tU\tS\tL\tI\tD\tL\tG\tS\tE\tG\tC\n",
      "G\tO\tS\tT\tE\tD\tE\tA\tH\tP\tC\tG\tE\n",
      "R\tS\tE\tO\tT\tA\tS\tN\tE\tI\tE\tA\tN\n",
      "I\tE\tS\tD\tH\tN\tT\tD\tS\tT\tG\tR\tT\n",
      "A\tM\tM\tI\tO\tC\tA\tS\tE\tA\tI\tN\tI\n",
      "A\tI\tI\tA\tN\tE\tR\tL\tG\tL\tR\tA\tM\n",
      "P\tS\tL\tN\tB\tF\tR\tI\tO\tS\tA\tM\tB\n",
      "P\tS\tE\tF\tO\tL\tI\tE\tT\tE\tF\tE\tR\n",
      "L\tI\tM\tR\tR\tA\tV\tS\tI\tO\tF\tT\tO\n",
      "E\tO\tE\tA\tR\tM\tE\tW\tS\tU\tE\tA\tG\n",
      "B\tN\tT\tC\tO\tE\tD\tO\tT\tL\tP\tG\tL\n",
      "A\tD\tA\tT\tW\tN\tB\tM\tS\tB\tA\tP\tI\n",
      "K\tU\tP\tU\tE\tC\tA\tE\tM\tO\tS\tA\tO\n",
      "E\tL\tH\tR\tD\tO\tR\tN\tE\tT\tT\tC\tA\n",
      "R\tL\tO\tE\tC\tW\tB\tA\tD\tH\tA\tK\tN\n",
      "Y\tB\tR\tD\tO\tI\tA\tN\tI\tE\tM\tF\tI\n",
      "J\tE\tJ\tA\tL\tR\tR\tG\tA\tR\tE\tL\tM\n",
      "E\tA\tA\tI\tO\tE\tI\tS\tT\tE\tA\tA\tA\n",
      "T\tK\tR\tS\tR\tS\tC\tT\tE\tD\tT\tT\tL\n"
     ]
    }
   ],
   "source": [
    "import collections\n",
    "\n",
    "words = \"\"\"\n",
    "sangria\n",
    "apple\n",
    "bakery\n",
    "jet\n",
    "oppose\n",
    "mission\n",
    "dull\n",
    "beak\n",
    "house\n",
    "smile\n",
    "metaphor\n",
    "jar\n",
    "custodian\n",
    "fracture\n",
    "dais\n",
    "telethon\n",
    "borrowed\n",
    "color\n",
    "guidance\n",
    "flamenco\n",
    "wires\n",
    "oddest\n",
    "arrived\n",
    "barbaric\n",
    "islands\n",
    "lies\n",
    "women\n",
    "angst\n",
    "hughes\n",
    "egotists\n",
    "mediate\n",
    "hospital\n",
    "seoul\n",
    "bothered\n",
    "niece\n",
    "giraffe\n",
    "pasta\n",
    "meat\n",
    "beggar\n",
    "nametag\n",
    "pack\n",
    "flat\n",
    "recent\n",
    "imbroglio\n",
    "animal\n",
    "\"\"\".upper().split('\\n')\n",
    "\n",
    "grid = [[] for x in range(21)]\n",
    "row = 0\n",
    "for word in words:\n",
    "  if not word:\n",
    "    continue\n",
    "  for c in word:\n",
    "    grid[row].append(c)\n",
    "    row += 1\n",
    "  if row >= 21:\n",
    "    row = 0\n",
    "\n",
    "for row in grid:\n",
    "  print('\\t'.join(row))"
   ]
  },
  {
   "cell_type": "code",
   "execution_count": null,
   "metadata": {
    "collapsed": true
   },
   "outputs": [],
   "source": []
  }
 ],
 "metadata": {
  "kernelspec": {
   "display_name": "Python 3",
   "language": "python",
   "name": "python3"
  },
  "language_info": {
   "codemirror_mode": {
    "name": "ipython",
    "version": 3
   },
   "file_extension": ".py",
   "mimetype": "text/x-python",
   "name": "python",
   "nbconvert_exporter": "python",
   "pygments_lexer": "ipython3",
   "version": "3.6.0"
  }
 },
 "nbformat": 4,
 "nbformat_minor": 2
}
