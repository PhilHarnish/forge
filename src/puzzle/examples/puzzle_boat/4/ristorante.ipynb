{
 "cells": [
  {
   "cell_type": "code",
   "execution_count": 1,
   "metadata": {
    "collapsed": false
   },
   "outputs": [
    {
     "name": "stdout",
     "output_type": "stream",
     "text": [
      "Default constraints disabled\n",
      "\n",
      " *\tSamuel\tShannon\tSimeon\tSiouxsie\tStephanie\tSteven\tTallulah\tTatiana\tTeller\tTrixie\tTroughton\tsingle\t\t2\t3\t4\t5\t6\t\n",
      "Monday\t1\t0\t0\t0\t0\t1\t0\t0\t0\t0\t0\t0\t\t0\t1\t0\t0\t0\t\n",
      "Tuesday\t0\t0\t0\t0\t1\t0\t0\t0\t0\t0\t1\t0\t\t1\t0\t0\t0\t0\t\n",
      "Wednesday\t0\t1\t0\t1\t0\t0\t0\t0\t0\t0\t0\t0\t\t0\t0\t0\t0\t1\t\n",
      "Thursday\t0\t0\t1\t0\t0\t0\t0\t0\t0\t1\t0\t0\t\t0\t0\t1\t0\t0\t\n",
      "Friday\t0\t0\t0\t0\t0\t0\t1\t1\t0\t0\t0\t0\t\t0\t0\t0\t1\t0\t\n",
      "Saturday\t0\t0\t0\t0\t0\t0\t0\t0\t1\t0\t0\t1\t\t0\t1\t0\t0\t0\t\n",
      "\n",
      "2\t0\t0\t0\t0\t1\t0\t0\t0\t0\t0\t1\t0\t\n",
      "3\t1\t0\t0\t0\t0\t1\t0\t0\t1\t0\t0\t1\t\n",
      "4\t0\t0\t1\t0\t0\t0\t0\t0\t0\t1\t0\t0\t\n",
      "5\t0\t0\t0\t0\t0\t0\t1\t1\t0\t0\t0\t0\t\n",
      "6\t0\t1\t0\t1\t0\t0\t0\t0\t0\t0\t0\t0\t\n",
      "\n"
     ]
    }
   ],
   "source": [
    "import forge\n",
    "from puzzle.puzzlepedia import puzzlepedia\n",
    "\n",
    "puzzle = puzzlepedia.parse(\"\"\"\n",
    "day in {Monday, Tuesday, Wednesday, Thursday, Friday, Saturday}\n",
    "days = [Monday, Tuesday, Wednesday, Thursday, Friday, Saturday]\n",
    "weekdays = [Monday, Tuesday, Wednesday, Thursday, Friday]\n",
    "# OBSOLETE: \"couples\" can be gay/lesbian. Sneaky.\n",
    "#men in   {Samuel,  Simeon,   Steven,    Teller,   Troughton, single}\n",
    "#women in {Shannon, Siouxsie, Stephanie, Tallulah, Tatiana,   Trixie}\n",
    "#person in {\n",
    "#  Samuel,  Simeon,   Steven,    Teller,   Troughton, single,\n",
    "#  Shannon, Siouxsie, Stephanie, Tallulah, Tatiana,   Trixie,\n",
    "#}\n",
    "person in {\n",
    "  Samuel, Shannon, Simeon, Siouxsie, Stephanie, Steven, Tallulah, Tatiana, Teller, Trixie, Troughton, single\n",
    "}\n",
    "table in range(2, 6+1)\n",
    "model.disable_constraints()\n",
    "\n",
    "# Constraints.\n",
    "for p in person:\n",
    "  sum(p[d] for d in days) == 1\n",
    "  sum(p[t] for t in table) == 1\n",
    "for d in days:\n",
    "  # Two people per table.\n",
    "  sum(p[d] for p in person) == 2\n",
    "  # One table per day.\n",
    "  sum(t[d] for t in table) == 1\n",
    "\n",
    "def table_n(p):\n",
    "  return sum(i * p[i] for i in range(2, 6+1))\n",
    "\n",
    "def day_n(p):\n",
    "  # FIXME: \n",
    "  #return sum(i * p[d] for i, d in enumerate(weekdays))\n",
    "  return 1*Tuesday[p] + 2*Wednesday[p] + 3*Thursday[p] + 4*Friday[p]\n",
    "\n",
    "#1 DONE.\n",
    "starts_s = [Samuel, Simeon,    Steven,   Shannon, Siouxsie, Stephanie]\n",
    "starts_t = [Teller, Troughton, Tallulah, Tatiana, Trixie]\n",
    "for d in [Monday, Wednesday, Friday]:\n",
    "  sum(n[d] for n in starts_s) != sum(n[d] for n in starts_t)\n",
    "for d in [Tuesday, Thursday]:\n",
    "  sum(n[d] for n in starts_s) == sum(n[d] for n in starts_t)\n",
    "for d in [Saturday]:\n",
    "  any(p[d] for p in person)\n",
    "\n",
    "#2 DONE.\n",
    "for d in [Monday, Tuesday, Wednesday, Thursday, Friday]:\n",
    "  single != d\n",
    "single == Saturday\n",
    "Troughton != Saturday\n",
    "# ...Saturday. He or she sat at the same table as the couple from Monday\n",
    "all(t[Monday] == t[Saturday] for t in table)\n",
    "\n",
    "#3 DONE.\n",
    "for t in table:\n",
    "  any(p[t] for p in person)\n",
    "\n",
    "#4 DONE\n",
    "{Samuel, Tallulah} == {3, 5}\n",
    "(Samuel == Monday and Tallulah == Friday) or (Samuel == Friday and Tallulah == Monday)\n",
    "\n",
    "#5 DONE\n",
    "any(Simeon[a] and Tatiana[b] for a, b in zip(days, days[1:]))\n",
    "\n",
    "#6 TODO: Steven was at the restaurant sometime before someone ate at table 6\n",
    "Steven != 6\n",
    "day_n(Steven) < day_n(6)\n",
    "\n",
    "#7 DONE\n",
    "table_n(Teller) < table_n(Simeon)\n",
    "\n",
    "#8 DONE\n",
    "#8a Trixie's table number was twice as much as Stephanie's...\n",
    "# FIXME: Doesn't work: table_n(Trixie) == table_n(Stephanie) * 2\n",
    "(Stephanie == 3 and Trixie == 6) or (Stephanie == 2 and Trixie == 4)\n",
    "\n",
    "#8b ... and she was at the restaurant two days after Stephanie.\n",
    "any(Stephanie[a] and Trixie[b] for a, b in zip(days, days[2:]))\n",
    "\n",
    "model.grid()\n",
    "\"\"\")"
   ]
  },
  {
   "cell_type": "code",
   "execution_count": null,
   "metadata": {
    "collapsed": true
   },
   "outputs": [],
   "source": [
    "\"\"\"\n",
    "      day |       men |     women | table\n",
    "   Monday | Troughton |  Tallulah |     5\n",
    "  Tuesday |    Teller | Stephanie |     4\n",
    "Wednesday |    Samuel |   Shannon |     6\n",
    " Thursday |    Steven |    Trixie |     2\n",
    "   Friday |    Simeon |  Siouxsie |     3\n",
    " Saturday |    single |   Tatiana |     1\n",
    " \n",
    "      day |       men |     women | table\n",
    "   Monday |    Teller |  Tallulah |     1\n",
    "  Tuesday | Troughton | Stephanie |     6\n",
    "Wednesday |    Simeon |   Shannon |     4\n",
    " Thursday |    Steven |   Tatiana |     5\n",
    "   Friday |    Samuel |  Siouxsie |     3\n",
    " Saturday |    single |    Trixie |     2\n",
    "\"\"\""
   ]
  },
  {
   "cell_type": "code",
   "execution_count": null,
   "metadata": {
    "collapsed": true
   },
   "outputs": [],
   "source": []
  }
 ],
 "metadata": {
  "kernelspec": {
   "display_name": "Python 3",
   "language": "python",
   "name": "python3"
  },
  "language_info": {
   "codemirror_mode": {
    "name": "ipython",
    "version": 3
   },
   "file_extension": ".py",
   "mimetype": "text/x-python",
   "name": "python",
   "nbconvert_exporter": "python",
   "pygments_lexer": "ipython3",
   "version": "3.6.0"
  },
  "widgets": {
   "state": {
    "e7234ce0791d4e57a3b91ad2e4cd36bb": {
     "views": [
      {
       "cell_index": 0
      }
     ]
    }
   },
   "version": "1.2.0"
  }
 },
 "nbformat": 4,
 "nbformat_minor": 2
}
