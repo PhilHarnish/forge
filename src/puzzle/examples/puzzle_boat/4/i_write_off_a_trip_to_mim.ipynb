{
 "cells": [
  {
   "cell_type": "code",
   "execution_count": 1,
   "metadata": {
    "collapsed": false
   },
   "outputs": [],
   "source": [
    "import forge\n",
    "from puzzle.puzzlepedia import puzzlepedia\n",
    "\n",
    "puzzle = puzzlepedia.parse(\"\"\"\n",
    "@ 1 2 3 4 5 6 7 8 9 10\n",
    "* BigOldBell\n",
    "* BootyJuker\n",
    "* CorkChoker\n",
    "* FacePinner\n",
    "* FakeTurtle\n",
    "* LemurPoker\n",
    "* PixieProng\n",
    "* SheepStick\n",
    "* SqueezeToy\n",
    "* TinyStools\n",
    "\"\"\".lower())\n"
   ]
  },
  {
   "cell_type": "code",
   "execution_count": null,
   "metadata": {
    "collapsed": true
   },
   "outputs": [],
   "source": []
  }
 ],
 "metadata": {
  "kernelspec": {
   "display_name": "Python 3",
   "language": "python",
   "name": "python3"
  },
  "language_info": {
   "codemirror_mode": {
    "name": "ipython",
    "version": 3
   },
   "file_extension": ".py",
   "mimetype": "text/x-python",
   "name": "python",
   "nbconvert_exporter": "python",
   "pygments_lexer": "ipython3",
   "version": "3.6.0"
  },
  "widgets": {
   "state": {
    "e388c6ac642d45578a7d5eb833bfda17": {
     "views": [
      {
       "cell_index": 0
      }
     ]
    }
   },
   "version": "1.2.0"
  }
 },
 "nbformat": 4,
 "nbformat_minor": 2
}
