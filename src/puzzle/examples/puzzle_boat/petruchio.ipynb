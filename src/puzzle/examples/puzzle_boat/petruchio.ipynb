{
 "cells": [
  {
   "cell_type": "markdown",
   "metadata": {},
   "source": [
    "# Petruchio\n",
    "Petruchio used JDate, but needed to convert first.\n"
   ]
  },
  {
   "cell_type": "code",
   "execution_count": 1,
   "metadata": {
    "collapsed": false
   },
   "outputs": [
    {
     "name": "stdout",
     "output_type": "stream",
     "text": [
      "WARNING\n",
      "Max fringe size was: 2619\n"
     ]
    }
   ],
   "source": [
    "import forge\n",
    "from puzzle.puzzlepedia import puzzlepedia\n",
    "\n",
    "puzzle = puzzlepedia.parse(\"\"\"\n",
    "Tree in the shape of a bend after July 3rd (5) [2003]\n",
    "Acetal chloride is somewhat a soft substance (4)\n",
    "Endless oasis and a continent (4)\n",
    "Wrecked a trailer of some vessels (8)\n",
    "Military group’s keen without Europe (4)\n",
    "Easy, confused smile around April 2nd (6) [1995]\n",
    "Incomplete recollection of Atlanta university (5)\n",
    "Sends unwanted messages to 31-Across covering essence of rumor (5)\n",
    "Short trip for club after January 5th (5) [1922]\n",
    "ASPIRE (Hope for bad praise (6))\n",
    "Son holding edge of easily adorned item (4-2)\n",
    "Bite upset bridal gown designer Vera (4)\n",
    "Abundant part of trifecta (4)\n",
    "Maestro done traveling around end of July (5) [2011]\n",
    "Indian city’s 50% concerned with food production (4)\n",
    "Small step in healthy places (4)\n",
    "Planters peanuts finally remade worse (6)\n",
    "In a spooky way, Riley goes mad after November 4th (6) [2008]\n",
    "FRETS (Worries about parts of a guitar (5))\n",
    "Mix up alcohol in large cups? Just the opposite (5)\n",
    "Small O trimmed (5)\n",
    "SIERRA (In part, tarsier rappelling mountain range (6))\n",
    "Possible lunch option: piece of food for dipping (around February 5th) (4) [1992]\n",
    "Literary movement about...um... fruits (8)\n",
    "Relative adopting Republican guys (4)\n",
    "Grape juice…mmmmmmm… before October 3rd (4) [1989]\n",
    "Andrew’s announced company that makes mints (5)\n",
    "\"\"\", hint=\"cryptic\")\n"
   ]
  },
  {
   "cell_type": "code",
   "execution_count": 1,
   "metadata": {
    "collapsed": false
   },
   "outputs": [],
   "source": [
    "import forge\n",
    "from puzzle.puzzlepedia import puzzlepedia\n",
    "\n",
    "puzzle = puzzlepedia.parse(\"\"\"\n",
    "Quote from Cymbeline (4)\n",
    "A place to remember...a getaway hole (5)\n",
    "Tangled roots around glider tail and helicopter parts (6)\n",
    "Alberts’ swamped with duties and religious performances (8)\n",
    "Zorro’s mark in grass is unclear (4)\n",
    "Secret meeting to hear saint (5)\n",
    "Over operation after a time (4)\n",
    "Red swindler covering edges (7)\n",
    "Goals: sloth story (4)\n",
    "Throw around a soft young tree (7)\n",
    "Take cap off medicine for diseases (4)\n",
    "A key for getting rid of singer (5)\n",
    "Fumbler’s covered in pelts (4)\n",
    "Sounds of disapproval about young lads (5)\n",
    "An antelope’s recorded over (4)\n",
    "Poison that doesn’t include copper is unusual (4)\n",
    "Bit of pastry in tart in tube (4)\n",
    "Small flower’s piously odd (4)\n",
    "\"\"\", hint=\"cryptic\")\n"
   ]
  },
  {
   "cell_type": "code",
   "execution_count": 3,
   "metadata": {
    "collapsed": true
   },
   "outputs": [],
   "source": [
    "import forge\n",
    "from puzzle.puzzlepedia import puzzlepedia\n",
    "\n",
    "puzzle = puzzlepedia.parse(\"\"\"\n",
    "Soaring wildly around regular group of soldiers (8)\n",
    "Shakes with silver and straws primarily (4)\n",
    "Joker’s way off and dog’s eating last of bone (7)\n",
    "Instrument contains ancient sluggard (7)\n",
    "Back a motion for a short amount of time (6)\n",
    "Lets up, stops, doesn’t start (5)\n",
    "Introduction of Tim Meadows coming first...that’s most low (5)\n",
    "Agreement over damaged cruet (5)\n",
    "Hiccups in format identify leaders in sound quality (2-2)\n",
    "Some studies of exploding star (4)\n",
    "Neckwear worn to relax in discussion (4)\n",
    "Parent at a museum in New York (4)\n",
    "Work with odd, unconverted 44-Across (4)\n",
    "\"\"\", hint=\"cryptic\")\n"
   ]
  },
  {
   "cell_type": "code",
   "execution_count": null,
   "metadata": {
    "collapsed": true
   },
   "outputs": [],
   "source": []
  }
 ],
 "metadata": {
  "kernelspec": {
   "display_name": "Python 3",
   "language": "python",
   "name": "python3"
  },
  "language_info": {
   "codemirror_mode": {
    "name": "ipython",
    "version": 3
   },
   "file_extension": ".py",
   "mimetype": "text/x-python",
   "name": "python",
   "nbconvert_exporter": "python",
   "pygments_lexer": "ipython3",
   "version": "3.6.0"
  },
  "widgets": {
   "state": {
    "b995363dc5c14bcaa0250b02df691134": {
     "views": [
      {
       "cell_index": 2
      }
     ]
    },
    "c1e33003d30040fd9653a3fa30f0340b": {
     "views": [
      {
       "cell_index": 3
      }
     ]
    },
    "e31a5ee0e1c14ef5a2791d7cc6aea858": {
     "views": [
      {
       "cell_index": 1
      }
     ]
    }
   },
   "version": "1.2.0"
  }
 },
 "nbformat": 4,
 "nbformat_minor": 2
}
