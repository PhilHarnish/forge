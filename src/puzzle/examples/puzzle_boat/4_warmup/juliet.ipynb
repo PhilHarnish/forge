{
 "cells": [
  {
   "cell_type": "markdown",
   "metadata": {},
   "source": [
    "# Juliet = RADAELOVE"
   ]
  },
  {
   "cell_type": "code",
   "execution_count": 1,
   "metadata": {
    "collapsed": false
   },
   "outputs": [],
   "source": [
    "import forge\n",
    "from data import warehouse\n",
    "from puzzle.puzzlepedia import prod_config\n",
    "prod_config.init()\n",
    "\n",
    "trie = warehouse.get('/words/unigram/trie')"
   ]
  },
  {
   "cell_type": "code",
   "execution_count": 50,
   "metadata": {
    "collapsed": false
   },
   "outputs": [],
   "source": [
    "import collections\n",
    "from data.convert import str_to_str\n",
    "from data.seek_sets import chain_seek_set\n",
    "\n",
    "def parse(lines):\n",
    "  lines = lines.strip().split('\\n')\n",
    "  tiles = []\n",
    "  while lines:\n",
    "    bottom = lines.pop()\n",
    "    top = lines.pop()\n",
    "    tiles.extend(tile for tile in zip(top.split(), bottom.split()))\n",
    "  return tiles\n",
    "\n",
    "\n",
    "_ORIGINAL = \"\"\"\n",
    "#  #  #  #  #  #  #  #  #\n",
    "IT ON TW AS MO PH RO AL LO\n",
    "A  A  C  C  D  E  E  E  E  E E  E  E\n",
    "HA YK HE WA OT DI HT IO OV S TS VE WO\n",
    "H  I  I  I  I  J  J  L  L  L  M  M  M\n",
    "EE EL KE NT YO IA IN AT IT YT FL LF RD\n",
    "M  M  N   N   N  N  N  N  O  O  O  O  P\n",
    "SE TO DOM EIT LY PH RA UR EL FR PA US IG\n",
    "P  P  R  R  S S  S  T  T  T  T  T  U\n",
    "SC TY ON TH E ES RS AD DA OU TH UN CK\n",
    "X  Y  Y  Y  ?  ?  ?  ?  ?  ?  ?  ?  ?\n",
    "RE N  SE TI AN DO EN IC IL ME SE SI TL\n",
    "\"\"\"\n",
    "\n",
    "tiles = parse(_ORIGINAL)\n",
    "\n",
    "bottoms = chain_seek_set.ChainSeekSet([bottom for _, bottom in tiles], 8)\n",
    "_SETS = [bottom.lower() for _, bottom in tiles]\n",
    "_CONVERSION_MAP = collections.defaultdict(list)\n",
    "_CONVERSION_MAP[' '].append('')\n",
    "_REVERSE_MAP = collections.defaultdict(list)\n",
    "\n",
    "for top, bottom in tiles:\n",
    "  _REVERSE_MAP[top.lower()].append(bottom.lower())\n",
    "  if top == '#':\n",
    "    continue\n",
    "  _CONVERSION_MAP[bottom.lower()].append(top.lower())\n"
   ]
  },
  {
   "cell_type": "code",
   "execution_count": 35,
   "metadata": {
    "collapsed": false
   },
   "outputs": [],
   "source": [
    "for i, r in enumerate(str_to_str.str_to_str('#rth?indandfire', _REVERSE_MAP)):\n",
    "  if i > 100:\n",
    "    break\n",
    "  print(r)"
   ]
  },
  {
   "cell_type": "code",
   "execution_count": 52,
   "metadata": {
    "collapsed": false,
    "scrolled": false
   },
   "outputs": [
    {
     "name": "stdout",
     "output_type": "stream",
     "text": [
      "a sunday kind of love\n",
      "skipped 1\n"
     ]
    }
   ],
   "source": [
    "def walk(seek_set, acc, targets, pos=0):\n",
    "  if pos >= len(targets):\n",
    "    yield ' '.join(acc)\n",
    "    return\n",
    "  target = targets[pos]\n",
    "  seek_set.set_length(target)\n",
    "  for result, weight in trie.walk(seek_set, exact_match=True):\n",
    "    if weight < 5e4:\n",
    "      break\n",
    "    acc.append(result)\n",
    "    yield from walk(seek_set[result:], acc, targets, pos+1)\n",
    "    acc.pop()\n",
    "\n",
    "def process(top, bottom, targets):\n",
    "  seek_set = chain_seek_set.ChainSeekSet(_SETS, sum(targets), prefix=bottom)\n",
    "  found = []\n",
    "  skipped = 0\n",
    "  has_dot = False\n",
    "  for result in walk(seek_set, [], targets):\n",
    "    # on -> e\n",
    "    for converted in str_to_str.str_to_str(result[2:], _CONVERSION_MAP):\n",
    "      if converted.count('?') == 1:\n",
    "        found.append(top + converted)\n",
    "    if found:\n",
    "      if has_dot:\n",
    "        print()\n",
    "        has_dot = False\n",
    "      print(result, '=', ', '.join(found))\n",
    "      found = []\n",
    "    else:\n",
    "      skipped += 1\n",
    "      # print(result)\n",
    "      if skipped % 100 == 0:\n",
    "        print('.', end='')\n",
    "        has_dot = True\n",
    "      if skipped % 8000 == 0:\n",
    "        print()\n",
    "        has_dot = False\n",
    "  print('skipped', skipped)\n",
    "\n",
    "# R Eric Clapton: It's in the way that you use it (E?ic Clapton)\n",
    "#   process('e', 'it', [3, 2, 3, 3, 4, 3, 3, 2])\n",
    "\n",
    "# A Enya: Only Time\n",
    "#   process('e', 'on', [4, 4])\n",
    "\n",
    "# D Eddie Money: Two Tickets to Paradise (Ed?ie Money)\n",
    "#   process('e', 'tw', [3, 7, 2, 8])\n",
    "\n",
    "# A Etta James: A sunday kind of love (Ett? James)\n",
    "#   process('e', 'as', [1, 6, 4, 2, 4])\n",
    "\n",
    "# E Extreme: more than words (extr?me)\n",
    "#   process('e', 'mo', [4, 4, 5])\n",
    "\n",
    "# L Elton John: Philadelphia Freedom (e?tonjohn)\n",
    "#   process('e', 'ph', [12, 7])\n",
    "\n",
    "# O Europe: Rock the Night (eur?pe)\n",
    "#   process('e', 'ro', [4, 3, 5])\n",
    "\n",
    "# V Elvis Presley: A Little Less Conversation\n",
    "#   process('e', 'al', [1, 6, 4, 12])\n",
    "\n",
    "# E Eminem: Lose Yourself\n",
    "#   process('e', 'lo', [4, 8])"
   ]
  },
  {
   "cell_type": "code",
   "execution_count": 25,
   "metadata": {
    "collapsed": true
   },
   "outputs": [
    {
     "data": {
      "text/plain": [
       "\"\\n2'1 2 3 3\\n 4 3 3 2\\n\\ne.ic[acehijlmnoprstuxy]{6,8}\\n2 12 3  3  4   3  3  2 | = 23\\nE ? I C ? ? ? ? ? ? ?\\nITSINTHE\\nE ? I E\\nITSINTWO\\nE ? Y\\nITSIN\\n\\n\\n\\nE E\\nITS\\nE P\\nITSC\\nE Y\\nITSE\\nE M\\nITSE\\nE ?\\nITSE\\nhe\\ns\\nin\\nat\\nit\\nto\\ndom\\nus\\non\\nn\\nan\\ndo\\nme\\n\\n\\n4   4   | = 8\\nE N O R\\nONLYPATH\\n\\nE S  (esau esky esne espy esse esth)\\nONES\\n\\nE N V Y\\nONLYDOSE\\n ? =V\\n    DO\\n\\nE N V Y\\nONLYANTI\\n ? =V\\n    AN\\n\\nE N D S\\nONLYDOES\\n ? =D\\n    DO\\n\\nE M I T\\nONTO....\\n\\nE O N S\\nONUS \\n\\n\\n\\n^(an|do|en|ic|il|me|se|si|tl)(se|ti)$\\n\\n3  7      2 8       | = 20\\nE R P E N ? ? ? ? ?\\nTWONIGHTLY\\nE R E I P\\nTWONOVELTY\\nE R E O P\\nTWONOVELTY\\nE D C L X\\nTWOTHEATRE\\nE D R P E\\nTWOTONIGHT\\nE D N J H\\nTWOTRAINEE\\nE E I E P\\nTWOVELVETY\\nE E O E P\\nTWOVELVETY\\nE E ? E O\\nTWOVICIOUS\\n^[tvnu](ha|yk|he|wa|ot|di|ht|io|ov|ts|ve|wo|ee|el|ke|nt|yo|ia|in|at|it|yt|fl|lf|rd|se|to|ly|ph|ra|ur|el|fr|pa|us|ig|sc|ty|on|th|es|rs|ad|da|ou|th|un|ck|re|se|ti|an|do|en|ic|il|me|se|si|tl){2,4}$\\n^(.{1,6}|.{8,20})$\\nC\\nHE\\nJ\\nIN\\nL\\nAT\\nL\\nIT\\nM\\nTO\\nN\\nUS\\n?\\nAN\\nx E D L ? ?\\nx TWOTITANIC\\nx E E L ? ?\\nx TWOVATICAN\\n\\n\\n\\n1 6 4 2 4  | = 17\\nE\\nAS\\nsandal\\nsedate\\nseeing\\nseesaw\\nseldom\\nselect\\nsenate\\nsenile\\nsenior\\nsensor\\nsentry\\nserene\\nsevere\\nsewage\\nshadow\\nshaken\\nshaker\\nshanty\\nsheath\\nsicken\\nsignal\\nsigned\\nsignee\\nsignet\\nsilent\\nsilken\\nsilver\\nsinker\\nsinner\\nsnatch\\nsneeze\\nsnitch\\nsonant\\nsonata\\nsonnet\\nsparse\\nsphere\\nsphinx\\nsticky\\nstingy\\nstocky\\nstoned\\nstoner\\nstoney\\nsundae\\nSunday\\nsunken\\nsunset\\nsurvey\\nswanky\\n\\n^s(ha|yk|he|wa|ot|di|ht|io|ov|s|ts|ve|wo|ee|el|ke|nt|yo|ia|in|at|it|yt|fl|lf|rd|se|to|dom|eit|ly|ph|ra|ur|el|fr|pa|us|ig|sc|ty|on|th|e|es|rs|ad|da|ou|th|un|ck|re|n|se|ti|an|do|en|ic|il|me|se|si|tl){2,3}.{0,2}$\\n^(.{1,5}|.{7,20})$\\n\\n\\n4   4   5    | = 13\\nE ? ? ? ? ? ?\\nMO\\nmoan\\nmoat\\nmock\\nmoon\\nmoot\\nmore\\nmoth\\nmove\\n\\n\\n12          7 | = 19\\nE ? T I M J\\nPHILADELPHIA\\nE ? T O M J\\nPHILADELPHIA\\nx: ar pharmacology\\nx: ro philanthropy\\nx: rm philharmonic\\nx: og photographic\\nx: ot*2 phototherapy\\n\\n^ph(ha|yk|he|wa|ot|di|ht|io|ov|s|ts|ve|wo|ee|el|ke|nt|yo|ia|in|at|it|yt|fl|lf|rd|se|to|dom|eit|ly|ph|ra|ur|el|fr|pa|us|ig|sc|ty|on|th|e|es|rs|ad|da|ou|th|un|ck|re|n|se|ti|an|do|en|ic|il|me|se|si|tl){3,5}.{0,2}\\\\s\\n\\n\\n4   3  5    | = 12\\nE T ? ? ? ?\\nROAD\\nE U\\nROCK\\nE ?\\nROME\\nE D\\nROOT\\nE M\\nROSE\\nE Y\\nROSE\\nE ?\\nROSE\\nE E\\nROVE\\ne.[acehijlmnoprstuxy]{4}\\n\\n\\n16     4   12          | = 32\\nE ? ? ? ? ? ? ? ? ? ? ?\\nAL\\n\\n\\n\\n4   8   .   | = 12\\nE ? ? ? ? ?\\nLOAN        |\\nE ?\\nLOSE\\n\\nE T R A D E\\nLOADONHAOT\\nLOADTHHAOT\\nLOADONYKOT\\nLOADTHYKOT\\n\\nE U\\nLOCK\\nE J\\nLOIN\\nE R\\nLOON\\nE D\\nLOOT\\nE M\\nLORD\\nE X\\nLORE\\nE M\\nLOSE\\nE Y\\nLOSE\\nE E\\nLOVE\\n\\n\\n\\n2'1 2 3 3\\n4 3 3 2 4 4 3 7 2 8 1 6 4 2 4 4 4 5 12 7 4 3 5 1 6 4 12 4 8\\n= 147\\n\\nA  A  C  C  D  E  E  E  E  E E  E  E\\nHA YK HE WA OT DI HT IO OV S TS VE WO\\nH  I  I  I  I  J  J  L  L  L  M  M  M\\nEE EL KE NT YO IA IN AT IT YT FL LF RD\\nM  M  N   N   N  N  N  N  O  O  O  O  P\\nSE TO DOM EIT LY PH RA UR EL FR PA US IG\\nP  P  R  R  S S  S  T  T  T  T  T  U\\nSC TY ON TH E ES RS AD DA OU TH UN CK\\nX  Y  Y  Y  ?  ?  ?  ?  ?  ?  ?  ?  ?\\nRE N  SE TI AN DO EN IC IL ME SE SI TL\\n\\nTOP [acehijlmnoprstuxy]\\nBOTTOM ^(ha|yk|he|wa|ot|di|ht|io|ov|s|ts|ve|wo|ee|el|ke|nt|yo|ia|in|at|it|yt|fl|lf|rd|se|to|dom|eit|ly|ph|ra|ur|el|fr|pa|us|ig|sc|ty|on|th|e|es|rs|ad|da|ou|th|un|ck|re|n|se|ti|an|do|en|ic|il|me|se|si|tl)$\\n\\n2 letter words\\nC\\nHE\\nJ\\nIN\\nL\\nAT\\nL\\nIT\\nM\\nTO\\nN\\nUS\\n?\\nAN\\n\\n\\n\\ntop half\\n9 Es\\n18 double letters\\n=9 + 18 = 27\\n\\nbottom half\\n65 single (top) letters\\n3 single (bottom) letters\\n6 triple letters (2x 3-letters)\\n120 double letters (65-3-2)*2\\n=65 + 3 + 6 + 120 = 194\\nOR\\n=18 (top) + 3 + 6 + 120 (bottom) = 147\\n\\n\""
      ]
     },
     "execution_count": 25,
     "metadata": {},
     "output_type": "execute_result"
    }
   ],
   "source": [
    "\"\"\"\n",
    "2 12 3  3  4   3  3  2 | = 23\n",
    "E R I C C L A P T O N\n",
    "ITSINTHEWAYTHATYOUUSEIT\n",
    "  R\n",
    "  SI\n",
    "\n",
    "4   4   | = 8\n",
    "E N Y A\n",
    "ONLYTIME\n",
    "  ? = A\n",
    "      ME\n",
    "\n",
    "3  7      2 8       | = 20\n",
    "E D D I E M O N E Y\n",
    "TWOTICKETSTOPARADISE\n",
    "    D\n",
    "    IC\n",
    "\n",
    "16     4   2 4   | = 17\n",
    "E T T A J A M E S\n",
    "ASUNDAYKINDOFLOVE\n",
    "          A\n",
    "          DO\n",
    "\n",
    "4   4   5    | = 13\n",
    "E X T R E M E\n",
    "MORETHANWORDS\n",
    "      R\n",
    "      AN\n",
    "\n",
    "12          7      | = 19\n",
    "E ? T O N J O H N\n",
    "PHILADELPHIAFREEDOM\n",
    "  L\n",
    "  IL\n",
    "\n",
    "4   3  5    | = 12\n",
    "E U R O P E\n",
    "ROCKTHENIGHT\n",
    "      O\n",
    "      EN\n",
    "\n",
    "16     4   12          | = 32\n",
    "E L V I S P R E S L E Y\n",
    "ALITTLELESSCONVERSATION\n",
    "    V\n",
    "    TL\n",
    "\n",
    "4   8   .   | = 12\n",
    "E M I N E M\n",
    "LOSEYOURSELF\n",
    "    ? = E\n",
    "        SE\n",
    "\n",
    "TOP [acehijlmnoprstuxy]\n",
    "BOTTOM ^(ha|yk|he|wa|ot|di|ht|io|ov|s|ts|ve|wo|ee|el|ke|nt|yo|ia|in|at|it|yt|fl|lf|rd|se|to|dom|eit|ly|ph|ra|ur|el|fr|pa|us|ig|sc|ty|on|th|e|es|rs|ad|da|ou|th|un|ck|re|n|se|ti|an|do|en|ic|il|me|se|si|tl)$\n",
    "\n",
    "2'1 2 3 3\n",
    "4 3 3 2 4 4 3 7 2 8 1 6 4 2 4 4 4 5 12 7 4 3 5 1 6 4 12 4 8\n",
    "= 147\n",
    "\n",
    "top half\n",
    "9 Es\n",
    "18 double letters\n",
    "=9 + 18 = 27\n",
    "\n",
    "bottom half\n",
    "65 single (top) letters\n",
    "3 single (bottom) letters\n",
    "6 triple letters (2x 3-letters)\n",
    "120 double letters (65-3-2)*2\n",
    "=65 + 3 + 6 + 120 = 194\n",
    "OR\n",
    "=18 (top) + 3 + 6 + 120 (bottom) = 147\n",
    "\n",
    "\"\"\""
   ]
  },
  {
   "cell_type": "code",
   "execution_count": null,
   "metadata": {
    "collapsed": true
   },
   "outputs": [],
   "source": []
  }
 ],
 "metadata": {
  "kernelspec": {
   "display_name": "Python 3",
   "language": "python",
   "name": "python3"
  },
  "language_info": {
   "codemirror_mode": {
    "name": "ipython",
    "version": 3
   },
   "file_extension": ".py",
   "mimetype": "text/x-python",
   "name": "python",
   "nbconvert_exporter": "python",
   "pygments_lexer": "ipython3",
   "version": "3.6.0"
  }
 },
 "nbformat": 4,
 "nbformat_minor": 2
}
