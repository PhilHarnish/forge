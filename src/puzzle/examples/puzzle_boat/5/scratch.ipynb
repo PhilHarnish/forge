{
 "cells": [
  {
   "cell_type": "code",
   "execution_count": 6,
   "metadata": {
    "collapsed": false
   },
   "outputs": [
    {
     "name": "stdout",
     "output_type": "stream",
     "text": [
      "=CONCATENATE(\n",
      "  IF(IFERROR(SEARCH(\"a\",C9),-1) >= 0, \"\", \"a\"),\n",
      "  IF(IFERROR(SEARCH(\"b\",C9),-1) >= 0, \"\", \"b\"),\n",
      "  IF(IFERROR(SEARCH(\"c\",C9),-1) >= 0, \"\", \"c\"),\n",
      "  IF(IFERROR(SEARCH(\"d\",C9),-1) >= 0, \"\", \"d\"),\n",
      "  IF(IFERROR(SEARCH(\"e\",C9),-1) >= 0, \"\", \"e\"),\n",
      "  IF(IFERROR(SEARCH(\"f\",C9),-1) >= 0, \"\", \"f\"),\n",
      "  IF(IFERROR(SEARCH(\"g\",C9),-1) >= 0, \"\", \"g\"),\n",
      "  IF(IFERROR(SEARCH(\"h\",C9),-1) >= 0, \"\", \"h\"),\n",
      "  IF(IFERROR(SEARCH(\"i\",C9),-1) >= 0, \"\", \"i\"),\n",
      "  IF(IFERROR(SEARCH(\"j\",C9),-1) >= 0, \"\", \"j\"),\n",
      "  IF(IFERROR(SEARCH(\"k\",C9),-1) >= 0, \"\", \"k\"),\n",
      "  IF(IFERROR(SEARCH(\"l\",C9),-1) >= 0, \"\", \"l\"),\n",
      "  IF(IFERROR(SEARCH(\"m\",C9),-1) >= 0, \"\", \"m\"),\n",
      "  IF(IFERROR(SEARCH(\"n\",C9),-1) >= 0, \"\", \"n\"),\n",
      "  IF(IFERROR(SEARCH(\"o\",C9),-1) >= 0, \"\", \"o\"),\n",
      "  IF(IFERROR(SEARCH(\"p\",C9),-1) >= 0, \"\", \"p\"),\n",
      "  IF(IFERROR(SEARCH(\"q\",C9),-1) >= 0, \"\", \"q\"),\n",
      "  IF(IFERROR(SEARCH(\"r\",C9),-1) >= 0, \"\", \"r\"),\n",
      "  IF(IFERROR(SEARCH(\"s\",C9),-1) >= 0, \"\", \"s\"),\n",
      "  IF(IFERROR(SEARCH(\"t\",C9),-1) >= 0, \"\", \"t\"),\n",
      "  IF(IFERROR(SEARCH(\"u\",C9),-1) >= 0, \"\", \"u\"),\n",
      "  IF(IFERROR(SEARCH(\"v\",C9),-1) >= 0, \"\", \"v\"),\n",
      "  IF(IFERROR(SEARCH(\"w\",C9),-1) >= 0, \"\", \"w\"),\n",
      "  IF(IFERROR(SEARCH(\"x\",C9),-1) >= 0, \"\", \"x\"),\n",
      "  IF(IFERROR(SEARCH(\"y\",C9),-1) >= 0, \"\", \"y\"),\n",
      "  IF(IFERROR(SEARCH(\"z\",C9),-1) >= 0, \"\", \"z\")\n",
      ")\n"
     ]
    }
   ],
   "source": [
    "result = ['=CONCATENATE(']\n",
    "letters = []\n",
    "for c in 'abcdefghijklmnopqrstuvwxyz':\n",
    "  letters.append('  IF(IFERROR(SEARCH(\"%s\",C9),-1) >= 0, \"\", \"%s\")' % (c, c))\n",
    "result.append(',\\n'.join(letters))\n",
    "result.append(')')\n",
    "print('\\n'.join(result))"
   ]
  },
  {
   "cell_type": "code",
   "execution_count": 16,
   "metadata": {
    "collapsed": false
   },
   "outputs": [
    {
     "name": "stdout",
     "output_type": "stream",
     "text": [
      "dwrlo\tworld\tverne evrne\n",
      "ipgoen\tpigeon\tupdike pudkie\n",
      "marpt\ttramp\ttwain iawnt\n"
     ]
    }
   ],
   "source": [
    "import itertools\n",
    "\n",
    "GIVEN = \"\"\"\n",
    "dwrlo\tworld\tverne\n",
    "ipgoen\tpigeon\tupdike\n",
    "marpt\ttramp\ttwain\n",
    "\"\"\"\n",
    "\n",
    "def scramble(src, dst, ref):\n",
    "  src_tuple = tuple(src)\n",
    "  for permuted_dst, permuted_ref in zip(itertools.permutations(dst), itertools.permutations(ref)):\n",
    "    if permuted_dst == src_tuple:\n",
    "      return ''.join(permuted_ref)\n",
    "\n",
    "for line in GIVEN.split('\\n'):\n",
    "  if not line:\n",
    "    continue\n",
    "  src, dst, ref = line.split('\t')\n",
    "  print(line, scramble(src, dst, ref))"
   ]
  },
  {
   "cell_type": "code",
   "execution_count": 21,
   "metadata": {
    "collapsed": false
   },
   "outputs": [
    {
     "name": "stdout",
     "output_type": "stream",
     "text": [
      "\n",
      "A\tR\tM\tI\tU\tZ\tT\tT\tE\tO\tN\tA\tR\n",
      "M\tO\tS\tM\tP\tE\tU\tT\tT\tI\tE\tY\tR\n",
      "N\tA\tF\tO\tM\tO\tR\tO\tU\tL\tS\tN\tE\n",
      "E\tN\tT\tJ\tE\tR\tE\tR\tE\tL\tI\tC\tB\n",
      "A\tB\tG\tA\tT\tO\tN\tA\tR\tI\tN\tS\tG\n",
      "C\tH\tU\tO\tU\tS\tC\tU\tM\tE\tB\tE\tR\n",
      "D\tA\tT\tO\tM\tA\tW\tS\tE\tC\tU\tS\tL\n",
      "O\tM\tS\tT\tE\tO\tA\tA\tL\tI\tT\tT\tO\n",
      "A\tB\tI\tA\tN\tS\tR\tG\tA\tE\tG\tR\tU\n",
      "T\tA\tS\tR\tO\tT\tR\tO\tT\tI\tR\tO\tP\n",
      "C\tR\tG\tR\tI\tE\tS\tT\tT\tE\tL\tA\tL\n",
      "A\tR\tM\tY\tA\tR\tL\tO\tW\tF\tE\tR\tS\n",
      "L\tC\tA\tO\tW\tM\tY\tE\tE\tR\tS\tL\tY\n",
      "\n"
     ]
    }
   ],
   "source": [
    "grid = \"\"\"\n",
    "A R M I U Z T T E O N A R\n",
    "M O S M P E U T T I E Y R\n",
    "N A F O M O R O U L S N E\n",
    "E N T J E R E R E L I C B\n",
    "A B G A T O N A R I N S G\n",
    "C H U O U S C U M E B E R\n",
    "D A T O M A W S E C U S L\n",
    "O M S T E O A A L I T T O\n",
    "A B I A N S R G A E G R U\n",
    "T A S R O T R O T I R O P\n",
    "C R G R I E S T T E L A L\n",
    "A R M Y A R L O W F E R S\n",
    "L C A O W M Y E E R S L Y\n",
    "\"\"\".replace(' ', '\\t')\n",
    "print(grid)"
   ]
  },
  {
   "cell_type": "code",
   "execution_count": 19,
   "metadata": {
    "collapsed": false
   },
   "outputs": [
    {
     "name": "stdout",
     "output_type": "stream",
     "text": [
      "l.n.ilortocnina..yrov.i.lefie\n"
     ]
    }
   ],
   "source": [
    "print(''.join(reversed('eifel.i.vory..anincotroli.n.l')))"
   ]
  },
  {
   "cell_type": "code",
   "execution_count": 1,
   "metadata": {
    "collapsed": true
   },
   "outputs": [],
   "source": [
    "import collections\n",
    "multiple_man = \"\"\"Promotion*Laugh*Washington*Laugh*Bye*Laugh*Bye*Vehicle*Bye*Laugh*Laugh*Laugh*Laugh*Male*Cariou*Cariou*Laugh*Promotion*Vehicle*Like*Promotion*Promotion*Cariou*Bye*Laugh*Laugh*Laugh*Cariou*Promotion*Vehicle*Laugh*Promotion*Laugh*Laugh*Washington*Cariou*Vehicle*Like*Analyze*Promotion*Vehicle*Cariou*Laugh*Promotion*Vehicle*Promotion*Cariou*Promotion*Like*Bye*Laugh*Laugh*Bye*Bye*Laugh*Bye*Laugh*Bye*Laugh*Laugh*Bye*Washington*Laugh*Male*Laugh*Cariou*Laugh*Laugh*Bye*Promotion*Laugh*Laugh*Washington*Vehicle*Laugh*Laugh*Vehicle*Bye*Promotion*Bye*Laugh*Bye*Laugh*Iron*Laugh*Promotion*Cariou*Washington*Promotion*Cariou*Bye*Washington*Analyze*Attorney*Bye*Bye*Laugh*Bye*Laugh*Laugh*Laugh*Laugh*Bye*Bye*Promotion*Laugh*Analyze*Promotion*Bye*Male*Cariou*Cariou*Iron*Laugh*Promotion*Laugh*Bye*Promotion*Analyze*Laugh*Washington*Vehicle*Analyze*Promotion*Washington*Vehicle*Laugh*Cariou*Promotion*Laugh*Cariou*Washington*Male*Bye*Laugh*Promotion*Laugh*Promotion*Laugh*Vehicle*Promotion*Vehicle*Vehicle*Laugh*Laugh*Like*Laugh*Quiet*Laugh*Vehicle*Cariou*Laugh*Laugh*Washington*Bye*Bye*Laugh*Promotion*Laugh*Promotion*Promotion*Promotion*Vehicle*Washington*Cariou*Laugh*Bye*Laugh*Laugh*Promotion*Vehicle*Bye*Washington*Laugh*Like*Cariou*Promotion*Promotion*Laugh*Cariou*Promotion*Promotion*Laugh*Vehicle*Vehicle*Male*Laugh*Male*Laugh*Vehicle*Laugh*Washington*Attorney*Bye*Bye*Laugh*Bye*Laugh*Laugh*Cariou*Laugh*Washington*Washington*Analyze*Bye*Male*Laugh*Promotion*Iron*Vehicle*Laugh*Promotion*Cariou*Laugh*Vehicle*Bye*Vehicle*Promotion*Laugh*Promotion*Promotion*Like*Washington*Washington*Bye*Cariou*Laugh*Laugh*Vehicle*Laugh*Laugh*Laugh*Laugh*Cariou*Bye*Vehicle*Laugh*Cariou*Bye*Bye*Promotion*Laugh*Laugh*Like*Bye*Promotion*Like*Bye*Laugh*Promotion*Laugh*Washington*Laugh*Laugh*Laugh*Promotion*Cariou*Laugh*Laugh*Promotion*Vehicle*Like*Bye*Vehicle*Laugh*Vehicle*Laugh*Laugh*Laugh*Laugh*Laugh*Bye*Laugh*Cariou*Like*Laugh*Promotion*Promotion*Vehicle*Iron*Washington*Laugh*Laugh*Like*Promotion*Cariou*Laugh*Bye*Laugh*Promotion*Promotion*Laugh*Born*Vehicle*Laugh*Vehicle*Analyze*Washington*Laugh*Born*Vehicle*Laugh*Cariou*Bye*Laugh*Laugh*Promotion*Laugh*Promotion*Laugh*Bye*Washington*Laugh*Washington*Promotion*Washington*Bye*Washington*Vehicle*Laugh*Washington*Cariou*Laugh*Vehicle*Vehicle*Laugh*Laugh*Laugh*Bye*Promotion*Washington*Laugh*Laugh*Vehicle*Bye*Analyze*Laugh*Laugh*Promotion*Promotion*Promotion*Cariou*Laugh*Vehicle*Vehicle*Analyze*Analyze*Laugh*Bye*Laugh*Laugh*Laugh*Laugh*Bye*Bye*Born*Promotion*Laugh*Vehicle*Promotion*Laugh*Laugh*Washington*Bye*Laugh*Laugh*Laugh*Laugh*Vehicle*Promotion*Bye*Promotion*Promotion*Bye*Washington*Vehicle*Promotion*Vehicle*Bye*Promotion*Vehicle*Laugh*Male*Cariou*Flower*Cariou*Born*Vehicle*Promotion*Vehicle*Laugh*Washington*Flower*Promotion*Laugh*Washington*Promotion*Laugh*Promotion*Like*Promotion*Attorney*Bye*Laugh*Promotion*Cariou*Attorney*Laugh*Promotion*Bye*Laugh*Laugh*Laugh*Promotion*Cariou*Laugh*Promotion*Laugh*Laugh*Promotion*Laugh*Vehicle*Promotion*Like*Bye*Laugh*Promotion*Laugh*Cariou*Washington*Cariou*Cariou*Laugh*Promotion*Cariou*Washington*Laugh*Cariou*Washington*Washington*Laugh*Iron*Bye*Promotion*Promotion*Laugh*Vehicle*Bye*Promotion*Laugh*Laugh*Cariou*Promotion*Promotion*Analyze*Laugh*Laugh*Laugh*Vehicle*Laugh*Cariou*Cariou*Bye*Laugh*Cariou*Bye*Cariou*Laugh*Promotion*Vehicle*Washington*Promotion*Promotion*Laugh*Iron*Bye*Washington*Bye*Laugh*Analyze*Laugh*Washington*Laugh*Bye*Cariou*Born*Laugh*Laugh*Laugh*Bye*Washington*Vehicle*Cariou*Laugh*Cariou*Bye*Promotion*Laugh*Promotion*Laugh*Promotion*Cariou*Laugh*Cariou*Laugh*Bye*Vehicle*Promotion*Promotion*Like*Cariou*Laugh*Laugh*Washington*Born*Laugh*Laugh*Promotion*Promotion*Washington*Washington*Bye*Laugh*Laugh*Vehicle*Cariou*Laugh*Washington*Vehicle*Promotion*Cariou*Promotion*Laugh*Bye*Promotion*Washington*Washington*Promotion*Cariou*Promotion*Laugh*Bye*Promotion*Vehicle*Vehicle*Washington*Bye*Promotion*Laugh*Laugh*Promotion*Laugh*Laugh*Vehicle*Promotion*Laugh*Vehicle*Washington*Bye*Cariou*Bye*Promotion*Laugh**Laugh*Laugh*Vehicle*Laugh*Bye*Quiet*Washington*Vehicle*Laugh*Washington*Bye*Promotion*Vehicle*Laugh*Washington*Promotion*Laugh*Washington*Vehicle*Cariou*Laugh*Cariou*Vehicle*Laugh*Promotion*Laugh*Like*Born*Analyze*Bye*Laugh*Bye*Washington*Laugh*Laugh*Cariou*Bye*Vehicle*Laugh*Like*Laugh*Laugh*Bye*Bye*Bye*Laugh*Vehicle*Cariou*Laugh*Laugh*Washington*Bye*Promotion*Like*Promotion*Laugh*Bye*Laugh*Laugh*Laugh*Promotion*Promotion*Laugh*Laugh*Laugh*Laugh*Promotion*Laugh*Bye*Vehicle*Vehicle*Laugh*Vehicle*Laugh*Laugh*Laugh*Promotion*Promotion*Laugh*Promotion*Cariou*Laugh*Cariou*Bye*Cariou*Washington*Cariou*Laugh*Laugh*Bye*Vehicle*Washington*Promotion*Cariou*Bye*Vehicle*Attorney*Laugh*Laugh*Washington*Male*Vehicle*Vehicle*Cariou*Cariou*Laugh*Bye*Washington*Like*Laugh*Laugh*Laugh*Laugh*Washington*Born*Bye*Bye*Laugh*Laugh*Promotion*Washington*Laugh*Bye*Laugh*Laugh*Laugh*Promotion*Promotion*Bye*Born*Bye*Vehicle*Promotion*Washington*Like*Promotion*Bye*Laugh*Laugh*Promotion*Laugh*Bye*Promotion*Laugh*Bye*Bye*Promotion*Bye*Promotion*Laugh*Promotion*Laugh*Promotion*Laugh*Laugh*Cariou*Vehicle*Promotion*Cariou*Cariou*Bye*Laugh*Washington*Laugh*Bye*Male*Promotion*Vehicle*Promotion*Vehicle*Promotion*Vehicle*Bye*Cariou*Bye*Bye*Vehicle*Bye*Attorney*Laugh*Laugh*Oceans*Laugh*Promotion*Laugh*Vehicle*Laugh*Laugh*Laugh*Laugh*Bye*Laugh*Laugh*Vehicle*Promotion*Like*Laugh*Laugh*Promotion*Cariou*Promotion*Bye*Cariou*Analyze*Iron*Like*Laugh*Laugh*Laugh*Promotion*Bye*Bye*Promotion*Cariou*Vehicle*Washington*Promotion*Laugh*Cariou*Cariou*Laugh*Iron*Laugh*Washington*Vehicle*Cariou*Laugh*Cariou*Laugh*Cariou*Promotion*Laugh*Oceans*Promotion*Vehicle*Promotion*Laugh*Laugh*Laugh*Bye*Bye*Bye*Laugh*Laugh*Cariou*Bye*Male*Promotion*Cariou*Promotion*Laugh*Cariou*Laugh*Washington*Promotion*Promotion*Analyze*Vehicle*Laugh*Washington*Vehicle*Laugh*Promotion*Washington*Cariou*Promotion*Laugh*Analyze*Iron*Laugh*Cariou*Washington*Laugh*Bye*Bye*Laugh*Cariou*Washington*Like*Bye*Bye*Promotion*Promotion*Laugh*Vehicle*Like*Bye*Cariou*Laugh*Laugh*Laugh*Promotion*Bye*Cariou*Laugh*Vehicle*Laugh*Vehicle*Washington*Washington*Cariou*Cariou*Bye*Promotion*Washington*Laugh*Like*Vehicle*Vehicle*Washington*Laugh*Washington*Laugh*Laugh*Laugh*Vehicle*Promotion*Washington*Promotion*Cariou*Born*Vehicle*Laugh*Bye*Laugh*Laugh*Vehicle*Cariou*Washington*Bye*Promotion*Laugh*Promotion*Promotion*Bye*Iron*Laugh*Laugh*Bye*Attorney*Like*Cariou*Washington*Analyze*Promotion*Promotion*Promotion*Promotion*Like*Promotion*Oceans*Laugh*Laugh*Vehicle*Promotion*Cariou*Laugh*Laugh*Vehicle*Promotion*Vehicle*Laugh*Bye*Vehicle*Cariou*Bye*Washington*Laugh*Bye*Iron*Laugh*Laugh*Promotion*Bye*Cariou*Laugh*Promotion*Bye*Promotion*Bye*Washington*Washington*Laugh*Promotion*Bye*Laugh*Laugh*Bye*Laugh*Iron*Promotion*Bye*Promotion*Promotion*Vehicle*Bye*Promotion*Laugh*Laugh*Laugh*Laugh*Cariou*Laugh*Bye*Laugh*Bye*Cariou*Cariou*Promotion*Laugh*Promotion*Laugh*Laugh*Washington*Laugh*Promotion*Analyze*Laugh*Promotion*Promotion*Bye*Cariou*Bye*Flower*Laugh*Cariou*Promotion*Laugh*Promotion*Cariou*Promotion*Laugh*Bye*Vehicle*Bye*Laugh*Iron*Vehicle*Born*Bye*Cariou*Laugh*Iron*Laugh*Vehicle*Promotion*Washington*Bye*Washington*Laugh*Promotion*Washington*Laugh*Bye*Promotion*Analyze*Laugh*Laugh*Promotion*Bye*Bye*Promotion*Laugh*Promotion*Cariou*Laugh*Bye*Vehicle*Bye*Laugh*Laugh*Bye*Promotion*Promotion*Bye*Laugh*Vehicle*Born*Laugh*Vehicle*Male*Analyze*Bye*Promotion*Promotion*Laugh*Male*Washington*Laugh*Quiet*Laugh*Laugh*Laugh*Bye*Laugh*Cariou*Bye*Bye*Promotion*Analyze*Vehicle*Vehicle*Laugh*Bye*Vehicle*Laugh*Laugh*Laugh*Cariou*Laugh*Cariou*Bye*Promotion*Bye*Promotion*Cariou*Vehicle*Promotion*Laugh*Washington*Cariou*Laugh*Laugh*Promotion*Laugh*Laugh*Laugh*Laugh*Laugh*Promotion*Cariou*Washington*Washington*Bye*Washington*Laugh*Laugh*Laugh*Promotion*Bye*Promotion*Born*Bye*Bye*Laugh*Washington*Bye*Iron*Laugh*Laugh*Laugh*Bye*Laugh*Bye*Laugh*Vehicle*Cariou*Cariou*Promotion*Iron*Laugh*Vehicle*Laugh*Bye*Cariou*Laugh*Washington*Laugh*Promotion*Bye*Cariou*Cariou*Laugh*Laugh*Laugh*Vehicle*Laugh*Promotion*Promotion*Promotion*Bye*Laugh*Promotion*Vehicle*Laugh*Laugh*Promotion*Laugh*Bye*Laugh*Laugh*Promotion*Laugh*Cariou*Laugh*Bye*Bye*Promotion*Promotion*Washington*Cariou*Laugh*Promotion*Promotion*Washington*Laugh*Laugh*Promotion*Laugh*Bye*Bye*Bye*Laugh*Oceans*Cariou*Bye*Cariou*Cariou*Promotion*Laugh*Promotion*Bye*Vehicle*Vehicle*Laugh*Vehicle*Laugh*Promotion*Laugh*Bye*Bye*Promotion*Laugh*Bye*Laugh*Laugh*Promotion*Laugh*Bye*Cariou*Vehicle*Flower*Laugh*Vehicle*Bye*Bye*Laugh*Laugh*Bye*Bye*Laugh*Bye*Born*Promotion*Promotion*Vehicle*Laugh*Bye*Laugh*Promotion*Bye*Washington*Bye*Cariou*Laugh*Laugh*Promotion*Laugh*Bye*Male*Promotion*Bye*Cariou*Promotion*Vehicle*Born*Promotion*Laugh*Cariou*Laugh*Cariou*Laugh*Born*Analyze*Male*Bye*Laugh*Cariou*Laugh*Bye*Cariou*Bye*Laugh*Bye*Promotion*Washington*Laugh*Promotion*Promotion*Laugh*Washington*Bye*Laugh*Laugh*Promotion*Cariou*Washington*Vehicle*Laugh*Laugh*Bye*Washington*Washington*Laugh*Laugh*Bye*Bye*Laugh*Laugh*Laugh*Promotion*Promotion*Laugh*Bye*Like*Laugh*Laugh*Laugh*Promotion*Laugh*Promotion*Bye*Laugh*Vehicle*Cariou*Laugh*Vehicle*Bye*Laugh*Born*Washington*Bye*Bye*Bye*Promotion*Promotion*Laugh*Promotion*Laugh*Laugh*Laugh*Cariou*Bye*Bye*Vehicle*Laugh*Promotion*Bye*Cariou*Laugh*Bye*Laugh*Bye*Laugh*Bye*Promotion*Vehicle*Washington*Male*Cariou*Promotion*Like*Laugh*Promotion*Bye*Laugh*Promotion*Bye*Washington*Like*Promotion*Bye*Attorney*Laugh*Washington*Laugh*Laugh*Laugh*Promotion*Laugh*Promotion*Promotion*Washington*Vehicle*Washington*Laugh*Bye*Bye*Laugh*Bye*Laugh*Bye*Promotion*Washington*Vehicle*Bye*Vehicle*Promotion*Like*Laugh*Washington*Laugh*Like*Promotion*Bye*Promotion*Laugh*Vehicle*Laugh*Laugh*Promotion*Laugh*Promotion*Laugh*Like*Laugh*Bye*Born*Cariou*Bye*Promotion*Laugh*Vehicle*Bye*Laugh*Born*Laugh*Analyze*Male*Vehicle*Promotion*Bye*Laugh*Cariou*Bye*Attorney*Promotion*Promotion*Bye*Bye*Bye*Bye*Laugh*Bye*Laugh*Laugh*Laugh*Laugh*Laugh*Vehicle*Promotion*Cariou*Male*Cariou*Bye*Like*Cariou*Laugh*Promotion*Laugh*Promotion*Washington*Laugh*Iron*Laugh*Laugh*Male*Bye*Promotion*Laugh*Laugh*Promotion*Cariou*Laugh*Laugh*Vehicle*Washington*Promotion*Laugh*Washington*Laugh*Laugh*Promotion*Bye*Laugh*Washington*Laugh*Vehicle*Bye*Laugh*Laugh*Laugh*Iron*Washington*Born*Laugh*Laugh*Cariou*Vehicle*Laugh*Laugh*Laugh*Washington*Promotion*Vehicle*Laugh*Promotion*Laugh*Promotion*Washington*Promotion*Promotion*Bye*Vehicle*Cariou*Bye*Laugh*Laugh*Cariou*Cariou*Cariou*Laugh*Bye*Laugh*Vehicle*Promotion*Vehicle*Bye*Cariou*Laugh*Bye*Laugh*Laugh*Laugh*Laugh*Promotion*Born*Laugh*Laugh*Cariou*Like*Laugh*Laugh*Cariou*Bye*Bye*Vehicle*Bye*Laugh*Promotion*Washington*Promotion*Laugh*Laugh*Promotion*Oceans*Laugh*Laugh*Bye*Washington*Laugh*Laugh*Promotion*Flower*Bye*Attorney*Cariou*Like*Flower*Laugh*Promotion*Cariou*Laugh*Washington*Laugh*Promotion*Promotion*Quiet*Bye*Laugh*Male*Laugh*Laugh*Vehicle*Washington*Cariou*Laugh*Laugh*Laugh*Vehicle*Laugh*Promotion*Laugh*Laugh*Promotion*Vehicle*Laugh*Bye*Born*Promotion*Promotion*Washington*Washington*Vehicle*Washington*Laugh*Laugh*Male*Bye*Bye*Promotion*Bye*Washington*Laugh*Cariou*Bye*Attorney*Vehicle*Laugh*Laugh*Cariou*Cariou*Laugh*Laugh*Laugh*Laugh*Vehicle*Washington*Laugh*Promotion*Bye*Cariou*Promotion*Flower*Laugh*Promotion*Cariou*Bye*Promotion*Bye*Bye*Laugh*Bye*Washington*Bye*Born*Bye*Promotion*Like*Laugh*Promotion*Laugh*Cariou*Laugh*Washington*Laugh*Laugh*Laugh*Promotion*Laugh*Promotion*Like*Promotion*Cariou*Vehicle*Promotion*Male*Promotion*Bye*Laugh*Laugh*Cariou*Promotion*Vehicle*Promotion*Laugh*Laugh*Cariou*Promotion*Promotion*Bye*Bye*Vehicle*Bye*Vehicle*Analyze*Like*Washington*Washington*Promotion*Laugh*Laugh*Bye*Promotion*Laugh*Laugh*Laugh*Laugh*Washington*Laugh*Laugh*Promotion*Bye*Like*Laugh*Promotion*Laugh*Promotion*Bye*Laugh*Promotion*Promotion*Laugh*Promotion*Promotion*Bye*Laugh*Attorney*Laugh*Laugh*Cariou*Promotion*Bye*Vehicle*Vehicle*Promotion*Like*Vehicle*Vehicle*Bye*Laugh*Vehicle*Laugh*Bye*Vehicle*Cariou*Laugh*Bye*Washington*Bye*Promotion*Laugh*Like*Laugh*Vehicle*Bye*Promotion*Laugh*Promotion*Promotion*Laugh*Washington*Laugh*Laugh*Promotion*Attorney*Laugh*Promotion*Iron*Bye*Like*Like*Cariou*Laugh*Promotion*Promotion*Washington*Laugh*Cariou*Laugh*Cariou*Laugh*Bye*Laugh*Laugh*Washington*Promotion*Vehicle*Washington*Promotion*Laugh*Laugh*Vehicle*Vehicle*Promotion*Laugh*Born*Cariou*Quiet*Promotion*Laugh*Vehicle*Bye*Cariou*Laugh*Vehicle*Like*Laugh*Promotion*Laugh*Analyze*Washington*Promotion*Laugh*Cariou*Promotion*Bye*Washington*Promotion*Washington*Promotion*Promotion*Promotion*Promotion*Promotion*Promotion*Bye*Vehicle*Bye*Promotion*Bye*Bye*Washington*Promotion*Bye*Cariou*Analyze*Vehicle*Bye*Cariou*Washington*Laugh*Bye*Bye*Washington*Cariou*Male*Promotion*Washington*Promotion*Cariou*Laugh*Laugh*Promotion*Promotion*Bye*Promotion*Laugh*Laugh*Laugh*Laugh*Bye*Laugh*Laugh*Bye*Laugh*Bye*Laugh*Laugh*Vehicle*Laugh*Promotion*Laugh*Promotion*Laugh*Promotion*Bye*Laugh*Laugh*Vehicle*Laugh*Laugh*Promotion*Laugh*Vehicle*Promotion*Oceans*Laugh*Laugh*Bye*Promotion*Promotion*Cariou*Laugh*Washington*Promotion*Bye*Bye*Bye*Cariou*Vehicle*Bye*Washington*Promotion*Laugh*Laugh*Promotion*Promotion*Laugh*Laugh*Vehicle*Promotion*Laugh*Cariou*Vehicle*Laugh*Bye*Promotion*Cariou*Bye*Bye*Bye*Cariou*Laugh*Laugh*Laugh*Laugh*Promotion*Bye*Laugh*Washington*Bye*Promotion*Cariou*Bye*Bye*Cariou*Laugh*Laugh*Cariou*Promotion*Vehicle*Laugh*Laugh*Like*Washington*Laugh*Washington*Washington*Bye*Laugh*Laugh*Like*Laugh*Bye*Laugh*Vehicle*Promotion*Laugh*Laugh*Promotion*Bye*Promotion*Promotion*Vehicle*Vehicle*Bye*Bye*Laugh*Laugh*Promotion*Promotion*Laugh*Laugh*Promotion*Bye*Vehicle*Promotion*Washington*Promotion*Attorney*Laugh*Vehicle*Cariou*Promotion*Vehicle*Bye*Bye*Bye*Vehicle*Male*Vehicle*Laugh*Bye*Bye*Vehicle*Laugh*Washington*Laugh*Laugh*Bye*Promotion*Analyze*Laugh*Vehicle*Analyze*Bye*Bye*Washington*Bye*Promotion*Like*Promotion*Laugh*Bye*Vehicle*Bye*Promotion*Analyze*Laugh*Laugh*Laugh*Laugh*Washington*Laugh*Male*Laugh*Laugh*Promotion*Vehicle*Laugh*Vehicle*Bye*Promotion*Bye*Analyze*Vehicle*Bye*Bye*Cariou*Iron*Cariou*Flower*Washington*Washington*Oceans*Bye*Promotion*Laugh*Cariou*Washington*Bye*Promotion*Laugh*Promotion*Promotion*Washington*Laugh*Like*Laugh*Washington*Laugh*Cariou*Bye*Laugh*Laugh*Washington*Laugh*Promotion*Promotion*Like*Analyze*Vehicle*Bye*Laugh*Bye*Cariou*Laugh*Bye*Promotion*Born*Washington*Laugh*Quiet*Bye*Washington*Laugh*Vehicle*Bye*Laugh*Vehicle*Vehicle*Promotion*Laugh*Promotion*Promotion*Laugh*Promotion*Cariou*Promotion*Laugh*Washington*Promotion*Bye*Washington*Laugh*Laugh*Bye*Washington*Vehicle*Flower*Laugh*Cariou*Vehicle*Laugh*Promotion*Cariou*Laugh*Washington*Vehicle*Washington*Promotion*Washington*Bye*Cariou*Analyze*Promotion*Laugh*Born*Laugh*Cariou*Laugh*Laugh*Washington*Laugh*Laugh*Cariou*Promotion*Laugh*Washington*Vehicle*Laugh*Promotion*Washington*Cariou*Promotion*Bye*Laugh*Promotion*Promotion*Promotion*Laugh*Cariou*Vehicle*Vehicle*Promotion*Laugh*Male*Promotion*Quiet*Laugh*Bye*Laugh*Laugh*Laugh*Promotion*Bye*Bye*Promotion*Laugh*Male*Flower*Cariou*Cariou*Laugh*Vehicle*Laugh*Cariou*Analyze*Vehicle*Bye*Laugh*Cariou*Promotion*Vehicle*Promotion*Promotion*Laugh*Laugh*Laugh*Laugh*Laugh*Promotion*Cariou*Laugh*Laugh*Laugh*Washington*Cariou*Bye*Promotion*Washington*Bye*Laugh*Washington*Promotion*Promotion*Vehicle*Laugh*Vehicle*Analyze*Laugh*Laugh*Bye*Laugh*Vehicle*Iron*Laugh*Quiet*Laugh*Bye*Bye*Laugh*Cariou*Laugh*Laugh*Promotion*Cariou*Laugh*Laugh*Laugh*Vehicle*Vehicle*Promotion*Bye*Cariou*Laugh*Bye*Laugh*Washington*Promotion*Promotion*Washington*Cariou*Laugh*Promotion*Promotion*Cariou*Laugh*Cariou*Cariou*Bye*Bye*Cariou*Promotion*Like*Iron*Laugh*Washington*Laugh*Cariou*Vehicle*Laugh*Promotion*Laugh*Vehicle*Laugh*Laugh*Cariou*Born*Laugh*Promotion*Laugh*Cariou*Promotion*Bye*Vehicle*Laugh*Laugh*Promotion*Washington*Promotion*Flower*Laugh*Laugh*Promotion*Vehicle*Bye*Vehicle*Vehicle*Promotion*Cariou*Analyze*Bye*Washington*Vehicle*Promotion*Washington*Vehicle*Laugh*Laugh*Bye*Promotion*Washington*Promotion*Male*Bye*Promotion*Attorney*Cariou*Bye*Laugh*Cariou*Laugh*Bye*Laugh*Promotion*Analyze*Washington*Washington*Laugh*Cariou*Analyze*Laugh*Promotion*Laugh*Laugh*Bye*Laugh*Attorney*Laugh*Laugh*Vehicle*Vehicle*Laugh*Vehicle*Washington*Washington*Promotion*Cariou*Laugh*Laugh*Laugh*Laugh*Bye*Analyze*Bye*Laugh*Laugh*Washington*Bye*Washington*Laugh*Vehicle*Cariou*Laugh*Promotion*Promotion*Bye*Laugh*Laugh*Washington*Bye*Bye*Bye*Laugh*Promotion*Promotion*Bye*Bye*Laugh*Laugh*Washington*Promotion*Iron*Laugh*Bye*Laugh*Laugh*Like*Cariou*Promotion*Bye*Laugh*Bye*Like*Promotion*Bye*Bye*Cariou*Cariou*Cariou*Laugh*Laugh*Washington*Laugh*Iron*Laugh*Laugh*Iron*Laugh*Promotion*Laugh*Bye*Washington*Washington*Laugh*Bye*Cariou*Laugh*Laugh*Cariou*Attorney*Laugh*Vehicle*Laugh*Washington*Washington*Analyze*Bye*Vehicle*Laugh*Washington*Promotion*Cariou*Bye*Promotion*Laugh*Laugh*Washington*Bye*Laugh*Promotion*Laugh*Cariou*Laugh*Bye*Bye*Cariou*Bye*Laugh*Laugh*Laugh*Laugh*Vehicle*Laugh*Washington*Laugh*Iron*Laugh*Promotion*Cariou*Analyze*Promotion*Bye*Vehicle*Promotion*Promotion*Bye*Like*Laugh*Laugh*Bye*Cariou*Vehicle*Bye*Cariou*Laugh*Laugh*Washington*Laugh*Laugh*Laugh*Cariou*Laugh*Promotion*Laugh*Quiet*Attorney*Laugh*Bye*Bye*Laugh*Bye*Laugh*Laugh*Bye*Promotion*Cariou*Vehicle*Laugh*Bye*Washington*Laugh*Laugh*Laugh*Bye*Male*Bye*Laugh*Laugh*Like*Vehicle*Laugh*Laugh*Laugh*Bye*Bye*Laugh*Laugh*Cariou*Promotion*Male*Laugh*Laugh*Bye*Laugh*Promotion*Laugh*Attorney*Promotion*Laugh*Laugh*Promotion*Bye*Bye*Attorney*Bye*Bye*Cariou*Promotion*Laugh*Analyze*Bye*Promotion*Laugh*Cariou*Vehicle*Vehicle*Washington*Laugh*Laugh*Promotion*Laugh*Promotion*Laugh*Laugh*Laugh*Promotion*Analyze*Promotion*Washington*Laugh*Laugh*Laugh*Vehicle*Cariou*Washington*Laugh*Promotion*Vehicle*Promotion*Cariou*Washington*Analyze*Washington*Promotion*Laugh*Laugh*Bye*Laugh*Iron*Washington*Laugh*Cariou*Laugh*Bye*Cariou*Laugh*Laugh*Bye*Laugh*Iron*Promotion*Laugh*Bye*Laugh*Promotion*Bye*Laugh*Promotion*Analyze*Promotion*Bye*Laugh*Cariou*Laugh*Male*Washington*Promotion*Washington*Washington*Bye*Laugh*Laugh*Laugh*Laugh*Promotion*Promotion*Laugh*Laugh*Promotion*Promotion*Promotion*Laugh*Bye*Laugh*Cariou*Cariou*Laugh*Laugh*Washington*Bye*Promotion*Bye*Laugh*Washington*Bye*Vehicle*Washington*Laugh*Laugh*Like*Cariou*Bye*Washington*Promotion*Washington*Oceans*Laugh*Promotion*Promotion*Bye*Male*Promotion*Washington*Washington*Male*Cariou*Cariou*Cariou*Bye*Laugh*Cariou*Bye*Bye*Laugh*Flower*Vehicle*Laugh*Bye*Analyze*Vehicle*Promotion*Bye*Promotion*Promotion*Promotion*Bye*Bye*Vehicle*Promotion*Vehicle*Bye*Born*Like*Promotion*Cariou*Bye*Laugh*Laugh*Promotion*Laugh*Bye*Promotion*Attorney*Promotion*Promotion*Promotion*Vehicle*Cariou*Laugh*Promotion*Laugh*Laugh*Laugh*Laugh*Cariou*Cariou*Bye*Bye*Laugh*Washington*Promotion*Promotion*Like*Laugh*Washington*Laugh*Vehicle*Laugh*Laugh*Analyze*Vehicle*Flower*Analyze*Vehicle*Bye*Bye*Washington*Vehicle*Laugh*Bye*Cariou*Bye*Iron*Promotion*Promotion*Laugh*Attorney*Laugh*Laugh*Vehicle*Cariou*Bye*Laugh*Laugh*Washington*Attorney*Laugh*Cariou*Promotion*Laugh*Attorney*Bye*Promotion*Vehicle*Promotion*Cariou*Bye*Laugh*Bye*Promotion*Bye*Vehicle*Laugh*Bye*Cariou*Promotion*Promotion*Laugh*Vehicle*Laugh*Laugh*Vehicle*Laugh*Analyze*Bye*Laugh*Analyze*Bye*Promotion*Laugh*Promotion*Cariou*Bye*Bye*Bye*Attorney*Promotion*Bye*Laugh*Vehicle*Iron*Washington*Bye*Bye*Promotion*Analyze*Laugh*Promotion*Laugh*Bye*Promotion*Oceans*Washington*Promotion*Promotion*Cariou*Washington*Laugh*Bye*Laugh*Laugh*Laugh*Laugh*Laugh*Bye*Laugh*Washington*Laugh*Cariou*Promotion*Flower*Promotion*Bye*Washington*Laugh*Laugh*Laugh*Laugh*Washington*Laugh*Laugh*Analyze*Bye*Promotion*Bye*Bye*Promotion*Like*Laugh*Laugh*Bye*Bye*Laugh*Bye*Bye*Cariou*Laugh*Bye*Bye*Laugh*Washington*Laugh*Bye*Bye*Bye*Laugh*Analyze*Promotion*Laugh*Vehicle*Bye*Bye*Laugh*Vehicle*Laugh*Laugh*Laugh*Laugh*Washington*Promotion*Laugh*Laugh*Laugh*Bye*Washington*Laugh*Laugh*Laugh*Laugh*Cariou*Laugh*Attorney*Bye*Laugh*Washington*Laugh*Laugh*Laugh*Laugh*Laugh*Laugh*Cariou*Cariou*Iron*Analyze*Bye*Bye*Promotion*Promotion*Cariou*Laugh*Bye*Laugh*Laugh*Vehicle*Laugh*Laugh*Laugh*Bye*Promotion*Bye*Vehicle*Vehicle*Bye*Washington*Laugh*Bye*Laugh*Laugh*Born*Cariou*Bye*Vehicle*Bye*Male*Vehicle*Vehicle*Laugh*Laugh*Laugh*Laugh*Laugh*Promotion*Laugh*Laugh*Washington*Bye*Laugh*Vehicle*Washington*Bye*Promotion*Laugh*Bye*Laugh*Cariou*Male*Washington*Bye*Laugh*Laugh*Attorney*Vehicle*Born*Laugh*Washington*Bye*Washington*Laugh*Born*Promotion*Bye*Born*Laugh*Laugh*Promotion*Vehicle*Bye*Bye*Bye*Laugh*Vehicle*Washington*Born*Bye*Promotion*Promotion*Bye*Bye*Bye*Laugh*Laugh*Washington*Bye*Vehicle*Laugh*Vehicle*Laugh*Bye*Bye*Washington*Washington*Laugh*Laugh*Bye*Promotion*Promotion*Washington*Laugh*Laugh*Laugh*Promotion*Bye*Promotion*Laugh*Promotion*Bye*Promotion*Promotion*Cariou*Laugh*Laugh*Laugh*Attorney*Vehicle*Laugh*Laugh*Promotion*Promotion*Laugh*Promotion*Laugh*Laugh*Cariou*Laugh*Cariou*Bye*Vehicle*Promotion*Promotion*Laugh*Bye*Vehicle*Washington*Laugh*Laugh*Promotion*Cariou*Bye*Washington*Laugh*Laugh*Bye*Like*Laugh*Washington*Promotion*Laugh*Laugh*Like*Promotion*Laugh*Laugh*Promotion*Washington*Flower*Vehicle*Cariou*Washington*Laugh*Bye*Vehicle*Washington*Laugh*Bye*Bye*Washington*Laugh*Laugh*Laugh*Laugh*Bye*Promotion*Bye*Laugh*Laugh*Laugh*Promotion*Laugh*Bye*Promotion*Laugh*Laugh*Bye*Bye*Promotion*Promotion*Washington*Vehicle*Promotion*Laugh*Promotion*Laugh*Laugh*Bye*Cariou*Laugh*Analyze*Laugh*Bye*Cariou*Bye*Laugh*Bye*Promotion*Analyze*Cariou*Promotion*Like*Vehicle*Vehicle*Bye*Laugh*Male*Cariou*Promotion*Laugh*Iron*Washington*Promotion*Laugh*Laugh*Laugh*Vehicle*Laugh*Promotion*Laugh*Bye*Vehicle*Promotion*Bye*Washington*Vehicle*Cariou*Promotion*Vehicle*Like*Promotion*Laugh*Laugh*Bye*Laugh*Vehicle*Oceans*Laugh*Laugh*Laugh*Washington*Iron*Vehicle*Laugh*Vehicle*Cariou*Cariou*Vehicle*Promotion*Cariou*Cariou*Laugh*Cariou*Promotion*Laugh*Cariou*Laugh*Vehicle*Laugh*Laugh*Laugh*Promotion*Promotion*Laugh*Cariou*Cariou*Attorney*Like*Laugh*Laugh*Bye*Cariou*Vehicle*Iron*Bye*Bye*Bye*Laugh*Promotion*Bye*Laugh*Washington*Laugh*Laugh*Laugh*Promotion*Washington*Promotion*Bye*Laugh*Promotion*Analyze*Laugh*Washington*Promotion*Laugh*Bye*Cariou*Bye*Promotion*Promotion*Laugh*Promotion*Laugh*Cariou*Bye*Laugh*Bye*Laugh*Laugh*Bye*Laugh*Male*Promotion*Cariou*Washington*Bye*Vehicle*Washington*Bye*Bye*Bye*Laugh*Laugh*Washington*Cariou*Laugh*Male*Laugh*Laugh*Promotion*Laugh*Bye*Bye*Laugh*Laugh*Laugh*Washington*Laugh*Bye*Washington*Cariou*Laugh*Vehicle*Laugh*Laugh*Bye*Laugh*Bye*Laugh*Born*Male*Laugh*Promotion*Laugh*Laugh*Washington*Laugh*Washington*Promotion*Quiet*Washington*Bye*Promotion*Promotion*Laugh*Bye*Laugh*Promotion*Laugh*Washington*Bye*Promotion*Bye*Washington*Bye*Cariou*Laugh*Bye*Vehicle*Laugh*Washington*Cariou*Cariou*Flower*Cariou*Washington*Laugh*Quiet*Laugh*Laugh*Vehicle*Cariou*Cariou*Laugh*Washington*Vehicle*Promotion*Cariou*Bye*Bye*Laugh*Laugh*Washington*Laugh*Laugh*Laugh*Laugh*Promotion*Laugh*Cariou*Vehicle*Laugh*Bye*Cariou*Bye*Bye*Iron*Washington*Laugh*Promotion*Laugh*Promotion*Promotion*Bye*Promotion*Male*Laugh*Attorney*Bye*Male*Washington*Washington*Vehicle*Promotion*Laugh*Bye*Promotion*Vehicle*Bye*Bye*Laugh*Laugh*Washington*Laugh*Laugh*Promotion*Cariou*Laugh*Promotion*Laugh*Promotion*Washington*Laugh*Bye*Washington*Laugh*Promotion*Laugh*Bye*Promotion*Laugh*Laugh*Laugh*Bye*Oceans*Laugh*Promotion*Washington*Promotion*Cariou*Laugh*Bye*Washington*Laugh*Promotion*Promotion*Bye*Bye*Bye*Promotion*Laugh*Laugh*Promotion*Promotion*Bye*Analyze*Bye*Attorney*Laugh*Laugh*Laugh*Bye*Cariou*Laugh*Promotion*Laugh*Promotion*Male*Laugh*Bye*Bye*Promotion*Washington*Promotion*Washington*Promotion*Laugh*Bye*Laugh*Laugh*Attorney*Cariou*Promotion*Cariou*Bye*Laugh*Laugh*Like*Washington*Washington*Bye*Bye*Promotion*Vehicle*Promotion*Washington*Vehicle*Laugh*Vehicle*Cariou*Vehicle*Laugh*Laugh*Laugh*Cariou*Bye*Male*Like*Laugh*Promotion*Promotion*Bye*Laugh*Laugh*Promotion*Laugh*Washington*Quiet*Cariou*Bye*Quiet*Bye*Bye*Washington*Cariou*Promotion*Promotion*Laugh*Cariou*Cariou*Laugh*Promotion*Laugh*Cariou*Laugh*Vehicle*Bye*Vehicle*Washington*Bye*Promotion*Laugh*Bye*Cariou*Bye*Laugh*Bye*Cariou*Promotion*Promotion*Promotion*Laugh*Born*Bye*Washington*Laugh*Promotion*Washington*Bye*Laugh*Cariou*Laugh*Born*Cariou*Washington*Promotion*Laugh*Like*Washington*Analyze*Laugh*Promotion*Washington*Born*Washington*Laugh*Washington*Vehicle*Bye*Laugh*Vehicle*Washington*Promotion*Promotion*Promotion*Male*Promotion*Laugh*Washington*Bye*Bye*Promotion*Laugh*Bye*Bye*Promotion*Vehicle*Laugh*Laugh*Laugh*Like*Like*Vehicle*Male*Promotion*Analyze*Promotion*Laugh*Bye*Washington*Bye*Promotion*Promotion*Cariou*Vehicle*Bye*Laugh*Laugh*Laugh*Attorney*Male*Cariou*Bye*Bye*Cariou*Laugh*Bye*Cariou*Cariou*Vehicle*Bye*Promotion*Vehicle*Vehicle*Analyze*Laugh*Laugh*Laugh*Laugh*Bye*Laugh*Laugh*Cariou*Quiet*Laugh*Laugh*Vehicle*Laugh*Cariou*Promotion*Laugh*Promotion*Vehicle*Iron*Bye*Cariou*Washington*Laugh*Analyze*Laugh*Vehicle*Attorney*Bye*Laugh*Promotion*Laugh*Laugh*Washington*Laugh*Promotion*Laugh*Bye*Bye*Laugh*Promotion*Laugh*Laugh*Promotion*Iron*Promotion*Cariou*Bye*Promotion*Promotion*Like*Bye*Washington*Vehicle*Laugh*Washington*Laugh*Bye*Laugh*Vehicle*Promotion*Bye*Cariou*Laugh*Laugh*Laugh*Washington*Laugh*Promotion*Promotion*Laugh*Cariou*Laugh*Promotion*Cariou*Laugh*Bye*Bye*Bye*Promotion*Bye*Analyze*Laugh*Laugh*Washington*Laugh*Washington*Laugh*Laugh*Laugh*Like*Laugh*Washington*Cariou*Cariou*Bye*Laugh*Cariou*Laugh*Promotion*Laugh*Cariou*Washington*Laugh*Promotion*Laugh*Washington*Cariou*Laugh*Promotion*Vehicle*Washington*Laugh*Bye*Promotion*Iron*Laugh*Laugh*Cariou*Washington*Bye*Promotion*Washington*Laugh*Washington*Laugh*Bye*Laugh*Laugh*Laugh*Laugh*Bye*Analyze*Vehicle*Analyze*Washington*Promotion*Cariou*Bye*Laugh*Promotion*Bye*Promotion*Laugh*Laugh*Attorney*Cariou*Washington*Laugh*Laugh*Laugh*Washington*Vehicle*Promotion*Laugh*Laugh*Promotion*Promotion*Laugh*Cariou*Cariou*Laugh*Laugh*Laugh*Vehicle*Promotion*Cariou*Promotion*Promotion*Laugh*Laugh*Promotion*Oceans*Cariou*Bye*Bye*Bye*Laugh*Laugh*Vehicle*Vehicle*Laugh*Laugh*Laugh*Promotion*Laugh*Promotion*Bye*Vehicle*Cariou*Quiet*Laugh*Laugh*Born*Cariou*Laugh*Laugh*Washington*Cariou*Promotion*Vehicle*Vehicle*Vehicle*Cariou*Promotion*Promotion*Laugh*Washington*Attorney*Cariou*Washington*Washington*Cariou*Promotion*Laugh*Laugh*Cariou*Promotion*Promotion*Washington*Laugh*Vehicle*Promotion*Bye*Promotion*Bye*Quiet*Bye*Laugh*Bye*Laugh*Attorney*Bye*Vehicle*Promotion*Laugh*Promotion*Laugh*Washington*Bye*Attorney*Washington*Cariou*Promotion*Laugh*Cariou*Flower*Laugh*Analyze*Promotion*Bye*Vehicle*Vehicle*Promotion*Laugh*Laugh*Bye*Laugh*Laugh*Promotion*Laugh*Cariou*Laugh*Laugh*Laugh*Bye*Promotion*Bye*Like*Laugh*Washington*Laugh*Promotion*Laugh*Promotion*Oceans*Cariou*Bye*Laugh*Laugh*Cariou*Laugh*Laugh*Vehicle*Laugh*Like*Cariou*Analyze*Vehicle*Cariou*Promotion*Vehicle*Vehicle*Promotion*Vehicle*Bye*Oceans*Promotion*Vehicle*Promotion*Vehicle*Cariou*Laugh*Laugh*Cariou*Laugh*Laugh*Bye*Male*Promotion*Laugh*Laugh*Like*Laugh*Laugh*Bye*Promotion*Laugh*Bye*Washington*Promotion*Bye*Iron*Laugh*Male*Vehicle*Laugh*Bye*Laugh*Like*Promotion*Laugh*Promotion*Cariou*Laugh*Promotion*Promotion*Born*Analyze*Laugh*Laugh*Laugh*Promotion*Analyze*Washington*Cariou*Vehicle*Bye*Bye*Laugh*Washington*Laugh*Laugh*Analyze*Washington*Laugh*Bye*Cariou*Vehicle*Laugh*Laugh*Vehicle*Like*Laugh*Cariou*Laugh*Washington*Analyze*Laugh*Promotion*Laugh*Washington*Washington*Bye*Laugh*Iron*Bye*Like*Laugh*Laugh*Vehicle*Bye*Cariou*Laugh*Bye*Promotion*Bye*Laugh*Laugh*Bye*Laugh*Laugh*Bye*Bye*Vehicle*Laugh*Laugh*Like*Vehicle*Cariou*Oceans*Laugh*Attorney*Promotion*Laugh*Bye*Laugh*Cariou*Vehicle*Laugh*Laugh*Bye*Promotion*Bye*Laugh*Laugh*Promotion*Bye*Washington*Promotion*Bye*Laugh*Bye*Laugh*Laugh*Laugh*Washington*Laugh*Cariou*Flower*Washington*Washington*Bye*Promotion*Bye*Washington*Laugh*Laugh*Promotion*Bye*Laugh*Bye*Laugh*Cariou*Laugh*Bye*Promotion*Laugh*Laugh*Laugh*Born*Vehicle*Promotion*Promotion*Washington*Analyze*Cariou*Promotion*Laugh*Laugh*Promotion*Cariou*Laugh*Laugh*Like*Like*Laugh*Promotion*Laugh*Laugh*Vehicle*Laugh*Laugh*Bye*Promotion*Laugh*Laugh*Washington*Washington*Promotion*Washington*Promotion*Vehicle*Washington*Attorney*Laugh*Bye*Cariou*Bye*Vehicle*Promotion*Promotion*Laugh*Washington*Promotion*Attorney*Laugh*Laugh*Vehicle*Bye*Promotion*Bye*Bye*Promotion*Laugh*Washington*Bye*Iron*Laugh*Bye*Laugh*Laugh*Vehicle*Promotion*Bye*Bye*Bye*Vehicle*Promotion*Promotion*Cariou*Washington*Cariou*Cariou*Washington*Cariou*Promotion*Promotion*Bye*Washington*Laugh*Born*Vehicle*Bye*Laugh*Analyze*Cariou*Iron*Vehicle*Washington*Laugh*Washington*Promotion*Bye*Laugh*Vehicle*Washington*Laugh*Laugh*Analyze*Laugh*Laugh*Like*Promotion*Bye*Born*Laugh*Cariou*Laugh*Laugh*Promotion*Promotion*Washington*Vehicle*Laugh*Laugh*Washington*Bye*Promotion*Washington*Bye*Bye*Promotion*Washington*Laugh*Bye*Laugh*Cariou*Washington*Bye*Promotion*Promotion*Vehicle*Laugh*Vehicle*Laugh*Bye*Bye*Vehicle*Promotion*Promotion*Laugh*Promotion*Vehicle*Bye*Cariou*Born*Laugh*Laugh*Laugh*Washington*Laugh*Promotion*Promotion*Bye*Laugh*Washington*Promotion*Promotion*Bye*Bye*Cariou*Laugh*Vehicle*Bye*Laugh*Bye*Born*Bye*Cariou*Cariou*Laugh*Washington*Washington*Cariou*Laugh*Male*Promotion*Vehicle*Cariou*Washington*Like*Laugh*Laugh*Washington*Laugh*Bye*Laugh*Laugh*Laugh*Washington*Bye*Washington*Laugh*Laugh*Promotion*Cariou*Cariou*Promotion*Laugh*Laugh*Laugh*Promotion*Laugh*Promotion*Promotion*Laugh*Bye*Bye*Laugh*Bye*Like*Laugh*Bye*Promotion*Laugh*Laugh*Cariou*Cariou*Cariou*Laugh*Promotion*Vehicle*Bye*Cariou*Washington*Promotion*Washington*Like*Laugh*Laugh*Bye*Analyze*Laugh*Laugh*Laugh*Cariou*Vehicle*Iron*Cariou*Laugh*Laugh*Cariou*Laugh*Cariou*Male*Laugh*Laugh*Vehicle*Laugh*Laugh*Bye*Laugh*Laugh*Laugh*Laugh*Bye*Promotion*Washington*Bye*Bye*Bye*Washington*Laugh*Promotion*Washington*Washington*Laugh*Laugh*Quiet*Vehicle*Bye*Bye*Laugh*Washington*Bye*Washington*Male*Bye*Cariou*Bye*Cariou*Laugh*Laugh*Cariou*Promotion*Vehicle*Laugh*Bye*Laugh*Promotion*Like*Attorney*Vehicle*Bye*Promotion*Bye*Bye*Promotion*Cariou*Washington*Laugh*Laugh*Bye*Bye*Bye*Laugh*Vehicle*Promotion*Bye*Promotion*Cariou*Cariou*Cariou*Cariou*Laugh*Laugh*Vehicle*Bye*Bye*Laugh*Laugh*Bye*Cariou*Bye*Laugh*Cariou*Laugh*Laugh*Bye*Bye*Cariou*Laugh*Washington*Vehicle*Born*Bye*Laugh*Bye*Promotion*Bye*Cariou*Laugh*Laugh*Laugh*Bye*Bye*Analyze*Male*Bye*Promotion*Washington*Vehicle*Laugh*Laugh*Vehicle*Bye*Cariou*Bye*Laugh*Laugh*Laugh*Laugh*Vehicle*Laugh*Washington*Promotion*Laugh*Promotion*Bye*Promotion*Washington*Laugh*Vehicle*Laugh*Iron*Washington*Washington*Vehicle*Cariou*Bye*Bye*Laugh*Laugh*Bye*Washington*Laugh*Quiet*Cariou*Bye*Bye*Washington*Laugh*Washington*Laugh*Attorney*Laugh*Attorney*Laugh*Vehicle*Laugh*Cariou*Laugh*Vehicle*Vehicle*Vehicle*Vehicle*Promotion*Laugh*Bye*Vehicle*Promotion*Promotion*Promotion*Washington*Promotion*Laugh*Laugh*Laugh*Like*Laugh*Washington*Analyze*Laugh*Laugh*Promotion*Promotion*Laugh*Washington*Bye*Washington*Attorney*Like*Bye*Bye*Promotion*Bye*Laugh*Washington*Laugh*Laugh*Bye*Laugh*Like*Bye*Born*Promotion*Laugh*Laugh*Washington*Promotion*Promotion*Bye*Promotion*Washington*Analyze*Promotion*Laugh*Laugh*Male*Laugh*Washington*Bye*Laugh*Laugh*Washington*Vehicle*Promotion*Cariou*Cariou*Promotion*Vehicle*Laugh*Promotion*Cariou*Born*Laugh*Iron*Promotion*Vehicle*Washington*Oceans*Bye*Laugh*Promotion*Laugh*Analyze*Analyze*Laugh*Bye*Vehicle*Laugh*Cariou*Laugh*Laugh*Vehicle*Cariou*Laugh*Promotion*Promotion*Laugh*Laugh*Like*Laugh*Laugh*Cariou*Bye*Laugh*Laugh*Laugh*Analyze*Laugh*Laugh*Promotion*Laugh*Laugh*Laugh*Laugh*Laugh*Flower*Promotion*Laugh*Vehicle*Vehicle*Vehicle*Like*Promotion*Analyze*Promotion*Laugh*Promotion*Vehicle*Vehicle*Laugh*Laugh*Vehicle*Laugh*Laugh*Promotion*Washington*Laugh*Laugh*Promotion*Like*Cariou*Laugh*Laugh*Washington*Laugh*Cariou*Laugh*Iron*Laugh*Promotion*Bye*Bye*Cariou*Bye*Promotion*Laugh*Bye*Cariou*Laugh*Promotion*Vehicle*Laugh*Bye*Bye*Laugh*Laugh**Laugh*Vehicle*Laugh*Bye*Promotion*Washington*Cariou*Cariou*Laugh*Bye*Bye*Analyze*Cariou*Laugh*Laugh*Bye*Laugh*Washington*Cariou*Vehicle*Bye*Laugh*Promotion*Cariou*Cariou*Laugh*Bye*Washington*Bye*Vehicle*Promotion*Laugh*Bye*Laugh*Bye*Vehicle*Cariou*Vehicle*Laugh*Cariou*Vehicle*Promotion*Vehicle*Bye*Flower*Promotion*Promotion*Laugh*Laugh*Laugh*Laugh*Cariou*Bye*Washington*Laugh*Laugh*Laugh*Vehicle*Male*Bye*Laugh*Laugh*Laugh*Bye*Promotion*Laugh*Cariou*Promotion*Laugh*Vehicle*Laugh*Bye*Washington*Bye*Vehicle*Laugh*Laugh*Promotion*Laugh*Bye*Laugh*Laugh*Laugh*Laugh*Vehicle*Promotion*Bye*Bye*Laugh*Promotion*Vehicle*Bye*Laugh*Laugh*Cariou*Bye*Promotion*Vehicle*Laugh*Laugh*Bye*Promotion*Cariou*Bye*Washington*Laugh*Like*Washington*Cariou*Promotion*Laugh*Promotion*Laugh*Bye*Laugh*Laugh*Promotion*Laugh*Laugh*Vehicle*Laugh*Bye*Washington*Attorney*Promotion*Promotion*Cariou*Laugh*Promotion*Laugh*Cariou*Laugh*Vehicle*Bye*Iron*Like*Cariou*Promotion*Washington*Vehicle*Laugh*Bye*Washington*Laugh*Bye*Laugh*Laugh*Bye*Laugh*Bye*Promotion*Laugh*Laugh*Laugh*Cariou*Washington*Attorney*Washington*Laugh*Bye*Laugh*Laugh*Laugh*Laugh*Laugh*Laugh*Bye*Promotion*Promotion*Laugh*Promotion*Bye*Promotion*Bye*Cariou*Bye*Cariou*Laugh*Bye*Like*Washington*Washington*Vehicle*Promotion*Laugh*Quiet*Vehicle*Promotion*Bye*Laugh*Laugh*Bye*Cariou*Vehicle*Laugh*Laugh*Promotion*Laugh*Laugh*Vehicle*Promotion*Bye*Bye*Bye*Washington*Laugh*Vehicle*Laugh*Laugh*Laugh*Bye*Promotion*Vehicle*Analyze*Laugh*Bye*Bye*Laugh*Promotion*Washington*Laugh*Bye*Laugh*Washington*Laugh*Washington*Bye*Washington*Washington*Laugh*Promotion*Laugh*Promotion*Bye*Laugh*Vehicle*Cariou*Promotion*Bye*Washington*Vehicle*Washington*Bye*Bye*Cariou*Promotion*Cariou*Washington*Cariou*Laugh*Bye*Cariou*Promotion*Like*Promotion*Vehicle*Vehicle*Cariou*Laugh*Laugh*Promotion*Washington*Promotion*Laugh*Promotion*Cariou*Bye*Cariou*Laugh*Cariou*Washington*Washington*Vehicle*Vehicle*Promotion*Cariou*Laugh*Laugh*Promotion*Bye*Washington*Promotion*Laugh*Laugh*Promotion*Bye*Cariou*Laugh*Cariou*Cariou*Promotion*Washington*Laugh*Vehicle*Promotion*Bye*Washington*Promotion*Vehicle*Washington*Promotion*Cariou*Laugh*Cariou*Analyze*Cariou*Washington*Laugh*Cariou*Laugh*Bye*Laugh*Promotion*Promotion*Cariou*Laugh*Cariou*Promotion*Promotion*Laugh*Laugh*Iron*Promotion*Promotion*Laugh*Male*Laugh*Bye*Vehicle*Cariou*Laugh*Laugh*Washington*Cariou*Laugh*Laugh*Promotion*Bye*Cariou*Laugh*Laugh*Laugh*Cariou*Bye*Promotion*Laugh*Washington*Cariou*Laugh*Male*Vehicle*Vehicle*Bye*Promotion*Cariou*Bye*Bye*Laugh*Bye*Promotion*Vehicle*Washington*Cariou*Male*Laugh*Laugh*Laugh*Washington*Laugh*Laugh*Vehicle*Promotion*Laugh*Bye*Laugh*Vehicle*Laugh*Cariou*Laugh*Vehicle*Promotion*Bye*Bye*Bye*Laugh*Promotion*Bye*Vehicle*Vehicle*Bye*Vehicle*Male*Laugh*Laugh*Vehicle*Like*Analyze*Cariou*Bye*Laugh*Promotion*Laugh*Laugh*Cariou*Bye*Analyze*Laugh*Laugh*Bye*Cariou*Laugh*Attorney*Bye*Laugh*Laugh*Bye*Bye*Vehicle*Promotion*Laugh*Laugh*Promotion*Oceans*Bye*Like*Promotion*Laugh*Promotion*Laugh*Laugh*Cariou*Bye*Laugh*Laugh*Cariou*Bye*Laugh*Laugh*Laugh*Vehicle*Laugh*Flower*Laugh*Bye*Laugh*Oceans*Laugh*Laugh*Laugh*Cariou*Bye*Bye*Laugh*Promotion*Vehicle*Cariou*Laugh*Cariou*Promotion*Bye*Washington*Laugh*Laugh*Laugh*Iron*Bye*Promotion*Laugh*Laugh*Vehicle*Cariou*Washington*Attorney*Laugh*Attorney*Washington*Bye*Laugh*Washington*Bye*Promotion*Bye*Vehicle*Laugh*Bye*Promotion*Washington*Washington*Born*Washington*Like*Promotion*Laugh*Vehicle*Laugh*Laugh*Cariou*Vehicle*Bye*Laugh*Washington*Laugh*Laugh*Like*Bye*Attorney*Vehicle*Laugh*Vehicle*Promotion*Laugh*Laugh*Bye*Bye*Promotion*Laugh*Laugh*Laugh*Bye*Laugh*Bye*Laugh*Flower*Laugh*Laugh*Laugh*Laugh*Laugh*Cariou*Laugh*Promotion*Cariou*Born*Cariou*Male*Bye*Born*Vehicle*Promotion*Laugh*Bye*Laugh*Promotion*Laugh*Analyze*Cariou*Cariou*Washington*Bye*Washington*Cariou*Laugh*Vehicle*Laugh*Promotion*Laugh*Washington*Vehicle*Bye*Promotion*Flower*Vehicle*Cariou*Analyze*Promotion*Promotion*Promotion*Attorney*Promotion*Promotion*Promotion*Laugh*Bye*Laugh*Washington*Analyze*Born*Promotion*Washington*Vehicle*Washington*Promotion*Cariou*Washington*Laugh*Laugh*Laugh*Vehicle*Promotion*Bye*Bye*Laugh*Promotion*Washington*Promotion*Laugh*Bye*Bye*Laugh*Laugh*Analyze*Vehicle*Laugh*Bye*Laugh*Bye*Vehicle*Laugh*Bye*Bye*Flower*Bye*Laugh*Cariou*Bye*Laugh*Laugh*Laugh*Laugh*Bye*Cariou*Vehicle*Promotion*Bye*Vehicle*Bye*Promotion*Laugh*Bye*Washington*Promotion*Laugh*Promotion*Bye*Vehicle*Cariou*Laugh*Laugh*Oceans*Washington*Laugh*Laugh*Promotion*Iron*Laugh*Laugh*Vehicle*Laugh*Promotion*Vehicle*Bye*Bye*Bye*Vehicle*Analyze*Cariou*Cariou*Bye*Laugh*Washington*Vehicle*Promotion*Promotion*Laugh*Bye*Laugh*Cariou*Cariou*Laugh*Bye*Laugh*Bye*Bye*Promotion*Promotion*Promotion*Analyze*Iron*Bye*Laugh*Laugh*Bye*Like*Promotion*Bye*Laugh*Bye*Born*Like*Bye*Cariou*Washington*Washington*Laugh*Promotion*Analyze*Laugh*Laugh*Cariou*Laugh*Promotion*Laugh*Laugh*Washington*Bye*Promotion*Born*Laugh*Cariou*Laugh*Laugh*Laugh*Vehicle*Laugh*Vehicle*Bye*Vehicle*Washington*Born*Bye*Vehicle*Washington*Laugh*Laugh*Promotion*Washington*Washington*Bye*Washington*Laugh*Attorney*Cariou*Laugh*Male*Vehicle*Promotion*Washington*Vehicle*Laugh*Like*Bye*Laugh*Cariou*Laugh*Laugh*Laugh*Laugh*Cariou*Washington*Laugh*Bye*Cariou*Promotion*Vehicle*Promotion*Promotion*Bye*Vehicle*Bye*Laugh*Laugh*Laugh*Promotion*Laugh*Vehicle*Bye*Flower*Laugh*Laugh*Bye*Cariou*Laugh*Laugh*Analyze*Bye*Promotion*Bye*Laugh*Cariou*Laugh*Cariou*Vehicle*Laugh*Bye*Laugh*Laugh*Promotion*Cariou*Laugh*Promotion*Bye*Washington*Laugh*Male*Promotion*Promotion*Vehicle*Laugh*Bye*Bye*Laugh*Male*Vehicle*Born*Laugh*Promotion*Flower*Laugh*Promotion*Laugh*Washington*Bye*Laugh*Cariou*Laugh*Quiet*Bye*Washington*Promotion*Washington*Laugh*Vehicle*Bye*Cariou*Laugh*Iron*Promotion*Bye*Promotion*Washington*Oceans*Vehicle*Analyze*Iron*Laugh*Promotion*Laugh*Laugh*Promotion*Laugh*Promotion*Cariou*Laugh*Bye*Laugh*Promotion*Cariou*Laugh*Laugh*Bye*Laugh*Cariou*Bye*Laugh*Laugh*Bye*Laugh*Analyze*Vehicle*Laugh*Cariou*Bye*Bye*Vehicle*Promotion*Laugh*Laugh*Vehicle*Vehicle*Born*Cariou*Bye*Bye*Promotion*Laugh*Washington*Laugh*Bye*Vehicle*Laugh*Cariou*Quiet*Bye*Laugh*Laugh*Laugh*Laugh*Promotion*Vehicle*Like*Cariou*Cariou*Vehicle*Laugh*Bye*Laugh*Laugh*Bye*Laugh*Vehicle*Vehicle*Laugh*Vehicle*Washington*Washington*Laugh*Like*Male*Bye*Promotion*Laugh*Promotion*Bye*Cariou*Quiet*Bye*Promotion*Promotion*Promotion*Laugh*Vehicle*Promotion*Bye*Vehicle*Laugh*Washington*Analyze*Laugh*Promotion*Laugh*Laugh*Promotion*Promotion*Quiet*Laugh*Laugh*Cariou*Laugh*Analyze*Bye*Laugh*Washington*Laugh*Washington*Laugh*Laugh*Like*Promotion*Cariou*Promotion*Cariou*Laugh*Bye*Laugh*Promotion*Promotion*Laugh*Laugh*Promotion*Laugh*Bye*Cariou*Laugh*Laugh*Laugh*Laugh*Promotion*Vehicle*Laugh*Bye*Oceans*Cariou*Laugh*Laugh*Born*Cariou*Promotion*Laugh*Laugh*Laugh*Laugh*Bye*Vehicle*Promotion*Laugh*Laugh*Cariou*Promotion*Laugh*Bye*Promotion*Laugh*Laugh*Vehicle*Laugh*Laugh*Washington*Washington*Bye*Laugh*Bye*Promotion*Promotion*Laugh*Laugh*Laugh*Laugh*Promotion*Laugh*Vehicle*Laugh*Laugh*Promotion*Bye*Laugh*Bye*Laugh*Laugh*Bye*Vehicle*Laugh*Laugh*Washington*Laugh*Promotion*Like*Promotion*Washington*Washington*Laugh*Bye*Promotion*Promotion*Bye*Bye*Bye*Promotion*Vehicle*Bye*Vehicle*Laugh*Laugh*Laugh*Flower*Washington*Cariou*Laugh*Laugh*Laugh*Laugh*Laugh*Cariou*Washington*Laugh*Vehicle*Cariou*Laugh*Vehicle*Bye*Promotion*Laugh*Laugh*Laugh*Promotion*Washington*Laugh*Laugh*Laugh*Laugh*Laugh*Laugh*Promotion*Cariou*Bye*Laugh*Bye*Laugh*Washington*Oceans*Laugh*Bye*Laugh*Laugh*Bye*Laugh*Cariou*Like*Oceans*Washington*Vehicle*Promotion*Laugh*Promotion*Vehicle*Washington*Washington*Promotion*Analyze*Laugh*Laugh*Laugh*Analyze*Bye*Bye*Vehicle*Promotion*Laugh*Laugh*Bye*Bye*Promotion*Washington*Laugh*Laugh*Laugh*Promotion*Laugh*Vehicle*Bye*Washington*Attorney*Washington*Male*Laugh*Promotion*Like*Like*Born*Bye*Cariou*Vehicle*Laugh*Promotion*Laugh*Laugh*Laugh*Bye*Bye*Promotion*Like*Vehicle*Laugh*Promotion*Promotion*Like*Promotion*Vehicle*Promotion*Promotion*Cariou*Vehicle*Like*Promotion*Bye*Washington*Bye*Laugh*Laugh*Vehicle*Bye*Cariou*Promotion*Laugh*Vehicle*Cariou*Laugh*Vehicle*Cariou*Washington*Laugh*Laugh*Bye*Promotion*Laugh*Promotion*Like*Bye*Laugh*Washington*Washington*Bye*Vehicle*Vehicle*Bye*Vehicle*Born*Promotion*Washington*Bye*Bye*Laugh*Laugh*Bye*Laugh*Laugh*Analyze*Promotion*Laugh*Laugh*Bye*Laugh*Bye*Laugh*Laugh*Cariou*Laugh*Cariou*Laugh*Vehicle*Washington*Laugh*Promotion*Laugh*Laugh*Laugh*Bye*Laugh*Laugh*Washington*Laugh*Promotion*Bye*Laugh*Promotion*Laugh*Bye*Cariou*Vehicle*Promotion*Promotion*Bye*Laugh*Bye*Laugh*Bye*Laugh*Cariou*Washington*Male*Analyze*Washington*Washington*Laugh*Vehicle*Bye*Bye*Bye*Flower*Promotion*Bye*Promotion*Washington*Bye*Bye*Laugh*Laugh*Laugh*Promotion*Promotion*Cariou*Laugh*Washington*Promotion*Bye*Vehicle*Laugh*Laugh*Bye*Cariou*Bye*Bye*Washington*Washington*Laugh*Bye*Promotion*Attorney*Analyze*Bye*Bye*Cariou*Bye*Cariou*Laugh*Promotion*Washington*Washington*Laugh*Bye*Laugh*Laugh*Laugh*Bye*Washington*Laugh*Bye*Promotion*Bye*Laugh*Laugh*Laugh*Cariou*Bye*Analyze*Laugh*Male*Laugh*Promotion*Promotion*Bye*Bye*Vehicle*Cariou*Promotion*Promotion*Promotion*Washington*Laugh*Laugh*Laugh*Bye*Bye*Washington*Laugh*Laugh*Bye*Laugh*Like*Iron*Like*Vehicle*Laugh*Laugh*Bye*Quiet*Vehicle*Laugh*Oceans*Washington*Bye*Washington*Promotion*Laugh*Like*Laugh*Promotion*Promotion*Born*Iron*Bye*Promotion*Cariou*Promotion*Laugh*Bye*Bye*Laugh*Cariou*Born*Laugh*Washington*Laugh*Bye*Like*Laugh*Promotion*Laugh*Bye*Laugh*Laugh*Bye*Bye*Laugh*Bye*Promotion*Promotion*Iron*Cariou*Laugh*Laugh*Cariou*Cariou*Laugh*Bye*Cariou*Laugh*Laugh*Laugh*Washington*Laugh*Bye*Promotion*Promotion*Washington*Washington*Cariou*Born*Laugh*Bye*Cariou*Vehicle*Iron*Vehicle*Vehicle*Bye*Promotion*Laugh*Promotion*Cariou*Laugh*Laugh*Like*Vehicle*Laugh*Vehicle*Promotion*Cariou*Bye*Iron*Cariou*Bye*Laugh*Cariou*Bye*Bye*Washington*Promotion*Laugh*Bye*Promotion*Promotion*Vehicle*Like*Analyze*Bye*Laugh*Laugh*Bye*Promotion*Laugh*Born*Bye*Promotion*Promotion*Cariou*Promotion*Laugh*Analyze*Cariou*Cariou*Promotion*Bye*Bye*Bye*Cariou*Iron*Promotion*Laugh*Bye*Washington*Born*Laugh*Promotion*Cariou*Cariou*Like*Promotion*Bye*Laugh*Analyze*Laugh*Bye*Cariou*Cariou*Promotion*Washington*Laugh*Laugh*Promotion*Cariou*Laugh*Promotion*Iron*Bye*Laugh*Like*Laugh*Promotion*Bye*Washington*Bye*Laugh*Washington*Laugh*Washington*Promotion*Male*Flower*Cariou*Laugh*Bye*Bye*Cariou*Iron*Washington*Laugh*Laugh*Male*Iron*Vehicle*Cariou*Laugh*Laugh*Cariou*Promotion*Analyze*Attorney*Cariou*Laugh*Cariou*Analyze*Promotion*Washington*Bye*Cariou*Vehicle*Promotion*Laugh*Iron*Laugh*Washington*Laugh*Laugh*Laugh*Laugh*Bye*Laugh*Analyze*Like*Cariou*Bye*Laugh*Washington*Laugh*Cariou*Promotion*Cariou*Washington*Vehicle*Analyze*Bye*Laugh*Laugh*Bye*Laugh*Promotion*Analyze*Cariou*Laugh*Cariou*Analyze*Promotion*Promotion*Promotion*Promotion*Bye*Washington*Bye*Cariou*Bye*Bye*Washington*Bye*Cariou*Laugh*Promotion*Promotion*Bye*Bye*Bye*Laugh*Analyze*Promotion*Laugh*Laugh*Laugh*Laugh*Laugh*Promotion*Bye*Laugh*Analyze*Laugh*Vehicle*Laugh*Bye*Washington*Vehicle*Washington*Promotion*Laugh*Flower*Vehicle*Laugh*Laugh*Bye*Vehicle*Promotion*Washington*Bye*Laugh*Laugh*Cariou*Laugh*Washington*Laugh*Bye*Promotion*Cariou*Laugh*Attorney*Promotion*Promotion*Bye*Bye*Laugh*Laugh*Vehicle*Cariou*Laugh*Cariou*Promotion*Promotion*Laugh*Vehicle*Bye*Bye*Attorney*Vehicle*Cariou*Washington*Vehicle*Washington*Laugh*Laugh*Laugh*Promotion*Laugh*Washington*Laugh*Bye*Bye*Cariou*Vehicle*Cariou*Laugh*Laugh*Laugh*Bye*Laugh\"\"\"\n",
    "counts = collections.Counter(multiple_man.split('*'))"
   ]
  },
  {
   "cell_type": "code",
   "execution_count": 2,
   "metadata": {
    "collapsed": false
   },
   "outputs": [
    {
     "data": {
      "text/plain": [
       "Counter({'': 2,\n",
       "         'Analyze': 115,\n",
       "         'Attorney': 58,\n",
       "         'Born': 64,\n",
       "         'Bye': 1024,\n",
       "         'Cariou': 572,\n",
       "         'Flower': 30,\n",
       "         'Iron': 63,\n",
       "         'Laugh': 2006,\n",
       "         'Like': 121,\n",
       "         'Male': 68,\n",
       "         'Oceans': 24,\n",
       "         'Promotion': 1008,\n",
       "         'Quiet': 24,\n",
       "         'Vehicle': 515,\n",
       "         'Washington': 516})"
      ]
     },
     "execution_count": 2,
     "metadata": {},
     "output_type": "execute_result"
    }
   ],
   "source": [
    "counts"
   ]
  },
  {
   "cell_type": "code",
   "execution_count": 9,
   "metadata": {
    "collapsed": true
   },
   "outputs": [],
   "source": [
    "counts = collections.Counter('TETIUETATNADMRETENHCHTANERIOWSHRSIEDLESQERFES')"
   ]
  },
  {
   "cell_type": "code",
   "execution_count": 10,
   "metadata": {
    "collapsed": false
   },
   "outputs": [
    {
     "data": {
      "text/plain": [
       "Counter({'A': 3,\n",
       "         'C': 1,\n",
       "         'D': 2,\n",
       "         'E': 9,\n",
       "         'F': 1,\n",
       "         'H': 3,\n",
       "         'I': 3,\n",
       "         'L': 1,\n",
       "         'M': 1,\n",
       "         'N': 3,\n",
       "         'O': 1,\n",
       "         'Q': 1,\n",
       "         'R': 4,\n",
       "         'S': 4,\n",
       "         'T': 6,\n",
       "         'U': 1,\n",
       "         'W': 1})"
      ]
     },
     "execution_count": 10,
     "metadata": {},
     "output_type": "execute_result"
    }
   ],
   "source": [
    "counts"
   ]
  },
  {
   "cell_type": "code",
   "execution_count": null,
   "metadata": {
    "collapsed": true
   },
   "outputs": [],
   "source": []
  }
 ],
 "metadata": {
  "kernelspec": {
   "display_name": "Python 3",
   "language": "python",
   "name": "python3"
  },
  "language_info": {
   "codemirror_mode": {
    "name": "ipython",
    "version": 3
   },
   "file_extension": ".py",
   "mimetype": "text/x-python",
   "name": "python",
   "nbconvert_exporter": "python",
   "pygments_lexer": "ipython3",
   "version": "3.6.0"
  }
 },
 "nbformat": 4,
 "nbformat_minor": 2
}
