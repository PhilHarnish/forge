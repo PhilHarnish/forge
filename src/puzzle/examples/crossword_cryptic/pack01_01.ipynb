{
 "cells": [
  {
   "cell_type": "code",
   "execution_count": 1,
   "metadata": {
    "collapsed": true
   },
   "outputs": [],
   "source": [
    "import forge\n",
    "from puzzle.puzzlepedia import puzzlepedia\n",
    "\n",
    "puzzle = puzzlepedia.parse(\"\"\"\n",
    "Sam dreamt about European port (9)\n",
    "Trash was put by the exit, initially (5)\n",
    "Just revenge - sense I'm crazy (7)\n",
    "Cucumber is a bit tougher, kinked (7)\n",
    "Lizard, good with Coke, oddly (5)\n",
    "Father's attempt to get pie-crust (6)\n",
    "Help in class is trainee (6)\n",
    "Takes a chance, right, and skis off (5)\n",
    "Climber's aid gives muscular pain (no turning back) (7)\n",
    "Edwin's upset about Lloyds' first fraud (7)\n",
    "Begin, s-sweet thing! (5)\n",
    "Inexperienced band intended to limit urban sprawl (5, 4)\n",
    "Pus-filled swelling: scab's broken round edges of ears (7)\n",
    "Rarely cooked cut of meat? (5)\n",
    "Cause of Pacific floods crashing on Nile (2, 4)\n",
    "Legal compensation: water barrier takes a long time (7)\n",
    "Pop, say, made by American stuck in short microphone (5)\n",
    "A tree shoot - understand? (4)\n",
    "Accompany a very popular former car model (6)\n",
    "He raps odd group of words (6)\n",
    "Controversial novelist with a hurry to snuff it! (7)\n",
    "In-body device made from tin lamp (7)\n",
    "Awful scene about right PC etc. display (6)\n",
    "Vocalize about large arm support (5)\n",
    "Part of a church in Paisley (5)\n",
    "Exclusive school raising paper money (4)\n",
    "\"\"\")"
   ]
  },
  {
   "cell_type": "code",
   "execution_count": 2,
   "metadata": {
    "collapsed": false
   },
   "outputs": [],
   "source": [
    "puzzlepedia.interact_with(puzzle)"
   ]
  },
  {
   "cell_type": "code",
   "execution_count": null,
   "metadata": {
    "collapsed": true
   },
   "outputs": [],
   "source": []
  }
 ],
 "metadata": {
  "kernelspec": {
   "display_name": "Python 3",
   "language": "python",
   "name": "python3"
  },
  "language_info": {
   "codemirror_mode": {
    "name": "ipython",
    "version": 3
   },
   "file_extension": ".py",
   "mimetype": "text/x-python",
   "name": "python",
   "nbconvert_exporter": "python",
   "pygments_lexer": "ipython3",
   "version": "3.6.0"
  },
  "widgets": {
   "state": {
    "6112f38c7d994d468ba30b7008a1ec20": {
     "views": [
      {
       "cell_index": 1
      }
     ]
    }
   },
   "version": "1.2.0"
  }
 },
 "nbformat": 4,
 "nbformat_minor": 2
}
