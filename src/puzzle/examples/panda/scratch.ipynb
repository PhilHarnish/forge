{
 "cells": [
  {
   "cell_type": "code",
   "execution_count": 9,
   "metadata": {},
   "outputs": [],
   "source": [
    "from forge import *"
   ]
  },
  {
   "cell_type": "code",
   "execution_count": 2,
   "metadata": {},
   "outputs": [
    {
     "data": {
      "text/plain": [
       "'ain)(amo)(ars)(ash)(can)(edt)(efo)(ese)(exi)(how)(man)(oth)(rei)(stb)(tsw)(unt)(yye)(a'"
      ]
     },
     "execution_count": 2,
     "metadata": {},
     "output_type": "execute_result"
    }
   ],
   "source": [
    "')('.join('AIN AMO ARS ASH CAN EDT EFO ESE EXI HOW MAN OTH REI STB TSW UNT YYE A'.lower().split(' '))"
   ]
  },
  {
   "cell_type": "code",
   "execution_count": 3,
   "metadata": {},
   "outputs": [
    {
     "data": {
      "text/plain": [
       "'ain,amo,ars,ash,can,edt,efo,ese,exi,how,man,oth,rei,stb,tsw,unt,yye,a'"
      ]
     },
     "execution_count": 3,
     "metadata": {},
     "output_type": "execute_result"
    }
   ],
   "source": [
    "','.join('AIN AMO ARS ASH CAN EDT EFO ESE EXI HOW MAN OTH REI STB TSW UNT YYE A'.lower().split(' '))"
   ]
  },
  {
   "cell_type": "code",
   "execution_count": 11,
   "metadata": {},
   "outputs": [
    {
     "data": {
      "application/vnd.jupyter.widget-view+json": {
       "model_id": "95211a935bec4a208f30b66ec64451a0",
       "version_major": 2,
       "version_minor": 0
      },
      "text/plain": [
       "Accordion()"
      ]
     },
     "metadata": {},
     "output_type": "display_data"
    },
    {
     "data": {
      "text/plain": [
       "<puzzle.puzzlepedia.puzzle.Puzzle at 0x1230f6240>"
      ]
     },
     "metadata": {},
     "output_type": "display_data"
    }
   ],
   "source": [
    "solve('{die,eve,ody,rgo,ryb,sga,ski,yle,es}')"
   ]
  },
  {
   "cell_type": "code",
   "execution_count": 12,
   "metadata": {},
   "outputs": [
    {
     "data": {
      "application/vnd.jupyter.widget-view+json": {
       "model_id": "27b68ceb26f649f7808f4bdd33294dff",
       "version_major": 2,
       "version_minor": 0
      },
      "text/plain": [
       "Accordion(children=(VBox(children=(HBox(children=(Dropdown(options={'MorseProblem': MorseProblem('#1', ['... -…"
      ]
     },
     "metadata": {},
     "output_type": "display_data"
    },
    {
     "data": {
      "text/plain": [
       "<puzzle.puzzlepedia.puzzle.Puzzle at 0x1230f60f0>"
      ]
     },
     "execution_count": 12,
     "metadata": {},
     "output_type": "execute_result"
    }
   ],
   "source": [
    "solve('... --- ...')"
   ]
  },
  {
   "cell_type": "code",
   "execution_count": 13,
   "metadata": {},
   "outputs": [
    {
     "data": {
      "text/plain": [
       "' HER I TILES'"
      ]
     },
     "execution_count": 13,
     "metadata": {},
     "output_type": "execute_result"
    }
   ],
   "source": [
    "' her I tiles'.upper()"
   ]
  },
  {
   "cell_type": "code",
   "execution_count": 1,
   "metadata": {},
   "outputs": [
    {
     "name": "stdout",
     "output_type": "stream",
     "text": [
      "\n",
      "A\tD\tA\tD\tI\tE\tA\tF\tB\tO\tA\tA\tA\tB\tE\tD\tE\tG\tA\tA\tE\tB\tA\tH\n",
      "C\tE\tA\tE\tN\tH\tA\tG\tE\tO\tB\tI\tC\tB\tE\tE\tQ\tN\tC\tA\tN\tC\tO\tN\n",
      "Q\tH\tE\tT\tS\tN\tA\tH\tE\t.\tC\tO\tF\tC\tH\tR\tR\tR\tC\tC\tR\tC\tO\tN\n",
      "W\tO\tI\tT\tS\tS\tG\tL\tE\t.\tD\tR\tI\tF\tK\tS\tT\tR\tI\tD\tT\tO\tR\tN\n",
      ".\tR\tP\tT\t.\tT\tR\t.\tL\t.\tF\tR\tM\tG\tN\tS\t.\tU\tI\tD\t.\tT\tS\tS\n",
      ".\tU\tR\t.\t.\t.\tT\t.\tS\t.\tF\t.\t.\tO\t.\tT\t.\t.\tI\tE\t.\t.\t.\t.\n",
      "\n"
     ]
    }
   ],
   "source": [
    "given = \"\"\"\n",
    "A D A D I E A F B O A A A B E D E G A A E B A H\n",
    "C E A E N H A G E O B I C B E E Q N C A N C O N\n",
    "Q H E T S N A H E . C O F C H R R R C C R C O N\n",
    "W O I T S S G L E . D R I F K S T R I D T O R N\n",
    ". R P T . T R . L . F R M G N S . U I D . T S S\n",
    ". U R . . . T . S . F . . O . T . . I E . . . .\n",
    "\"\"\".replace(' ', '\\t')\n",
    "print(given)\n",
    "\n"
   ]
  },
  {
   "cell_type": "code",
   "execution_count": 5,
   "metadata": {},
   "outputs": [],
   "source": [
    "given = \"\"\"\n",
    "ACE AGE AMA ARB ART CLE CTI EGO EHI ERA ERB ERS ESS ETE ETE ETY FRO HOW IAL IDE IGH IMP KIC KNU MBE\n",
    "MMI NAN NDE NDI NGG NGV NIO NTC NTD NTH OMO OUS OVE OWI OWS PRO REA RFL RRA RSE RSH RSU RTO SAL\n",
    "SFO SUR TOL TON TPA TPR TSH TTE TUR VEO VER VID\n",
    "\"\"\".strip().split()\n",
    "enum = \"9 10 4 9 2 3 2 11 7 8 9 4 7 4 8 6 6 6 4 2 4 5 10 8 3 7 10 6 9\""
   ]
  },
  {
   "cell_type": "code",
   "execution_count": 6,
   "metadata": {},
   "outputs": [
    {
     "data": {
      "text/plain": [
       "['ACE',\n",
       " 'AGE',\n",
       " 'AMA',\n",
       " 'ARB',\n",
       " 'ART',\n",
       " 'CLE',\n",
       " 'CTI',\n",
       " 'EGO',\n",
       " 'EHI',\n",
       " 'ERA',\n",
       " 'ERB',\n",
       " 'ERS',\n",
       " 'ESS',\n",
       " 'ETE',\n",
       " 'ETE',\n",
       " 'ETY',\n",
       " 'FRO',\n",
       " 'HOW',\n",
       " 'IAL',\n",
       " 'IDE',\n",
       " 'IGH',\n",
       " 'IMP',\n",
       " 'KIC',\n",
       " 'KNU',\n",
       " 'MBE',\n",
       " 'MMI',\n",
       " 'NAN',\n",
       " 'NDE',\n",
       " 'NDI',\n",
       " 'NGG',\n",
       " 'NGV',\n",
       " 'NIO',\n",
       " 'NTC',\n",
       " 'NTD',\n",
       " 'NTH',\n",
       " 'OMO',\n",
       " 'OUS',\n",
       " 'OVE',\n",
       " 'OWI',\n",
       " 'OWS',\n",
       " 'PRO',\n",
       " 'REA',\n",
       " 'RFL',\n",
       " 'RRA',\n",
       " 'RSE',\n",
       " 'RSH',\n",
       " 'RSU',\n",
       " 'RTO',\n",
       " 'SAL',\n",
       " 'SFO',\n",
       " 'SUR',\n",
       " 'TOL',\n",
       " 'TON',\n",
       " 'TPA',\n",
       " 'TPR',\n",
       " 'TSH',\n",
       " 'TTE',\n",
       " 'TUR',\n",
       " 'VEO',\n",
       " 'VER',\n",
       " 'VID']"
      ]
     },
     "execution_count": 6,
     "metadata": {},
     "output_type": "execute_result"
    }
   ],
   "source": [
    "given"
   ]
  },
  {
   "cell_type": "code",
   "execution_count": 10,
   "metadata": {},
   "outputs": [
    {
     "name": "stdout",
     "output_type": "stream",
     "text": [
      "Counter({'\\n': 16, 'E': 12, 'R': 11, 'A': 10, 'I': 10, ' ': 9, 'P': 9, 'S': 8, 'M': 7, 'O': 6, 'G': 5, 'T': 5, 'C': 5, 'N': 4, 'U': 3, 'H': 3, 'L': 2, 'Q': 1, 'B': 1, 'Y': 1, 'J': 1, 'Z': 1, 'K': 1, 'D': 1})\n",
      "F\n",
      "V\n",
      "W\n",
      "X\n"
     ]
    }
   ],
   "source": [
    "import collections\n",
    "\n",
    "answers = collections.Counter(\n",
    "\"\"\"QUAGMIRE\n",
    " \n",
    "\n",
    "TREATMENT\n",
    "BAR HOPPER\n",
    "\n",
    "GYROCOPTER\n",
    "I HEAR MUSIC\n",
    "\n",
    " \n",
    "GINGERSNAPS\n",
    "\n",
    "CLAIM JUMPERS\n",
    "PRIZE PACKAGE\n",
    "\n",
    "MICRO DEPOSITS\n",
    "ALPHA EMISSION\"\"\")\n",
    "\n",
    "print(answers)\n",
    "\n",
    "for l in 'abcdefghijklmnopqrstuvwxyz'.upper():\n",
    "  if l not in answers:\n",
    "    print(l)"
   ]
  },
  {
   "cell_type": "code",
   "execution_count": null,
   "metadata": {},
   "outputs": [],
   "source": []
  }
 ],
 "metadata": {
  "kernelspec": {
   "display_name": "Python 3",
   "language": "python",
   "name": "python3"
  },
  "language_info": {
   "codemirror_mode": {
    "name": "ipython",
    "version": 3
   },
   "file_extension": ".py",
   "mimetype": "text/x-python",
   "name": "python",
   "nbconvert_exporter": "python",
   "pygments_lexer": "ipython3",
   "version": "3.6.0"
  }
 },
 "nbformat": 4,
 "nbformat_minor": 2
}
