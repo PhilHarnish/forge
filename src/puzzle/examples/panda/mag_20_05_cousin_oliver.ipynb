{
 "cells": [
  {
   "cell_type": "code",
   "execution_count": 1,
   "metadata": {},
   "outputs": [],
   "source": [
    "import forge\n",
    "from data import warehouse\n",
    "from puzzle.puzzlepedia import prod_config\n",
    "prod_config.init()\n",
    "\n",
    "top_words = warehouse.get('/words/top')"
   ]
  },
  {
   "cell_type": "code",
   "execution_count": 168,
   "metadata": {},
   "outputs": [],
   "source": [
    "original = \"\"\"\n",
    "ACE AGE AMA ARB ART CLE CTI EGO EHI ERA ERB ERS ESS ETE ETE ETY FRO HOW IAL IDE IGH IMP KIC KNU MBE\n",
    "MMI NAN NDE NDI NGG NGV NIO NTC NTD NTH OMO OUS OVE OWI OWS PRO REA RFL RRA RSE RSH RSU RTO SAL\n",
    "SFO SUR TOL TON TPA TPR TSH TTE TUR VEO VER VID\n",
    "\"\"\".strip().lower().split()\n",
    "\n",
    "remaining = \"\"\"\n",
    "ACE                     CTI EGO     ERA ERB     ESS     ETE ETY FRO HOW     IDE IGH     KIC KNU MBE\n",
    "MMI NAN         NGG     NIO NTC NTD NTH OMO OUS         OWS     REA     RRA RSE RSH RSU RTO\n",
    "SFO SUR TOL TON TPA TPR TSH TTE TUR VEO VER\n",
    "\"\"\".replace('.', '').strip().lower().split()\n",
    "\n",
    "given = original\n",
    "\n",
    "# reactive ('rea', 'cti', 'veo') **\n",
    "# tolerant ('tol', 'era', 'ntc') **\n",
    "# tolerant ('tol', 'era', 'ntd') **\n",
    "\n",
    "# .|...|...|..\n",
    "# creatures ('ntc', 'rea', 'tur', 'ess') **\n",
    "# detective ('ntd', 'ete', 'cti', 'veo') **\n",
    "# detective ('ntd', 'ete', 'cti', 'ver') **\n",
    "# overtones ('veo', 'ver', 'ton', 'ess') **\n",
    "# overtures ('veo', 'ver', 'tur', 'ess') **\n",
    "\n",
    "# ---\n",
    "\n",
    "# .|...|...|.\n",
    "# covenant ('kic', 'ove', 'nan', 'tpr')\n",
    "# covenant ('ntc', 'ove', 'nan', 'tpr')\n",
    "\n",
    "# ..|...|.\n",
    "# tenant ('ete', 'nan', 'tpr')\n",
    "# tenant ('ete', 'nan', 'tpr')\n",
    "# alight ('ial', 'igh', 'tpr')\n",
    "# desalt ('ide', 'sal', 'tpr')\n",
    "# desalt ('nde', 'sal', 'tpr')\n",
    "# divert ('ndi', 'ver', 'tpr')\n",
    "# threat ('nth', 'rea', 'tpr')\n",
    "# flight ('rfl', 'igh', 'tpr')\n",
    "# summit ('rsu', 'mmi', 'tpr')\n",
    "# alight ('sal', 'igh', 'tpr')\n",
    "# tenant ('tte', 'nan', 'tpr')\n",
    "\n",
    "# ...|...|...| ...|...|...|. ..|.. .|...|...|.. .|. ..|. ..| ...|...|...|.. .|...|...|\n",
    "# imp|art|ial| sal|ama|nde|r ..|.. .|...|...|.. .|. ..|. ..| ove|rfl|owi|ng g|arb|age|\n",
    "# ...|...|.. .|...|...|.. .|...|\n",
    "# ...|...|.. .|...|...|.. .|...|\n",
    "# ...|...|. ..|.. .|...|...|. ..|...|. ..|...|. ..|...|. ..|.. .|. ..|.. .|...|. ..|...|...|.. .|...|...|. ..|. ..|...|.. .|...|...|...|\n",
    "# ...|...|. ..|.. .|...|...|. ..|...|. ..|...|. ..|...|. ..|.. .|. ..|.. .|...|t pr|ete|ndi|ng v|ehi|cle|s ..|. ..|...|.. .|...|...|...|\n",
    "# ...|...| ...|...|...| \n",
    "# ...|...| pro|vid|ers|\n",
    "\n",
    "\n",
    "enums = list(map(int, '9 10 4 9 2 3 2 11 7 8 9 4 7 4 8 6 6 6 4 2 4 5 10 8 3 7 10 6 9'.split()))\n",
    "\n"
   ]
  },
  {
   "cell_type": "code",
   "execution_count": 175,
   "metadata": {
    "scrolled": false
   },
   "outputs": [
    {
     "name": "stdout",
     "output_type": "stream",
     "text": [
      "2, 2 (3 blocks)\n",
      "aceaceace 1 -1 \"ceaceac\" ('ace', 'ace', 'ace')\n",
      "genders ('age', 'nde', 'rse')\n",
      "genders ('age', 'nde', 'rsh')\n",
      "genders ('age', 'nde', 'rsu')\n",
      "marshes ('ama', 'rsh', 'ess')\n",
      "matters ('ama', 'tte', 'rse')\n",
      "matters ('ama', 'tte', 'rsh')\n",
      "matters ('ama', 'tte', 'rsu')\n",
      "maturer ('ama', 'tur', 'era')\n",
      "maturer ('ama', 'tur', 'erb')\n",
      "maturer ('ama', 'tur', 'ers')\n",
      "matures ('ama', 'tur', 'ess')\n",
      "lemming ('cle', 'mmi', 'ngg')\n",
      "lemming ('cle', 'mmi', 'ngv')\n",
      "lenders ('cle', 'nde', 'rse')\n",
      "lenders ('cle', 'nde', 'rsh')\n",
      "lenders ('cle', 'nde', 'rsu')\n",
      "lending ('cle', 'ndi', 'ngg')\n",
      "lending ('cle', 'ndi', 'ngv')\n",
      "letters ('cle', 'tte', 'rse')\n",
      "letters ('cle', 'tte', 'rsh')\n",
      "letters ('cle', 'tte', 'rsu')\n",
      "timbers ('cti', 'mbe', 'rse')\n",
      "timbers ('cti', 'mbe', 'rsh')\n",
      "timbers ('cti', 'mbe', 'rsu')\n",
      "titters ('cti', 'tte', 'rse')\n",
      "titters ('cti', 'tte', 'rsh')\n",
      "titters ('cti', 'tte', 'rsu')\n",
      "hinders ('ehi', 'nde', 'rse')\n",
      "hinders ('ehi', 'nde', 'rsh')\n",
      "hinders ('ehi', 'nde', 'rsu')\n",
      "hitters ('ehi', 'tte', 'rse')\n",
      "hitters ('ehi', 'tte', 'rsh')\n",
      "hitters ('ehi', 'tte', 'rsu')\n",
      "raiders ('era', 'ide', 'rse')\n",
      "raiders ('era', 'ide', 'rsh')\n",
      "raiders ('era', 'ide', 'rsu')\n",
      "teeters ('ete', 'ete', 'rse')\n",
      "teeters ('ete', 'ete', 'rsh')\n",
      "teeters ('ete', 'ete', 'rsu')\n",
      "teeters ('ete', 'ete', 'rse')\n",
      "teeters ('ete', 'ete', 'rsh')\n",
      "teeters ('ete', 'ete', 'rsu')\n",
      "tenants ('ete', 'nan', 'tsh')\n",
      "tenders ('ete', 'nde', 'rse')\n",
      "tenders ('ete', 'nde', 'rsh')\n",
      "tenders ('ete', 'nde', 'rsu')\n",
      "tending ('ete', 'ndi', 'ngg')\n",
      "tending ('ete', 'ndi', 'ngv')\n",
      "teeters ('ete', 'ete', 'rse')\n",
      "teeters ('ete', 'ete', 'rsh')\n",
      "teeters ('ete', 'ete', 'rsu')\n",
      "teeters ('ete', 'ete', 'rse')\n",
      "teeters ('ete', 'ete', 'rsh')\n",
      "teeters ('ete', 'ete', 'rsu')\n",
      "tenants ('ete', 'nan', 'tsh')\n",
      "tenders ('ete', 'nde', 'rse')\n",
      "tenders ('ete', 'nde', 'rsh')\n",
      "tenders ('ete', 'nde', 'rsu')\n",
      "tending ('ete', 'ndi', 'ngg')\n",
      "tending ('ete', 'ndi', 'ngv')\n",
      "rotters ('fro', 'tte', 'rse')\n",
      "rotters ('fro', 'tte', 'rsh')\n",
      "rotters ('fro', 'tte', 'rsu')\n",
      "alights ('ial', 'igh', 'tsh')\n",
      "nuclear ('knu', 'cle', 'arb')\n",
      "nuclear ('knu', 'cle', 'art')\n",
      "numbers ('knu', 'mbe', 'rse')\n",
      "numbers ('knu', 'mbe', 'rsh')\n",
      "numbers ('knu', 'mbe', 'rsu')\n",
      "beehive ('mbe', 'ehi', 'veo')\n",
      "beehive ('mbe', 'ehi', 'ver')\n",
      "benders ('mbe', 'nde', 'rse')\n",
      "benders ('mbe', 'nde', 'rsh')\n",
      "benders ('mbe', 'nde', 'rsu')\n",
      "bending ('mbe', 'ndi', 'ngg')\n",
      "bending ('mbe', 'ndi', 'ngv')\n",
      "bereave ('mbe', 'rea', 'veo')\n",
      "bereave ('mbe', 'rea', 'ver')\n",
      "betters ('mbe', 'tte', 'rse')\n",
      "betters ('mbe', 'tte', 'rsh')\n",
      "betters ('mbe', 'tte', 'rsu')\n",
      "dieters ('ndi', 'ete', 'rse')\n",
      "dieters ('ndi', 'ete', 'rsh')\n",
      "dieters ('ndi', 'ete', 'rsu')\n",
      "dieters ('ndi', 'ete', 'rse')\n",
      "dieters ('ndi', 'ete', 'rsh')\n",
      "dieters ('ndi', 'ete', 'rsu')\n",
      "diverts ('ndi', 'ver', 'tsh')\n",
      "divider ('ndi', 'vid', 'era')\n",
      "divider ('ndi', 'vid', 'erb')\n",
      "divider ('ndi', 'vid', 'ers')\n",
      "divides ('ndi', 'vid', 'ess')\n",
      "threats ('nth', 'rea', 'tsh')\n",
      "winding ('owi', 'ndi', 'ngg')\n",
      "winding ('owi', 'ndi', 'ngv')\n",
      "rotters ('pro', 'tte', 'rse')\n",
      "rotters ('pro', 'tte', 'rsh')\n",
      "rotters ('pro', 'tte', 'rsu')\n",
      "flights ('rfl', 'igh', 'tsh')\n",
      "flowing ('rfl', 'owi', 'ngg')\n",
      "flowing ('rfl', 'owi', 'ngv')\n",
      "raiders ('rra', 'ide', 'rse')\n",
      "raiders ('rra', 'ide', 'rsh')\n",
      "raiders ('rra', 'ide', 'rsu')\n",
      "senders ('rse', 'nde', 'rse')\n",
      "senders ('rse', 'nde', 'rsh')\n",
      "senders ('rse', 'nde', 'rsu')\n",
      "sending ('rse', 'ndi', 'ngg')\n",
      "sending ('rse', 'ndi', 'ngv')\n",
      "seniors ('rse', 'nio', 'rse')\n",
      "seniors ('rse', 'nio', 'rsh')\n",
      "seniors ('rse', 'nio', 'rsu')\n",
      "setters ('rse', 'tte', 'rse')\n",
      "setters ('rse', 'tte', 'rsh')\n",
      "setters ('rse', 'tte', 'rsu')\n",
      "severer ('rse', 'ver', 'era')\n",
      "severer ('rse', 'ver', 'erb')\n",
      "severer ('rse', 'ver', 'ers')\n",
      "sherbet ('rsh', 'erb', 'ete')\n",
      "sherbet ('rsh', 'erb', 'ete')\n",
      "sherbet ('rsh', 'erb', 'ety')\n",
      "showing ('rsh', 'owi', 'ngg')\n",
      "showing ('rsh', 'owi', 'ngv')\n",
      "summing ('rsu', 'mmi', 'ngg')\n",
      "summing ('rsu', 'mmi', 'ngv')\n",
      "summits ('rsu', 'mmi', 'tsh')\n",
      "sutures ('rsu', 'tur', 'ess')\n",
      "totters ('rto', 'tte', 'rse')\n",
      "totters ('rto', 'tte', 'rsh')\n",
      "totters ('rto', 'tte', 'rsu')\n",
      "alights ('sal', 'igh', 'tsh')\n",
      "onagers ('ton', 'age', 'rse')\n",
      "onagers ('ton', 'age', 'rsh')\n",
      "onagers ('ton', 'age', 'rsu')\n",
      "panders ('tpa', 'nde', 'rse')\n",
      "panders ('tpa', 'nde', 'rsh')\n",
      "panders ('tpa', 'nde', 'rsu')\n",
      "panther ('tpa', 'nth', 'era')\n",
      "panther ('tpa', 'nth', 'erb')\n",
      "panther ('tpa', 'nth', 'ers')\n",
      "patters ('tpa', 'tte', 'rse')\n",
      "patters ('tpa', 'tte', 'rsh')\n",
      "patters ('tpa', 'tte', 'rsu')\n",
      "presser ('tpr', 'ess', 'era')\n",
      "presser ('tpr', 'ess', 'erb')\n",
      "presser ('tpr', 'ess', 'ers')\n",
      "presses ('tpr', 'ess', 'ess')\n",
      "pretend ('tpr', 'ete', 'nde')\n",
      "pretend ('tpr', 'ete', 'ndi')\n",
      "pretend ('tpr', 'ete', 'nde')\n",
      "pretend ('tpr', 'ete', 'ndi')\n",
      "sherbet ('tsh', 'erb', 'ete')\n",
      "sherbet ('tsh', 'erb', 'ete')\n",
      "sherbet ('tsh', 'erb', 'ety')\n",
      "showing ('tsh', 'owi', 'ngg')\n",
      "showing ('tsh', 'owi', 'ngv')\n",
      "teeters ('tte', 'ete', 'rse')\n",
      "teeters ('tte', 'ete', 'rsh')\n",
      "teeters ('tte', 'ete', 'rsu')\n",
      "teeters ('tte', 'ete', 'rse')\n",
      "teeters ('tte', 'ete', 'rsh')\n",
      "teeters ('tte', 'ete', 'rsu')\n",
      "tenants ('tte', 'nan', 'tsh')\n",
      "tenders ('tte', 'nde', 'rse')\n",
      "tenders ('tte', 'nde', 'rsh')\n",
      "tenders ('tte', 'nde', 'rsu')\n",
      "tending ('tte', 'ndi', 'ngg')\n",
      "tending ('tte', 'ndi', 'ngv')\n"
     ]
    }
   ],
   "source": [
    "def find(pattern):\n",
    "  pattern = pattern.strip('|')\n",
    "  blocks = pattern.count('|') + 1\n",
    "  parts = pattern.split('|')\n",
    "  len_front = len(parts[0])\n",
    "  len_end = len(parts[-1])\n",
    "  print('%d, %d (%d blocks)' % (len_front, len_end, blocks))\n",
    "  sample = True\n",
    "  for inner_set in itertools.product(given, repeat=blocks):\n",
    "    #if inner_set[-1] != 'tpr':\n",
    "    #  continue\n",
    "    if len_end == 3:\n",
    "      w = ''.join(inner_set)[(3 - len_front):]\n",
    "    else:\n",
    "      w = ''.join(inner_set)[(3 - len_front):-(3 - len_end)]\n",
    "    if sample:\n",
    "      print(''.join(inner_set), (3 - len_front), -(3 - len_end), '\"%s\"' % w, inner_set)\n",
    "      sample = False\n",
    "    #if inner_set[0][0] != 'r':\n",
    "    #  continue\n",
    "    #if inner_set[-1][-1] not in 'tocd':\n",
    "    #  continue\n",
    "    if w in all_words_set:\n",
    "      print(w, inner_set)\n",
    "\n",
    "\n",
    "find('..|...|..')\n",
    "\n"
   ]
  },
  {
   "cell_type": "code",
   "execution_count": 9,
   "metadata": {},
   "outputs": [
    {
     "data": {
      "text/plain": [
       "True"
      ]
     },
     "execution_count": 9,
     "metadata": {},
     "output_type": "execute_result"
    }
   ],
   "source": [
    "'banana' in top_words"
   ]
  },
  {
   "cell_type": "code",
   "execution_count": 65,
   "metadata": {},
   "outputs": [
    {
     "name": "stdout",
     "output_type": "stream",
     "text": [
      "...|...|...| ...|...|...|. ..|.. .|...|...|.. .|. ..|. ..| ...|...|...|.. .|...|...| ...|...|.. .|...|...|.. .|...| ...|...|. ..|.. .|...|...|. ..|...|. ..|...|. ..|...|. ..|.. .|. ..|.. .|...|. ..|...|...|.. .|...|...|. ..|. ..|...|.. .|...|...|...| ...|...| ...|...|...| \n"
     ]
    }
   ],
   "source": [
    "result = []\n",
    "i = 0\n",
    "for n in enums:\n",
    "  for x in range(n):\n",
    "    result.append('.')\n",
    "    i += 1\n",
    "    if i % 3 == 0:\n",
    "      result.append('|')\n",
    "  result.append(' ')\n",
    "\n",
    "print(''.join(result))"
   ]
  },
  {
   "cell_type": "code",
   "execution_count": 54,
   "metadata": {},
   "outputs": [
    {
     "data": {
      "text/plain": [
       "True"
      ]
     },
     "execution_count": 54,
     "metadata": {},
     "output_type": "execute_result"
    }
   ],
   "source": [
    "'salamander' in all_words_set"
   ]
  },
  {
   "cell_type": "code",
   "execution_count": 51,
   "metadata": {},
   "outputs": [],
   "source": [
    "all_words = list(prod_config._get_words())"
   ]
  },
  {
   "cell_type": "code",
   "execution_count": 64,
   "metadata": {},
   "outputs": [],
   "source": [
    "all_words_set = {k.lower() for k, v in all_words}"
   ]
  },
  {
   "cell_type": "code",
   "execution_count": 60,
   "metadata": {},
   "outputs": [
    {
     "data": {
      "text/plain": [
       "(44638, 4332)"
      ]
     },
     "execution_count": 60,
     "metadata": {},
     "output_type": "execute_result"
    }
   ],
   "source": [
    "len(all_words_set), len(top_words)"
   ]
  },
  {
   "cell_type": "code",
   "execution_count": null,
   "metadata": {},
   "outputs": [],
   "source": []
  }
 ],
 "metadata": {
  "kernelspec": {
   "display_name": "Python 3",
   "language": "python",
   "name": "python3"
  },
  "language_info": {
   "codemirror_mode": {
    "name": "ipython",
    "version": 3
   },
   "file_extension": ".py",
   "mimetype": "text/x-python",
   "name": "python",
   "nbconvert_exporter": "python",
   "pygments_lexer": "ipython3",
   "version": "3.6.0"
  }
 },
 "nbformat": 4,
 "nbformat_minor": 2
}
